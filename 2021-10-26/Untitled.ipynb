{
 "cells": [
  {
   "cell_type": "markdown",
   "id": "69e6fa03-7fd9-46ff-b849-4067288c9d28",
   "metadata": {},
   "source": [
    "# 2021-10-26\n",
    "The script is used to generate the'u__sampling_strategy' list containing different dictionary for downsamping"
   ]
  },
  {
   "cell_type": "code",
   "execution_count": 1,
   "id": "ecc6f4a0-3647-499c-bfdb-93ebfc11cf98",
   "metadata": {},
   "outputs": [],
   "source": [
    "import pandas as pd\n",
    "import numpy as np"
   ]
  },
  {
   "cell_type": "markdown",
   "id": "2ace33fe-2c73-4283-a151-bca5d6770588",
   "metadata": {},
   "source": [
    "The original ratio is closed to: 5C:5mC:5hmC = 3600:5600:1, so I used 36:56:1 with different ratio for exploration\n",
    "\n",
    "With 3-folds cross validation, the training dataset for 5hmC is 1662 * 2/3 = 1108"
   ]
  },
  {
   "cell_type": "code",
   "execution_count": 58,
   "id": "90c9542b-1d92-4800-b634-93f4de4b446c",
   "metadata": {},
   "outputs": [],
   "source": [
    "#Generate the point for each category with different ratio\n",
    "value_sub1 = [(9*i*1108, 14*i*1108, 1108) for i in range(2,40,2)]\n",
    "value_sub2 = [(36*i*1108, 56*i*1108, 1108) for i in range(10,110,5)]"
   ]
  },
  {
   "cell_type": "code",
   "execution_count": 59,
   "id": "6e947e1d-4940-4943-b71a-38d7f6397ba2",
   "metadata": {},
   "outputs": [
    {
     "data": {
      "text/plain": [
       "[(398880, 620480, 1108),\n",
       " (598320, 930720, 1108),\n",
       " (797760, 1240960, 1108),\n",
       " (997200, 1551200, 1108),\n",
       " (1196640, 1861440, 1108),\n",
       " (1396080, 2171680, 1108),\n",
       " (1595520, 2481920, 1108),\n",
       " (1794960, 2792160, 1108),\n",
       " (1994400, 3102400, 1108),\n",
       " (2193840, 3412640, 1108),\n",
       " (2393280, 3722880, 1108),\n",
       " (2592720, 4033120, 1108),\n",
       " (2792160, 4343360, 1108),\n",
       " (2991600, 4653600, 1108),\n",
       " (3191040, 4963840, 1108),\n",
       " (3390480, 5274080, 1108),\n",
       " (3589920, 5584320, 1108),\n",
       " (3789360, 5894560, 1108),\n",
       " (3988800, 6204800, 1108),\n",
       " (4188240, 6515040, 1108)]"
      ]
     },
     "execution_count": 59,
     "metadata": {},
     "output_type": "execute_result"
    }
   ],
   "source": [
    "value_sub2"
   ]
  },
  {
   "cell_type": "code",
   "execution_count": 57,
   "id": "0afab0bc-6b34-4751-b444-201d55381051",
   "metadata": {},
   "outputs": [
    {
     "data": {
      "text/plain": [
       "[(19944, 31024, 1108),\n",
       " (39888, 62048, 1108),\n",
       " (59832, 93072, 1108),\n",
       " (79776, 124096, 1108),\n",
       " (99720, 155120, 1108),\n",
       " (119664, 186144, 1108),\n",
       " (139608, 217168, 1108),\n",
       " (159552, 248192, 1108),\n",
       " (179496, 279216, 1108),\n",
       " (199440, 310240, 1108),\n",
       " (219384, 341264, 1108),\n",
       " (239328, 372288, 1108),\n",
       " (259272, 403312, 1108),\n",
       " (279216, 434336, 1108),\n",
       " (299160, 465360, 1108),\n",
       " (319104, 496384, 1108),\n",
       " (339048, 527408, 1108),\n",
       " (358992, 558432, 1108),\n",
       " (378936, 589456, 1108),\n",
       " (398880, 620480, 1108),\n",
       " (598320, 930720, 1108),\n",
       " (797760, 1240960, 1108),\n",
       " (997200, 1551200, 1108),\n",
       " (1196640, 1861440, 1108),\n",
       " (1396080, 2171680, 1108),\n",
       " (1595520, 2481920, 1108),\n",
       " (1794960, 2792160, 1108),\n",
       " (1994400, 3102400, 1108),\n",
       " (2193840, 3412640, 1108),\n",
       " (2393280, 3722880, 1108),\n",
       " (2592720, 4033120, 1108),\n",
       " (2792160, 4343360, 1108),\n",
       " (2991600, 4653600, 1108),\n",
       " (3191040, 4963840, 1108),\n",
       " (3390480, 5274080, 1108),\n",
       " (3589920, 5584320, 1108),\n",
       " (3789360, 5894560, 1108),\n",
       " (3988800, 6204800, 1108),\n",
       " (4188240, 6515040, 1108),\n",
       " (4387680, 6825280, 1108),\n",
       " (4587120, 7135520, 1108)]"
      ]
     },
     "execution_count": 57,
     "metadata": {},
     "output_type": "execute_result"
    }
   ],
   "source": [
    "value = list()\n",
    "value = value_sub1 + value_sub2\n",
    "value"
   ]
  },
  {
   "cell_type": "code",
   "execution_count": 53,
   "id": "3c244bdd-935f-4dc6-9284-b332d89d8f62",
   "metadata": {},
   "outputs": [
    {
     "data": {
      "text/plain": [
       "[{0: 19944, 1: 31024, 2: 1108},\n",
       " {0: 39888, 1: 62048, 2: 1108},\n",
       " {0: 59832, 1: 93072, 2: 1108},\n",
       " {0: 79776, 1: 124096, 2: 1108},\n",
       " {0: 99720, 1: 155120, 2: 1108},\n",
       " {0: 119664, 1: 186144, 2: 1108},\n",
       " {0: 139608, 1: 217168, 2: 1108},\n",
       " {0: 159552, 1: 248192, 2: 1108},\n",
       " {0: 179496, 1: 279216, 2: 1108},\n",
       " {0: 199440, 1: 310240, 2: 1108},\n",
       " {0: 219384, 1: 341264, 2: 1108},\n",
       " {0: 239328, 1: 372288, 2: 1108},\n",
       " {0: 259272, 1: 403312, 2: 1108},\n",
       " {0: 279216, 1: 434336, 2: 1108},\n",
       " {0: 299160, 1: 465360, 2: 1108},\n",
       " {0: 319104, 1: 496384, 2: 1108},\n",
       " {0: 339048, 1: 527408, 2: 1108},\n",
       " {0: 358992, 1: 558432, 2: 1108},\n",
       " {0: 378936, 1: 589456, 2: 1108},\n",
       " {0: 398880, 1: 620480, 2: 1108},\n",
       " {0: 598320, 1: 930720, 2: 1108},\n",
       " {0: 797760, 1: 1240960, 2: 1108},\n",
       " {0: 997200, 1: 1551200, 2: 1108},\n",
       " {0: 1196640, 1: 1861440, 2: 1108},\n",
       " {0: 1396080, 1: 2171680, 2: 1108},\n",
       " {0: 1595520, 1: 2481920, 2: 1108},\n",
       " {0: 1794960, 1: 2792160, 2: 1108}]"
      ]
     },
     "execution_count": 53,
     "metadata": {},
     "output_type": "execute_result"
    }
   ],
   "source": [
    "key=[0,1,2]\n",
    "test = list()\n",
    "for i in value:\n",
    "    item = dict(zip(key, i)).copy()\n",
    "    test.append(item)\n",
    "test"
   ]
  },
  {
   "cell_type": "code",
   "execution_count": 54,
   "id": "193fddc4-2919-42b3-af7f-b82a8eb2677d",
   "metadata": {},
   "outputs": [
    {
     "data": {
      "text/plain": [
       "27"
      ]
     },
     "execution_count": 54,
     "metadata": {},
     "output_type": "execute_result"
    }
   ],
   "source": [
    "len(test)"
   ]
  },
  {
   "cell_type": "code",
   "execution_count": null,
   "id": "bd8ae23f-702a-43a3-9eea-dc70a4a22694",
   "metadata": {},
   "outputs": [],
   "source": []
  },
  {
   "cell_type": "code",
   "execution_count": 61,
   "id": "93e57035-bc7f-41e6-90be-114b49ac6eac",
   "metadata": {},
   "outputs": [],
   "source": [
    "#####Prepare samping_strategy\n",
    "value_sub1 = [(9*i*1108, 14*i*1108, 1108) for i in range(2,40,2)]\n",
    "value_sub2 = [(36*i*1108, 56*i*1108, 1108) for i in range(10,110,5)]\n",
    "value = list()\n",
    "value = value_sub1 + value_sub2\n",
    "key=[0,1,2]\n",
    "sampling_strategy = list()\n",
    "for i in value:\n",
    "    item = dict(zip(key, i)).copy()\n",
    "    sampling_strategy.append(item)\n",
    "\n",
    "    \n",
    "    \n",
    "    #https://stackoverflow.com/questions/51480776/how-to-implement-ratio-based-smote-oversampling-while-cv-ing-dataset\n",
    "    ##parameter testing\n",
    "    #assign the parameters to the named step in the pipeline\n",
    "params = {\n",
    "    'u__sampling_strategy' : sampling_strategy,\n",
    "    'm__n_estimators': [i for i in range(60, 150, 20)], # number of trees in the random forest\n",
    "    'm__max_features': ['auto'], # number of features in consideration at every split\n",
    "    'm__max_depth': [i for i in range(5,30,5)], # maximum number of levels allowed in each decision tree\n",
    "    'm__min_samples_split': [2,5,10], # minimum sample number to split a node\n",
    "    'm__min_samples_leaf': [1,2], # minimum sample number that can be stored in a leaf node\n",
    "    'm__bootstrap': [True, False] # method used to sample data points\"\n",
    "} \n"
   ]
  },
  {
   "cell_type": "code",
   "execution_count": 62,
   "id": "a7012fe4-d762-43cd-a910-4b8794dfb0c2",
   "metadata": {},
   "outputs": [
    {
     "data": {
      "text/plain": [
       "{'u__sampling_strategy': [{0: 19944, 1: 31024, 2: 1108},\n",
       "  {0: 39888, 1: 62048, 2: 1108},\n",
       "  {0: 59832, 1: 93072, 2: 1108},\n",
       "  {0: 79776, 1: 124096, 2: 1108},\n",
       "  {0: 99720, 1: 155120, 2: 1108},\n",
       "  {0: 119664, 1: 186144, 2: 1108},\n",
       "  {0: 139608, 1: 217168, 2: 1108},\n",
       "  {0: 159552, 1: 248192, 2: 1108},\n",
       "  {0: 179496, 1: 279216, 2: 1108},\n",
       "  {0: 199440, 1: 310240, 2: 1108},\n",
       "  {0: 219384, 1: 341264, 2: 1108},\n",
       "  {0: 239328, 1: 372288, 2: 1108},\n",
       "  {0: 259272, 1: 403312, 2: 1108},\n",
       "  {0: 279216, 1: 434336, 2: 1108},\n",
       "  {0: 299160, 1: 465360, 2: 1108},\n",
       "  {0: 319104, 1: 496384, 2: 1108},\n",
       "  {0: 339048, 1: 527408, 2: 1108},\n",
       "  {0: 358992, 1: 558432, 2: 1108},\n",
       "  {0: 378936, 1: 589456, 2: 1108},\n",
       "  {0: 398880, 1: 620480, 2: 1108},\n",
       "  {0: 598320, 1: 930720, 2: 1108},\n",
       "  {0: 797760, 1: 1240960, 2: 1108},\n",
       "  {0: 997200, 1: 1551200, 2: 1108},\n",
       "  {0: 1196640, 1: 1861440, 2: 1108},\n",
       "  {0: 1396080, 1: 2171680, 2: 1108},\n",
       "  {0: 1595520, 1: 2481920, 2: 1108},\n",
       "  {0: 1794960, 1: 2792160, 2: 1108},\n",
       "  {0: 1994400, 1: 3102400, 2: 1108},\n",
       "  {0: 2193840, 1: 3412640, 2: 1108},\n",
       "  {0: 2393280, 1: 3722880, 2: 1108},\n",
       "  {0: 2592720, 1: 4033120, 2: 1108},\n",
       "  {0: 2792160, 1: 4343360, 2: 1108},\n",
       "  {0: 2991600, 1: 4653600, 2: 1108},\n",
       "  {0: 3191040, 1: 4963840, 2: 1108},\n",
       "  {0: 3390480, 1: 5274080, 2: 1108},\n",
       "  {0: 3589920, 1: 5584320, 2: 1108},\n",
       "  {0: 3789360, 1: 5894560, 2: 1108},\n",
       "  {0: 3988800, 1: 6204800, 2: 1108},\n",
       "  {0: 4188240, 1: 6515040, 2: 1108}],\n",
       " 'm__n_estimators': [60, 80, 100, 120, 140],\n",
       " 'm__max_features': ['auto'],\n",
       " 'm__max_depth': [5, 10, 15, 20, 25],\n",
       " 'm__min_samples_split': [2, 5, 10],\n",
       " 'm__min_samples_leaf': [1, 2],\n",
       " 'm__bootstrap': [True, False]}"
      ]
     },
     "execution_count": 62,
     "metadata": {},
     "output_type": "execute_result"
    }
   ],
   "source": [
    "params"
   ]
  },
  {
   "cell_type": "code",
   "execution_count": null,
   "id": "b7aa1972-bbc4-4dc6-a0ca-383cf1821265",
   "metadata": {},
   "outputs": [],
   "source": []
  }
 ],
 "metadata": {
  "kernelspec": {
   "display_name": "Python 3",
   "language": "python",
   "name": "python3"
  },
  "language_info": {
   "codemirror_mode": {
    "name": "ipython",
    "version": 3
   },
   "file_extension": ".py",
   "mimetype": "text/x-python",
   "name": "python",
   "nbconvert_exporter": "python",
   "pygments_lexer": "ipython3",
   "version": "3.6.13"
  }
 },
 "nbformat": 4,
 "nbformat_minor": 5
}
