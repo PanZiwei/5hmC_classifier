{
 "cells": [
  {
   "cell_type": "code",
   "execution_count": 1,
   "metadata": {},
   "outputs": [
    {
     "name": "stdin",
     "output_type": "stream",
     "text": [
      "Once deleted, variables cannot be recovered. Proceed (y/[n])?  y\n"
     ]
    }
   ],
   "source": [
    "%reset"
   ]
  },
  {
   "cell_type": "code",
   "execution_count": 2,
   "metadata": {},
   "outputs": [],
   "source": [
    "import pandas as pd\n",
    "import numpy as np\n",
    "import sys, os"
   ]
  },
  {
   "cell_type": "markdown",
   "metadata": {},
   "source": [
    "# Explore the data\n",
    "Based on the sequencing_summary, some files may need to be filtered out if passes_filtering=False"
   ]
  },
  {
   "cell_type": "code",
   "execution_count": 4,
   "metadata": {},
   "outputs": [
    {
     "data": {
      "text/html": [
       "<div>\n",
       "<style scoped>\n",
       "    .dataframe tbody tr th:only-of-type {\n",
       "        vertical-align: middle;\n",
       "    }\n",
       "\n",
       "    .dataframe tbody tr th {\n",
       "        vertical-align: top;\n",
       "    }\n",
       "\n",
       "    .dataframe thead th {\n",
       "        text-align: right;\n",
       "    }\n",
       "</style>\n",
       "<table border=\"1\" class=\"dataframe\">\n",
       "  <thead>\n",
       "    <tr style=\"text-align: right;\">\n",
       "      <th></th>\n",
       "      <th>filename</th>\n",
       "      <th>read_id</th>\n",
       "      <th>run_id</th>\n",
       "      <th>batch_id</th>\n",
       "      <th>channel</th>\n",
       "      <th>mux</th>\n",
       "      <th>start_time</th>\n",
       "      <th>duration</th>\n",
       "      <th>num_events</th>\n",
       "      <th>passes_filtering</th>\n",
       "      <th>template_start</th>\n",
       "      <th>num_events_template</th>\n",
       "      <th>template_duration</th>\n",
       "      <th>sequence_length_template</th>\n",
       "      <th>mean_qscore_template</th>\n",
       "      <th>strand_score_template</th>\n",
       "      <th>median_template</th>\n",
       "      <th>mad_template</th>\n",
       "      <th>scaling_median_template</th>\n",
       "      <th>scaling_mad_template</th>\n",
       "    </tr>\n",
       "  </thead>\n",
       "  <tbody>\n",
       "    <tr>\n",
       "      <th>0</th>\n",
       "      <td>0003d5b6-ffe2-452d-b939-b5f51f07049d.fast5</td>\n",
       "      <td>0003d5b6-ffe2-452d-b939-b5f51f07049d</td>\n",
       "      <td>10f3319c8e07b54bcc290c6d6d44b08bd3a1ee93</td>\n",
       "      <td>0</td>\n",
       "      <td>189</td>\n",
       "      <td>2</td>\n",
       "      <td>34703.78775</td>\n",
       "      <td>10.81925</td>\n",
       "      <td>8655</td>\n",
       "      <td>True</td>\n",
       "      <td>34703.97900</td>\n",
       "      <td>8502</td>\n",
       "      <td>10.62800</td>\n",
       "      <td>3814</td>\n",
       "      <td>16.087906</td>\n",
       "      <td>3.219399</td>\n",
       "      <td>81.320290</td>\n",
       "      <td>9.232871</td>\n",
       "      <td>81.320290</td>\n",
       "      <td>9.232871</td>\n",
       "    </tr>\n",
       "    <tr>\n",
       "      <th>1</th>\n",
       "      <td>000e0e09-9fb9-46cd-af0e-9e7ccb0a4e31.fast5</td>\n",
       "      <td>000e0e09-9fb9-46cd-af0e-9e7ccb0a4e31</td>\n",
       "      <td>10f3319c8e07b54bcc290c6d6d44b08bd3a1ee93</td>\n",
       "      <td>0</td>\n",
       "      <td>311</td>\n",
       "      <td>1</td>\n",
       "      <td>88022.75475</td>\n",
       "      <td>34.99975</td>\n",
       "      <td>27999</td>\n",
       "      <td>True</td>\n",
       "      <td>88022.79600</td>\n",
       "      <td>27966</td>\n",
       "      <td>34.95850</td>\n",
       "      <td>12431</td>\n",
       "      <td>14.157909</td>\n",
       "      <td>3.172152</td>\n",
       "      <td>80.787621</td>\n",
       "      <td>9.055316</td>\n",
       "      <td>80.787621</td>\n",
       "      <td>9.055316</td>\n",
       "    </tr>\n",
       "    <tr>\n",
       "      <th>2</th>\n",
       "      <td>000f7806-3c8f-4d1b-99a1-b60bdb884420.fast5</td>\n",
       "      <td>000f7806-3c8f-4d1b-99a1-b60bdb884420</td>\n",
       "      <td>10f3319c8e07b54bcc290c6d6d44b08bd3a1ee93</td>\n",
       "      <td>0</td>\n",
       "      <td>101</td>\n",
       "      <td>4</td>\n",
       "      <td>32778.97400</td>\n",
       "      <td>12.49650</td>\n",
       "      <td>9997</td>\n",
       "      <td>True</td>\n",
       "      <td>32778.99275</td>\n",
       "      <td>9982</td>\n",
       "      <td>12.47775</td>\n",
       "      <td>3598</td>\n",
       "      <td>12.744122</td>\n",
       "      <td>2.955283</td>\n",
       "      <td>85.226501</td>\n",
       "      <td>9.587982</td>\n",
       "      <td>85.226501</td>\n",
       "      <td>9.587982</td>\n",
       "    </tr>\n",
       "  </tbody>\n",
       "</table>\n",
       "</div>"
      ],
      "text/plain": [
       "                                     filename  \\\n",
       "0  0003d5b6-ffe2-452d-b939-b5f51f07049d.fast5   \n",
       "1  000e0e09-9fb9-46cd-af0e-9e7ccb0a4e31.fast5   \n",
       "2  000f7806-3c8f-4d1b-99a1-b60bdb884420.fast5   \n",
       "\n",
       "                                read_id  \\\n",
       "0  0003d5b6-ffe2-452d-b939-b5f51f07049d   \n",
       "1  000e0e09-9fb9-46cd-af0e-9e7ccb0a4e31   \n",
       "2  000f7806-3c8f-4d1b-99a1-b60bdb884420   \n",
       "\n",
       "                                     run_id  batch_id  channel  mux  \\\n",
       "0  10f3319c8e07b54bcc290c6d6d44b08bd3a1ee93         0      189    2   \n",
       "1  10f3319c8e07b54bcc290c6d6d44b08bd3a1ee93         0      311    1   \n",
       "2  10f3319c8e07b54bcc290c6d6d44b08bd3a1ee93         0      101    4   \n",
       "\n",
       "    start_time  duration  num_events  passes_filtering  template_start  \\\n",
       "0  34703.78775  10.81925        8655              True     34703.97900   \n",
       "1  88022.75475  34.99975       27999              True     88022.79600   \n",
       "2  32778.97400  12.49650        9997              True     32778.99275   \n",
       "\n",
       "   num_events_template  template_duration  sequence_length_template  \\\n",
       "0                 8502           10.62800                      3814   \n",
       "1                27966           34.95850                     12431   \n",
       "2                 9982           12.47775                      3598   \n",
       "\n",
       "   mean_qscore_template  strand_score_template  median_template  mad_template  \\\n",
       "0             16.087906               3.219399        81.320290      9.232871   \n",
       "1             14.157909               3.172152        80.787621      9.055316   \n",
       "2             12.744122               2.955283        85.226501      9.587982   \n",
       "\n",
       "   scaling_median_template  scaling_mad_template  \n",
       "0                81.320290              9.232871  \n",
       "1                80.787621              9.055316  \n",
       "2                85.226501              9.587982  "
      ]
     },
     "execution_count": 4,
     "metadata": {},
     "output_type": "execute_result"
    }
   ],
   "source": [
    "input_path='/fastscratch/c-panz/2021-09-30/guppy5.0.14_supmodel_tombo/T4LambdaTF1/0'\n",
    "df=pd.read_csv(os.path.join(input_path, 'sequencing_summary.txt'), sep='\\t')\n",
    "df.head(3)"
   ]
  },
  {
   "cell_type": "code",
   "execution_count": 6,
   "metadata": {},
   "outputs": [
    {
     "data": {
      "text/plain": [
       "True     191\n",
       "False      9\n",
       "Name: passes_filtering, dtype: int64"
      ]
     },
     "execution_count": 6,
     "metadata": {},
     "output_type": "execute_result"
    }
   ],
   "source": [
    "df['passes_filtering'].value_counts()"
   ]
  },
  {
   "cell_type": "code",
   "execution_count": 9,
   "metadata": {},
   "outputs": [
    {
     "data": {
      "text/plain": [
       "116    True\n",
       "Name: passes_filtering, dtype: bool"
      ]
     },
     "execution_count": 9,
     "metadata": {},
     "output_type": "execute_result"
    }
   ],
   "source": [
    "read=df[df['read_id']=='00000156-e575-4fb7-9053-d00dbe5c8d9c']\n",
    "read['passes_filtering']"
   ]
  },
  {
   "cell_type": "code",
   "execution_count": null,
   "metadata": {},
   "outputs": [],
   "source": []
  }
 ],
 "metadata": {
  "kernelspec": {
   "display_name": "Python 3",
   "language": "python",
   "name": "python3"
  },
  "language_info": {
   "codemirror_mode": {
    "name": "ipython",
    "version": 3
   },
   "file_extension": ".py",
   "mimetype": "text/x-python",
   "name": "python",
   "nbconvert_exporter": "python",
   "pygments_lexer": "ipython3",
   "version": "3.6.13"
  }
 },
 "nbformat": 4,
 "nbformat_minor": 4
}
