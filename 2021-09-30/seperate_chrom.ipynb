{
 "cells": [
  {
   "cell_type": "code",
   "execution_count": 1,
   "metadata": {},
   "outputs": [
    {
     "name": "stdin",
     "output_type": "stream",
     "text": [
      "Once deleted, variables cannot be recovered. Proceed (y/[n])?  y\n"
     ]
    }
   ],
   "source": [
    "%reset"
   ]
  },
  {
   "cell_type": "code",
   "execution_count": 4,
   "metadata": {},
   "outputs": [],
   "source": [
    "import pandas as pd\n",
    "import numpy as np\n",
    "import sys, os\n",
    "import h5py"
   ]
  },
  {
   "cell_type": "markdown",
   "metadata": {},
   "source": [
    "# Explore the data\n",
    "Based on the sequencing_summary, some files may need to be filtered out if passes_filtering=False"
   ]
  },
  {
   "cell_type": "code",
   "execution_count": 10,
   "metadata": {},
   "outputs": [
    {
     "data": {
      "text/plain": [
       "'chrX'"
      ]
     },
     "execution_count": 10,
     "metadata": {},
     "output_type": "execute_result"
    }
   ],
   "source": [
    "input_path='/fastscratch/c-panz/2021-09-30/guppy5.0.14_supmodel_tombo/T4LambdaTF1/0/workspace'\n",
    "fast5_file='00053ae4-254a-4e8c-9f03-414f0f9a6859.fast5'\n",
    "corr_group='RawGenomeCorrected_001' #tombo resquiggle save location\n",
    "basecall_subgroup='BaseCalled_template' #Attention: the basecall_subgroup can be 'basecalled_compl\n",
    "\n",
    "T4_chrom = list()\n",
    "lamda_chrom = list()\n",
    "human_chrom = list()\n",
    "\n",
    "f5 = h5py.File(os.path.join(input_path, fast5_file), mode=\"r\")\n",
    "try:\n",
    "    strand_align = f5[f'/Analyses/{corr_group}/{basecall_subgroup}/Alignment']\n",
    "except Exception:\n",
    "    raise RuntimeError('Alignment not found.')\n",
    "            \n",
    "align_attr = dict(list(strand_align.attrs.items()))\n",
    "#Extract chrom, chrom_start, strand for alignment information\n",
    "chrom = align_attr['mapped_chrom']\n",
    "\n",
    "if chrom \n",
    "chrom"
   ]
  },
  {
   "cell_type": "code",
   "execution_count": 51,
   "metadata": {},
   "outputs": [],
   "source": [
    "input_path='/pod/2/li-lab/Ziwei/Nanopore/daily/test/'\n",
    "corr_group='RawGenomeCorrected_001' #tombo resquiggle save location\n",
    "basecall_subgroup='BaseCalled_template' #Attention: the basecall_subgroup can be 'basecalled_compl\n",
    "\n",
    "T4_list = list()\n",
    "lambda_list = list()\n",
    "human_list = list()\n",
    "corr_group='RawGenomeCorrected_001' #tombo resquiggle save location\n",
    "basecall_subgroup='BaseCalled_template' #Attention: the basecall_subgroup can be 'basecalled_compl\n",
    "\n",
    "def get_chrom(input_path):#, chromOfInterest):\n",
    "# Collate the attribute list: Opening files(read mode only)\n",
    "    fast5_fp = get_fast5_file_list(input_path,recursive=True)\n",
    "    for fast5_fn in fast5_fp:\n",
    "        f5 = h5py.File(fast5_fn, 'r')\n",
    "        try:\n",
    "            strand_align = f5[f'/Analyses/{corr_group}/{basecall_subgroup}/Alignment']\n",
    "        except Exception:\n",
    "            pass\n",
    "#            raise RuntimeError('Alignment not found.')\n",
    "    \n",
    "        align_attr = dict(list(strand_align.attrs.items()))\n",
    "        #Extract chrom, chrom_start, strand for alignment information\n",
    "        chrom = align_attr['mapped_chrom']\n",
    "        if chrom == 'KJ477685.1':\n",
    "            T4_list.append(fast5_fn)\n",
    "        elif chrom == 'J02459.1':\n",
    "            lambda_list.append(fast5_fn)\n",
    "        else:\n",
    "            human_list.append(fast5_fn)\n",
    "    return T4_list, lambda_list, human_list"
   ]
  },
  {
   "cell_type": "code",
   "execution_count": 57,
   "metadata": {},
   "outputs": [],
   "source": [
    "input_path='/pod/2/li-lab/Ziwei/Nanopore/daily/test/guppy5.0.14_T4lambdaTF1'\n",
    "corr_group='RawGenomeCorrected_001' #tombo resquiggle save location\n",
    "basecall_subgroup='BaseCalled_template' #Attention: the basecall_subgroup can be 'basecalled_compl\n",
    "\n",
    "T4_list, lambda_list, human_list = get_chrom(input_path)\n",
    "test = pd.DataFrame(human_list)\n",
    "\n",
    "output_path='/pod/2/li-lab/Ziwei/Nanopore/daily/test'\n",
    "test.to_csv(os.path.join(output_path, 'test.tsv'), sep=',',index = None, header=None)"
   ]
  },
  {
   "cell_type": "code",
   "execution_count": 49,
   "metadata": {},
   "outputs": [],
   "source": [
    "import csv        \n",
    "with open('/pod/2/li-lab/Ziwei/Nanopore/daily/test/output.tsv', 'w', newline='') as f_output:\n",
    "    tsv_output = csv.writer(f_output, delimiter=',')\n",
    "    tsv_output.writerow(human_list)"
   ]
  },
  {
   "cell_type": "code",
   "execution_count": null,
   "metadata": {},
   "outputs": [],
   "source": []
  }
 ],
 "metadata": {
  "kernelspec": {
   "display_name": "Python 3",
   "language": "python",
   "name": "python3"
  },
  "language_info": {
   "codemirror_mode": {
    "name": "ipython",
    "version": 3
   },
   "file_extension": ".py",
   "mimetype": "text/x-python",
   "name": "python",
   "nbconvert_exporter": "python",
   "pygments_lexer": "ipython3",
   "version": "3.6.13"
  }
 },
 "nbformat": 4,
 "nbformat_minor": 4
}
