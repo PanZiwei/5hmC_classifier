{
 "cells": [
  {
   "cell_type": "code",
   "execution_count": 17,
   "id": "fa195e21-017c-42c5-9988-4c9f35ab981d",
   "metadata": {},
   "outputs": [],
   "source": [
    "import pandas as pd\n",
    "input_file='/pod/2/li-lab/Ziwei/Nanopore/daily/2021-10-23/result/class_report.csv'\n",
    "df = pd.read_csv(input_file)\n",
    "df.index=['5C','5mC','5hmC','accuracy','macro avg','weighted avg']\n",
    "test.to_csv('/pod/2/li-lab/Ziwei/Nanopore/daily/2021-10-23/result/class_report.csv', header=True, index=True)"
   ]
  },
  {
   "cell_type": "code",
   "execution_count": 19,
   "id": "f82aa31b-959d-4765-9d28-fe712b74c36a",
   "metadata": {},
   "outputs": [
    {
     "data": {
      "text/html": [
       "<div>\n",
       "<style scoped>\n",
       "    .dataframe tbody tr th:only-of-type {\n",
       "        vertical-align: middle;\n",
       "    }\n",
       "\n",
       "    .dataframe tbody tr th {\n",
       "        vertical-align: top;\n",
       "    }\n",
       "\n",
       "    .dataframe thead th {\n",
       "        text-align: right;\n",
       "    }\n",
       "</style>\n",
       "<table border=\"1\" class=\"dataframe\">\n",
       "  <thead>\n",
       "    <tr style=\"text-align: right;\">\n",
       "      <th></th>\n",
       "      <th>Unnamed: 0</th>\n",
       "      <th>precision</th>\n",
       "      <th>recall</th>\n",
       "      <th>f1-score</th>\n",
       "      <th>support</th>\n",
       "    </tr>\n",
       "  </thead>\n",
       "  <tbody>\n",
       "    <tr>\n",
       "      <th>0</th>\n",
       "      <td>5C</td>\n",
       "      <td>0.9848</td>\n",
       "      <td>0.9652</td>\n",
       "      <td>0.9749</td>\n",
       "      <td>1.473652e+06</td>\n",
       "    </tr>\n",
       "    <tr>\n",
       "      <th>1</th>\n",
       "      <td>5mC</td>\n",
       "      <td>0.9970</td>\n",
       "      <td>0.9714</td>\n",
       "      <td>0.9840</td>\n",
       "      <td>2.325469e+06</td>\n",
       "    </tr>\n",
       "    <tr>\n",
       "      <th>2</th>\n",
       "      <td>5hmC</td>\n",
       "      <td>0.0014</td>\n",
       "      <td>0.2916</td>\n",
       "      <td>0.0027</td>\n",
       "      <td>4.150000e+02</td>\n",
       "    </tr>\n",
       "    <tr>\n",
       "      <th>3</th>\n",
       "      <td>accuracy</td>\n",
       "      <td>0.9689</td>\n",
       "      <td>0.9689</td>\n",
       "      <td>0.9689</td>\n",
       "      <td>9.689000e-01</td>\n",
       "    </tr>\n",
       "    <tr>\n",
       "      <th>4</th>\n",
       "      <td>macro avg</td>\n",
       "      <td>0.6610</td>\n",
       "      <td>0.7427</td>\n",
       "      <td>0.6539</td>\n",
       "      <td>3.799536e+06</td>\n",
       "    </tr>\n",
       "    <tr>\n",
       "      <th>5</th>\n",
       "      <td>weighted avg</td>\n",
       "      <td>0.9921</td>\n",
       "      <td>0.9689</td>\n",
       "      <td>0.9804</td>\n",
       "      <td>3.799536e+06</td>\n",
       "    </tr>\n",
       "  </tbody>\n",
       "</table>\n",
       "</div>"
      ],
      "text/plain": [
       "     Unnamed: 0  precision  recall  f1-score       support\n",
       "0            5C     0.9848  0.9652    0.9749  1.473652e+06\n",
       "1           5mC     0.9970  0.9714    0.9840  2.325469e+06\n",
       "2          5hmC     0.0014  0.2916    0.0027  4.150000e+02\n",
       "3      accuracy     0.9689  0.9689    0.9689  9.689000e-01\n",
       "4     macro avg     0.6610  0.7427    0.6539  3.799536e+06\n",
       "5  weighted avg     0.9921  0.9689    0.9804  3.799536e+06"
      ]
     },
     "execution_count": 19,
     "metadata": {},
     "output_type": "execute_result"
    }
   ],
   "source": [
    "input_file='/pod/2/li-lab/Ziwei/Nanopore/daily/2021-10-23/result/class_report.csv'\n",
    "df = pd.read_csv(input_file)\n",
    "df"
   ]
  },
  {
   "cell_type": "code",
   "execution_count": 12,
   "id": "4dd571fd-b275-42cf-ab38-7af4d168a0c5",
   "metadata": {},
   "outputs": [],
   "source": []
  },
  {
   "cell_type": "code",
   "execution_count": null,
   "id": "7e9eeac4-40bb-4457-9329-09dcb8f84aa4",
   "metadata": {},
   "outputs": [],
   "source": []
  }
 ],
 "metadata": {
  "kernelspec": {
   "display_name": "Python 3",
   "language": "python",
   "name": "python3"
  },
  "language_info": {
   "codemirror_mode": {
    "name": "ipython",
    "version": 3
   },
   "file_extension": ".py",
   "mimetype": "text/x-python",
   "name": "python",
   "nbconvert_exporter": "python",
   "pygments_lexer": "ipython3",
   "version": "3.6.13"
  }
 },
 "nbformat": 4,
 "nbformat_minor": 5
}
