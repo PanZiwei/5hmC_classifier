{
 "cells": [
  {
   "cell_type": "code",
   "execution_count": 3,
   "metadata": {},
   "outputs": [
    {
     "name": "stdin",
     "output_type": "stream",
     "text": [
      "Once deleted, variables cannot be recovered. Proceed (y/[n])?  y\n"
     ]
    }
   ],
   "source": [
    "%reset"
   ]
  },
  {
   "cell_type": "code",
   "execution_count": 4,
   "metadata": {},
   "outputs": [],
   "source": [
    "import pandas as pd\n",
    "import numpy as np\n",
    "import sys, os\n",
    "import h5py\n",
    "import logging\n",
    "from datetime import datetime"
   ]
  },
  {
   "cell_type": "code",
   "execution_count": 5,
   "metadata": {},
   "outputs": [],
   "source": [
    "import h5py\n",
    "import numpy as np\n",
    "import os, sys\n",
    "import subprocess\n",
    "import glob\n",
    "from statsmodels import robust"
   ]
  },
  {
   "cell_type": "code",
   "execution_count": 6,
   "metadata": {},
   "outputs": [
    {
     "name": "stdout",
     "output_type": "stream",
     "text": [
      "Name: ont-fast5-api\n",
      "Version: 4.0.0\n",
      "Summary: Oxford Nanopore Technologies fast5 API software\n",
      "Home-page: https://github.com/nanoporetech/ont_fast5_api\n",
      "Author: Oxford Nanopore Technologies, Limited\n",
      "Author-email: \n",
      "License: MPL 2.0\n",
      "Location: /pod/2/li-lab/Ziwei/Anaconda3/envs/nanomodel/lib/python3.6/site-packages\n",
      "Requires: progressbar33, numpy, packaging, h5py\n",
      "Required-by: \n",
      "Note: you may need to restart the kernel to use updated packages.\n"
     ]
    }
   ],
   "source": [
    "pip show ont_fast5_api #make sure the ont_fast5_api is the latest version"
   ]
  },
  {
   "cell_type": "code",
   "execution_count": 7,
   "metadata": {},
   "outputs": [
    {
     "data": {
      "text/plain": [
       "'3.6.13 | packaged by conda-forge | (default, Sep 23 2021, 07:56:31) \\n[GCC 9.4.0]'"
      ]
     },
     "execution_count": 7,
     "metadata": {},
     "output_type": "execute_result"
    }
   ],
   "source": [
    "sys.version"
   ]
  },
  {
   "cell_type": "markdown",
   "metadata": {},
   "source": [
    "# Pre-precess the data"
   ]
  },
  {
   "cell_type": "markdown",
   "metadata": {},
   "source": [
    "The fast5 file is copied from /fastscratch/c-panz/2021-09-30/guppy5.0.14_supmodel_tombo/T4LambdaTF1/0/workspace\n",
    "\n",
    "input_path='/pod/2/li-lab/Ziwei/Nanopore/daily/test/\n",
    "\n",
    "00000156-e575-4fb7-9053-d00dbe5c8d9c.fast5\n",
    "\n",
    "000006ea-dddb-429c-8277-a81ce50da6a0.fast5\n",
    "\n",
    "The resquiggled signal is saved under:\n",
    "\n",
    "correctedGroup=\"RawGenomeCorrected_001\"\n",
    "\n",
    "basecallGroup=\"Basecall_1D_001\""
   ]
  },
  {
   "cell_type": "markdown",
   "metadata": {},
   "source": [
    "# Define fast5 class with function features"
   ]
  },
  {
   "cell_type": "code",
   "execution_count": 1,
   "metadata": {},
   "outputs": [
    {
     "name": "stdout",
     "output_type": "stream",
     "text": [
      "/pod/2/li-lab/Ziwei/Nanopore/daily/test/000006ea-dddb-429c-8277-a81ce50da6a0.fast5\n",
      "/pod/2/li-lab/Ziwei/Nanopore/daily/test/00000156-e575-4fb7-9053-d00dbe5c8d9c.fast5\n"
     ]
    }
   ],
   "source": [
    "input_path='/pod/2/li-lab/Ziwei/Nanopore/daily/test/'\n",
    "#    fast5_fn='00000156-e575-4fb7-9053-d00dbe5c8d9c.fast5'\n",
    "from ont_fast5_api.conversion_tools.conversion_utils import get_fast5_file_list\n",
    "fast5_fp = get_fast5_file_list(input_path,recursive=True)\n",
    "for fast5_fn in fast5_fp:\n",
    "    print(fast5_fn)"
   ]
  },
  {
   "cell_type": "code",
   "execution_count": 15,
   "metadata": {},
   "outputs": [],
   "source": [
    "import h5py\n",
    "import numpy as np\n",
    "import os, sys\n",
    "import argparse\n",
    "from statsmodels import robust\n",
    "from ont_fast5_api.conversion_tools.conversion_utils import get_fast5_file_list\n",
    "    \n",
    "class raw_fast5:\n",
    "    def __init__(self, path, corr_group, basecall_group, basecall_subgroup, signal_group):\n",
    "        self._fast5_id = os.path.basename(path)\n",
    "        self._obj = h5py.File(path, mode=\"r\")\n",
    "        self._corr_group = corr_group\n",
    "        self._basecall_group = basecall_group\n",
    "        self._basecall_subgroup = basecall_subgroup\n",
    "        self._signal_group = signal_group\n",
    "        \n",
    "    def __eq__(self, other):\n",
    "        self._fast5_id == other._fast5_id\n",
    "    \n",
    "    def fast5_readid(self):\n",
    "        f5 = self._obj\n",
    "        try:\n",
    "            read_num = list(f5[f'/{signal_group}'])[0]\n",
    "        except Exception:\n",
    "            raise RuntimeError('Signal not found.')\n",
    "                \n",
    "        read = f5[f'/{signal_group}/{read_num}']\n",
    "        read_attr = dict(list(read.attrs.items()))\n",
    "        read_id = read_attr['read_id'].decode('UTF-8') \n",
    "        return read_id\n",
    "    \n",
    "    def fast5_signal(self):\n",
    "        f5 = self._obj\n",
    "        try:\n",
    "            read_num = list(f5[f'/{signal_group}'])[0]\n",
    "        except Exception:\n",
    "            raise RuntimeError('Signal not found.')\n",
    "            \n",
    "        signal = f5[f'/{signal_group}/{read_num}/Signal']\n",
    "        signal_attr = np.array(signal[:])\n",
    "        return signal_attr\n",
    "    \n",
    "    def fast5_event(self):\n",
    "        try:\n",
    "            # Get event data after tombo-requirrel\n",
    "            event = self._obj[f'/Analyses/{self._corr_group}/{self._basecall_subgroup}/Events']\n",
    "        except Exception:\n",
    "            raise RuntimeError('Events not found.')\n",
    "            \n",
    "        corr_attr = dict(list(event.attrs.items()))\n",
    "        \n",
    "        #get read location relatively to the reference genome\n",
    "        read_start_rel_to_raw = corr_attr['read_start_rel_to_raw']   \n",
    "        \n",
    "        #Calculate the start position relatively to the reference genome\n",
    "        start = list(map(lambda x: x + read_start_rel_to_raw, event['start']))\n",
    "        #Get the event length for each base\n",
    "        length = event['length'].astype(np.int)\n",
    "        #Get the seq information\n",
    "        seq = [x.decode(\"UTF-8\") for x in event['base']]\n",
    "        \n",
    "        assert len(event) == len(start) == len(seq) == len(length)\n",
    "        event_attr = list(zip(start, length, seq))\n",
    "        return event_attr\n",
    "    \n",
    "    def fast5_align(self):\n",
    "        try:\n",
    "            strand_align = f5[f'/Analyses/{self._corr_group}/{self._basecall_subgroup}/Alignment']\n",
    "        except Exception:\n",
    "            return -1\n",
    "        \n",
    "        read_strand = 't' if self._basecall_subgroup=='BaseCalled_template' else 'c'\n",
    "        \n",
    "        align_attr = dict(list(strand_align.attrs.items()))\n",
    "        #Extract chrom, chrom_start, strand for alignment information\n",
    "        chrom = align_attr['mapped_chrom']\n",
    "        strand = align_attr['mapped_strand']\n",
    "        start = align_attr['mapped_start']\n",
    "        return chrom, strand, start, read_strand"
   ]
  },
  {
   "cell_type": "code",
   "execution_count": 22,
   "metadata": {},
   "outputs": [
    {
     "data": {
      "text/plain": [
       "([(1118, 3, 'T'),\n",
       "  (1121, 25, 'C'),\n",
       "  (1146, 3, 'C'),\n",
       "  (1149, 17, 'A'),\n",
       "  (1166, 14, 'G'),\n",
       "  (1180, 12, 'T'),\n",
       "  (1192, 3, 'C'),\n",
       "  (1195, 10, 'A'),\n",
       "  (1205, 11, 'T'),\n",
       "  (1216, 26, 'T')],\n",
       " '000006ea-dddb-429c-8277-a81ce50da6a0',\n",
       " array([488, 460, 450, ..., 540, 538, 526], dtype=int16))"
      ]
     },
     "execution_count": 22,
     "metadata": {},
     "output_type": "execute_result"
    }
   ],
   "source": [
    "signal_group='Raw/Reads'\n",
    "corr_group='RawGenomeCorrected_001' #tombo resquiggle save location\n",
    "basecall_group='Basecall_1D_001' #has to be save in the tombo requiggle step\n",
    "basecall_subgroup='BaseCalled_template' #Attention: the basecall_subgroup can be 'basecalled_compl\n",
    "\n",
    "input_path='/pod/2/li-lab/Ziwei/Nanopore/daily/test/000006ea-dddb-429c-8277-a81ce50da6a0.fast5'\n",
    "\n",
    "f5 = raw_fast5(input_path, corr_group, basecall_group, basecall_subgroup, signal_group)\n",
    "event = f5.fast5_event()\n",
    "read_id = f5.fast5_readid()\n",
    "signal = f5.fast5_signal()\n",
    "event[0:10], read_id, signal"
   ]
  },
  {
   "cell_type": "code",
   "execution_count": 23,
   "metadata": {},
   "outputs": [
    {
     "data": {
      "text/plain": [
       "-1"
      ]
     },
     "execution_count": 23,
     "metadata": {},
     "output_type": "execute_result"
    }
   ],
   "source": [
    "f5.fast5_align()"
   ]
  },
  {
   "cell_type": "code",
   "execution_count": null,
   "metadata": {},
   "outputs": [],
   "source": []
  },
  {
   "cell_type": "code",
   "execution_count": null,
   "metadata": {},
   "outputs": [],
   "source": []
  },
  {
   "cell_type": "code",
   "execution_count": null,
   "metadata": {},
   "outputs": [
    {
     "ename": "NameError",
     "evalue": "name 'input_path' is not defined",
     "output_type": "error",
     "traceback": [
      "\u001b[0;31m---------------------------------------------------------------------------\u001b[0m",
      "\u001b[0;31mNameError\u001b[0m                                 Traceback (most recent call last)",
      "\u001b[0;32m<ipython-input-2-9cc4bff89810>\u001b[0m in \u001b[0;36m<module>\u001b[0;34m\u001b[0m\n\u001b[1;32m      6\u001b[0m \u001b[0mchannel_group\u001b[0m\u001b[0;34m=\u001b[0m\u001b[0;34m'UniqueGlobalKey/channel_id'\u001b[0m\u001b[0;34m\u001b[0m\u001b[0;34m\u001b[0m\u001b[0m\n\u001b[1;32m      7\u001b[0m \u001b[0;34m\u001b[0m\u001b[0m\n\u001b[0;32m----> 8\u001b[0;31m \u001b[0mfast5_fn\u001b[0m \u001b[0;34m=\u001b[0m \u001b[0mos\u001b[0m\u001b[0;34m.\u001b[0m\u001b[0mpath\u001b[0m\u001b[0;34m.\u001b[0m\u001b[0mjoin\u001b[0m\u001b[0;34m(\u001b[0m\u001b[0minput_path\u001b[0m\u001b[0;34m,\u001b[0m \u001b[0mfast5_fn\u001b[0m\u001b[0;34m)\u001b[0m\u001b[0;34m\u001b[0m\u001b[0;34m\u001b[0m\u001b[0m\n\u001b[0m\u001b[1;32m      9\u001b[0m \u001b[0mf5\u001b[0m \u001b[0;34m=\u001b[0m \u001b[0mh5py\u001b[0m\u001b[0;34m.\u001b[0m\u001b[0mFile\u001b[0m\u001b[0;34m(\u001b[0m\u001b[0mfast5_fn\u001b[0m\u001b[0;34m,\u001b[0m \u001b[0mmode\u001b[0m\u001b[0;34m=\u001b[0m\u001b[0;34m\"r\"\u001b[0m\u001b[0;34m)\u001b[0m\u001b[0;34m\u001b[0m\u001b[0;34m\u001b[0m\u001b[0m\n\u001b[1;32m     10\u001b[0m \u001b[0;34m\u001b[0m\u001b[0m\n",
      "\u001b[0;31mNameError\u001b[0m: name 'input_path' is not defined"
     ]
    }
   ],
   "source": [
    "#channels 0pA adc: /UniqueGlobalKey/channel_id/{offset}\n",
    "#digitisable range in pA: /UniqueGlobalKey/channel_id/{range}\n",
    "#digitisation: /UniqueGlobalKey/channel_id/{digitisation}\n",
    "#current in pA = (signal_value + channels 0pA adc) * digitisable range in pA / digitisation\n",
    "import os\n",
    "channel_group='UniqueGlobalKey/channel_id'\n",
    "\n",
    "fast5_fn = os.path.join(input_path, fast5_fn)\n",
    "f5 = h5py.File(fast5_fn, mode=\"r\")\n",
    "\n",
    "channel = f5[f'/{channel_group}']\n",
    "channel_attr = dict(list(channel.attrs.items()))\n",
    "current = np.array((signal + channel_attr['offset']) * channel_info['range'] / channel_info['digitisation'])\n",
    "current"
   ]
  },
  {
   "cell_type": "code",
   "execution_count": null,
   "metadata": {},
   "outputs": [],
   "source": [
    "current = signal_value + channel_attr['offset'] * channel_info['digitisation']\n",
    "digi = channel_info['digitisation']\n",
    "parange = channel_info['range']\n",
    "offset = channel_info\n",
    "scaling = parange / digi\n",
    "offset, scaling\n"
   ]
  },
  {
   "cell_type": "markdown",
   "metadata": {},
   "source": [
    "# Extract features\n",
    "69 features in total\n",
    "\n",
    "1. Nucleotide from NNNNNNNCGNNNNNNN(16 features * 4 while making binary labels) {A: 3; C: 2; G: 1; T: 0}\n",
    "2. Normalized mean signal level for each base (16 features)\n",
    "3. Normalized signal standard deviation for each base(16 features)\n",
    "4. Length of this event in raw signal values for each base (16 features)\n",
    "5. GC content in windows: 10, 20, 50, 75, 100bp (5 features)"
   ]
  },
  {
   "cell_type": "code",
   "execution_count": null,
   "metadata": {},
   "outputs": [],
   "source": []
  }
 ],
 "metadata": {
  "kernelspec": {
   "display_name": "Python 3",
   "language": "python",
   "name": "python3"
  },
  "language_info": {
   "codemirror_mode": {
    "name": "ipython",
    "version": 3
   },
   "file_extension": ".py",
   "mimetype": "text/x-python",
   "name": "python",
   "nbconvert_exporter": "python",
   "pygments_lexer": "ipython3",
   "version": "3.6.13"
  }
 },
 "nbformat": 4,
 "nbformat_minor": 4
}
