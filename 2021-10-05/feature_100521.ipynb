{
 "cells": [
  {
   "cell_type": "code",
   "execution_count": 3,
   "metadata": {},
   "outputs": [
    {
     "name": "stdin",
     "output_type": "stream",
     "text": [
      "Once deleted, variables cannot be recovered. Proceed (y/[n])?  y\n"
     ]
    }
   ],
   "source": [
    "%reset"
   ]
  },
  {
   "cell_type": "code",
   "execution_count": 4,
   "metadata": {},
   "outputs": [],
   "source": [
    "import pandas as pd\n",
    "import numpy as np\n",
    "import sys, os\n",
    "import h5py\n",
    "import logging\n",
    "from datetime import datetime"
   ]
  },
  {
   "cell_type": "code",
   "execution_count": 5,
   "metadata": {},
   "outputs": [],
   "source": [
    "import h5py\n",
    "import numpy as np\n",
    "import os, sys\n",
    "import subprocess\n",
    "import glob\n",
    "from statsmodels import robust"
   ]
  },
  {
   "cell_type": "code",
   "execution_count": 6,
   "metadata": {},
   "outputs": [
    {
     "name": "stdout",
     "output_type": "stream",
     "text": [
      "Name: ont-fast5-api\n",
      "Version: 4.0.0\n",
      "Summary: Oxford Nanopore Technologies fast5 API software\n",
      "Home-page: https://github.com/nanoporetech/ont_fast5_api\n",
      "Author: Oxford Nanopore Technologies, Limited\n",
      "Author-email: \n",
      "License: MPL 2.0\n",
      "Location: /pod/2/li-lab/Ziwei/Anaconda3/envs/nanomodel/lib/python3.6/site-packages\n",
      "Requires: progressbar33, numpy, packaging, h5py\n",
      "Required-by: \n",
      "Note: you may need to restart the kernel to use updated packages.\n"
     ]
    }
   ],
   "source": [
    "pip show ont_fast5_api #make sure the ont_fast5_api is the latest version"
   ]
  },
  {
   "cell_type": "code",
   "execution_count": 7,
   "metadata": {},
   "outputs": [
    {
     "data": {
      "text/plain": [
       "'3.6.13 | packaged by conda-forge | (default, Sep 23 2021, 07:56:31) \\n[GCC 9.4.0]'"
      ]
     },
     "execution_count": 7,
     "metadata": {},
     "output_type": "execute_result"
    }
   ],
   "source": [
    "sys.version"
   ]
  },
  {
   "cell_type": "markdown",
   "metadata": {},
   "source": [
    "# Pre-precess the data"
   ]
  },
  {
   "cell_type": "markdown",
   "metadata": {},
   "source": [
    "The fast5 file is copied from /fastscratch/c-panz/2021-09-30/guppy5.0.14_supmodel_tombo/T4LambdaTF1/0/workspace\n",
    "\n",
    "input_path='/pod/2/li-lab/Ziwei/Nanopore/daily/test/\n",
    "\n",
    "00000156-e575-4fb7-9053-d00dbe5c8d9c.fast5\n",
    "\n",
    "000006ea-dddb-429c-8277-a81ce50da6a0.fast5\n",
    "\n",
    "The resquiggled signal is saved under:\n",
    "\n",
    "correctedGroup=\"RawGenomeCorrected_001\"\n",
    "\n",
    "basecallGroup=\"Basecall_1D_001\""
   ]
  },
  {
   "cell_type": "markdown",
   "metadata": {},
   "source": [
    "## Open multiple files"
   ]
  },
  {
   "cell_type": "code",
   "execution_count": 8,
   "metadata": {},
   "outputs": [],
   "source": [
    "#Import all files under a folder into a list\n",
    "input_path='/pod/2/li-lab/Ziwei/Nanopore/daily/test/'\n",
    "from ont_fast5_api.conversion_tools.conversion_utils import get_fast5_file_list\n",
    "\n",
    "fast5_fp = get_fast5_file_list(input_path,recursive=True)\n",
    "logging.info(\"Found {} files to process.\".format(len(fast5_fp)))"
   ]
  },
  {
   "cell_type": "code",
   "execution_count": 9,
   "metadata": {},
   "outputs": [
    {
     "data": {
      "text/plain": [
       "['/pod/2/li-lab/Ziwei/Nanopore/daily/test/000006ea-dddb-429c-8277-a81ce50da6a0.fast5',\n",
       " '/pod/2/li-lab/Ziwei/Nanopore/daily/test/00000156-e575-4fb7-9053-d00dbe5c8d9c.fast5']"
      ]
     },
     "execution_count": 9,
     "metadata": {},
     "output_type": "execute_result"
    }
   ],
   "source": [
    "fast5_fp"
   ]
  },
  {
   "cell_type": "code",
   "execution_count": 20,
   "metadata": {},
   "outputs": [
    {
     "name": "stdout",
     "output_type": "stream",
     "text": [
      "<HDF5 file \"000006ea-dddb-429c-8277-a81ce50da6a0.fast5\" (mode r)>\n",
      "<HDF5 file \"00000156-e575-4fb7-9053-d00dbe5c8d9c.fast5\" (mode r)>\n"
     ]
    }
   ],
   "source": [
    "for fast5_fn in fast5_fp:\n",
    "#    print(fast5_fn)\n",
    "    with h5py.File(fast5_fn, mode=\"r\") as f5:\n",
    "        print(f5)"
   ]
  },
  {
   "cell_type": "markdown",
   "metadata": {},
   "source": [
    "## Single fast5 file"
   ]
  },
  {
   "cell_type": "code",
   "execution_count": 21,
   "metadata": {},
   "outputs": [
    {
     "data": {
      "text/plain": [
       "<HDF5 file \"00000156-e575-4fb7-9053-d00dbe5c8d9c.fast5\" (mode r)>"
      ]
     },
     "execution_count": 21,
     "metadata": {},
     "output_type": "execute_result"
    }
   ],
   "source": [
    "input_path='/pod/2/li-lab/Ziwei/Nanopore/daily/test/'\n",
    "fast5_fn='00000156-e575-4fb7-9053-d00dbe5c8d9c.fast5'\n",
    "\n",
    "fast5_fn=os.path.join(input_path, fast5_fn)\n",
    "f5 = h5py.File(fast5_fn, mode=\"r\") \n",
    "f5"
   ]
  },
  {
   "cell_type": "code",
   "execution_count": 34,
   "metadata": {},
   "outputs": [],
   "source": [
    "signal_group='Raw/Reads'\n",
    "corr_group='RawGenomeCorrected_001' #tombo resquiggle save location\n",
    "basecall_group='Basecall_1D_001' #has to be save in the tombo requiggle step\n",
    "basecall_subgroup='BaseCalled_template' #Attention: the basecall_subgroup can be 'basecalled_compl"
   ]
  },
  {
   "cell_type": "markdown",
   "metadata": {},
   "source": [
    "## Basecall info"
   ]
  },
  {
   "cell_type": "code",
   "execution_count": 23,
   "metadata": {},
   "outputs": [
    {
     "data": {
      "text/plain": [
       "{'lower_lim': -5.0,\n",
       " 'norm_type': 'median',\n",
       " 'outlier_threshold': 5.0,\n",
       " 'rna': False,\n",
       " 'scale': 52.47260793234401,\n",
       " 'shift': 453.68545996959926,\n",
       " 'signal_match_score': 0.7739355451096712,\n",
       " 'status': 'success',\n",
       " 'upper_lim': 5.0}"
      ]
     },
     "execution_count": 23,
     "metadata": {},
     "output_type": "execute_result"
    }
   ],
   "source": [
    "basecall = f5[f'/Analyses/{corr_group}/{basecall_subgroup}']\n",
    "basecall_attr = dict(list(basecall.attrs.items()))\n",
    "basecall_attr"
   ]
  },
  {
   "cell_type": "markdown",
   "metadata": {},
   "source": [
    "### Get event information"
   ]
  },
  {
   "cell_type": "code",
   "execution_count": 24,
   "metadata": {},
   "outputs": [
    {
     "data": {
      "text/plain": [
       "{'read_start_rel_to_raw': 1450}"
      ]
     },
     "execution_count": 24,
     "metadata": {},
     "output_type": "execute_result"
    }
   ],
   "source": [
    "# Get event data after tombo-requirrel\n",
    "event = f5[f'/Analyses/{corr_group}/{basecall_subgroup}/Events']\n",
    "corr_attr = dict(list(event.attrs.items()))\n",
    "corr_attr"
   ]
  },
  {
   "cell_type": "code",
   "execution_count": 25,
   "metadata": {},
   "outputs": [
    {
     "name": "stdout",
     "output_type": "stream",
     "text": [
      "read_start_rel_to_raw: 1450\n"
     ]
    }
   ],
   "source": [
    "read_start_rel_to_raw = corr_attr['read_start_rel_to_raw']\n",
    "print('read_start_rel_to_raw: {}'.format(read_start_rel_to_raw))"
   ]
  },
  {
   "cell_type": "code",
   "execution_count": 26,
   "metadata": {},
   "outputs": [
    {
     "data": {
      "text/plain": [
       "(dtype([('norm_mean', '<f8'), ('norm_stdev', '<f8'), ('start', '<u4'), ('length', '<u4'), ('base', 'S1')]),\n",
       " ('norm_mean', 'norm_stdev', 'start', 'length', 'base'))"
      ]
     },
     "execution_count": 26,
     "metadata": {},
     "output_type": "execute_result"
    }
   ],
   "source": [
    "#Check the event column attri\n",
    "event.dtype, event.dtype.names"
   ]
  },
  {
   "cell_type": "code",
   "execution_count": 27,
   "metadata": {},
   "outputs": [
    {
     "data": {
      "text/plain": [
       "array([ 4,  3, 14,  7,  5,  3,  5,  3,  3], dtype=uint32)"
      ]
     },
     "execution_count": 27,
     "metadata": {},
     "output_type": "execute_result"
    }
   ],
   "source": [
    "event['length'][1:10]"
   ]
  },
  {
   "cell_type": "code",
   "execution_count": 18,
   "metadata": {},
   "outputs": [
    {
     "data": {
      "text/plain": [
       "293395"
      ]
     },
     "execution_count": 18,
     "metadata": {},
     "output_type": "execute_result"
    }
   ],
   "source": [
    "sum(event['length'])"
   ]
  },
  {
   "cell_type": "markdown",
   "metadata": {},
   "source": [
    "### Event normalization"
   ]
  },
  {
   "cell_type": "markdown",
   "metadata": {},
   "source": [
    "### Extract event normalization"
   ]
  },
  {
   "cell_type": "code",
   "execution_count": 28,
   "metadata": {},
   "outputs": [
    {
     "data": {
      "text/plain": [
       "[(1450, 5, 'A'),\n",
       " (1455, 4, 'T'),\n",
       " (1459, 3, 'T'),\n",
       " (1462, 14, 'T'),\n",
       " (1476, 7, 'C'),\n",
       " (1483, 5, 'T'),\n",
       " (1488, 3, 'G'),\n",
       " (1491, 5, 'A'),\n",
       " (1496, 3, 'A'),\n",
       " (1499, 3, 'G')]"
      ]
     },
     "execution_count": 28,
     "metadata": {},
     "output_type": "execute_result"
    }
   ],
   "source": [
    "#Calculate the start position relatively to the reference genome\n",
    "start = list(map(lambda x: x + read_start_rel_to_raw, event['start']))\n",
    "#Get the event length for each base\n",
    "length = event['length'].astype(np.int)\n",
    "#Get the base information\n",
    "base = [x.decode(\"UTF-8\") for x in event['base']]\n",
    "\n",
    "assert len(start) == len(base) == len(length)\n",
    "events = list(zip(start, length, base))\n",
    "assert len(events) == len(start) == len(base) == len(length)\n",
    "\n",
    "#Save the start position, event length, base info\n",
    "events[0:10]"
   ]
  },
  {
   "cell_type": "code",
   "execution_count": 29,
   "metadata": {},
   "outputs": [
    {
     "data": {
      "text/plain": [
       "list"
      ]
     },
     "execution_count": 29,
     "metadata": {},
     "output_type": "execute_result"
    }
   ],
   "source": [
    "type(events)"
   ]
  },
  {
   "cell_type": "markdown",
   "metadata": {},
   "source": [
    "### Get strand alignment information"
   ]
  },
  {
   "cell_type": "code",
   "execution_count": 100,
   "metadata": {},
   "outputs": [
    {
     "data": {
      "text/plain": [
       "{'clipped_bases_end': 85,\n",
       " 'clipped_bases_start': 0,\n",
       " 'mapped_chrom': 'chr11',\n",
       " 'mapped_end': 77052439,\n",
       " 'mapped_start': 77036077,\n",
       " 'mapped_strand': '-',\n",
       " 'num_deletions': 140,\n",
       " 'num_insertions': 66,\n",
       " 'num_matches': 16143,\n",
       " 'num_mismatches': 79}"
      ]
     },
     "execution_count": 100,
     "metadata": {},
     "output_type": "execute_result"
    }
   ],
   "source": [
    "signal_group='Raw/Reads'\n",
    "corr_group='RawGenomeCorrected_001' #tombo resquiggle save location\n",
    "basecall_group='Basecall_1D_001' #has to be save in the tombo requiggle step\n",
    "basecall_subgroup='BaseCalled_template' #Attention: the basecall_subgroup can be 'basecalled_compl\n",
    "\n",
    "input_path='/pod/2/li-lab/Ziwei/Nanopore/daily/test/000006ea-dddb-429c-8277-a81ce50da6a0.fast5'\n",
    "\n",
    "f5 = h5py.File(input_path, mode=\"r\")\n",
    "\n",
    "strand_alignment = f5[f'/Analyses/{corr_group}/{basecall_subgroup}/Alignment']\n",
    "alignment_attr = dict(list(strand_alignment.attrs.items()))\n",
    "alignment_attr"
   ]
  },
  {
   "cell_type": "code",
   "execution_count": 31,
   "metadata": {},
   "outputs": [
    {
     "data": {
      "text/plain": [
       "('chr4', '-', 118511944)"
      ]
     },
     "execution_count": 31,
     "metadata": {},
     "output_type": "execute_result"
    }
   ],
   "source": [
    "#Extract chrom, chrom_start, strand for alignment information\n",
    "chrom = alignment_attr['mapped_chrom']\n",
    "strand = alignment_attr['mapped_strand']\n",
    "chrom_start = alignment_attr['mapped_start']\n",
    "chrom, strand, chrom_start"
   ]
  },
  {
   "cell_type": "code",
   "execution_count": 32,
   "metadata": {},
   "outputs": [
    {
     "data": {
      "text/plain": [
       "'t'"
      ]
     },
     "execution_count": 32,
     "metadata": {},
     "output_type": "execute_result"
    }
   ],
   "source": [
    "#Assign strand information\n",
    "strand = 't' if basecall_subgroup=='BaseCalled_template' else 'c'\n",
    "strand"
   ]
  },
  {
   "cell_type": "markdown",
   "metadata": {},
   "source": [
    "## Get raw signal & read_id"
   ]
  },
  {
   "cell_type": "code",
   "execution_count": 62,
   "metadata": {},
   "outputs": [
    {
     "data": {
      "text/plain": [
       "(array([434, 432, 465, ..., 359, 380, 777], dtype=int16),\n",
       " b'00000156-e575-4fb7-9053-d00dbe5c8d9c')"
      ]
     },
     "execution_count": 62,
     "metadata": {},
     "output_type": "execute_result"
    }
   ],
   "source": [
    "read_num = list(f5[f'/{signal_group}'])[0]\n",
    "signal = f5[f'/{read_group}/{read_num}/Signal']\n",
    "signal_attr = np.array(signal[:])\n",
    "\n",
    "read = f5[f'/{read_group}/{read_num}']\n",
    "read_attr = dict(list(read.attrs.items()))\n",
    "read_id = read_attr['read_id']\n",
    "\n",
    "signal_attr, read_id"
   ]
  },
  {
   "cell_type": "markdown",
   "metadata": {},
   "source": [
    "## signal rescalling"
   ]
  },
  {
   "cell_type": "code",
   "execution_count": 65,
   "metadata": {},
   "outputs": [
    {
     "data": {
      "text/plain": [
       "array([ 78.12429607,  77.76918563,  83.62850784, ...,  64.80765469,\n",
       "        68.53631428, 139.02573596])"
      ]
     },
     "execution_count": 65,
     "metadata": {},
     "output_type": "execute_result"
    }
   ],
   "source": [
    "#https://github.com/grimbough/IONiseR/blob/47d8ab1e1d798f3591407be679076a1a5b5d9dd2/R/squiggle.R#L81\n",
    "\n",
    "#channels 0pA adc: /UniqueGlobalKey/channel_id/{offset}\n",
    "#digitisable range in pA: /UniqueGlobalKey/channel_id/{range}\n",
    "#digitisation: /UniqueGlobalKey/channel_id/{digitisation}\n",
    "#current in pA = (signal_value + channels 0pA adc) * digitisable range in pA / digitisation\n",
    "import os\n",
    "channel_group='UniqueGlobalKey/channel_id'\n",
    "\n",
    "fast5_fn = os.path.join(input_path, fast5_fn)\n",
    "f5 = h5py.File(fast5_fn, mode=\"r\")\n",
    "\n",
    "channel = f5[f'/{channel_group}']\n",
    "channel_attr = dict(list(channel.attrs.items()))\n",
    "current = np.array((signal_attr + channel_attr['offset']) * channel_attr['range'] / channel_attr['digitisation'])\n",
    "current"
   ]
  },
  {
   "cell_type": "markdown",
   "metadata": {},
   "source": [
    "### signal normorlization"
   ]
  },
  {
   "cell_type": "code",
   "execution_count": 66,
   "metadata": {},
   "outputs": [
    {
     "data": {
      "text/plain": [
       "array([24.383541, 24.245404, 26.52466 , ..., 19.203413, 20.653848,\n",
       "       48.073992])"
      ]
     },
     "execution_count": 66,
     "metadata": {},
     "output_type": "execute_result"
    }
   ],
   "source": [
    "from statsmodels import robust\n",
    "method = 'mad'\n",
    "signal_new = current\n",
    "\n",
    "if method == 'mad':\n",
    "#assuming a normal distribution \n",
    "#https://stackoverflow.com/a/40619633\n",
    "    shift, scale = np.median(signal_new), np.float(robust.mad(signal_new))\n",
    "elif method == 'zscore':\n",
    "    shift, scale = np.mean(signal_new), np.float(np.std(signal_new))\n",
    "else:\n",
    "    raise ValueError('Normalized method not recogized')\n",
    "            \n",
    "#signal normalization: https://nanoporetech.github.io/tombo/resquiggle.html#tombo-fast5-format\n",
    "# There may be problem after tombo 1.3, see explanation above\n",
    "norm_signal = (signal - shift) / scale #POTENTIAL ISSUE!\n",
    "assert len(signal) == len(norm_signal)\n",
    "norm_signal = np.around(norm_signal, 6)\n",
    "norm_signal"
   ]
  },
  {
   "cell_type": "markdown",
   "metadata": {},
   "source": [
    "# Define fast5 class with function features"
   ]
  },
  {
   "cell_type": "code",
   "execution_count": 103,
   "metadata": {},
   "outputs": [
    {
     "name": "stdout",
     "output_type": "stream",
     "text": [
      "/pod/2/li-lab/Ziwei/Nanopore/daily/test/000006ea-dddb-429c-8277-a81ce50da6a0.fast5\n",
      "/pod/2/li-lab/Ziwei/Nanopore/daily/test/00000156-e575-4fb7-9053-d00dbe5c8d9c.fast5\n"
     ]
    }
   ],
   "source": [
    "input_path='/pod/2/li-lab/Ziwei/Nanopore/daily/test/'\n",
    "#    fast5_fn='00000156-e575-4fb7-9053-d00dbe5c8d9c.fast5'\n",
    "from ont_fast5_api.conversion_tools.conversion_utils import get_fast5_file_list\n",
    "fast5_fp = get_fast5_file_list(input_path,recursive=True)\n",
    "for fast5_fn in fast5_fp:\n",
    "    print(fast5_fn)"
   ]
  },
  {
   "cell_type": "code",
   "execution_count": 92,
   "metadata": {},
   "outputs": [],
   "source": [
    "signal_group='Raw/Reads'\n",
    "corr_group='RawGenomeCorrected_001' #tombo resquiggle save location\n",
    "basecall_group='Basecall_1D_001' #has to be save in the tombo requiggle step\n",
    "basecall_subgroup='BaseCalled_template' #Attention: the basecall_subgroup can be 'basecalled_compl\n",
    "\n",
    "class raw_fast5:\n",
    "    def __init__(self, path, corr_group, basecall_group, basecall_subgroup, signal_group):\n",
    "        self._fast5_id = os.path.basename(path)\n",
    "        self._obj = h5py.File(path, mode=\"r\")\n",
    "        self._corr_group = corr_group\n",
    "        self._basecall_group = basecall_group\n",
    "        self._basecall_subgroup = basecall_subgroup\n",
    "        self._signal_group = signal_group\n",
    "        \n",
    "    def __eq__(self, other):\n",
    "        self._fast5_id == other._fast5_id\n",
    "        \n",
    "    def fast5_readid(self):\n",
    "        f5 = self._obj\n",
    "        try:\n",
    "            read_num = list(f5[f'/{signal_group}'])[0]\n",
    "        except Exception:\n",
    "            raise RuntimeError('Signal not found.')\n",
    "                \n",
    "        read = f5[f'/{read_group}/{read_num}']\n",
    "        read_attr = dict(list(read.attrs.items()))\n",
    "        read_id = read_attr['read_id'].decode('UTF-8') \n",
    "        return read_id\n",
    "    \n",
    "    def fast5_signal(self):\n",
    "        f5 = self._obj\n",
    "        try:\n",
    "            read_num = list(f5[f'/{signal_group}'])[0]\n",
    "        except Exception:\n",
    "            raise RuntimeError('Signal not found.')\n",
    "            \n",
    "        signal = f5[f'/{read_group}/{read_num}/Signal']\n",
    "        signal_attr = np.array(signal[:])\n",
    "        return signal_attr\n",
    "    \n",
    "    def fast5_event(self):\n",
    "        f5 = self._obj\n",
    "        try:\n",
    "            # Get event data after tombo-requirrel\n",
    "            event = f5[f'/Analyses/{self._corr_group}/{self._basecall_subgroup}/Events']\n",
    "        except Exception:\n",
    "            raise RuntimeError('Events not found.')\n",
    "            \n",
    "        corr_attr = dict(list(event.attrs.items()))\n",
    "        \n",
    "        #get read location relatively to the reference genome\n",
    "        read_start_rel_to_raw = corr_attr['read_start_rel_to_raw']   \n",
    "        \n",
    "        #Calculate the start position relatively to the reference genome\n",
    "        start = list(map(lambda x: x + read_start_rel_to_raw, event['start']))\n",
    "        #Get the event length for each base\n",
    "        length = event['length'].astype(np.int)\n",
    "        #Get the seq information\n",
    "        seq = [x.decode(\"UTF-8\") for x in event['base']]\n",
    "        \n",
    "        assert len(events) == len(start) == len(seq) == len(length)\n",
    "        event_attr = list(zip(start, length, base))\n",
    "        return event_attr\n",
    "    \n",
    "    def fast5_align(self):\n",
    "        f5 = self._obj\n",
    "        try:\n",
    "            strand_align = f5[f'/Analyses/{self._corr_group}/{self._basecall_subgroup}/Alignment']\n",
    "        except Exception:\n",
    "            raise RuntimeError('Alignment not found.')\n",
    "            \n",
    "        read_strand = 't' if self._basecall_subgroup=='BaseCalled_template' else 'c'\n",
    "        \n",
    "        align_attr = dict(list(strand_align.attrs.items()))\n",
    "        #Extract chrom, chrom_start, strand for alignment information\n",
    "        chrom = align_attr['mapped_chrom']\n",
    "        strand = align_attr['mapped_strand']\n",
    "        start = align_attr['mapped_start']\n",
    "        \n",
    "        return chrom, strand, start, read_strand"
   ]
  },
  {
   "cell_type": "markdown",
   "metadata": {},
   "source": [
    "### Define signal rescalling"
   ]
  },
  {
   "cell_type": "code",
   "execution_count": 93,
   "metadata": {},
   "outputs": [],
   "source": [
    "# Signal rescalling\n",
    "#https://github.com/grimbough/IONiseR/blob/47d8ab1e1d798f3591407be679076a1a5b5d9dd2/R/squiggle.R#L81\n",
    "#channels 0pA adc: /UniqueGlobalKey/channel_id/{offset}\n",
    "#digitisable range in pA: /UniqueGlobalKey/channel_id/{range}\n",
    "#digitisation: /UniqueGlobalKey/channel_id/{digitisation}\n",
    "#current in pA = (signal_value + channels 0pA adc) * digitisable range in pA / digitisation\n",
    "import os\n",
    "def rescale_fast5_signal(input_path, signal_attr,\n",
    "                         channel_group='UniqueGlobalKey/channel_id'):\n",
    "    f5 = h5py.File(input_path, mode=\"r\")\n",
    "    channel = f5[f'/{channel_group}']\n",
    "    channel_attr = dict(list(channel.attrs.items()))\n",
    "    current = np.array((signal_attr + channel_attr['offset']) * channel_attr['range'] / channel_attr['digitisation'])\n",
    "    return current"
   ]
  },
  {
   "cell_type": "markdown",
   "metadata": {},
   "source": [
    "### Define signal normalization"
   ]
  },
  {
   "cell_type": "code",
   "execution_count": 94,
   "metadata": {},
   "outputs": [],
   "source": [
    "# Signal normalization with mad method\n",
    "def fast5_normalized_signal(signal, method='mad'):\n",
    "    if method == 'mad':\n",
    "        #assuming a normal distribution \n",
    "        #https://stackoverflow.com/a/40619633\n",
    "        shift, scale = np.median(signal), np.float(statsmodels.robust.mad(signal))\n",
    "    elif method == 'zscore':\n",
    "        shift, scale = np.mean(signal), np.float(np.std(signal))\n",
    "    else:\n",
    "        raise ValueError('Normalized method not recogized')\n",
    "            \n",
    "    #signal normalization: https://nanoporetech.github.io/tombo/resquiggle.html#tombo-fast5-format\n",
    "    # There may be problem after tombo 1.3, see explanation above\n",
    "    norm_signal = (signal - shift) / scale #POTENTIAL ISSUE!\n",
    "    assert len(signal) == len(norm_signal)\n",
    "    norm_signal = np.around(norm_signal, 6)\n",
    "    return norm_signal"
   ]
  },
  {
   "cell_type": "markdown",
   "metadata": {},
   "source": [
    "# Test"
   ]
  },
  {
   "cell_type": "code",
   "execution_count": 95,
   "metadata": {},
   "outputs": [],
   "source": [
    "import os\n",
    "signal_group='Raw/Reads'\n",
    "corr_group='RawGenomeCorrected_001' #tombo resquiggle save location\n",
    "basecall_group='Basecall_1D_001' #has to be save in the tombo requiggle step\n",
    "basecall_subgroup='BaseCalled_template' #Attention: the basecall_subgroup can be 'basecalled_compl\n",
    "\n",
    "input_path='/pod/2/li-lab/Ziwei/Nanopore/daily/test/'\n",
    "fast5_fn='00000156-e575-4fb7-9053-d00dbe5c8d9c.fast5'\n",
    "fast5_fn= os.path.join(input_path, fast5_fn)"
   ]
  },
  {
   "cell_type": "code",
   "execution_count": 97,
   "metadata": {},
   "outputs": [
    {
     "data": {
      "text/plain": [
       "('chr4', '-', 118511944, 't')"
      ]
     },
     "execution_count": 97,
     "metadata": {},
     "output_type": "execute_result"
    }
   ],
   "source": [
    "f5 = raw_fast5(fast5_fn, corr_group, basecall_group, basecall_subgroup, signal_group)\n",
    "event = f5.fast5_event()\n",
    "read_id = f5.fast5_readid()\n",
    "signal = f5.fast5_signal()\n",
    "chrom, strand, start, read_strand = f5.fast5_align()\n",
    "chrom, strand, start, read_strand"
   ]
  },
  {
   "cell_type": "code",
   "execution_count": 90,
   "metadata": {},
   "outputs": [
    {
     "data": {
      "text/plain": [
       "[(1450, 5, 'A'),\n",
       " (1455, 4, 'T'),\n",
       " (1459, 3, 'T'),\n",
       " (1462, 14, 'T'),\n",
       " (1476, 7, 'C')]"
      ]
     },
     "execution_count": 90,
     "metadata": {},
     "output_type": "execute_result"
    }
   ],
   "source": [
    "event[0:5]"
   ]
  },
  {
   "cell_type": "code",
   "execution_count": 84,
   "metadata": {},
   "outputs": [
    {
     "data": {
      "text/plain": [
       "array([ 78.12429607,  77.76918563,  83.62850784, ...,  64.80765469,\n",
       "        68.53631428, 139.02573596])"
      ]
     },
     "execution_count": 84,
     "metadata": {},
     "output_type": "execute_result"
    }
   ],
   "source": [
    "current_rescaled = rescale_fast5_signal(fast5_fn, signal)\n",
    "current_rescaled"
   ]
  },
  {
   "cell_type": "code",
   "execution_count": 86,
   "metadata": {},
   "outputs": [
    {
     "data": {
      "text/plain": [
       "array([-0.196215, -0.220742,  0.183952, ..., -1.115974, -0.858442,\n",
       "        4.010148])"
      ]
     },
     "execution_count": 86,
     "metadata": {},
     "output_type": "execute_result"
    }
   ],
   "source": [
    "norm_signal = fast5_normalized_signal(current_rescaled)\n",
    "norm_signal"
   ]
  },
  {
   "cell_type": "code",
   "execution_count": null,
   "metadata": {},
   "outputs": [],
   "source": []
  }
 ],
 "metadata": {
  "kernelspec": {
   "display_name": "Python 3",
   "language": "python",
   "name": "python3"
  },
  "language_info": {
   "codemirror_mode": {
    "name": "ipython",
    "version": 3
   },
   "file_extension": ".py",
   "mimetype": "text/x-python",
   "name": "python",
   "nbconvert_exporter": "python",
   "pygments_lexer": "ipython3",
   "version": "3.6.13"
  }
 },
 "nbformat": 4,
 "nbformat_minor": 4
}
