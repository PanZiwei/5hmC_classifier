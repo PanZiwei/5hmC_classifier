{
 "cells": [
  {
   "cell_type": "code",
   "execution_count": 1,
   "id": "e9fe5d7e-32e6-4e59-ad22-4039b8a7aaeb",
   "metadata": {},
   "outputs": [
    {
     "name": "stdout",
     "output_type": "stream",
     "text": [
      "1.13.1\n"
     ]
    }
   ],
   "source": [
    "import os\n",
    "\n",
    "import tensorflow as tf\n",
    "from tensorflow import keras\n",
    "\n",
    "print(tf.version.VERSION)"
   ]
  },
  {
   "cell_type": "code",
   "execution_count": 16,
   "id": "bd431921-e00d-4d93-beb2-d97cad94df9b",
   "metadata": {},
   "outputs": [
    {
     "name": "stdout",
     "output_type": "stream",
     "text": [
      "INFO:tensorflow:Restoring parameters from /fastscratch/c-panz/2021-11-29/512000/bn_17.sn_360.epoch_5.ckpt\n"
     ]
    }
   ],
   "source": [
    "### Load the pre-trained model\n",
    "### https://stackoverflow.com/a/44876333\n",
    "model_path='/fastscratch/c-panz/2021-11-29/512000/bn_17.sn_360.epoch_5.ckpt'\n",
    "\n",
    "graph = tf.Graph()\n",
    "with tf.Session(graph=graph) as sess:\n",
    "    # Load the graph with the trained states\n",
    "    loader = tf.train.import_meta_graph(model_path+'.meta')\n",
    "    loader.restore(sess, model_path)"
   ]
  },
  {
   "cell_type": "code",
   "execution_count": 18,
   "id": "77da8eb2-cfe2-4c01-bd2a-cbccadf0c417",
   "metadata": {},
   "outputs": [
    {
     "name": "stdout",
     "output_type": "stream",
     "text": [
      "INFO:tensorflow:Restoring parameters from /fastscratch/c-panz/2021-11-29/512000/bn_17.sn_360.epoch_5.ckpt\n"
     ]
    }
   ],
   "source": [
    "sess = tf.Session()\n",
    "new_saver = tf.train.import_meta_graph(model_path+'.meta')\n",
    "new_saver.restore(sess, model_path)\n",
    "all_vars = tf.get_collection('vars')\n",
    "for v in all_vars:\n",
    "    v_ = sess.run(v)\n",
    "    print(v_)"
   ]
  },
  {
   "cell_type": "code",
   "execution_count": null,
   "id": "8332af27-38c4-4fd3-a5f5-1256ca92fc08",
   "metadata": {},
   "outputs": [],
   "source": []
  }
 ],
 "metadata": {
  "kernelspec": {
   "display_name": "Python 3",
   "language": "python",
   "name": "python3"
  },
  "language_info": {
   "codemirror_mode": {
    "name": "ipython",
    "version": 3
   },
   "file_extension": ".py",
   "mimetype": "text/x-python",
   "name": "python",
   "nbconvert_exporter": "python",
   "pygments_lexer": "ipython3",
   "version": "3.6.13"
  }
 },
 "nbformat": 4,
 "nbformat_minor": 5
}
