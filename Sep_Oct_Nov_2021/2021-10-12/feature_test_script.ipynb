{
 "cells": [
  {
   "cell_type": "code",
   "execution_count": 72,
   "metadata": {},
   "outputs": [
    {
     "name": "stdin",
     "output_type": "stream",
     "text": [
      "Once deleted, variables cannot be recovered. Proceed (y/[n])?  y\n"
     ]
    }
   ],
   "source": [
    "%reset"
   ]
  },
  {
   "cell_type": "code",
   "execution_count": 73,
   "metadata": {},
   "outputs": [],
   "source": [
    "import h5py\n",
    "import numpy as np\n",
    "import os, sys, time\n",
    "import multiprocessing\n",
    "from ont_fast5_api.conversion_tools.conversion_utils import get_fast5_file_list\n",
    "\n",
    "from cytosine.utils.fast5_helper import fast5_rescale, fast5_normalize_signal, raw_fast5\n",
    "from cytosine.utils.extract_helper import save_feature_to_file, put_file_in_queue, get_ref_length, extract_preprocess, extract_perbase_signal_feature, get_mod_site_in_ref, get_batch_feature\n",
    "from cytosine.extract_module import extract_fast5_feature"
   ]
  },
  {
   "cell_type": "markdown",
   "metadata": {},
   "source": [
    "# Pre-precess the data"
   ]
  },
  {
   "cell_type": "markdown",
   "metadata": {},
   "source": [
    "The fast5 file is copied from /fastscratch/c-panz/2021-09-30/guppy5.0.14_supmodel_tombo/T4LambdaTF1/0/workspace\n",
    "\n",
    "input_path='/pod/2/li-lab/Ziwei/Nanopore/daily/test/\n",
    "\n",
    "00000156-e575-4fb7-9053-d00dbe5c8d9c.fast5\n",
    "\n",
    "000006ea-dddb-429c-8277-a81ce50da6a0.fast5"
   ]
  },
  {
   "cell_type": "markdown",
   "metadata": {},
   "source": [
    "# Test fast5_helper"
   ]
  },
  {
   "cell_type": "code",
   "execution_count": 2,
   "metadata": {},
   "outputs": [],
   "source": [
    "input_path='/pod/2/li-lab/Ziwei/Nanopore/daily/test/test'\n",
    "fast5_fn='00000156-e575-4fb7-9053-d00dbe5c8d9c.fast5'\n",
    "\n",
    "signal_group='Raw/Reads'\n",
    "corrected_group='RawGenomeCorrected_001' #tombo resquiggle save location\n",
    "basecall_group='Basecall_1D_001' #has to be save in the tombo requiggle step\n",
    "basecall_subgroup='BaseCalled_template' #Attention: the basecall_subgroup can be 'basecalled_compl"
   ]
  },
  {
   "cell_type": "code",
   "execution_count": 3,
   "metadata": {},
   "outputs": [
    {
     "name": "stdout",
     "output_type": "stream",
     "text": [
      "/pod/2/li-lab/Ziwei/Nanopore/daily/test/test/00000156-e575-4fb7-9053-d00dbe5c8d9c.fast5\n"
     ]
    },
    {
     "data": {
      "text/plain": [
       "('chr4', '-', 118511944, 't')"
      ]
     },
     "execution_count": 3,
     "metadata": {},
     "output_type": "execute_result"
    }
   ],
   "source": [
    "# Test fast5 class\n",
    "path = os.path.join(input_path, fast5_fn)\n",
    "print(path)\n",
    "fast5 = raw_fast5(path, corrected_group, basecall_group, basecall_subgroup, signal_group)\n",
    "# Extract signal\n",
    "readid, fast5_signal = fast5.fast5_signal() #get readid\n",
    "\n",
    "#Extract event information: #Raw signal --> Normalization\n",
    "event = fast5.fast5_event()\n",
    "raw_signal = fast5_rescale(path, fast5_signal)\n",
    "norm_signal = fast5_normalize_signal(raw_signal,  method='mad')\n",
    "\n",
    "basecalled_seq, raw_signal_list, norm_signal_list = \"\", [], []\n",
    "for e in event:\n",
    "#    print(e)\n",
    "    basecalled_seq += e[2]\n",
    "#    print(norm_signal[e[0]:(e[0] + e[1])])\n",
    "    norm_signal_list.append(norm_signal[e[0]:(e[0] + e[1])]) #event start position: end position(start+length)\n",
    "    raw_signal_list.append(raw_signal[e[0]:(e[0] + e[1])])\n",
    "    assert len(norm_signal_list) == len(raw_signal_list)\n",
    "    \n",
    "# Extract other information\n",
    "chrom, align_strand, start, read_strand = fast5.fast5_align()\n",
    "chrom, align_strand, start, read_strand"
   ]
  },
  {
   "cell_type": "markdown",
   "metadata": {},
   "source": [
    "# Test extract_helper \n",
    "Function: get_ref_length, get_mod_site_in_ref, extract_perbase_signal_feature, get_batch_feature"
   ]
  },
  {
   "cell_type": "code",
   "execution_count": 4,
   "metadata": {},
   "outputs": [],
   "source": [
    "# get_ref_length\n",
    "ref_path = '/pod/2/li-lab/Ziwei/Nanopore/data/reference/hg38.fa'\n",
    "ref_total_length = get_ref_length(ref_path)"
   ]
  },
  {
   "cell_type": "code",
   "execution_count": 5,
   "metadata": {},
   "outputs": [
    {
     "data": {
      "text/plain": [
       "11816"
      ]
     },
     "execution_count": 5,
     "metadata": {},
     "output_type": "execute_result"
    }
   ],
   "source": [
    "#get_mod_site_in_ref\n",
    "mod_site_loc = get_mod_site_in_ref(basecalled_seq, motif_seq ='CG', mod_loc = 0)\n",
    "len(mod_site_loc)"
   ]
  },
  {
   "cell_type": "markdown",
   "metadata": {},
   "source": [
    "### Extract_perbase_signal_feature\n",
    "Raw signal --> Normalization --> alignment --> methylated site --> features"
   ]
  },
  {
   "cell_type": "markdown",
   "metadata": {},
   "source": [
    "### put_file_in_queue"
   ]
  },
  {
   "cell_type": "code",
   "execution_count": 10,
   "metadata": {},
   "outputs": [],
   "source": [
    "fast5_path='/pod/2/li-lab/Ziwei/Nanopore/daily/test/test'\n",
    "fast5_q = multiprocessing.Queue()\n",
    "batch_size = 100\n",
    "\n",
    "fast5_files = get_fast5_file_list(fast5_path, recursive=True)\n",
    "put_file_in_queue(fast5_q, fast5_files, batch_size)"
   ]
  },
  {
   "cell_type": "code",
   "execution_count": 11,
   "metadata": {},
   "outputs": [
    {
     "data": {
      "text/plain": [
       "False"
      ]
     },
     "execution_count": 11,
     "metadata": {},
     "output_type": "execute_result"
    }
   ],
   "source": [
    "fast5_q.empty()"
   ]
  },
  {
   "cell_type": "markdown",
   "metadata": {},
   "source": [
    "## extract_preprocess"
   ]
  },
  {
   "cell_type": "code",
   "execution_count": 12,
   "metadata": {},
   "outputs": [
    {
     "name": "stdout",
     "output_type": "stream",
     "text": [
      "Find 3 fast5 files!\n",
      "Read genome reference..\n"
     ]
    }
   ],
   "source": [
    "ref_length, fast5_q, num_fast5 = extract_preprocess(fast5_path, ref_path, batch_size)"
   ]
  },
  {
   "cell_type": "code",
   "execution_count": 13,
   "metadata": {},
   "outputs": [
    {
     "data": {
      "text/plain": [
       "False"
      ]
     },
     "execution_count": 13,
     "metadata": {},
     "output_type": "execute_result"
    }
   ],
   "source": [
    "fast5_q.empty()"
   ]
  },
  {
   "cell_type": "markdown",
   "metadata": {},
   "source": [
    "### get_batch_feature"
   ]
  },
  {
   "cell_type": "code",
   "execution_count": 5,
   "metadata": {},
   "outputs": [
    {
     "name": "stdout",
     "output_type": "stream",
     "text": [
      "Find 3 fast5 files!\n",
      "Read genome reference..\n"
     ]
    }
   ],
   "source": [
    "#Get fast5_q\n",
    "fast5_path='/pod/2/li-lab/Ziwei/Nanopore/daily/test/test'\n",
    "ref_path = '/pod/2/li-lab/Ziwei/Nanopore/data/reference/hg38.fa'\n",
    "batch_size = 100\n",
    "ref_length, fast5_q, num_fast5 = extract_preprocess(fast5_path, ref_path, batch_size)"
   ]
  },
  {
   "cell_type": "code",
   "execution_count": 6,
   "metadata": {},
   "outputs": [
    {
     "data": {
      "text/plain": [
       "False"
      ]
     },
     "execution_count": 6,
     "metadata": {},
     "output_type": "execute_result"
    }
   ],
   "source": [
    "fast5_q.empty()"
   ]
  },
  {
   "cell_type": "markdown",
   "metadata": {},
   "source": [
    "### extract_perbase_signal_feature"
   ]
  },
  {
   "cell_type": "code",
   "execution_count": 60,
   "metadata": {},
   "outputs": [
    {
     "name": "stdout",
     "output_type": "stream",
     "text": [
      "Find 3 fast5 files!\n",
      "Read genome reference..\n"
     ]
    }
   ],
   "source": [
    "fast5_path='/pod/2/li-lab/Ziwei/Nanopore/daily/test/test'\n",
    "ref_path = '/pod/2/li-lab/Ziwei/Nanopore/data/reference/hg38.fa'\n",
    "output_file='/pod/2/li-lab/Ziwei/Nanopore/daily/2021-10-12/feature_test.csv'\n",
    "\n",
    "num_proc = 1\n",
    "\n",
    "corrected_group='RawGenomeCorrected_001' #tombo resquiggle save location\n",
    "basecall_group='Basecall_1D_001' #has to be save in the tombo requiggle step\n",
    "basecall_subgroup='BaseCalled_template' #Attention: the basecall_subgroup can be 'basecalled_compl\n",
    "signal_group='Raw/Reads'\n",
    "normalize_method = 'mad'\n",
    "motif_seq = 'CG'\n",
    "mod_loc = 0\n",
    "ref_total_length = get_ref_length(ref_path)\n",
    "kmer=17\n",
    "mod_label=1\n",
    "\n",
    "ref_length, fast5_q, num_fast5 = extract_preprocess(fast5_path, ref_path, batch_size)"
   ]
  },
  {
   "cell_type": "code",
   "execution_count": 61,
   "metadata": {},
   "outputs": [
    {
     "data": {
      "text/plain": [
       "False"
      ]
     },
     "execution_count": 61,
     "metadata": {},
     "output_type": "execute_result"
    }
   ],
   "source": [
    "fast5_q.empty()"
   ]
  },
  {
   "cell_type": "code",
   "execution_count": 62,
   "metadata": {},
   "outputs": [
    {
     "name": "stdout",
     "output_type": "stream",
     "text": [
      "['/pod/2/li-lab/Ziwei/Nanopore/daily/test/test/000006ea-dddb-429c-8277-a81ce50da6a0.fast5', '/pod/2/li-lab/Ziwei/Nanopore/daily/test/test/00047d2f-1825-4151-a702-f01d559f22ab.fast5', '/pod/2/li-lab/Ziwei/Nanopore/daily/test/test/00000156-e575-4fb7-9053-d00dbe5c8d9c.fast5'] <class 'list'>\n",
      "File 00047d2f-1825-4151-a702-f01d559f22ab.fast5 didn't have event info\n",
      "\n",
      "File 00047d2f-1825-4151-a702-f01d559f22ab.fast5 didn't have alignment info\n"
     ]
    }
   ],
   "source": [
    "fast5_num = 0\n",
    "\n",
    "    #Extract features around CG in each read\n",
    "while not fast5_q.empty():\n",
    "    #https://stackoverflow.com/a/63234109\n",
    "    try:\n",
    "        fast5_files = fast5_q.get()\n",
    "#        print(fast5_files, type(fast5_files))\n",
    "    except Exception:\n",
    "        break\n",
    "            \n",
    "    fast5_num += len(fast5)\n",
    "    feature_list, error_num = extract_perbase_signal_feature(fast5_files, \n",
    "                                                             corrected_group, basecall_group, basecall_subgroup, signal_group, normalize_method, \n",
    "                                                             motif_seq, mod_loc, ref_total_length, kmer, mod_label)"
   ]
  },
  {
   "cell_type": "code",
   "execution_count": 63,
   "metadata": {},
   "outputs": [
    {
     "data": {
      "text/plain": [
       "19969"
      ]
     },
     "execution_count": 63,
     "metadata": {},
     "output_type": "execute_result"
    }
   ],
   "source": [
    "len(feature_list)"
   ]
  },
  {
   "cell_type": "markdown",
   "metadata": {},
   "source": [
    "### Get batch feature"
   ]
  },
  {
   "cell_type": "code",
   "execution_count": 74,
   "metadata": {},
   "outputs": [],
   "source": [
    "fast5_path='/pod/2/li-lab/Ziwei/Nanopore/daily/test/test'\n",
    "ref_path = '/pod/2/li-lab/Ziwei/Nanopore/data/reference/hg38.fa'\n",
    "output_file='/pod/2/li-lab/Ziwei/Nanopore/daily/2021-10-12/feature_test.csv'\n",
    "\n",
    "num_proc = 1\n",
    "batch_size = 100\n",
    "\n",
    "corrected_group='RawGenomeCorrected_001' #tombo resquiggle save location\n",
    "basecall_group='Basecall_1D_001' #has to be save in the tombo requiggle step\n",
    "basecall_subgroup='BaseCalled_template' #Attention: the basecall_subgroup can be 'basecalled_compl\n",
    "signal_group='Raw/Reads'\n",
    "normalize_method = 'mad'\n",
    "motif_seq = 'CG'\n",
    "mod_loc = 0\n",
    "ref_total_length = get_ref_length(ref_path)\n",
    "kmer=17\n",
    "mod_label=1"
   ]
  },
  {
   "cell_type": "code",
   "execution_count": 75,
   "metadata": {},
   "outputs": [
    {
     "name": "stdout",
     "output_type": "stream",
     "text": [
      "Find 3 fast5 files!\n",
      "Read genome reference..\n"
     ]
    }
   ],
   "source": [
    "ref_length, fast5_q, num_fast5 = extract_preprocess(fast5_path, ref_path, batch_size)\n",
    "\n",
    "feature_q = multiprocessing.Queue()\n",
    "error_q = multiprocessing.Queue()"
   ]
  },
  {
   "cell_type": "code",
   "execution_count": 76,
   "metadata": {},
   "outputs": [
    {
     "data": {
      "text/plain": [
       "False"
      ]
     },
     "execution_count": 76,
     "metadata": {},
     "output_type": "execute_result"
    }
   ],
   "source": [
    "fast5_q.empty()"
   ]
  },
  {
   "cell_type": "code",
   "execution_count": 54,
   "metadata": {},
   "outputs": [
    {
     "name": "stdout",
     "output_type": "stream",
     "text": [
      "File 00047d2f-1825-4151-a702-f01d559f22ab.fast5 didn't have event info\n",
      "\n",
      "File 00047d2f-1825-4151-a702-f01d559f22ab.fast5 didn't have alignment info\n",
      "Batch feature extraction is done for 3 fast5s\n"
     ]
    }
   ],
   "source": [
    "get_batch_feature(fast5_q, feature_q, error_q,  \n",
    "                  corrected_group, basecall_group, basecall_subgroup, signal_group, \n",
    "                  normalize_method, motif_seq, mod_loc,ref_total_length, kmer, mod_label)"
   ]
  },
  {
   "cell_type": "code",
   "execution_count": 51,
   "metadata": {},
   "outputs": [
    {
     "data": {
      "text/plain": [
       "True"
      ]
     },
     "execution_count": 51,
     "metadata": {},
     "output_type": "execute_result"
    }
   ],
   "source": [
    "feature_q.empty()"
   ]
  },
  {
   "cell_type": "markdown",
   "metadata": {},
   "source": [
    "### save_feature_to_file"
   ]
  },
  {
   "cell_type": "code",
   "execution_count": 55,
   "metadata": {},
   "outputs": [],
   "source": [
    "output_file = '/pod/2/li-lab/Ziwei/Nanopore/daily/2021-10-12/test.tsv'"
   ]
  },
  {
   "cell_type": "code",
   "execution_count": 67,
   "metadata": {},
   "outputs": [],
   "source": [
    "import time\n",
    "time_wait = 20\n",
    "def save_feature_to_file(output_file, feature_q):\n",
    "    if os.path.exists(output_file) and os.path.isfile(output_file):\n",
    "        raise FileExistError(\"{} already exist. Please provide a new file name with path\".format(output_file))\n",
    "    else:\n",
    "        with open(output_file, 'w') as output_fp:\n",
    "            while True:\n",
    "                if feature_q.empty():\n",
    "                    time.sleep(time_wait)\n",
    "                    continue\n",
    "                feature_list = feature_q.get()\n",
    "                    \n",
    "                for feature in feature_list:\n",
    "                    output_fp.write(feature, \"\\n\")\n",
    "                output_fp.flush()"
   ]
  },
  {
   "cell_type": "code",
   "execution_count": 68,
   "metadata": {},
   "outputs": [
    {
     "ename": "KeyboardInterrupt",
     "evalue": "",
     "output_type": "error",
     "traceback": [
      "\u001b[0;31m---------------------------------------------------------------------------\u001b[0m",
      "\u001b[0;31mKeyboardInterrupt\u001b[0m                         Traceback (most recent call last)",
      "\u001b[0;32m<ipython-input-68-439ea120179e>\u001b[0m in \u001b[0;36m<module>\u001b[0;34m\u001b[0m\n\u001b[0;32m----> 1\u001b[0;31m \u001b[0msave_feature_to_file\u001b[0m\u001b[0;34m(\u001b[0m\u001b[0moutput_file\u001b[0m\u001b[0;34m,\u001b[0m \u001b[0mfeature_q\u001b[0m\u001b[0;34m)\u001b[0m\u001b[0;34m\u001b[0m\u001b[0;34m\u001b[0m\u001b[0m\n\u001b[0m",
      "\u001b[0;32m<ipython-input-67-19deb92bb1aa>\u001b[0m in \u001b[0;36msave_feature_to_file\u001b[0;34m(output_file, feature_q)\u001b[0m\n\u001b[1;32m      8\u001b[0m             \u001b[0;32mwhile\u001b[0m \u001b[0;32mTrue\u001b[0m\u001b[0;34m:\u001b[0m\u001b[0;34m\u001b[0m\u001b[0;34m\u001b[0m\u001b[0m\n\u001b[1;32m      9\u001b[0m                 \u001b[0;32mif\u001b[0m \u001b[0mfeature_q\u001b[0m\u001b[0;34m.\u001b[0m\u001b[0mempty\u001b[0m\u001b[0;34m(\u001b[0m\u001b[0;34m)\u001b[0m\u001b[0;34m:\u001b[0m\u001b[0;34m\u001b[0m\u001b[0;34m\u001b[0m\u001b[0m\n\u001b[0;32m---> 10\u001b[0;31m                     \u001b[0mtime\u001b[0m\u001b[0;34m.\u001b[0m\u001b[0msleep\u001b[0m\u001b[0;34m(\u001b[0m\u001b[0mtime_wait\u001b[0m\u001b[0;34m)\u001b[0m\u001b[0;34m\u001b[0m\u001b[0;34m\u001b[0m\u001b[0m\n\u001b[0m\u001b[1;32m     11\u001b[0m                     \u001b[0;32mcontinue\u001b[0m\u001b[0;34m\u001b[0m\u001b[0;34m\u001b[0m\u001b[0m\n\u001b[1;32m     12\u001b[0m                 \u001b[0mfeature_list\u001b[0m \u001b[0;34m=\u001b[0m \u001b[0mfeature_q\u001b[0m\u001b[0;34m.\u001b[0m\u001b[0mget\u001b[0m\u001b[0;34m(\u001b[0m\u001b[0;34m)\u001b[0m\u001b[0;34m\u001b[0m\u001b[0;34m\u001b[0m\u001b[0m\n",
      "\u001b[0;31mKeyboardInterrupt\u001b[0m: "
     ]
    }
   ],
   "source": [
    "save_feature_to_file(output_file, feature_q)"
   ]
  },
  {
   "cell_type": "markdown",
   "metadata": {},
   "source": [
    "# extract_fast5_feature"
   ]
  },
  {
   "cell_type": "code",
   "execution_count": 112,
   "metadata": {},
   "outputs": [],
   "source": [
    "fast5_path='/pod/2/li-lab/Ziwei/Nanopore/daily/test/test'\n",
    "ref_path = '/pod/2/li-lab/Ziwei/Nanopore/data/reference/hg38.fa'\n",
    "output_file='/pod/2/li-lab/Ziwei/Nanopore/daily/2021-10-12/feature_test.csv'\n",
    "\n",
    "num_proc = 1\n",
    "\n",
    "corrected_group='RawGenomeCorrected_001' #tombo resquiggle save location\n",
    "basecall_group='Basecall_1D_001' #has to be save in the tombo requiggle step\n",
    "basecall_subgroup='BaseCalled_template' #Attention: the basecall_subgroup can be 'basecalled_compl\n",
    "signal_group='Raw/Reads'\n",
    "normalize_method = 'mad'\n",
    "motif_seq = 'CG'\n",
    "mod_loc = 0\n",
    "ref_total_length = get_ref_length(ref_path)\n",
    "kmer=17\n",
    "mod_label=1"
   ]
  },
  {
   "cell_type": "code",
   "execution_count": 152,
   "metadata": {},
   "outputs": [
    {
     "name": "stdout",
     "output_type": "stream",
     "text": [
      "Find 3 fast5 files!\n",
      "Read genome reference..\n",
      "Extracting features from nanopore reads...\n",
      "Batch feature extraction is done for 0 fast5s\n",
      "Batch feature extraction is done for 0 fast5s\n",
      "File 00047d2f-1825-4151-a702-f01d559f22ab.fast5 didn't have event info\n",
      "\n",
      "File 00047d2f-1825-4151-a702-f01d559f22ab.fast5 didn't have alignment info\n"
     ]
    }
   ],
   "source": [
    "ref_total_length, fast5_q, num_fast5 = extract_preprocess(fast5_path, ref_path, batch_size)\n",
    "    \n",
    "feature_q = multiprocessing.Queue()\n",
    "error_q = multiprocessing.Queue()\n",
    "    \n",
    "print('Extracting features from nanopore reads...')\n",
    "    \n",
    "#Extract feature\n",
    "feature_procs = []\n",
    "    \n",
    "if num_proc > 1:\n",
    "    num_proc -= 1\n",
    "\n",
    "for _ in range(num_proc):\n",
    "    # get batch feature from single read\n",
    "    p = multiprocessing.Process(\n",
    "        target=get_batch_feature, \n",
    "        args=(fast5_q, feature_q, error_q,  \n",
    "              corrected_group, basecall_group, basecall_subgroup, signal_group, normalize_method,  \n",
    "              motif_seq, mod_loc, ref_total_length, kmer, mod_label)\n",
    "    )\n",
    "    p.aeomon = True\n",
    "    p.start()\n",
    "    feature_procs.append(p)"
   ]
  },
  {
   "cell_type": "code",
   "execution_count": 115,
   "metadata": {},
   "outputs": [
    {
     "data": {
      "text/plain": [
       "<multiprocessing.queues.Queue at 0x2aaae29a0ef0>"
      ]
     },
     "execution_count": 115,
     "metadata": {},
     "output_type": "execute_result"
    }
   ],
   "source": [
    "fast5_q"
   ]
  },
  {
   "cell_type": "code",
   "execution_count": 113,
   "metadata": {},
   "outputs": [],
   "source": [
    "fast5_list = [os.path.join(fast5_path, x) for x in os.listdir(fast5_path)]"
   ]
  }
 ],
 "metadata": {
  "kernelspec": {
   "display_name": "Python 3",
   "language": "python",
   "name": "python3"
  },
  "language_info": {
   "codemirror_mode": {
    "name": "ipython",
    "version": 3
   },
   "file_extension": ".py",
   "mimetype": "text/x-python",
   "name": "python",
   "nbconvert_exporter": "python",
   "pygments_lexer": "ipython3",
   "version": "3.6.13"
  }
 },
 "nbformat": 4,
 "nbformat_minor": 4
}
