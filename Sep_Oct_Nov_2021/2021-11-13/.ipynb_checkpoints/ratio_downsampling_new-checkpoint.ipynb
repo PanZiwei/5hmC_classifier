{
 "cells": [
  {
   "cell_type": "markdown",
   "id": "904b0d24-a978-4a55-855f-7a93ff9baa62",
   "metadata": {},
   "source": [
    "# 2021/11/12"
   ]
  },
  {
   "cell_type": "code",
   "execution_count": 1,
   "id": "f6822e4d-1e64-4e7f-85bb-d462b0e58079",
   "metadata": {},
   "outputs": [],
   "source": [
    "import pandas as pd\n",
    "import numpy as np\n",
    "import sys, os"
   ]
  },
  {
   "cell_type": "markdown",
   "id": "dfaab0fe-d219-4585-ad00-afb283484ffe",
   "metadata": {},
   "source": [
    "input_path='/pod/2/li-lab/Ziwei/Nanopore/daily/test/'\n",
    "#df=pd.read_csv(os.path.join(input_path, 'total.Megalodon.per_read.prob.bed.gz'),compression='gzip', sep='\\t')\n",
    "df=pd.read_csv(os.path.join(input_path, 'total.test.bed'), sep='\\t')\n",
    "print(\"Data is loading!\")\n",
    "\n",
    "df"
   ]
  },
  {
   "cell_type": "code",
   "execution_count": 3,
   "id": "d265014e-5e2a-4145-ad4f-20ccb6112c8c",
   "metadata": {},
   "outputs": [
    {
     "data": {
      "text/plain": [
       "1    999\n",
       "0    999\n",
       "2    499\n",
       "Name: label, dtype: int64"
      ]
     },
     "execution_count": 3,
     "metadata": {},
     "output_type": "execute_result"
    }
   ],
   "source": [
    "df['label'].value_counts()"
   ]
  },
  {
   "cell_type": "code",
   "execution_count": 19,
   "id": "78c01b1c-17c2-4c6a-8014-9bbbc50508e8",
   "metadata": {},
   "outputs": [],
   "source": [
    "#Splitting the data into independent and dependent variables\n",
    "df_feature = df.loc[:,['5hmC_prob','5mC_prob','5C_prob']]\n",
    "df_class = df.loc[:,['label']]\n",
    "#df_class = df.loc[:,['label']].values\n",
    "#df_class = np.squeeze(df_class) #Convert the label into 1d-array"
   ]
  },
  {
   "cell_type": "markdown",
   "id": "7902823b-a04c-472a-8aac-bda9311df6a2",
   "metadata": {},
   "source": [
    "# Train and split"
   ]
  },
  {
   "cell_type": "code",
   "execution_count": 16,
   "id": "26e270e7-9e30-4a31-bc4a-0c62976dd15a",
   "metadata": {},
   "outputs": [],
   "source": [
    "from sklearn.model_selection import train_test_split, RandomizedSearchCV, StratifiedKFold, GridSearchCV, RepeatedStratifiedKFold\n",
    "from imblearn.over_sampling import SMOTE\n",
    "from imblearn.under_sampling import EditedNearestNeighbours, RandomUnderSampler\n",
    "from imblearn.pipeline import Pipeline as imbpipeline\n",
    "from imblearn.pipeline import make_pipeline\n",
    "from sklearn.ensemble import RandomForestClassifier\n",
    "from sklearn.metrics import confusion_matrix, classification_report, f1_score\n",
    "\n",
    "from collections import Counter"
   ]
  },
  {
   "cell_type": "code",
   "execution_count": 23,
   "id": "58278d2d-8a27-44f7-b981-324c57d1269c",
   "metadata": {},
   "outputs": [
    {
     "data": {
      "text/html": [
       "<div>\n",
       "<style scoped>\n",
       "    .dataframe tbody tr th:only-of-type {\n",
       "        vertical-align: middle;\n",
       "    }\n",
       "\n",
       "    .dataframe tbody tr th {\n",
       "        vertical-align: top;\n",
       "    }\n",
       "\n",
       "    .dataframe thead th {\n",
       "        text-align: right;\n",
       "    }\n",
       "</style>\n",
       "<table border=\"1\" class=\"dataframe\">\n",
       "  <thead>\n",
       "    <tr style=\"text-align: right;\">\n",
       "      <th></th>\n",
       "      <th>5hmC_prob</th>\n",
       "      <th>5mC_prob</th>\n",
       "      <th>5C_prob</th>\n",
       "    </tr>\n",
       "  </thead>\n",
       "  <tbody>\n",
       "    <tr>\n",
       "      <th>0</th>\n",
       "      <td>0.435397</td>\n",
       "      <td>0.085058</td>\n",
       "      <td>0.479545</td>\n",
       "    </tr>\n",
       "    <tr>\n",
       "      <th>1</th>\n",
       "      <td>0.342189</td>\n",
       "      <td>0.500821</td>\n",
       "      <td>0.156990</td>\n",
       "    </tr>\n",
       "    <tr>\n",
       "      <th>2</th>\n",
       "      <td>0.577034</td>\n",
       "      <td>0.057676</td>\n",
       "      <td>0.365290</td>\n",
       "    </tr>\n",
       "  </tbody>\n",
       "</table>\n",
       "</div>"
      ],
      "text/plain": [
       "   5hmC_prob  5mC_prob   5C_prob\n",
       "0   0.435397  0.085058  0.479545\n",
       "1   0.342189  0.500821  0.156990\n",
       "2   0.577034  0.057676  0.365290"
      ]
     },
     "execution_count": 23,
     "metadata": {},
     "output_type": "execute_result"
    }
   ],
   "source": [
    "X = df_feature\n",
    "y = df_class\n",
    "X.head(3)"
   ]
  },
  {
   "cell_type": "code",
   "execution_count": 24,
   "id": "ecdcd4bc-cd34-46f1-b6a5-ab6e0814bcc1",
   "metadata": {},
   "outputs": [
    {
     "data": {
      "text/html": [
       "<div>\n",
       "<style scoped>\n",
       "    .dataframe tbody tr th:only-of-type {\n",
       "        vertical-align: middle;\n",
       "    }\n",
       "\n",
       "    .dataframe tbody tr th {\n",
       "        vertical-align: top;\n",
       "    }\n",
       "\n",
       "    .dataframe thead th {\n",
       "        text-align: right;\n",
       "    }\n",
       "</style>\n",
       "<table border=\"1\" class=\"dataframe\">\n",
       "  <thead>\n",
       "    <tr style=\"text-align: right;\">\n",
       "      <th></th>\n",
       "      <th>label</th>\n",
       "    </tr>\n",
       "  </thead>\n",
       "  <tbody>\n",
       "    <tr>\n",
       "      <th>0</th>\n",
       "      <td>2</td>\n",
       "    </tr>\n",
       "    <tr>\n",
       "      <th>1</th>\n",
       "      <td>2</td>\n",
       "    </tr>\n",
       "    <tr>\n",
       "      <th>2</th>\n",
       "      <td>2</td>\n",
       "    </tr>\n",
       "  </tbody>\n",
       "</table>\n",
       "</div>"
      ],
      "text/plain": [
       "   label\n",
       "0      2\n",
       "1      2\n",
       "2      2"
      ]
     },
     "execution_count": 24,
     "metadata": {},
     "output_type": "execute_result"
    }
   ],
   "source": [
    "y.head(3)"
   ]
  },
  {
   "cell_type": "markdown",
   "id": "2a502b01-448b-4f93-8c16-acbfc53e48eb",
   "metadata": {},
   "source": [
    "### Select specific rows with ratio"
   ]
  },
  {
   "cell_type": "code",
   "execution_count": 45,
   "id": "76aa445a-803d-4700-adb0-ac2df41f3836",
   "metadata": {},
   "outputs": [
    {
     "data": {
      "text/plain": [
       "99"
      ]
     },
     "execution_count": 45,
     "metadata": {},
     "output_type": "execute_result"
    }
   ],
   "source": [
    "#Get the total number of 5hmC\n",
    "num_sample2 = len(df[df[\"label\"]==2].values)\n",
    "\n",
    "#Get the test number of 5hmC \n",
    "### Question: It should be rounded up? Or integrate?\n",
    "num_sample2_sub = int(num_sample2 * 0.2)\n",
    "num_sample2_sub"
   ]
  },
  {
   "cell_type": "code",
   "execution_count": 83,
   "id": "29b86a96-cba0-49f7-a73f-b306216d5001",
   "metadata": {},
   "outputs": [],
   "source": [
    "#https://stackoverflow.com/a/57405160\n",
    "ratio = 2\n",
    "##Create index for testing dataset\n",
    "s0 = df.label[df.label.eq(0)].sample(ratio*num_sample2_sub).index\n",
    "s1 = df.label[df.label.eq(1)].sample(ratio*num_sample2_sub).index \n",
    "s2 = df.label[df.label.eq(2)].sample(num_sample2_sub).index\n",
    "\n",
    "## Extract testing dataset with specific rows\n",
    "df_test = df.loc[s0.union(s1).union(s2)]\n",
    "## Drop testing datast\n",
    "df_remaining = df.drop(index)"
   ]
  },
  {
   "cell_type": "code",
   "execution_count": 84,
   "id": "4b4ed312-6d07-44e4-929b-e21845fca7b7",
   "metadata": {},
   "outputs": [
    {
     "data": {
      "text/plain": [
       "True"
      ]
     },
     "execution_count": 84,
     "metadata": {},
     "output_type": "execute_result"
    }
   ],
   "source": [
    "df_remaining.shape[0] + df_test1.shape[0] == df.shape[0]"
   ]
  },
  {
   "cell_type": "code",
   "execution_count": 66,
   "id": "b107816d-9e5d-47cd-b089-81f278b8af43",
   "metadata": {},
   "outputs": [
    {
     "ename": "ValueError",
     "evalue": "Index data must be 1-dimensional",
     "output_type": "error",
     "traceback": [
      "\u001b[0;31m---------------------------------------------------------------------------\u001b[0m",
      "\u001b[0;31mValueError\u001b[0m                                Traceback (most recent call last)",
      "\u001b[0;32m/tmp/ipykernel_259776/3926908409.py\u001b[0m in \u001b[0;36m<module>\u001b[0;34m\u001b[0m\n\u001b[0;32m----> 1\u001b[0;31m \u001b[0mtest\u001b[0m \u001b[0;34m=\u001b[0m \u001b[0mpd\u001b[0m\u001b[0;34m.\u001b[0m\u001b[0mInt64Index\u001b[0m\u001b[0;34m(\u001b[0m\u001b[0;34m[\u001b[0m\u001b[0mindex\u001b[0m\u001b[0;34m]\u001b[0m\u001b[0;34m)\u001b[0m\u001b[0;34m\u001b[0m\u001b[0;34m\u001b[0m\u001b[0m\n\u001b[0m",
      "\u001b[0;32m/pod/2/li-lab/Ziwei/Anaconda3/envs/nanomodel_python3.8/lib/python3.8/site-packages/pandas/core/indexes/numeric.py\u001b[0m in \u001b[0;36m__new__\u001b[0;34m(cls, data, dtype, copy, name)\u001b[0m\n\u001b[1;32m    135\u001b[0m         \u001b[0mname\u001b[0m \u001b[0;34m=\u001b[0m \u001b[0mmaybe_extract_name\u001b[0m\u001b[0;34m(\u001b[0m\u001b[0mname\u001b[0m\u001b[0;34m,\u001b[0m \u001b[0mdata\u001b[0m\u001b[0;34m,\u001b[0m \u001b[0mcls\u001b[0m\u001b[0;34m)\u001b[0m\u001b[0;34m\u001b[0m\u001b[0;34m\u001b[0m\u001b[0m\n\u001b[1;32m    136\u001b[0m \u001b[0;34m\u001b[0m\u001b[0m\n\u001b[0;32m--> 137\u001b[0;31m         \u001b[0msubarr\u001b[0m \u001b[0;34m=\u001b[0m \u001b[0mcls\u001b[0m\u001b[0;34m.\u001b[0m\u001b[0m_ensure_array\u001b[0m\u001b[0;34m(\u001b[0m\u001b[0mdata\u001b[0m\u001b[0;34m,\u001b[0m \u001b[0mdtype\u001b[0m\u001b[0;34m,\u001b[0m \u001b[0mcopy\u001b[0m\u001b[0;34m)\u001b[0m\u001b[0;34m\u001b[0m\u001b[0;34m\u001b[0m\u001b[0m\n\u001b[0m\u001b[1;32m    138\u001b[0m         \u001b[0;32mreturn\u001b[0m \u001b[0mcls\u001b[0m\u001b[0;34m.\u001b[0m\u001b[0m_simple_new\u001b[0m\u001b[0;34m(\u001b[0m\u001b[0msubarr\u001b[0m\u001b[0;34m,\u001b[0m \u001b[0mname\u001b[0m\u001b[0;34m=\u001b[0m\u001b[0mname\u001b[0m\u001b[0;34m)\u001b[0m\u001b[0;34m\u001b[0m\u001b[0;34m\u001b[0m\u001b[0m\n\u001b[1;32m    139\u001b[0m \u001b[0;34m\u001b[0m\u001b[0m\n",
      "\u001b[0;32m/pod/2/li-lab/Ziwei/Anaconda3/envs/nanomodel_python3.8/lib/python3.8/site-packages/pandas/core/indexes/numeric.py\u001b[0m in \u001b[0;36m_ensure_array\u001b[0;34m(cls, data, dtype, copy)\u001b[0m\n\u001b[1;32m    169\u001b[0m         \u001b[0;32mif\u001b[0m \u001b[0msubarr\u001b[0m\u001b[0;34m.\u001b[0m\u001b[0mndim\u001b[0m \u001b[0;34m>\u001b[0m \u001b[0;36m1\u001b[0m\u001b[0;34m:\u001b[0m\u001b[0;34m\u001b[0m\u001b[0;34m\u001b[0m\u001b[0m\n\u001b[1;32m    170\u001b[0m             \u001b[0;31m# GH#13601, GH#20285, GH#27125\u001b[0m\u001b[0;34m\u001b[0m\u001b[0;34m\u001b[0m\u001b[0;34m\u001b[0m\u001b[0m\n\u001b[0;32m--> 171\u001b[0;31m             \u001b[0;32mraise\u001b[0m \u001b[0mValueError\u001b[0m\u001b[0;34m(\u001b[0m\u001b[0;34m\"Index data must be 1-dimensional\"\u001b[0m\u001b[0;34m)\u001b[0m\u001b[0;34m\u001b[0m\u001b[0;34m\u001b[0m\u001b[0m\n\u001b[0m\u001b[1;32m    172\u001b[0m \u001b[0;34m\u001b[0m\u001b[0m\n\u001b[1;32m    173\u001b[0m         \u001b[0msubarr\u001b[0m \u001b[0;34m=\u001b[0m \u001b[0mnp\u001b[0m\u001b[0;34m.\u001b[0m\u001b[0masarray\u001b[0m\u001b[0;34m(\u001b[0m\u001b[0msubarr\u001b[0m\u001b[0;34m)\u001b[0m\u001b[0;34m\u001b[0m\u001b[0;34m\u001b[0m\u001b[0m\n",
      "\u001b[0;31mValueError\u001b[0m: Index data must be 1-dimensional"
     ]
    }
   ],
   "source": [
    "##Create index for validation dataset\n",
    "s0 = df.label[df.label.eq(0)].sample(ratio*num_sample2_sub).index\n",
    "s1 = df.label[df.label.eq(1)].sample(ratio*num_sample2_sub).index \n",
    "s2 = df.label[df.label.eq(2)].sample(num_sample2_sub).index\n",
    "\n",
    "## Extract testing dataset with specific rows\n",
    "df_test = df.loc[s0.union(s1).union(s2)]\n",
    "## Drop testing datast\n",
    "df_remaining = df.drop(index)"
   ]
  },
  {
   "cell_type": "code",
   "execution_count": null,
   "id": "692e827e-2b9e-459b-b66e-bb8c53211480",
   "metadata": {},
   "outputs": [],
   "source": [
    "\n",
    "\n",
    "df_remaining"
   ]
  },
  {
   "cell_type": "code",
   "execution_count": 51,
   "id": "e3ba64e9-2577-4a34-a928-1132289049c3",
   "metadata": {},
   "outputs": [
    {
     "data": {
      "text/plain": [
       "35"
      ]
     },
     "execution_count": 51,
     "metadata": {},
     "output_type": "execute_result"
    }
   ],
   "source": [
    "s0 = df.label[df.label.eq(0)].sample(10).index\n",
    "s1 = df.label[df.label.eq(1)].sample(5).index \n",
    "s2 = df.label[df.label.eq(1)].sample(20).index \n",
    "\n",
    "index = s0.union(s1).union(s2)\n",
    "len(index)"
   ]
  },
  {
   "cell_type": "markdown",
   "id": "2407b21c-0f8b-42fb-aa1a-3d54aadb9305",
   "metadata": {},
   "source": [
    "## Downsampling with RandomUnderSampler"
   ]
  },
  {
   "cell_type": "markdown",
   "id": "43d1a42d-2d4f-407c-910a-0c3927e89d85",
   "metadata": {},
   "source": [
    "### testing dataset"
   ]
  },
  {
   "cell_type": "code",
   "execution_count": 77,
   "id": "45141833-f53e-4499-bf1f-28ffa8f419bc",
   "metadata": {},
   "outputs": [
    {
     "name": "stdout",
     "output_type": "stream",
     "text": [
      "Before downsampling: y_test: Counter({0: 200, 1: 200, 2: 100}),\n",
      "After downsampling:y_test_res: Counter({0: 100, 1: 100, 2: 100})\n"
     ]
    }
   ],
   "source": [
    "n = np.bincount(y_test)[-1]\n",
    "key=[0,1,2]\n",
    "value = [(1*n, 1*n, n)] ###Set up the ratio\n",
    "for i in value:\n",
    "    sampling_strategy = dict(zip(key, i)).copy()\n",
    "\n",
    "sampler = RandomUnderSampler(random_state = 42, sampling_strategy=sampling_strategy)\n",
    "\n",
    "X_test_res, y_test_res = sampler.fit_resample(X_test, y_test)\n",
    "\n",
    "print(\"Before downsampling: y_test: {},\\nAfter downsampling:y_test_res: {}\".format(Counter(y_test), Counter(y_test_res)))"
   ]
  },
  {
   "cell_type": "markdown",
   "id": "0950972b-61a1-41ff-898b-28c3b021a64f",
   "metadata": {},
   "source": [
    "## Use the list to create PredefinedSplit"
   ]
  },
  {
   "cell_type": "code",
   "execution_count": 25,
   "id": "cbba4d29-587d-4ba2-b6ef-034bd4126309",
   "metadata": {},
   "outputs": [
    {
     "data": {
      "text/plain": [
       "((1597, 3), (1597,), (400, 3), (400,))"
      ]
     },
     "execution_count": 25,
     "metadata": {},
     "output_type": "execute_result"
    }
   ],
   "source": [
    "X_train.shape, y_train.shape, X_val.shape, y_val.shape"
   ]
  },
  {
   "cell_type": "markdown",
   "id": "7e82a56b-89b9-4d78-a806-2777c0502ef5",
   "metadata": {},
   "source": [
    "### Downsampling Validation dataset"
   ]
  },
  {
   "cell_type": "code",
   "execution_count": 98,
   "id": "3009aa6e-219a-45b9-85f5-ae3e9e8dc4db",
   "metadata": {},
   "outputs": [
    {
     "name": "stdout",
     "output_type": "stream",
     "text": [
      "Before downsampling: y_val: Counter({0: 160, 1: 160, 2: 80}),\n",
      "After downsampling:y_val_res: Counter({0: 80, 1: 80, 2: 80})\n"
     ]
    }
   ],
   "source": [
    "n = np.bincount(y_val)[-1]\n",
    "key=[0,1,2]\n",
    "value = [(1*n, 1*n, n)] ###Set up the ratio\n",
    "for i in value:\n",
    "    sampling_strategy = dict(zip(key, i)).copy()\n",
    "\n",
    "sampler = RandomUnderSampler(random_state = 42, sampling_strategy=sampling_strategy)\n",
    "\n",
    "X_val_res, y_val_res = sampler.fit_resample(X_val, y_val)\n",
    "\n",
    "print(\"Before downsampling: y_val: {},\\nAfter downsampling:y_val_res: {}\".format(Counter(y_val), Counter(y_val_res)))"
   ]
  },
  {
   "cell_type": "markdown",
   "id": "998b4f7c-7845-4c15-bb71-fa5c26fc22be",
   "metadata": {},
   "source": [
    "### Exploration"
   ]
  },
  {
   "cell_type": "code",
   "execution_count": 99,
   "id": "2631d30b-80ea-447b-b6f9-6f8f4ec3d31e",
   "metadata": {},
   "outputs": [
    {
     "data": {
      "text/plain": [
       "(RangeIndex(start=0, stop=240, step=1),\n",
       " Int64Index([1624, 1127, 2141, 1755, 1492, 2254,  546,  398, 1257, 1733,\n",
       "             ...\n",
       "              423, 1920, 1851,  236, 1880, 1857,  483,  970,  561, 2107],\n",
       "            dtype='int64', length=400),\n",
       " Int64Index([2351,  712,  910, 1209, 1387,  319, 1625, 2118,   47,  974,\n",
       "             ...\n",
       "             2028, 1441,   81,  342,  325,  526,  287, 1084, 2190,  219],\n",
       "            dtype='int64', length=1597))"
      ]
     },
     "execution_count": 99,
     "metadata": {},
     "output_type": "execute_result"
    }
   ],
   "source": [
    "X_val_res.index, X_val.index, X_train.index"
   ]
  },
  {
   "cell_type": "code",
   "execution_count": 100,
   "id": "f2746df5-9bf1-49aa-9b5e-c80524c2dee1",
   "metadata": {},
   "outputs": [
    {
     "data": {
      "text/plain": [
       "5hmC_prob    0.042216\n",
       "5mC_prob     0.004372\n",
       "5C_prob      0.953412\n",
       "Name: 2351, dtype: float64"
      ]
     },
     "execution_count": 100,
     "metadata": {},
     "output_type": "execute_result"
    }
   ],
   "source": [
    "X_train.iloc[0, :]"
   ]
  },
  {
   "cell_type": "code",
   "execution_count": 101,
   "id": "8e296a75-3a5f-471d-82f7-1f831264c192",
   "metadata": {},
   "outputs": [
    {
     "data": {
      "text/html": [
       "<div>\n",
       "<style scoped>\n",
       "    .dataframe tbody tr th:only-of-type {\n",
       "        vertical-align: middle;\n",
       "    }\n",
       "\n",
       "    .dataframe tbody tr th {\n",
       "        vertical-align: top;\n",
       "    }\n",
       "\n",
       "    .dataframe thead th {\n",
       "        text-align: right;\n",
       "    }\n",
       "</style>\n",
       "<table border=\"1\" class=\"dataframe\">\n",
       "  <thead>\n",
       "    <tr style=\"text-align: right;\">\n",
       "      <th></th>\n",
       "      <th>5hmC_prob</th>\n",
       "      <th>5mC_prob</th>\n",
       "      <th>5C_prob</th>\n",
       "    </tr>\n",
       "  </thead>\n",
       "  <tbody>\n",
       "    <tr>\n",
       "      <th>2351</th>\n",
       "      <td>0.042216</td>\n",
       "      <td>0.004372</td>\n",
       "      <td>0.953412</td>\n",
       "    </tr>\n",
       "    <tr>\n",
       "      <th>712</th>\n",
       "      <td>0.000680</td>\n",
       "      <td>0.996772</td>\n",
       "      <td>0.002548</td>\n",
       "    </tr>\n",
       "    <tr>\n",
       "      <th>910</th>\n",
       "      <td>0.000633</td>\n",
       "      <td>0.996441</td>\n",
       "      <td>0.002926</td>\n",
       "    </tr>\n",
       "    <tr>\n",
       "      <th>1209</th>\n",
       "      <td>0.000476</td>\n",
       "      <td>0.998279</td>\n",
       "      <td>0.001246</td>\n",
       "    </tr>\n",
       "    <tr>\n",
       "      <th>1387</th>\n",
       "      <td>0.001512</td>\n",
       "      <td>0.992194</td>\n",
       "      <td>0.006294</td>\n",
       "    </tr>\n",
       "    <tr>\n",
       "      <th>...</th>\n",
       "      <td>...</td>\n",
       "      <td>...</td>\n",
       "      <td>...</td>\n",
       "    </tr>\n",
       "    <tr>\n",
       "      <th>526</th>\n",
       "      <td>0.000332</td>\n",
       "      <td>0.998129</td>\n",
       "      <td>0.001540</td>\n",
       "    </tr>\n",
       "    <tr>\n",
       "      <th>287</th>\n",
       "      <td>0.003440</td>\n",
       "      <td>0.991833</td>\n",
       "      <td>0.004728</td>\n",
       "    </tr>\n",
       "    <tr>\n",
       "      <th>1084</th>\n",
       "      <td>0.000225</td>\n",
       "      <td>0.999147</td>\n",
       "      <td>0.000628</td>\n",
       "    </tr>\n",
       "    <tr>\n",
       "      <th>2190</th>\n",
       "      <td>0.050572</td>\n",
       "      <td>0.008937</td>\n",
       "      <td>0.940492</td>\n",
       "    </tr>\n",
       "    <tr>\n",
       "      <th>219</th>\n",
       "      <td>0.972785</td>\n",
       "      <td>0.015496</td>\n",
       "      <td>0.011719</td>\n",
       "    </tr>\n",
       "  </tbody>\n",
       "</table>\n",
       "<p>1597 rows × 3 columns</p>\n",
       "</div>"
      ],
      "text/plain": [
       "      5hmC_prob  5mC_prob   5C_prob\n",
       "2351   0.042216  0.004372  0.953412\n",
       "712    0.000680  0.996772  0.002548\n",
       "910    0.000633  0.996441  0.002926\n",
       "1209   0.000476  0.998279  0.001246\n",
       "1387   0.001512  0.992194  0.006294\n",
       "...         ...       ...       ...\n",
       "526    0.000332  0.998129  0.001540\n",
       "287    0.003440  0.991833  0.004728\n",
       "1084   0.000225  0.999147  0.000628\n",
       "2190   0.050572  0.008937  0.940492\n",
       "219    0.972785  0.015496  0.011719\n",
       "\n",
       "[1597 rows x 3 columns]"
      ]
     },
     "execution_count": 101,
     "metadata": {},
     "output_type": "execute_result"
    }
   ],
   "source": [
    "X_train"
   ]
  },
  {
   "cell_type": "code",
   "execution_count": 102,
   "id": "ba28f46c-f8ef-448e-9fa5-458f350eb8ed",
   "metadata": {},
   "outputs": [
    {
     "data": {
      "text/plain": [
       "5hmC_prob    0.029553\n",
       "5mC_prob     0.002052\n",
       "5C_prob      0.968395\n",
       "Name: 0, dtype: float64"
      ]
     },
     "execution_count": 102,
     "metadata": {},
     "output_type": "execute_result"
    }
   ],
   "source": [
    "X_val_res.iloc[0, :]"
   ]
  },
  {
   "cell_type": "code",
   "execution_count": 103,
   "id": "c66f61a5-046e-4d2f-9498-2655beb4309b",
   "metadata": {},
   "outputs": [
    {
     "data": {
      "text/plain": [
       "-1    1597\n",
       " 0     240\n",
       "dtype: int64"
      ]
     },
     "execution_count": 103,
     "metadata": {},
     "output_type": "execute_result"
    }
   ],
   "source": [
    "#https://stackoverflow.com/a/43766334\n",
    "### Use PredefinedSplit\n",
    "my_test_fold = []\n",
    "\n",
    "# put -1 so they will be in training set\n",
    "for i in range(len(X_train)):\n",
    "    my_test_fold.append(-1)\n",
    "\n",
    "# for all greater indices, assign 0, so they will be put in test set\n",
    "for i in range(len(X_val_res)):\n",
    "    my_test_fold.append(0)\n",
    "\n",
    "pd.DataFrame(my_test_fold).value_counts()"
   ]
  },
  {
   "cell_type": "markdown",
   "id": "fe47fee3-135b-4861-8be9-d3020e8a4581",
   "metadata": {},
   "source": [
    "## Define pipeline"
   ]
  },
  {
   "cell_type": "code",
   "execution_count": 82,
   "id": "1f61a265-2d2b-44d8-a3d0-708eea5a2c17",
   "metadata": {},
   "outputs": [],
   "source": [
    "# Pipeline strategy: SMOTE -> rf\n",
    "###Build the pipeline\n",
    "rf_model = RandomForestClassifier(random_state=42, n_jobs=-1)\n",
    "over = SMOTE(sampling_strategy='not majority', random_state = 42, n_jobs = -1)\n",
    "steps = [('o', over), ('m', rf_model)]\n",
    "pipeline = imbpipeline(steps=steps)\n",
    "\n",
    "params = {\n",
    "    'o__k_neighbors':[5, 10, 20],      \n",
    "    'm__n_estimators': [i for i in range(50, 110, 10)], # number of trees in the random forest\n",
    "    'm__max_features': ['auto'], # number of features in consideration at every split\n",
    "    'm__max_depth': [i for i in range(5,30,5)], # maximum number of levels allowed in each decision tree\n",
    "    'm__min_samples_split': [2,5,10], # minimum sample number to split a node\n",
    "    'm__min_samples_leaf': [1,2], # minimum sample number that can be stored in a leaf node\n",
    "    'm__bootstrap': [True, False]} # method used to sample data points\""
   ]
  },
  {
   "cell_type": "code",
   "execution_count": 109,
   "id": "b4662b47-bb7f-454a-a9be-4f27903101ac",
   "metadata": {},
   "outputs": [
    {
     "name": "stderr",
     "output_type": "stream",
     "text": [
      "/pod/2/li-lab/Ziwei/Anaconda3/envs/nanomodel_python3.8/lib/python3.8/site-packages/sklearn/base.py:438: UserWarning: X has feature names, but RandomForestClassifier was fitted without feature names\n",
      "  warnings.warn(\n"
     ]
    }
   ],
   "source": [
    "# Use PredefinedSplit in GridSearchCV\n",
    "from sklearn.model_selection import PredefinedSplit\n",
    "\n",
    "#pipe_search = GridSearchCV(estimator = pipeline, \n",
    "#                           param_grid = params, \n",
    "#                           scoring='f1_macro', \n",
    "#                           cv=PredefinedSplit(test_fold = my_test_fold),\n",
    "#                           verbose=3, \n",
    "#                           return_train_score=True, \n",
    "#                           n_jobs=-1)\n",
    "\n",
    "pipe_search = RandomizedSearchCV(estimator = pipeline, \n",
    "                                 param_distributions = params, \n",
    "                                 scoring='f1_macro', \n",
    "                                 cv=PredefinedSplit(test_fold = my_test_fold),\n",
    "#                                 verbose=3, \n",
    "                                 n_iter=20,\n",
    "                                 return_train_score=True, \n",
    "                                 n_jobs=-1)\n",
    "\n",
    "X_merge, y_merge = np.concatenate((X_train, X_val_res), axis=0), np.concatenate((y_train, y_val_res), axis=0)\n",
    "pipe_result = pipe_search.fit(X_merge, y_merge)\n",
    "y_true, y_pred = y_test_res, pipe_search.predict(X_test_res)"
   ]
  },
  {
   "cell_type": "code",
   "execution_count": 110,
   "id": "2bca967c-e3b2-4499-819a-56bbb4f7dfa0",
   "metadata": {},
   "outputs": [
    {
     "name": "stdout",
     "output_type": "stream",
     "text": [
      "Best Parameters:  {'o__k_neighbors': 20, 'm__n_estimators': 60, 'm__min_samples_split': 5, 'm__min_samples_leaf': 1, 'm__max_features': 'auto', 'm__max_depth': 5, 'm__bootstrap': True}  \n",
      "\n",
      "Best f1_score in cv: 0.9336917562724015 \n",
      "\n",
      "Test score: 0.8673565039833178\n"
     ]
    },
    {
     "name": "stderr",
     "output_type": "stream",
     "text": [
      "/pod/2/li-lab/Ziwei/Anaconda3/envs/nanomodel_python3.8/lib/python3.8/site-packages/sklearn/base.py:438: UserWarning: X has feature names, but RandomForestClassifier was fitted without feature names\n",
      "  warnings.warn(\n"
     ]
    }
   ],
   "source": [
    "cv_score = pipe_result.best_score_\n",
    "test_score = pipe_result.score(X_test, y_test)\n",
    "\n",
    "print ('Best Parameters: ', pipe_result.best_params_, ' \\n')\n",
    "print('Best f1_score in cv:', cv_score, '\\n')\n",
    "print('Test score:', test_score)"
   ]
  },
  {
   "cell_type": "code",
   "execution_count": null,
   "id": "b1696023-ecff-4766-8cd6-d740bd877102",
   "metadata": {},
   "outputs": [],
   "source": []
  }
 ],
 "metadata": {
  "kernelspec": {
   "display_name": "Python 3 (ipykernel)",
   "language": "python",
   "name": "python3"
  },
  "language_info": {
   "codemirror_mode": {
    "name": "ipython",
    "version": 3
   },
   "file_extension": ".py",
   "mimetype": "text/x-python",
   "name": "python",
   "nbconvert_exporter": "python",
   "pygments_lexer": "ipython3",
   "version": "3.8.12"
  }
 },
 "nbformat": 4,
 "nbformat_minor": 5
}
