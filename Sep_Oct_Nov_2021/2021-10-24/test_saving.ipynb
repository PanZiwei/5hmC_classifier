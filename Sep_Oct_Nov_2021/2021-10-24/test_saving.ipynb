{
 "cells": [
  {
   "cell_type": "code",
   "execution_count": 64,
   "id": "3a7d28ff-b2c6-4c86-b64c-dc24f1e58d9a",
   "metadata": {},
   "outputs": [
    {
     "name": "stdin",
     "output_type": "stream",
     "text": [
      "Once deleted, variables cannot be recovered. Proceed (y/[n])?  y\n"
     ]
    }
   ],
   "source": [
    "%reset"
   ]
  },
  {
   "cell_type": "code",
   "execution_count": 65,
   "id": "5de5b837-77ac-4848-992e-f9e9b045a91f",
   "metadata": {},
   "outputs": [],
   "source": [
    "import pandas as pd\n",
    "import numpy as np\n",
    "import os, sys\n",
    "import argparse\n",
    "from datetime import datetime\n",
    "from collections import Counter\n",
    "\n",
    "import matplotlib\n",
    "import matplotlib.pyplot as plt\n",
    "import seaborn as sns\n",
    "\n",
    "from sklearn.model_selection import train_test_split, StratifiedKFold\n",
    "from imblearn.over_sampling import SMOTE\n",
    "from imblearn.pipeline import Pipeline as imbpipeline\n",
    "from sklearn.ensemble import RandomForestClassifier\n",
    "from sklearn.metrics import confusion_matrix, classification_report\n",
    "from sklearn.model_selection import cross_val_score, cross_validate\n",
    "\n",
    "##Import confusion_matrix.py module\n",
    "from src.plot_confusion_matrix import plot_cm"
   ]
  },
  {
   "cell_type": "code",
   "execution_count": 66,
   "id": "b4f21b3f-d549-4aaa-a0a6-e6798595dad6",
   "metadata": {},
   "outputs": [],
   "source": [
    "#https://stackoverflow.com/questions/50204556/tkinter-tclerror-couldnt-connect-to-display-localhost10-0-when-using-wordc\n",
    "matplotlib.use('Agg')"
   ]
  },
  {
   "cell_type": "code",
   "execution_count": 67,
   "id": "7d69d819-c0a0-4694-879e-7488636628e6",
   "metadata": {},
   "outputs": [],
   "source": [
    "input_path='/pod/2/li-lab/Ziwei/Nanopore/daily/test/total.test.bed.gz'\n",
    "output_path='/pod/2/li-lab/Ziwei/Nanopore/daily/2021-10-24'\n",
    "confusion_matrix='confusion_matrix.png'\n",
    "class_report='class_report.csv'"
   ]
  },
  {
   "cell_type": "code",
   "execution_count": 68,
   "id": "6710525b-8880-473b-a607-d7258ed1edcc",
   "metadata": {},
   "outputs": [
    {
     "name": "stdout",
     "output_type": "stream",
     "text": [
      "Data is loading!\n"
     ]
    }
   ],
   "source": [
    "if input_path.endswith(\".gz\"):\n",
    "    df=pd.read_csv(input_path, compression='gzip', sep='\\t')\n",
    "    print(\"Data is loading!\")"
   ]
  },
  {
   "cell_type": "code",
   "execution_count": 69,
   "id": "bba4f945-9cb0-4302-ae8e-2d5af8eb8b31",
   "metadata": {},
   "outputs": [
    {
     "name": "stdout",
     "output_type": "stream",
     "text": [
      "Spliting is done!\n",
      "Before the pipeline:\n",
      " y_train:Counter({0: 799, 1: 799, 2: 399}),\n",
      " y_test: Counter({0: 200, 1: 200, 2: 100})\n"
     ]
    }
   ],
   "source": [
    "df_feature = df.loc[:,['5hmC_prob','5mC_prob','5C_prob']].values\n",
    "df_class = df.loc[:,['label']].values\n",
    "df_class = np.squeeze(df_class) #Convert the label into 1d-array\n",
    "\n",
    "X = df_feature\n",
    "y = df_class\n",
    "\n",
    "#Split the data into training and testing\n",
    "X_train, X_test, y_train, y_test = train_test_split(X,\n",
    "                                                    y,\n",
    "                                                    test_size=0.2,\n",
    "                                                    stratify=y,\n",
    "                                                    random_state=42)\n",
    "print(\"Spliting is done!\")\n",
    "print(\"Before the pipeline:\\n y_train:{},\\n y_test: {}\".format(Counter(y_train), Counter(y_test)))\n",
    "\n",
    "# Define cross-validation fold\n",
    "stratified_kfold = StratifiedKFold(n_splits = 3, random_state = 42, shuffle = True)\n",
    "    \n",
    "model_best = imbpipeline(steps=[('o', SMOTE(random_state=42)),\n",
    "                                ('m', RandomForestClassifier(max_depth=5, min_samples_leaf=2,n_estimators=80, random_state=42))])"
   ]
  },
  {
   "cell_type": "code",
   "execution_count": 74,
   "id": "93cbd141-0829-446a-86ce-ad7dca09d403",
   "metadata": {},
   "outputs": [
    {
     "data": {
      "text/plain": [
       "Pipeline(steps=[('o', SMOTE(random_state=42)),\n",
       "                ('m',\n",
       "                 RandomForestClassifier(max_depth=5, min_samples_leaf=2,\n",
       "                                        n_estimators=80, random_state=42))])"
      ]
     },
     "execution_count": 74,
     "metadata": {},
     "output_type": "execute_result"
    }
   ],
   "source": [
    "model_best.fit(X_train, y_train)"
   ]
  },
  {
   "cell_type": "code",
   "execution_count": 75,
   "id": "2a796da0-2032-4001-9a84-6ce5b62c2b8c",
   "metadata": {},
   "outputs": [],
   "source": [
    "scoring = ('accuracy', 'recall_macro', 'f1_macro')\n",
    "scores = cross_validate(model_best, X_train, y_train, scoring=scoring, cv=stratified_kfold, n_jobs=-1)\n",
    "\n",
    "#Save the scoring matrix to dataframe\n",
    "test = pd.DataFrame.from_dict(scores)\n",
    "test.to_csv(os.path.join(output_path, class_report), header = True, index= None, sep = ',', float_format='%.4f')"
   ]
  },
  {
   "cell_type": "code",
   "execution_count": 76,
   "id": "01a15979-df1f-448e-9fa5-5d77e9b63097",
   "metadata": {},
   "outputs": [
    {
     "data": {
      "text/plain": [
       "0.9223862960705066"
      ]
     },
     "execution_count": 76,
     "metadata": {},
     "output_type": "execute_result"
    }
   ],
   "source": [
    "####Traing dataset\n",
    "scores['test_accuracy'].mean()"
   ]
  },
  {
   "cell_type": "code",
   "execution_count": 77,
   "id": "6967c400-1bc6-4b85-aa1f-a94a510e249d",
   "metadata": {},
   "outputs": [
    {
     "data": {
      "text/plain": [
       "0.882"
      ]
     },
     "execution_count": 77,
     "metadata": {},
     "output_type": "execute_result"
    }
   ],
   "source": [
    "y_true, y_pred = y_test, model_best.predict(X_test)\n",
    "test_score = model_best.score(X_test, y_test)\n",
    "test_score"
   ]
  },
  {
   "cell_type": "code",
   "execution_count": 50,
   "id": "6c1e46a8-c34d-4666-849e-ea3e09cd55a0",
   "metadata": {},
   "outputs": [
    {
     "data": {
      "text/html": [
       "<div>\n",
       "<style scoped>\n",
       "    .dataframe tbody tr th:only-of-type {\n",
       "        vertical-align: middle;\n",
       "    }\n",
       "\n",
       "    .dataframe tbody tr th {\n",
       "        vertical-align: top;\n",
       "    }\n",
       "\n",
       "    .dataframe thead th {\n",
       "        text-align: right;\n",
       "    }\n",
       "</style>\n",
       "<table border=\"1\" class=\"dataframe\">\n",
       "  <thead>\n",
       "    <tr style=\"text-align: right;\">\n",
       "      <th></th>\n",
       "      <th>precision</th>\n",
       "      <th>recall</th>\n",
       "      <th>f1-score</th>\n",
       "      <th>support</th>\n",
       "    </tr>\n",
       "  </thead>\n",
       "  <tbody>\n",
       "    <tr>\n",
       "      <th>5C</th>\n",
       "      <td>0.929293</td>\n",
       "      <td>0.920</td>\n",
       "      <td>0.924623</td>\n",
       "      <td>200.000</td>\n",
       "    </tr>\n",
       "    <tr>\n",
       "      <th>5mC</th>\n",
       "      <td>0.957219</td>\n",
       "      <td>0.895</td>\n",
       "      <td>0.925065</td>\n",
       "      <td>200.000</td>\n",
       "    </tr>\n",
       "    <tr>\n",
       "      <th>5hmC</th>\n",
       "      <td>0.678261</td>\n",
       "      <td>0.780</td>\n",
       "      <td>0.725581</td>\n",
       "      <td>100.000</td>\n",
       "    </tr>\n",
       "    <tr>\n",
       "      <th>accuracy</th>\n",
       "      <td>0.882000</td>\n",
       "      <td>0.882</td>\n",
       "      <td>0.882000</td>\n",
       "      <td>0.882</td>\n",
       "    </tr>\n",
       "    <tr>\n",
       "      <th>macro avg</th>\n",
       "      <td>0.854924</td>\n",
       "      <td>0.865</td>\n",
       "      <td>0.858423</td>\n",
       "      <td>500.000</td>\n",
       "    </tr>\n",
       "    <tr>\n",
       "      <th>weighted avg</th>\n",
       "      <td>0.890257</td>\n",
       "      <td>0.882</td>\n",
       "      <td>0.884991</td>\n",
       "      <td>500.000</td>\n",
       "    </tr>\n",
       "  </tbody>\n",
       "</table>\n",
       "</div>"
      ],
      "text/plain": [
       "              precision  recall  f1-score  support\n",
       "5C             0.929293   0.920  0.924623  200.000\n",
       "5mC            0.957219   0.895  0.925065  200.000\n",
       "5hmC           0.678261   0.780  0.725581  100.000\n",
       "accuracy       0.882000   0.882  0.882000    0.882\n",
       "macro avg      0.854924   0.865  0.858423  500.000\n",
       "weighted avg   0.890257   0.882  0.884991  500.000"
      ]
     },
     "execution_count": 50,
     "metadata": {},
     "output_type": "execute_result"
    }
   ],
   "source": [
    "target_class = ['5C', '5mC', '5hmC']\n",
    "report = classification_report(y_test, y_pred, target_names=target_class, output_dict=True)\n",
    "report = pd.DataFrame(report).transpose()\n",
    "report"
   ]
  },
  {
   "cell_type": "code",
   "execution_count": null,
   "id": "1d1c40b4-94cf-4708-91ad-079ec4a718c0",
   "metadata": {},
   "outputs": [],
   "source": []
  }
 ],
 "metadata": {
  "kernelspec": {
   "display_name": "Python 3",
   "language": "python",
   "name": "python3"
  },
  "language_info": {
   "codemirror_mode": {
    "name": "ipython",
    "version": 3
   },
   "file_extension": ".py",
   "mimetype": "text/x-python",
   "name": "python",
   "nbconvert_exporter": "python",
   "pygments_lexer": "ipython3",
   "version": "3.6.13"
  }
 },
 "nbformat": 4,
 "nbformat_minor": 5
}
