{
 "cells": [
  {
   "cell_type": "code",
   "execution_count": 1,
   "metadata": {},
   "outputs": [
    {
     "name": "stdin",
     "output_type": "stream",
     "text": [
      "Once deleted, variables cannot be recovered. Proceed (y/[n])?  y\n"
     ]
    }
   ],
   "source": [
    "%reset"
   ]
  },
  {
   "cell_type": "code",
   "execution_count": 2,
   "metadata": {},
   "outputs": [],
   "source": [
    "import h5py\n",
    "import numpy as np\n",
    "import os, sys, time\n",
    "import multiprocessing\n",
    "from ont_fast5_api.conversion_tools.conversion_utils import get_fast5_file_list\n",
    "\n",
    "from cytosine.utils.fast5_helper import fast5_rescale, fast5_normalize_signal, raw_fast5\n",
    "from cytosine.utils.extract_helper import save_feature_to_file, get_ref_length, feature_to_str, extract_perbase_signal_feature, get_batch_feature\n",
    "from cytosine.extract_module import extract_fast5_feature"
   ]
  },
  {
   "cell_type": "markdown",
   "metadata": {},
   "source": [
    "# Pre-precess the data"
   ]
  },
  {
   "cell_type": "markdown",
   "metadata": {},
   "source": [
    "The fast5 file is copied from /fastscratch/c-panz/2021-09-30/guppy5.0.14_supmodel_tombo/T4LambdaTF1/0/workspace\n",
    "\n",
    "input_path='/pod/2/li-lab/Ziwei/Nanopore/daily/test/\n",
    "\n",
    "00000156-e575-4fb7-9053-d00dbe5c8d9c.fast5\n",
    "\n",
    "000006ea-dddb-429c-8277-a81ce50da6a0.fast5"
   ]
  },
  {
   "cell_type": "markdown",
   "metadata": {},
   "source": [
    "# Test fast5_helper"
   ]
  },
  {
   "cell_type": "code",
   "execution_count": 2,
   "metadata": {},
   "outputs": [],
   "source": [
    "input_path='/pod/2/li-lab/Ziwei/Nanopore/daily/test/test'\n",
    "fast5_fn='00000156-e575-4fb7-9053-d00dbe5c8d9c.fast5'\n",
    "\n",
    "signal_group='Raw/Reads'\n",
    "corrected_group='RawGenomeCorrected_001' #tombo resquiggle save location\n",
    "basecall_group='Basecall_1D_001' #has to be save in the tombo requiggle step\n",
    "basecall_subgroup='BaseCalled_template' #Attention: the basecall_subgroup can be 'basecalled_compl"
   ]
  },
  {
   "cell_type": "code",
   "execution_count": 3,
   "metadata": {},
   "outputs": [
    {
     "name": "stdout",
     "output_type": "stream",
     "text": [
      "/pod/2/li-lab/Ziwei/Nanopore/daily/test/test/00000156-e575-4fb7-9053-d00dbe5c8d9c.fast5\n"
     ]
    },
    {
     "data": {
      "text/plain": [
       "('chr4', '-', 118511944, 't')"
      ]
     },
     "execution_count": 3,
     "metadata": {},
     "output_type": "execute_result"
    }
   ],
   "source": [
    "# Test fast5 class\n",
    "path = os.path.join(input_path, fast5_fn)\n",
    "print(path)\n",
    "fast5 = raw_fast5(path, corrected_group, basecall_group, basecall_subgroup, signal_group)\n",
    "# Extract signal\n",
    "readid, fast5_signal = fast5.fast5_signal() #get readid\n",
    "\n",
    "#Extract event information: #Raw signal --> Normalization\n",
    "event = fast5.fast5_event()\n",
    "raw_signal = fast5_rescale(path, fast5_signal)\n",
    "norm_signal = fast5_normalize_signal(raw_signal,  method='mad')\n",
    "\n",
    "basecalled_seq, raw_signal_list, norm_signal_list = \"\", [], []\n",
    "for e in event:\n",
    "#    print(e)\n",
    "    basecalled_seq += e[2]\n",
    "#    print(norm_signal[e[0]:(e[0] + e[1])])\n",
    "    norm_signal_list.append(norm_signal[e[0]:(e[0] + e[1])]) #event start position: end position(start+length)\n",
    "    raw_signal_list.append(raw_signal[e[0]:(e[0] + e[1])])\n",
    "    assert len(norm_signal_list) == len(raw_signal_list)\n",
    "    \n",
    "# Extract other information\n",
    "chrom, align_strand, start, read_strand = fast5.fast5_align()\n",
    "chrom, align_strand, start, read_strand"
   ]
  },
  {
   "cell_type": "markdown",
   "metadata": {},
   "source": [
    "# Test extract_helper \n",
    "Function: get_ref_length, get_mod_site_in_ref, extract_perbase_signal_feature, get_batch_feature"
   ]
  },
  {
   "cell_type": "code",
   "execution_count": 4,
   "metadata": {},
   "outputs": [],
   "source": [
    "# get_ref_length\n",
    "ref_path = '/pod/2/li-lab/Ziwei/Nanopore/data/reference/hg38.fa'\n",
    "ref_total_length = get_ref_length(ref_path)"
   ]
  },
  {
   "cell_type": "code",
   "execution_count": 5,
   "metadata": {},
   "outputs": [
    {
     "data": {
      "text/plain": [
       "11816"
      ]
     },
     "execution_count": 5,
     "metadata": {},
     "output_type": "execute_result"
    }
   ],
   "source": [
    "#get_mod_site_in_ref\n",
    "mod_site_loc = get_mod_site_in_ref(basecalled_seq, motif_seq ='CG', mod_loc = 0)\n",
    "len(mod_site_loc)"
   ]
  },
  {
   "cell_type": "markdown",
   "metadata": {},
   "source": [
    "### Extract_perbase_signal_feature\n",
    "Raw signal --> Normalization --> alignment --> methylated site --> features"
   ]
  },
  {
   "cell_type": "markdown",
   "metadata": {},
   "source": [
    "### put_file_in_queue"
   ]
  },
  {
   "cell_type": "code",
   "execution_count": 10,
   "metadata": {},
   "outputs": [],
   "source": [
    "fast5_path='/pod/2/li-lab/Ziwei/Nanopore/daily/test/test'\n",
    "fast5_q = multiprocessing.Queue()\n",
    "batch_size = 100\n",
    "\n",
    "fast5_files = get_fast5_file_list(fast5_path, recursive=True)\n",
    "put_file_in_queue(fast5_q, fast5_files, batch_size)"
   ]
  },
  {
   "cell_type": "code",
   "execution_count": 11,
   "metadata": {},
   "outputs": [
    {
     "data": {
      "text/plain": [
       "False"
      ]
     },
     "execution_count": 11,
     "metadata": {},
     "output_type": "execute_result"
    }
   ],
   "source": [
    "fast5_q.empty()"
   ]
  },
  {
   "cell_type": "markdown",
   "metadata": {},
   "source": [
    "### extract_perbase_signal_feature"
   ]
  },
  {
   "cell_type": "code",
   "execution_count": 2,
   "metadata": {},
   "outputs": [],
   "source": [
    "fast5_path='/pod/2/li-lab/Ziwei/Nanopore/daily/test/test'\n",
    "ref_path = '/pod/2/li-lab/Ziwei/Nanopore/data/reference/hg38.fa'\n",
    "output_file='/pod/2/li-lab/Ziwei/Nanopore/daily/2021-10-12/feature_test.csv'\n",
    "\n",
    "num_proc = 1\n",
    "\n",
    "corrected_group='RawGenomeCorrected_001' #tombo resquiggle save location\n",
    "basecall_group='Basecall_1D_001' #has to be save in the tombo requiggle step\n",
    "basecall_subgroup='BaseCalled_template' #Attention: the basecall_subgroup can be 'basecalled_compl\n",
    "signal_group='Raw/Reads'\n",
    "normalize_method = 'mad'\n",
    "motif_seq = 'CG'\n",
    "mod_loc = 0\n",
    "ref_total_length = get_ref_length(ref_path)\n",
    "kmer=17\n",
    "mod_label=1"
   ]
  },
  {
   "cell_type": "code",
   "execution_count": 6,
   "metadata": {},
   "outputs": [
    {
     "name": "stdout",
     "output_type": "stream",
     "text": [
      "File 00047d2f-1825-4151-a702-f01d559f22ab.fast5 didn't have event info\n",
      "\n",
      "File 00047d2f-1825-4151-a702-f01d559f22ab.fast5 didn't have alignment info\n"
     ]
    }
   ],
   "source": [
    "fast5_files = get_fast5_file_list(fast5_path, recursive=True)\n",
    "\n",
    "feature_list, error_num = extract_perbase_signal_feature(fast5_files, \n",
    "                                                         corrected_group, basecall_group, basecall_subgroup, signal_group, normalize_method, \n",
    "                                                         motif_seq, mod_loc, ref_total_length, kmer, mod_label)"
   ]
  },
  {
   "cell_type": "code",
   "execution_count": 7,
   "metadata": {},
   "outputs": [
    {
     "data": {
      "text/plain": [
       "19969"
      ]
     },
     "execution_count": 7,
     "metadata": {},
     "output_type": "execute_result"
    }
   ],
   "source": [
    "len(feature_list)"
   ]
  },
  {
   "cell_type": "code",
   "execution_count": 9,
   "metadata": {},
   "outputs": [
    {
     "data": {
      "text/plain": [
       "('chr11',\n",
       " 77052428,\n",
       " '-',\n",
       " 58034193,\n",
       " '000006ea-dddb-429c-8277-a81ce50da6a0',\n",
       " 't',\n",
       " 'CAGTCATTCACAATTTT',\n",
       " [0.6786533333333332,\n",
       "  -0.9022586470588235,\n",
       "  -1.5274157857142856,\n",
       "  1.593586083333333,\n",
       "  -0.4163516666666667,\n",
       "  -1.1903495,\n",
       "  0.506435,\n",
       "  1.2264760384615385,\n",
       "  0.4598085,\n",
       "  0.23315683333333334,\n",
       "  0.7265336666666666,\n",
       "  -0.597762,\n",
       "  -1.322436875,\n",
       "  0.16237733333333335,\n",
       "  0.12115829999999998,\n",
       "  0.46162983333333335,\n",
       "  0.415757],\n",
       " [0.13310237965649682,\n",
       "  0.18677101950719704,\n",
       "  0.0974890447919872,\n",
       "  0.4782553930874623,\n",
       "  0.596444493920618,\n",
       "  0.26917348075441977,\n",
       "  0.11612157566416015,\n",
       "  0.2072198409145523,\n",
       "  0.0975761690751128,\n",
       "  0.07377768072937475,\n",
       "  0.24933354946648384,\n",
       "  0.10001989913583625,\n",
       "  0.19565130129099417,\n",
       "  0.34069666347288396,\n",
       "  0.13183898678581385,\n",
       "  0.10290374274601914,\n",
       "  0.32848772938074],\n",
       " [3, 17, 14, 12, 3, 10, 11, 26, 16, 6, 6, 7, 8, 3, 20, 24, 7],\n",
       " [0.312264,\n",
       "  0.8618480000000001,\n",
       "  0.29977300000000007,\n",
       "  1.81113,\n",
       "  1.4364130000000002,\n",
       "  0.9742629999999999,\n",
       "  0.38720699999999997,\n",
       "  1.024225,\n",
       "  0.44966,\n",
       "  0.212339,\n",
       "  0.7619239999999999,\n",
       "  0.32475400000000004,\n",
       "  0.637018,\n",
       "  0.824376,\n",
       "  0.512113,\n",
       "  0.5121129999999999,\n",
       "  0.924301],\n",
       " 1)"
      ]
     },
     "execution_count": 9,
     "metadata": {},
     "output_type": "execute_result"
    }
   ],
   "source": [
    "feature_list[0]"
   ]
  },
  {
   "cell_type": "code",
   "execution_count": 8,
   "metadata": {},
   "outputs": [
    {
     "data": {
      "text/plain": [
       "1"
      ]
     },
     "execution_count": 8,
     "metadata": {},
     "output_type": "execute_result"
    }
   ],
   "source": [
    "error_num"
   ]
  },
  {
   "cell_type": "markdown",
   "metadata": {},
   "source": [
    "### Get batch feature"
   ]
  },
  {
   "cell_type": "code",
   "execution_count": 5,
   "metadata": {},
   "outputs": [],
   "source": [
    "fast5_path='/pod/2/li-lab/Ziwei/Nanopore/daily/test/test'\n",
    "ref_path = '/pod/2/li-lab/Ziwei/Nanopore/data/reference/hg38.fa'\n",
    "output_file='/pod/2/li-lab/Ziwei/Nanopore/daily/2021-10-12/feature_test.csv'\n",
    "\n",
    "num_proc = 1\n",
    "\n",
    "corrected_group='RawGenomeCorrected_001' #tombo resquiggle save location\n",
    "basecall_group='Basecall_1D_001' #has to be save in the tombo requiggle step\n",
    "basecall_subgroup='BaseCalled_template' #Attention: the basecall_subgroup can be 'basecalled_compl\n",
    "signal_group='Raw/Reads'\n",
    "normalize_method = 'mad'\n",
    "motif_seq = 'CG'\n",
    "mod_loc = 0\n",
    "ref_total_length = get_ref_length(ref_path)\n",
    "kmer=17\n",
    "mod_label=1"
   ]
  },
  {
   "cell_type": "code",
   "execution_count": 6,
   "metadata": {},
   "outputs": [],
   "source": [
    "feature_q = multiprocessing.Queue()\n",
    "error_q = multiprocessing.Queue()"
   ]
  },
  {
   "cell_type": "code",
   "execution_count": 7,
   "metadata": {},
   "outputs": [
    {
     "ename": "SyntaxError",
     "evalue": "invalid syntax (<ipython-input-7-7c9ed5d4fc6c>, line 2)",
     "output_type": "error",
     "traceback": [
      "\u001b[0;36m  File \u001b[0;32m\"<ipython-input-7-7c9ed5d4fc6c>\"\u001b[0;36m, line \u001b[0;32m2\u001b[0m\n\u001b[0;31m    corrected_group, basecall_group, basecall_subgroup, signal_group,\u001b[0m\n\u001b[0m                  ^\u001b[0m\n\u001b[0;31mSyntaxError\u001b[0m\u001b[0;31m:\u001b[0m invalid syntax\n"
     ]
    }
   ],
   "source": [
    "feature_str, error_num = get_batch_feature(fast5_path, feature_q, error_q,\n",
    "                                           corrected_group, basecall_group, basecall_subgroup, signal_group, \n",
    "                                           normalize_method, motif_seq, mod_loc,ref_total_length, kmer, mod_label)"
   ]
  },
  {
   "cell_type": "code",
   "execution_count": 23,
   "metadata": {},
   "outputs": [
    {
     "data": {
      "text/plain": [
       "'chr11\\t77052428\\t-\\t58034193\\t000006ea-dddb-429c-8277-a81ce50da6a0\\tt\\tCAGTCATTCACAATTTT\\t0.678653,-0.902259,-1.527416,1.593586,-0.416352,-1.19035,0.506435,1.226476,0.459808,0.233157,0.726534,-0.597762,-1.322437,0.162377,0.121158,0.46163,0.415757\\t0.133102,0.186771,0.097489,0.478255,0.596444,0.269173,0.116122,0.20722,0.097576,0.073778,0.249334,0.10002,0.195651,0.340697,0.131839,0.102904,0.328488\\t3,17,14,12,3,10,11,26,16,6,6,7,8,3,20,24,7\\t0.312264,0.861848,0.299773,1.81113,1.436413,0.974263,0.387207,1.024225,0.44966,0.212339,0.761924,0.324754,0.637018,0.824376,0.512113,0.512113,0.924301\\t1'"
      ]
     },
     "execution_count": 23,
     "metadata": {},
     "output_type": "execute_result"
    }
   ],
   "source": [
    "feature_str[0]"
   ]
  },
  {
   "cell_type": "code",
   "execution_count": 24,
   "metadata": {},
   "outputs": [
    {
     "data": {
      "text/plain": [
       "19969"
      ]
     },
     "execution_count": 24,
     "metadata": {},
     "output_type": "execute_result"
    }
   ],
   "source": [
    "len(feature_str)"
   ]
  },
  {
   "cell_type": "markdown",
   "metadata": {},
   "source": [
    "### save_feature_to_file"
   ]
  },
  {
   "cell_type": "code",
   "execution_count": 25,
   "metadata": {},
   "outputs": [],
   "source": [
    "output_file = '/pod/2/li-lab/Ziwei/Nanopore/daily/2021-10-17/test.tsv'"
   ]
  },
  {
   "cell_type": "code",
   "execution_count": 30,
   "metadata": {},
   "outputs": [],
   "source": [
    "with open(output_file, 'w') as output_fp:\n",
    "    for feature in feature_str:\n",
    "        output_fp.write(feature + \"\\n\")\n",
    "    output_fp.flush()"
   ]
  },
  {
   "cell_type": "markdown",
   "metadata": {},
   "source": [
    "# Extract_feature"
   ]
  },
  {
   "cell_type": "code",
   "execution_count": 3,
   "metadata": {},
   "outputs": [],
   "source": [
    "fast5_path='/pod/2/li-lab/Ziwei/Nanopore/daily/test/test'\n",
    "ref_path = '/pod/2/li-lab/Ziwei/Nanopore/data/reference/hg38.fa'\n",
    "num_proc = 1\n",
    "\n",
    "corrected_group='RawGenomeCorrected_001' #tombo resquiggle save location\n",
    "basecall_group='Basecall_1D_001' #has to be save in the tombo requiggle step\n",
    "basecall_subgroup='BaseCalled_template' #Attention: the basecall_subgroup can be 'basecalled_compl\n",
    "signal_group='Raw/Reads'\n",
    "normalize_method = 'mad'\n",
    "\n",
    "motif_seq = 'CG'\n",
    "mod_loc = 0\n",
    "kmer=17\n",
    "mod_label=1\n",
    "\n",
    "output_file='/pod/2/li-lab/Ziwei/Nanopore/daily/2021-10-12/feature_test.csv'\n",
    "batch_size=100"
   ]
  },
  {
   "cell_type": "code",
   "execution_count": 4,
   "metadata": {},
   "outputs": [
    {
     "name": "stdout",
     "output_type": "stream",
     "text": [
      "Extracting features from nanopore reads...\n"
     ]
    },
    {
     "name": "stderr",
     "output_type": "stream",
     "text": [
      "Process Process-1:\n",
      "Traceback (most recent call last):\n",
      "  File \"/pod/2/li-lab/Ziwei/Anaconda3/envs/nanomodel/lib/python3.6/multiprocessing/process.py\", line 258, in _bootstrap\n",
      "    self.run()\n",
      "  File \"/pod/2/li-lab/Ziwei/Anaconda3/envs/nanomodel/lib/python3.6/multiprocessing/process.py\", line 93, in run\n",
      "    self._target(*self._args, **self._kwargs)\n",
      "TypeError: get_batch_feature() missing 2 required positional arguments: 'kmer' and 'mod_label'\n"
     ]
    },
    {
     "name": "stdout",
     "output_type": "stream",
     "text": [
      "Saving features to file...\n"
     ]
    },
    {
     "ename": "NameError",
     "evalue": "name 'feature_str' is not defined",
     "output_type": "error",
     "traceback": [
      "\u001b[0;31m---------------------------------------------------------------------------\u001b[0m",
      "\u001b[0;31mNameError\u001b[0m                                 Traceback (most recent call last)",
      "\u001b[0;32m<ipython-input-4-5ee1571d66f5>\u001b[0m in \u001b[0;36m<module>\u001b[0;34m\u001b[0m\n\u001b[1;32m      2\u001b[0m                       \u001b[0mcorrected_group\u001b[0m\u001b[0;34m,\u001b[0m \u001b[0mbasecall_group\u001b[0m\u001b[0;34m,\u001b[0m \u001b[0mbasecall_subgroup\u001b[0m\u001b[0;34m,\u001b[0m \u001b[0msignal_group\u001b[0m\u001b[0;34m,\u001b[0m \u001b[0mnormalize_method\u001b[0m\u001b[0;34m,\u001b[0m\u001b[0;34m\u001b[0m\u001b[0;34m\u001b[0m\u001b[0m\n\u001b[1;32m      3\u001b[0m                       \u001b[0mmotif_seq\u001b[0m\u001b[0;34m,\u001b[0m \u001b[0mmod_loc\u001b[0m\u001b[0;34m,\u001b[0m \u001b[0mkmer\u001b[0m\u001b[0;34m,\u001b[0m \u001b[0mmod_label\u001b[0m\u001b[0;34m,\u001b[0m\u001b[0;34m\u001b[0m\u001b[0;34m\u001b[0m\u001b[0m\n\u001b[0;32m----> 4\u001b[0;31m                       output_file, batch_size)\n\u001b[0m",
      "\u001b[0;32m/pod/2/li-lab/Ziwei/Nanopore/daily/2021-10-17/cytosine/extract_module.py\u001b[0m in \u001b[0;36mextract_fast5_feature\u001b[0;34m(fast5_path, ref_path, num_proc, corrected_group, basecall_group, basecall_subgroup, signal_group, normalize_method, motif_seq, mod_loc, kmer, mod_label, output_file, batch_size)\u001b[0m\n\u001b[1;32m     54\u001b[0m     p_w = multiprocessing.Process(\n\u001b[1;32m     55\u001b[0m         \u001b[0mtarget\u001b[0m\u001b[0;34m=\u001b[0m\u001b[0msave_feature_to_file\u001b[0m\u001b[0;34m,\u001b[0m\u001b[0;34m\u001b[0m\u001b[0;34m\u001b[0m\u001b[0m\n\u001b[0;32m---> 56\u001b[0;31m         \u001b[0margs\u001b[0m\u001b[0;34m=\u001b[0m\u001b[0;34m(\u001b[0m\u001b[0moutput_file\u001b[0m\u001b[0;34m,\u001b[0m \u001b[0mfeature_str\u001b[0m\u001b[0;34m)\u001b[0m\u001b[0;34m\u001b[0m\u001b[0;34m\u001b[0m\u001b[0m\n\u001b[0m\u001b[1;32m     57\u001b[0m         )\n\u001b[1;32m     58\u001b[0m     \u001b[0mp_w\u001b[0m\u001b[0;34m.\u001b[0m\u001b[0mdaemon\u001b[0m \u001b[0;34m=\u001b[0m \u001b[0;32mTrue\u001b[0m\u001b[0;34m\u001b[0m\u001b[0;34m\u001b[0m\u001b[0m\n",
      "\u001b[0;31mNameError\u001b[0m: name 'feature_str' is not defined"
     ]
    }
   ],
   "source": [
    "extract_fast5_feature(fast5_path, ref_path, num_proc, \n",
    "                      corrected_group, basecall_group, basecall_subgroup, signal_group, normalize_method,  \n",
    "                      motif_seq, mod_loc, kmer, mod_label,\n",
    "                      output_file, batch_size)"
   ]
  },
  {
   "cell_type": "markdown",
   "metadata": {},
   "source": [
    "# Read test file"
   ]
  },
  {
   "cell_type": "code",
   "execution_count": 6,
   "metadata": {},
   "outputs": [
    {
     "data": {
      "text/html": [
       "<div>\n",
       "<style scoped>\n",
       "    .dataframe tbody tr th:only-of-type {\n",
       "        vertical-align: middle;\n",
       "    }\n",
       "\n",
       "    .dataframe tbody tr th {\n",
       "        vertical-align: top;\n",
       "    }\n",
       "\n",
       "    .dataframe thead th {\n",
       "        text-align: right;\n",
       "    }\n",
       "</style>\n",
       "<table border=\"1\" class=\"dataframe\">\n",
       "  <thead>\n",
       "    <tr style=\"text-align: right;\">\n",
       "      <th></th>\n",
       "      <th>0</th>\n",
       "      <th>1</th>\n",
       "      <th>2</th>\n",
       "      <th>3</th>\n",
       "      <th>4</th>\n",
       "      <th>5</th>\n",
       "      <th>6</th>\n",
       "      <th>7</th>\n",
       "      <th>8</th>\n",
       "      <th>9</th>\n",
       "      <th>10</th>\n",
       "      <th>11</th>\n",
       "    </tr>\n",
       "  </thead>\n",
       "  <tbody>\n",
       "    <tr>\n",
       "      <th>0</th>\n",
       "      <td>chr11</td>\n",
       "      <td>77052428</td>\n",
       "      <td>-</td>\n",
       "      <td>58034193</td>\n",
       "      <td>000006ea-dddb-429c-8277-a81ce50da6a0</td>\n",
       "      <td>t</td>\n",
       "      <td>CAGTCATTCACAATTTT</td>\n",
       "      <td>0.678653,-0.902259,-1.527416,1.593586,-0.41635...</td>\n",
       "      <td>0.133102,0.186771,0.097489,0.478255,0.596444,0...</td>\n",
       "      <td>3,17,14,12,3,10,11,26,16,6,6,7,8,3,20,24,7</td>\n",
       "      <td>0.312264,0.861848,0.299773,1.81113,1.436413,0....</td>\n",
       "      <td>1</td>\n",
       "    </tr>\n",
       "    <tr>\n",
       "      <th>1</th>\n",
       "      <td>chr11</td>\n",
       "      <td>77052426</td>\n",
       "      <td>-</td>\n",
       "      <td>58034195</td>\n",
       "      <td>000006ea-dddb-429c-8277-a81ce50da6a0</td>\n",
       "      <td>t</td>\n",
       "      <td>GTCATTCACAATTTTGA</td>\n",
       "      <td>-1.527416,1.593586,-0.416352,-1.19035,0.506435...</td>\n",
       "      <td>0.097489,0.478255,0.596444,0.269173,0.116122,0...</td>\n",
       "      <td>14,12,3,10,11,26,16,6,6,7,8,3,20,24,7,3,31</td>\n",
       "      <td>0.299773,1.81113,1.436413,0.974263,0.387207,1....</td>\n",
       "      <td>1</td>\n",
       "    </tr>\n",
       "  </tbody>\n",
       "</table>\n",
       "</div>"
      ],
      "text/plain": [
       "      0         1  2         3                                     4  5   \\\n",
       "0  chr11  77052428  -  58034193  000006ea-dddb-429c-8277-a81ce50da6a0  t   \n",
       "1  chr11  77052426  -  58034195  000006ea-dddb-429c-8277-a81ce50da6a0  t   \n",
       "\n",
       "                  6                                                  7   \\\n",
       "0  CAGTCATTCACAATTTT  0.678653,-0.902259,-1.527416,1.593586,-0.41635...   \n",
       "1  GTCATTCACAATTTTGA  -1.527416,1.593586,-0.416352,-1.19035,0.506435...   \n",
       "\n",
       "                                                  8   \\\n",
       "0  0.133102,0.186771,0.097489,0.478255,0.596444,0...   \n",
       "1  0.097489,0.478255,0.596444,0.269173,0.116122,0...   \n",
       "\n",
       "                                           9   \\\n",
       "0  3,17,14,12,3,10,11,26,16,6,6,7,8,3,20,24,7   \n",
       "1  14,12,3,10,11,26,16,6,6,7,8,3,20,24,7,3,31   \n",
       "\n",
       "                                                  10  11  \n",
       "0  0.312264,0.861848,0.299773,1.81113,1.436413,0....   1  \n",
       "1  0.299773,1.81113,1.436413,0.974263,0.387207,1....   1  "
      ]
     },
     "execution_count": 6,
     "metadata": {},
     "output_type": "execute_result"
    }
   ],
   "source": [
    "import pandas as pd\n",
    "input_file='/pod/2/li-lab/Ziwei/Nanopore/daily/2021-10-17/test.csv'\n",
    "df = pd.read_csv(input_file, sep='\\t', header = None)\n",
    "df"
   ]
  },
  {
   "cell_type": "code",
   "execution_count": null,
   "metadata": {},
   "outputs": [],
   "source": []
  }
 ],
 "metadata": {
  "kernelspec": {
   "display_name": "Python 3",
   "language": "python",
   "name": "python3"
  },
  "language_info": {
   "codemirror_mode": {
    "name": "ipython",
    "version": 3
   },
   "file_extension": ".py",
   "mimetype": "text/x-python",
   "name": "python",
   "nbconvert_exporter": "python",
   "pygments_lexer": "ipython3",
   "version": "3.6.13"
  }
 },
 "nbformat": 4,
 "nbformat_minor": 4
}
