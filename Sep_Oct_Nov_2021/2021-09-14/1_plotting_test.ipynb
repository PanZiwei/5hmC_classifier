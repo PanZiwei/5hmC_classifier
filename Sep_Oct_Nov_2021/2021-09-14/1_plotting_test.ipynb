{
 "cells": [
  {
   "cell_type": "code",
   "execution_count": 2,
   "metadata": {},
   "outputs": [],
   "source": [
    "import pandas as pd\n",
    "import numpy as np\n",
    "import sys, os"
   ]
  },
  {
   "cell_type": "code",
   "execution_count": 18,
   "metadata": {},
   "outputs": [],
   "source": [
    "#Pre-process the dataset\n",
    "input_path='/fastscratch/c-panz/2021-09-14'\n",
    "output_path='/pod/2/li-lab/Ziwei/Nanopore/daily/2021-09-14'\n",
    "df_T4=pd.read_csv(os.path.join(input_path, 'T4.test.100.bed'), sep='\\t')\n",
    "df_lambda=pd.read_csv(os.path.join(input_path, 'lambda.test.200.bed'), sep='\\t')\n",
    "df_5mClambda=pd.read_csv(os.path.join(input_path, 'lambda_5mC.test.300.bed'), sep='\\t')"
   ]
  },
  {
   "cell_type": "code",
   "execution_count": 9,
   "metadata": {},
   "outputs": [],
   "source": [
    "# Add the label column\n",
    "df_T4['label'] = '5hmC'\n",
    "df_lambda['label'] = '5C'\n",
    "df_5mClambda['label'] = '5mC'\n",
    "# Merge the dataset \n",
    "df = pd.concat([df_T4, df_5mClambda, df_lambda])\n",
    "\n",
    "# Create label column\n",
    "# Createa a label with representations: 5C = 0, 5mC = 1, 5hmC = 2\n",
    "df['label'] = df['label'].map({'5C':0, '5mC':1, '5hmC':2 })\n",
    "df.to_csv(os.path.join(input_path, 'total.test.bed'), sep='\\t', index = None)"
   ]
  },
  {
   "cell_type": "code",
   "execution_count": 10,
   "metadata": {},
   "outputs": [],
   "source": [
    "#Splitting the data into independent and dependent variables\n",
    "df_feature = df.loc[:,['5hmC_prob','5mC_prob','5C_prob']].values\n",
    "df_class = df.loc[:,['label']].values\n",
    "df_class = np.squeeze(df_class) #Convert the label into 1d-array"
   ]
  },
  {
   "cell_type": "code",
   "execution_count": 22,
   "metadata": {},
   "outputs": [],
   "source": [
    "from sklearn.model_selection import train_test_split, RepeatedStratifiedKFold, cross_validate\n",
    "from sklearn.metrics import recall_score\n",
    "from sklearn.ensemble import RandomForestClassifier\n",
    "from statistics import mean\n",
    "\n",
    "# https://medium.com/sfu-cspmp/surviving-in-a-random-forest-with-imbalanced-datasets-b98b963d52eb\n",
    "# Build the random forest model\n",
    "example_params = {\n",
    "        'n_estimators': 20,\n",
    "        'max_depth': 5,\n",
    "        'random_state': 42\n",
    "    }\n",
    "\n",
    "rf_model = RandomForestClassifier(**example_params)\n",
    "\n",
    "#Create Stratified K-fold cross validation\n",
    "cv = RepeatedStratifiedKFold(n_splits=10, n_repeats=3, random_state=1)\n",
    "\n",
    "#Randomly spilt dataset to traing/testing dataset with the original ratio\n",
    "X_train, X_test, y_train, y_test = train_test_split(df_feature, \n",
    "                                                    df_class, \n",
    "                                                    test_size=0.2, \n",
    "                                                    stratify=df_class)"
   ]
  },
  {
   "cell_type": "code",
   "execution_count": 99,
   "metadata": {},
   "outputs": [
    {
     "name": "stdout",
     "output_type": "stream",
     "text": [
      "Mean accuracy: 0.932\n",
      "Mean recall_macro: 0.909\n",
      "Mean f1_macro: 0.906\n"
     ]
    }
   ],
   "source": [
    "\n",
    "#https://medium.com/sfu-cspmp/surviving-in-a-random-forest-with-imbalanced-datasets-b98b963d52eb\n",
    "scoring = ('accuracy', 'recall_macro', 'f1_macro')\n",
    "\n",
    "#f1_macro = cross_val_score(rf_model, X_train, y_train, cv=cv, scoring='f1_macro', n_jobs=-1)\n",
    "#print('Mean f1_macro: %.3f' % mean(f1_macro))\n",
    "\n",
    "#Evaluate SRF model\n",
    "scores = cross_validate(rf_model, X_train, y_train, scoring=scoring, cv=cv, n_jobs=-1)\n",
    "scores\n",
    "\n",
    "#Get average evaluation metrics\n",
    "print('Mean accuracy: %.3f' % mean(scores['test_accuracy']))\n",
    "print('Mean recall_macro: %.3f' % mean(scores['test_recall_macro']))\n",
    "print('Mean f1_macro: %.3f' % mean(scores['test_f1_macro']))"
   ]
  },
  {
   "cell_type": "code",
   "execution_count": 100,
   "metadata": {},
   "outputs": [],
   "source": [
    "scores = pd.DataFrame(scores)\n",
    "scores.to_csv(os.path.join(output_path, 'scores.csv'), header = True, index= None, sep = ',', float_format='%.4f')"
   ]
  },
  {
   "cell_type": "code",
   "execution_count": 61,
   "metadata": {},
   "outputs": [
    {
     "data": {
      "image/png": "[encoded data removed]",
      "text/plain": [
       "<Figure size 432x288 with 2 Axes>"
      ]
     },
     "metadata": {
      "needs_background": "light"
     },
     "output_type": "display_data"
    }
   ],
   "source": [
    "#Ploting the confusion matrix\n",
    "#https://medium.com/sfu-cspmp/surviving-in-a-random-forest-with-imbalanced-datasets-b98b963d52eb\n",
    "from sklearn.metrics import confusion_matrix, plot_confusion_matrix\n",
    "import matplotlib.pyplot as plt\n",
    "\n",
    "target_class = ['5C', '5mC', '5hmC']\n",
    "\n",
    "rf_model.fit(X_train, y_train)\n",
    "y_pred = rf_model.predict(X_test)\n",
    "fig = plot_confusion_matrix(rf_model, X_test, y_test, \n",
    "                            display_labels=target_class, cmap='Blues'\n",
    "                           )\n",
    "plt.title('Standard Random Forest Confusion Matrix')\n",
    "plt.show()"
   ]
  },
  {
   "cell_type": "code",
   "execution_count": 78,
   "metadata": {},
   "outputs": [
    {
     "data": {
      "text/plain": [
       "array([[37,  1,  2],\n",
       "       [ 0, 60,  0],\n",
       "       [ 1,  1, 18]])"
      ]
     },
     "execution_count": 78,
     "metadata": {},
     "output_type": "execute_result"
    }
   ],
   "source": [
    "confusion_matrix(y_test, y_pred)"
   ]
  },
  {
   "cell_type": "code",
   "execution_count": 85,
   "metadata": {},
   "outputs": [],
   "source": [
    "# Plot confusion matrix\n",
    "#https://gist.github.com/hitvoice/36cf44689065ca9b927431546381a3f7\n",
    "import numpy as np\n",
    "import pandas as pd\n",
    "import matplotlib.pyplot as plt\n",
    "import seaborn as sns\n",
    "from sklearn.metrics import confusion_matrix\n",
    "\n",
    "def cm_analysis(y_true, y_pred, filename, labels, ymap=None, figsize=(10,10)):\n",
    "    \"\"\"\n",
    "    Generate matrix plot of confusion matrix with pretty annotations.\n",
    "    The plot image is saved to disk.\n",
    "    args: \n",
    "      y_true:    true label of the data, with shape (nsamples,)\n",
    "      y_pred:    prediction of the data, with shape (nsamples,)\n",
    "      filename:  filename of figure file to save\n",
    "      labels:    string array, name the order of class labels in the confusion matrix.\n",
    "                 use `clf.classes_` if using scikit-learn models.\n",
    "                 with shape (nclass,).\n",
    "      ymap:      dict: any -> string, length == nclass.\n",
    "                 if not None, map the labels & ys to more understandable strings.\n",
    "                 Caution: original y_true, y_pred and labels must align.\n",
    "      figsize:   the size of the figure plotted.\n",
    "    \"\"\"\n",
    "    if ymap is not None:\n",
    "        y_pred = [ymap[yi] for yi in y_pred]\n",
    "        y_true = [ymap[yi] for yi in y_true]\n",
    "        labels = [ymap[yi] for yi in labels]\n",
    "    cm = confusion_matrix(y_true, y_pred, labels=labels)\n",
    "    cm_sum = np.sum(cm, axis=1, keepdims=True)\n",
    "    cm_perc = cm / cm_sum.astype(float) * 100\n",
    "    annot = np.empty_like(cm).astype(str)\n",
    "    nrows, ncols = cm.shape\n",
    "    for i in range(nrows):\n",
    "        for j in range(ncols):\n",
    "            c = cm[i, j]\n",
    "            p = cm_perc[i, j]\n",
    "            if i == j:\n",
    "                s = cm_sum[i]\n",
    "                annot[i, j] = '%.1f%%\\n%d/%d' % (p, c, s)\n",
    "            elif c == 0:\n",
    "                annot[i, j] = ''\n",
    "            else:\n",
    "                annot[i, j] = '%.1f%%\\n%d' % (p, c)\n",
    "    cm = pd.DataFrame(cm, index=labels, columns=labels)\n",
    "    cm.index.name = 'True label'\n",
    "    cm.columns.name = 'Predicted label'\n",
    "    fig, ax = plt.subplots(figsize=figsize)\n",
    "    sns.heatmap(cm, annot=annot, fmt='', ax=ax, cmap=\"Greens\")\n",
    "    plt.savefig(filename)"
   ]
  },
  {
   "cell_type": "code",
   "execution_count": 88,
   "metadata": {},
   "outputs": [
    {
     "data": {
      "image/png": "[encoded data removed]",
      "text/plain": [
       "<Figure size 720x720 with 2 Axes>"
      ]
     },
     "metadata": {
      "needs_background": "light"
     },
     "output_type": "display_data"
    }
   ],
   "source": [
    "cm_analysis(y_test, y_pred, os.path.join(output_path, 'test.png'),\n",
    "            labels = None, ymap=None, figsize=(10,10))"
   ]
  },
  {
   "cell_type": "code",
   "execution_count": 102,
   "metadata": {},
   "outputs": [
    {
     "data": {
      "text/html": [
       "<div>\n",
       "<style scoped>\n",
       "    .dataframe tbody tr th:only-of-type {\n",
       "        vertical-align: middle;\n",
       "    }\n",
       "\n",
       "    .dataframe tbody tr th {\n",
       "        vertical-align: top;\n",
       "    }\n",
       "\n",
       "    .dataframe thead th {\n",
       "        text-align: right;\n",
       "    }\n",
       "</style>\n",
       "<table border=\"1\" class=\"dataframe\">\n",
       "  <thead>\n",
       "    <tr style=\"text-align: right;\">\n",
       "      <th></th>\n",
       "      <th>precision</th>\n",
       "      <th>recall</th>\n",
       "      <th>f1-score</th>\n",
       "      <th>support</th>\n",
       "    </tr>\n",
       "  </thead>\n",
       "  <tbody>\n",
       "    <tr>\n",
       "      <th>5C</th>\n",
       "      <td>0.973684</td>\n",
       "      <td>0.925</td>\n",
       "      <td>0.948718</td>\n",
       "      <td>40.0</td>\n",
       "    </tr>\n",
       "    <tr>\n",
       "      <th>5mC</th>\n",
       "      <td>0.967742</td>\n",
       "      <td>1.000</td>\n",
       "      <td>0.983607</td>\n",
       "      <td>60.0</td>\n",
       "    </tr>\n",
       "    <tr>\n",
       "      <th>5hmC</th>\n",
       "      <td>0.900000</td>\n",
       "      <td>0.900</td>\n",
       "      <td>0.900000</td>\n",
       "      <td>20.0</td>\n",
       "    </tr>\n",
       "  </tbody>\n",
       "</table>\n",
       "</div>"
      ],
      "text/plain": [
       "      precision  recall  f1-score  support\n",
       "5C     0.973684   0.925  0.948718     40.0\n",
       "5mC    0.967742   1.000  0.983607     60.0\n",
       "5hmC   0.900000   0.900  0.900000     20.0"
      ]
     },
     "execution_count": 102,
     "metadata": {},
     "output_type": "execute_result"
    }
   ],
   "source": [
    "# Save the classification report\n",
    "# https://stackoverflow.com/a/53780589\n",
    "\n",
    "from sklearn.metrics import classification_report\n",
    "target_class = ['5C', '5mC', '5hmC']\n",
    "report = classification_report(y_test, y_pred, target_names=target_class, output_dict=True)\n",
    "df = pd.DataFrame(report).transpose()\n",
    "df.head(3)"
   ]
  },
  {
   "cell_type": "code",
   "execution_count": 103,
   "metadata": {},
   "outputs": [],
   "source": [
    "df.to_csv(os.path.join(output_path, 'class_report.csv'), header = True, index= None, sep = ',', float_format='%.4f')"
   ]
  },
  {
   "cell_type": "code",
   "execution_count": null,
   "metadata": {},
   "outputs": [],
   "source": []
  }
 ],
 "metadata": {
  "kernelspec": {
   "display_name": "Python 3",
   "language": "python",
   "name": "python3"
  },
  "language_info": {
   "codemirror_mode": {
    "name": "ipython",
    "version": 3
   },
   "file_extension": ".py",
   "mimetype": "text/x-python",
   "name": "python",
   "nbconvert_exporter": "python",
   "pygments_lexer": "ipython3",
   "version": "3.6.13"
  }
 },
 "nbformat": 4,
 "nbformat_minor": 4
}
