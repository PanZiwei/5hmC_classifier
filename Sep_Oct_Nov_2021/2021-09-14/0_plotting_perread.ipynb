{
 "cells": [
  {
   "cell_type": "code",
   "execution_count": 2,
   "metadata": {},
   "outputs": [],
   "source": [
    "import pandas as pd\n",
    "import numpy as np\n",
    "import sys, os"
   ]
  },
  {
   "cell_type": "code",
   "execution_count": 30,
   "metadata": {},
   "outputs": [
    {
     "data": {
      "text/html": [
       "<div>\n",
       "<style scoped>\n",
       "    .dataframe tbody tr th:only-of-type {\n",
       "        vertical-align: middle;\n",
       "    }\n",
       "\n",
       "    .dataframe tbody tr th {\n",
       "        vertical-align: top;\n",
       "    }\n",
       "\n",
       "    .dataframe thead th {\n",
       "        text-align: right;\n",
       "    }\n",
       "</style>\n",
       "<table border=\"1\" class=\"dataframe\">\n",
       "  <thead>\n",
       "    <tr style=\"text-align: right;\">\n",
       "      <th></th>\n",
       "      <th>chr</th>\n",
       "      <th>start</th>\n",
       "      <th>read_id</th>\n",
       "      <th>strand</th>\n",
       "      <th>5hmC_prob</th>\n",
       "      <th>5mC_prob</th>\n",
       "      <th>5C_prob</th>\n",
       "    </tr>\n",
       "  </thead>\n",
       "  <tbody>\n",
       "    <tr>\n",
       "      <th>0</th>\n",
       "      <td>KJ477685.1</td>\n",
       "      <td>204</td>\n",
       "      <td>3e547b1a-0a3e-4475-9b70-0cbd7c8c82aa</td>\n",
       "      <td>-</td>\n",
       "      <td>0.435397</td>\n",
       "      <td>0.085058</td>\n",
       "      <td>0.479545</td>\n",
       "    </tr>\n",
       "    <tr>\n",
       "      <th>1</th>\n",
       "      <td>KJ477685.1</td>\n",
       "      <td>261</td>\n",
       "      <td>3e547b1a-0a3e-4475-9b70-0cbd7c8c82aa</td>\n",
       "      <td>-</td>\n",
       "      <td>0.342189</td>\n",
       "      <td>0.500821</td>\n",
       "      <td>0.156990</td>\n",
       "    </tr>\n",
       "    <tr>\n",
       "      <th>2</th>\n",
       "      <td>KJ477685.1</td>\n",
       "      <td>261</td>\n",
       "      <td>fe8be0cc-f4c4-49f1-80db-c840a6c7dfe9</td>\n",
       "      <td>-</td>\n",
       "      <td>0.577034</td>\n",
       "      <td>0.057676</td>\n",
       "      <td>0.365290</td>\n",
       "    </tr>\n",
       "    <tr>\n",
       "      <th>3</th>\n",
       "      <td>KJ477685.1</td>\n",
       "      <td>266</td>\n",
       "      <td>3e547b1a-0a3e-4475-9b70-0cbd7c8c82aa</td>\n",
       "      <td>-</td>\n",
       "      <td>0.065316</td>\n",
       "      <td>0.861569</td>\n",
       "      <td>0.073115</td>\n",
       "    </tr>\n",
       "    <tr>\n",
       "      <th>4</th>\n",
       "      <td>KJ477685.1</td>\n",
       "      <td>266</td>\n",
       "      <td>fe8be0cc-f4c4-49f1-80db-c840a6c7dfe9</td>\n",
       "      <td>-</td>\n",
       "      <td>0.794235</td>\n",
       "      <td>0.028885</td>\n",
       "      <td>0.176880</td>\n",
       "    </tr>\n",
       "    <tr>\n",
       "      <th>...</th>\n",
       "      <td>...</td>\n",
       "      <td>...</td>\n",
       "      <td>...</td>\n",
       "      <td>...</td>\n",
       "      <td>...</td>\n",
       "      <td>...</td>\n",
       "      <td>...</td>\n",
       "    </tr>\n",
       "    <tr>\n",
       "      <th>2072</th>\n",
       "      <td>KJ477685.1</td>\n",
       "      <td>164766</td>\n",
       "      <td>570869d4-bfd7-4d9a-9dab-23c5a5bd9e47</td>\n",
       "      <td>-</td>\n",
       "      <td>0.033854</td>\n",
       "      <td>0.029737</td>\n",
       "      <td>0.936408</td>\n",
       "    </tr>\n",
       "    <tr>\n",
       "      <th>2073</th>\n",
       "      <td>KJ477685.1</td>\n",
       "      <td>164790</td>\n",
       "      <td>05eb1b57-0c8d-4aa7-a5d9-55d6d6e2a1dc</td>\n",
       "      <td>-</td>\n",
       "      <td>0.063935</td>\n",
       "      <td>0.909510</td>\n",
       "      <td>0.026555</td>\n",
       "    </tr>\n",
       "    <tr>\n",
       "      <th>2074</th>\n",
       "      <td>KJ477685.1</td>\n",
       "      <td>164790</td>\n",
       "      <td>15dee92a-3e70-4006-a39b-59dc75c9f169</td>\n",
       "      <td>-</td>\n",
       "      <td>0.067223</td>\n",
       "      <td>0.171466</td>\n",
       "      <td>0.761311</td>\n",
       "    </tr>\n",
       "    <tr>\n",
       "      <th>2075</th>\n",
       "      <td>KJ477685.1</td>\n",
       "      <td>164790</td>\n",
       "      <td>436ab228-8780-4633-bace-dec5903849c4</td>\n",
       "      <td>-</td>\n",
       "      <td>0.144235</td>\n",
       "      <td>0.709570</td>\n",
       "      <td>0.146195</td>\n",
       "    </tr>\n",
       "    <tr>\n",
       "      <th>2076</th>\n",
       "      <td>KJ477685.1</td>\n",
       "      <td>164790</td>\n",
       "      <td>570869d4-bfd7-4d9a-9dab-23c5a5bd9e47</td>\n",
       "      <td>-</td>\n",
       "      <td>0.580468</td>\n",
       "      <td>0.375908</td>\n",
       "      <td>0.043624</td>\n",
       "    </tr>\n",
       "  </tbody>\n",
       "</table>\n",
       "<p>2077 rows × 7 columns</p>\n",
       "</div>"
      ],
      "text/plain": [
       "             chr   start                               read_id strand  \\\n",
       "0     KJ477685.1     204  3e547b1a-0a3e-4475-9b70-0cbd7c8c82aa      -   \n",
       "1     KJ477685.1     261  3e547b1a-0a3e-4475-9b70-0cbd7c8c82aa      -   \n",
       "2     KJ477685.1     261  fe8be0cc-f4c4-49f1-80db-c840a6c7dfe9      -   \n",
       "3     KJ477685.1     266  3e547b1a-0a3e-4475-9b70-0cbd7c8c82aa      -   \n",
       "4     KJ477685.1     266  fe8be0cc-f4c4-49f1-80db-c840a6c7dfe9      -   \n",
       "...          ...     ...                                   ...    ...   \n",
       "2072  KJ477685.1  164766  570869d4-bfd7-4d9a-9dab-23c5a5bd9e47      -   \n",
       "2073  KJ477685.1  164790  05eb1b57-0c8d-4aa7-a5d9-55d6d6e2a1dc      -   \n",
       "2074  KJ477685.1  164790  15dee92a-3e70-4006-a39b-59dc75c9f169      -   \n",
       "2075  KJ477685.1  164790  436ab228-8780-4633-bace-dec5903849c4      -   \n",
       "2076  KJ477685.1  164790  570869d4-bfd7-4d9a-9dab-23c5a5bd9e47      -   \n",
       "\n",
       "      5hmC_prob  5mC_prob   5C_prob  \n",
       "0      0.435397  0.085058  0.479545  \n",
       "1      0.342189  0.500821  0.156990  \n",
       "2      0.577034  0.057676  0.365290  \n",
       "3      0.065316  0.861569  0.073115  \n",
       "4      0.794235  0.028885  0.176880  \n",
       "...         ...       ...       ...  \n",
       "2072   0.033854  0.029737  0.936408  \n",
       "2073   0.063935  0.909510  0.026555  \n",
       "2074   0.067223  0.171466  0.761311  \n",
       "2075   0.144235  0.709570  0.146195  \n",
       "2076   0.580468  0.375908  0.043624  \n",
       "\n",
       "[2077 rows x 7 columns]"
      ]
     },
     "execution_count": 30,
     "metadata": {},
     "output_type": "execute_result"
    }
   ],
   "source": [
    "#Pre-process the dataset\n",
    "input_path='/fastscratch/c-panz/2021-09-13'\n",
    "output_path='/pod/2/li-lab/Ziwei/Nanopore/daily/2021-09-14'\n",
    "\n",
    "df_T4=pd.read_csv(os.path.join(input_path, 'T4.Megalodon.per_read.prob.bed'), sep='\\t')\n",
    "df_T4"
   ]
  },
  {
   "cell_type": "code",
   "execution_count": 4,
   "metadata": {},
   "outputs": [
    {
     "data": {
      "text/html": [
       "<div>\n",
       "<style scoped>\n",
       "    .dataframe tbody tr th:only-of-type {\n",
       "        vertical-align: middle;\n",
       "    }\n",
       "\n",
       "    .dataframe tbody tr th {\n",
       "        vertical-align: top;\n",
       "    }\n",
       "\n",
       "    .dataframe thead th {\n",
       "        text-align: right;\n",
       "    }\n",
       "</style>\n",
       "<table border=\"1\" class=\"dataframe\">\n",
       "  <thead>\n",
       "    <tr style=\"text-align: right;\">\n",
       "      <th></th>\n",
       "      <th>chr</th>\n",
       "      <th>start</th>\n",
       "      <th>read_id</th>\n",
       "      <th>strand</th>\n",
       "      <th>5hmC_prob</th>\n",
       "      <th>5mC_prob</th>\n",
       "      <th>5C_prob</th>\n",
       "    </tr>\n",
       "  </thead>\n",
       "  <tbody>\n",
       "  </tbody>\n",
       "</table>\n",
       "</div>"
      ],
      "text/plain": [
       "Empty DataFrame\n",
       "Columns: [chr, start, read_id, strand, 5hmC_prob, 5mC_prob, 5C_prob]\n",
       "Index: []"
      ]
     },
     "execution_count": 4,
     "metadata": {},
     "output_type": "execute_result"
    }
   ],
   "source": [
    "df_T4[df_T4['5hmC_prob'] <= 0 ]"
   ]
  },
  {
   "cell_type": "code",
   "execution_count": 30,
   "metadata": {},
   "outputs": [
    {
     "data": {
      "text/plain": [
       "0.0"
      ]
     },
     "execution_count": 30,
     "metadata": {},
     "output_type": "execute_result"
    }
   ],
   "source": [
    "np.log10(1)"
   ]
  },
  {
   "cell_type": "code",
   "execution_count": 84,
   "metadata": {},
   "outputs": [
    {
     "data": {
      "text/plain": [
       "(-1.8482840270258503e-06, -3.509423795933006)"
      ]
     },
     "execution_count": 84,
     "metadata": {},
     "output_type": "execute_result"
    }
   ],
   "source": [
    "x=df_T4['5hmC_prob']\n",
    "x= x.astype(float)\n",
    "x = np.log10(x)\n",
    "x.max(),x.min()"
   ]
  },
  {
   "cell_type": "code",
   "execution_count": 47,
   "metadata": {},
   "outputs": [
    {
     "data": {
      "image/png": "[encoded data removed]",
      "text/plain": [
       "<Figure size 360x360 with 1 Axes>"
      ]
     },
     "metadata": {},
     "output_type": "display_data"
    }
   ],
   "source": [
    "import seaborn as sns\n",
    "import matplotlib.pyplot as plt\n",
    "\n",
    "#https://seaborn.pydata.org/generated/seaborn.displot.html#seaborn.displot\n",
    "sns.set_style(\"whitegrid\")  # Setting style(Optional)\n",
    "#plt.figure(figsize = (12,10)) #Specify the size of figure we want(Optional)\n",
    "sns.displot(x = df_T4['5hmC_prob'], log_scale = True, kde = True)\n",
    "plt.title('Density plot of log10(P(5hmC))', fontsize= 15)\n",
    "plt.xlabel('log10(P(5hmC))')\n",
    "plt.subplots_adjust(top=0.85)\n",
    "\n",
    "plt.savefig(os.path.join(output_path,'density_plot_log10_P5hmC.png'),\n",
    "           dpi=100)\n",
    "\n",
    "plt.show()"
   ]
  },
  {
   "cell_type": "code",
   "execution_count": null,
   "metadata": {},
   "outputs": [],
   "source": []
  }
 ],
 "metadata": {
  "kernelspec": {
   "display_name": "Python 3",
   "language": "python",
   "name": "python3"
  },
  "language_info": {
   "codemirror_mode": {
    "name": "ipython",
    "version": 3
   },
   "file_extension": ".py",
   "mimetype": "text/x-python",
   "name": "python",
   "nbconvert_exporter": "python",
   "pygments_lexer": "ipython3",
   "version": "3.6.13"
  }
 },
 "nbformat": 4,
 "nbformat_minor": 4
}
