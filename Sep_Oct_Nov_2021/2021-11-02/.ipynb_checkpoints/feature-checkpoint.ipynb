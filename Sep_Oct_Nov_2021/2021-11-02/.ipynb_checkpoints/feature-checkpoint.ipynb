{
 "cells": [
  {
   "cell_type": "code",
   "execution_count": 1,
   "id": "0140ae29-bc7d-464d-85c0-01631a0b1268",
   "metadata": {},
   "outputs": [
    {
     "name": "stdin",
     "output_type": "stream",
     "text": [
      "Once deleted, variables cannot be recovered. Proceed (y/[n])?  y\n"
     ]
    }
   ],
   "source": [
    "%reset"
   ]
  },
  {
   "cell_type": "code",
   "execution_count": 22,
   "id": "43dc56fc-4914-4d75-9cbc-beced453475c",
   "metadata": {},
   "outputs": [],
   "source": [
    "import pandas as pd\n",
    "import numpy as np\n",
    "import os\n",
    "from sklearn.model_selection import train_test_split, StratifiedKFold\n",
    "\n",
    "input_path='/pod/2/li-lab/Ziwei/Nanopore/daily/test/'"
   ]
  },
  {
   "cell_type": "code",
   "execution_count": 23,
   "id": "55a8be97-0b03-47bd-8ede-822c4c5c725a",
   "metadata": {},
   "outputs": [
    {
     "data": {
      "text/html": [
       "<div>\n",
       "<style scoped>\n",
       "    .dataframe tbody tr th:only-of-type {\n",
       "        vertical-align: middle;\n",
       "    }\n",
       "\n",
       "    .dataframe tbody tr th {\n",
       "        vertical-align: top;\n",
       "    }\n",
       "\n",
       "    .dataframe thead th {\n",
       "        text-align: right;\n",
       "    }\n",
       "</style>\n",
       "<table border=\"1\" class=\"dataframe\">\n",
       "  <thead>\n",
       "    <tr style=\"text-align: right;\">\n",
       "      <th></th>\n",
       "      <th>chrom</th>\n",
       "      <th>site_pos</th>\n",
       "      <th>align_strand</th>\n",
       "      <th>loc_in_ref</th>\n",
       "      <th>read_id</th>\n",
       "      <th>read_strand</th>\n",
       "      <th>kmer_seq</th>\n",
       "      <th>kmer_signal_mean</th>\n",
       "      <th>kmer_signal_std</th>\n",
       "      <th>kmer_signal_length</th>\n",
       "      <th>kmer_signal_range</th>\n",
       "      <th>label</th>\n",
       "    </tr>\n",
       "  </thead>\n",
       "  <tbody>\n",
       "    <tr>\n",
       "      <th>0</th>\n",
       "      <td>J02459.1</td>\n",
       "      <td>42108</td>\n",
       "      <td>-</td>\n",
       "      <td>6393</td>\n",
       "      <td>17ff58dc-512e-4b3a-abb8-5ab1bdb42f6a</td>\n",
       "      <td>t</td>\n",
       "      <td>CGGTGATACTTCGTCGC</td>\n",
       "      <td>-1.099168,-1.107496,-1.508581,0.643744,-1.4208...</td>\n",
       "      <td>0.0,0.152239,0.111529,0.187366,0.141536,0.1590...</td>\n",
       "      <td>1,6,9,13,28,6,38,18,21,3,7,17,21,14,14,10,20</td>\n",
       "      <td>0.0,0.424678,0.399697,0.736942,0.549584,0.4496...</td>\n",
       "      <td>0</td>\n",
       "    </tr>\n",
       "    <tr>\n",
       "      <th>1</th>\n",
       "      <td>J02459.1</td>\n",
       "      <td>42105</td>\n",
       "      <td>-</td>\n",
       "      <td>6396</td>\n",
       "      <td>17ff58dc-512e-4b3a-abb8-5ab1bdb42f6a</td>\n",
       "      <td>t</td>\n",
       "      <td>TGATACTTCGTCGCTGT</td>\n",
       "      <td>0.643744,-1.4208,-1.009653,1.055123,-0.112415,...</td>\n",
       "      <td>0.187366,0.141536,0.159047,0.5128,0.257095,0.1...</td>\n",
       "      <td>13,28,6,38,18,21,3,7,17,21,14,14,10,20,15,11,16</td>\n",
       "      <td>0.736942,0.549584,0.44966,2.473129,1.13664,0.5...</td>\n",
       "      <td>0</td>\n",
       "    </tr>\n",
       "    <tr>\n",
       "      <th>2</th>\n",
       "      <td>J02459.1</td>\n",
       "      <td>42104</td>\n",
       "      <td>-</td>\n",
       "      <td>6397</td>\n",
       "      <td>17ff58dc-512e-4b3a-abb8-5ab1bdb42f6a</td>\n",
       "      <td>t</td>\n",
       "      <td>GATACTTCGTCGCTGTC</td>\n",
       "      <td>-1.4208,-1.009653,1.055123,-0.112415,-0.446686...</td>\n",
       "      <td>0.141536,0.159047,0.5128,0.257095,0.15307,0.25...</td>\n",
       "      <td>28,6,38,18,21,3,7,17,21,14,14,10,20,15,11,16,8</td>\n",
       "      <td>0.549584,0.44966,2.473129,1.13664,0.549585,0.5...</td>\n",
       "      <td>0</td>\n",
       "    </tr>\n",
       "  </tbody>\n",
       "</table>\n",
       "</div>"
      ],
      "text/plain": [
       "      chrom  site_pos align_strand  loc_in_ref  \\\n",
       "0  J02459.1     42108            -        6393   \n",
       "1  J02459.1     42105            -        6396   \n",
       "2  J02459.1     42104            -        6397   \n",
       "\n",
       "                                read_id read_strand           kmer_seq  \\\n",
       "0  17ff58dc-512e-4b3a-abb8-5ab1bdb42f6a           t  CGGTGATACTTCGTCGC   \n",
       "1  17ff58dc-512e-4b3a-abb8-5ab1bdb42f6a           t  TGATACTTCGTCGCTGT   \n",
       "2  17ff58dc-512e-4b3a-abb8-5ab1bdb42f6a           t  GATACTTCGTCGCTGTC   \n",
       "\n",
       "                                    kmer_signal_mean  \\\n",
       "0  -1.099168,-1.107496,-1.508581,0.643744,-1.4208...   \n",
       "1  0.643744,-1.4208,-1.009653,1.055123,-0.112415,...   \n",
       "2  -1.4208,-1.009653,1.055123,-0.112415,-0.446686...   \n",
       "\n",
       "                                     kmer_signal_std  \\\n",
       "0  0.0,0.152239,0.111529,0.187366,0.141536,0.1590...   \n",
       "1  0.187366,0.141536,0.159047,0.5128,0.257095,0.1...   \n",
       "2  0.141536,0.159047,0.5128,0.257095,0.15307,0.25...   \n",
       "\n",
       "                                kmer_signal_length  \\\n",
       "0     1,6,9,13,28,6,38,18,21,3,7,17,21,14,14,10,20   \n",
       "1  13,28,6,38,18,21,3,7,17,21,14,14,10,20,15,11,16   \n",
       "2   28,6,38,18,21,3,7,17,21,14,14,10,20,15,11,16,8   \n",
       "\n",
       "                                   kmer_signal_range  label  \n",
       "0  0.0,0.424678,0.399697,0.736942,0.549584,0.4496...      0  \n",
       "1  0.736942,0.549584,0.44966,2.473129,1.13664,0.5...      0  \n",
       "2  0.549584,0.44966,2.473129,1.13664,0.549585,0.5...      0  "
      ]
     },
     "execution_count": 23,
     "metadata": {},
     "output_type": "execute_result"
    }
   ],
   "source": [
    "names = ['chrom', 'site_pos', 'align_strand', 'loc_in_ref', 'read_id', 'read_strand',\n",
    "         'kmer_seq', 'kmer_signal_mean', 'kmer_signal_std', 'kmer_signal_length', 'kmer_signal_range',\n",
    "         'label']\n",
    "####site_pos: start position in 0-based,\n",
    "##if alignd_strand = +, the pos is the C or G location in the reference, pos = [site_pos, site_pos + 1]\n",
    "##if alignd_strand = -, the pos is the G or C location in the reference (C in the kmer still), pos = [site_pos, site_pos + 1]\n",
    "##Filter is in need to pick up the CG pattern\n",
    "df=pd.read_csv(os.path.join(input_path,'feature.test.csv'),sep='\\t', header = None)\n",
    "df.columns = names\n",
    "df.head(3)"
   ]
  },
  {
   "cell_type": "markdown",
   "id": "a5704db0-9f00-452a-b296-a975aedcfd3e",
   "metadata": {},
   "source": [
    "## Forward/reversed exploration in reference"
   ]
  },
  {
   "cell_type": "code",
   "execution_count": 4,
   "id": "d36fb689-bcfb-4e0e-8e0a-4315531e3b08",
   "metadata": {},
   "outputs": [
    {
     "data": {
      "text/html": [
       "<div>\n",
       "<style scoped>\n",
       "    .dataframe tbody tr th:only-of-type {\n",
       "        vertical-align: middle;\n",
       "    }\n",
       "\n",
       "    .dataframe tbody tr th {\n",
       "        vertical-align: top;\n",
       "    }\n",
       "\n",
       "    .dataframe thead th {\n",
       "        text-align: right;\n",
       "    }\n",
       "</style>\n",
       "<table border=\"1\" class=\"dataframe\">\n",
       "  <thead>\n",
       "    <tr style=\"text-align: right;\">\n",
       "      <th></th>\n",
       "      <th>chrom</th>\n",
       "      <th>site_pos</th>\n",
       "      <th>align_strand</th>\n",
       "      <th>loc_in_ref</th>\n",
       "      <th>read_id</th>\n",
       "      <th>read_strand</th>\n",
       "      <th>kmer_seq</th>\n",
       "      <th>kmer_signal_mean</th>\n",
       "      <th>kmer_signal_std</th>\n",
       "      <th>kmer_signal_length</th>\n",
       "      <th>kmer_signal_range</th>\n",
       "      <th>label</th>\n",
       "    </tr>\n",
       "  </thead>\n",
       "  <tbody>\n",
       "    <tr>\n",
       "      <th>981</th>\n",
       "      <td>J02459.1</td>\n",
       "      <td>32506</td>\n",
       "      <td>+</td>\n",
       "      <td>32506</td>\n",
       "      <td>dea70d60-bb7f-4227-aaf8-f08ebf58ac31</td>\n",
       "      <td>t</td>\n",
       "      <td>ACAGGATTCATTGTCCT</td>\n",
       "      <td>-0.139989,0.814478,-0.123791,-1.037187,-2.0065...</td>\n",
       "      <td>0.197427,0.130198,0.20086,0.072271,0.076593,0....</td>\n",
       "      <td>3,9,22,4,3,22,3,4,3,8,13,14,19,10,3,10,21</td>\n",
       "      <td>0.47087,0.394512,1.005372,0.190893,0.178167,0....</td>\n",
       "      <td>0</td>\n",
       "    </tr>\n",
       "    <tr>\n",
       "      <th>982</th>\n",
       "      <td>J02459.1</td>\n",
       "      <td>32510</td>\n",
       "      <td>+</td>\n",
       "      <td>32510</td>\n",
       "      <td>dea70d60-bb7f-4227-aaf8-f08ebf58ac31</td>\n",
       "      <td>t</td>\n",
       "      <td>GATTCATTGTCCTGCTC</td>\n",
       "      <td>-2.006501,-1.994546,0.57268,0.855838,0.182409,...</td>\n",
       "      <td>0.076593,0.126111,0.1171,0.36965,0.073719,0.31...</td>\n",
       "      <td>3,22,3,4,3,8,13,14,19,10,3,10,21,15,3,17,18</td>\n",
       "      <td>0.178167,0.534502,0.254525,0.94174,0.178167,1....</td>\n",
       "      <td>0</td>\n",
       "    </tr>\n",
       "    <tr>\n",
       "      <th>983</th>\n",
       "      <td>J02459.1</td>\n",
       "      <td>32512</td>\n",
       "      <td>+</td>\n",
       "      <td>32512</td>\n",
       "      <td>dea70d60-bb7f-4227-aaf8-f08ebf58ac31</td>\n",
       "      <td>t</td>\n",
       "      <td>TTCATTGTCCTGCTCAA</td>\n",
       "      <td>0.57268,0.855838,0.182409,-1.078548,0.509049,0...</td>\n",
       "      <td>0.1171,0.36965,0.073719,0.312555,0.196774,0.15...</td>\n",
       "      <td>3,4,3,8,13,14,19,10,3,10,21,15,3,17,18,35,8</td>\n",
       "      <td>0.254525,0.94174,0.178167,1.069003,0.789026,0....</td>\n",
       "      <td>0</td>\n",
       "    </tr>\n",
       "  </tbody>\n",
       "</table>\n",
       "</div>"
      ],
      "text/plain": [
       "        chrom  site_pos align_strand  loc_in_ref  \\\n",
       "981  J02459.1     32506            +       32506   \n",
       "982  J02459.1     32510            +       32510   \n",
       "983  J02459.1     32512            +       32512   \n",
       "\n",
       "                                  read_id read_strand           kmer_seq  \\\n",
       "981  dea70d60-bb7f-4227-aaf8-f08ebf58ac31           t  ACAGGATTCATTGTCCT   \n",
       "982  dea70d60-bb7f-4227-aaf8-f08ebf58ac31           t  GATTCATTGTCCTGCTC   \n",
       "983  dea70d60-bb7f-4227-aaf8-f08ebf58ac31           t  TTCATTGTCCTGCTCAA   \n",
       "\n",
       "                                      kmer_signal_mean  \\\n",
       "981  -0.139989,0.814478,-0.123791,-1.037187,-2.0065...   \n",
       "982  -2.006501,-1.994546,0.57268,0.855838,0.182409,...   \n",
       "983  0.57268,0.855838,0.182409,-1.078548,0.509049,0...   \n",
       "\n",
       "                                       kmer_signal_std  \\\n",
       "981  0.197427,0.130198,0.20086,0.072271,0.076593,0....   \n",
       "982  0.076593,0.126111,0.1171,0.36965,0.073719,0.31...   \n",
       "983  0.1171,0.36965,0.073719,0.312555,0.196774,0.15...   \n",
       "\n",
       "                              kmer_signal_length  \\\n",
       "981    3,9,22,4,3,22,3,4,3,8,13,14,19,10,3,10,21   \n",
       "982  3,22,3,4,3,8,13,14,19,10,3,10,21,15,3,17,18   \n",
       "983  3,4,3,8,13,14,19,10,3,10,21,15,3,17,18,35,8   \n",
       "\n",
       "                                     kmer_signal_range  label  \n",
       "981  0.47087,0.394512,1.005372,0.190893,0.178167,0....      0  \n",
       "982  0.178167,0.534502,0.254525,0.94174,0.178167,1....      0  \n",
       "983  0.254525,0.94174,0.178167,1.069003,0.789026,0....      0  "
      ]
     },
     "execution_count": 4,
     "metadata": {},
     "output_type": "execute_result"
    }
   ],
   "source": [
    "df_forward = df[df['align_strand']=='+']\n",
    "df_forward.head(3)"
   ]
  },
  {
   "cell_type": "code",
   "execution_count": 9,
   "id": "cfcb769e-cef6-42ed-8167-59a63e607edb",
   "metadata": {},
   "outputs": [],
   "source": [
    "import statsmodels as sm\n",
    "from cytosine.utils.fast5_helper import fast5_rescale, fast5_normalize_signal, raw_fast5\n",
    "\n",
    "input_path='/pod/2/li-lab/Ziwei/Nanopore/daily/test/test'\n",
    "fast5_fn='00000156-e575-4fb7-9053-d00dbe5c8d9c.fast5'\n",
    "\n",
    "signal_group='Raw/Reads'\n",
    "corrected_group='RawGenomeCorrected_001' #tombo resquiggle save location\n",
    "basecall_group='Basecall_1D_001' #has to be save in the tombo requiggle step\n",
    "basecall_subgroup='BaseCalled_template' #Attention: the basecall_subgroup can be 'basecalled_compl\n",
    "\n",
    "# Test fast5 class\n",
    "path = os.path.join(input_path, fast5_fn)\n",
    "fast5 = raw_fast5(path, corrected_group, basecall_group, basecall_subgroup, signal_group)\n",
    "# Extract signal\n",
    "readid, fast5_signal = fast5.fast5_signal() #get readid\n",
    "\n",
    "#Extract event information: #Raw signal --> Normalization\n",
    "event = fast5.fast5_event()\n",
    "raw_signal = fast5_rescale(path, fast5_signal)\n",
    "norm_signal = fast5_normalize_signal(raw_signal,  method='mad')"
   ]
  },
  {
   "cell_type": "code",
   "execution_count": 33,
   "id": "59a7cf7d-90dc-4183-a5ab-d26ee3ea4684",
   "metadata": {},
   "outputs": [],
   "source": [
    "basecalled_seq, raw_signal_list, norm_signal_list = \"\", [], []\n",
    "for e in event:\n",
    "#    print(e)\n",
    "    basecalled_seq += e[2]\n",
    "#    print(norm_signal[e[0]:(e[0] + e[1])])\n",
    "    norm_signal_list.append(norm_signal[e[0]:(e[0] + e[1])]) #event start position: end position(start+length)\n",
    "    raw_signal_list.append(raw_signal[e[0]:(e[0] + e[1])])\n",
    "    assert len(norm_signal_list) == len(raw_signal_list)"
   ]
  },
  {
   "cell_type": "code",
   "execution_count": 34,
   "id": "f78a8074-a1ff-4815-81a3-d62a8ba760b1",
   "metadata": {},
   "outputs": [
    {
     "data": {
      "text/plain": [
       "32675"
      ]
     },
     "execution_count": 34,
     "metadata": {},
     "output_type": "execute_result"
    }
   ],
   "source": [
    "motif_seq = 'CG'\n",
    "motif = set(motif_seq)\n",
    "seq_length = len(basecalled_seq)\n",
    "seq_length"
   ]
  },
  {
   "cell_type": "code",
   "execution_count": 36,
   "id": "4eb89c4e-d183-41c0-9206-7a06a7c2b46c",
   "metadata": {},
   "outputs": [
    {
     "data": {
      "text/plain": [
       "'TT'"
      ]
     },
     "execution_count": 36,
     "metadata": {},
     "output_type": "execute_result"
    }
   ],
   "source": [
    "basecalled_seq[1:3]"
   ]
  },
  {
   "cell_type": "code",
   "execution_count": null,
   "id": "686f4bea-a1a7-4f52-a143-4315474161a9",
   "metadata": {},
   "outputs": [],
   "source": [
    "for i in range(0, seq_length):\n",
    "    if seq[i:i + motif_length] in motif:\n",
    "        mod_site_loc.append(i + mod_loc)\n",
    "    else:\n",
    "        continue\n",
    "return mod_site_loc"
   ]
  },
  {
   "cell_type": "code",
   "execution_count": 100,
   "id": "c3bc07ae-3e91-47ec-9410-94938f69659d",
   "metadata": {},
   "outputs": [
    {
     "data": {
      "text/plain": [
       "8"
      ]
     },
     "execution_count": 100,
     "metadata": {},
     "output_type": "execute_result"
    }
   ],
   "source": [
    "kmer = 17\n",
    "num_bases = (kmer - 1) // 2\n",
    "num_bases"
   ]
  },
  {
   "cell_type": "code",
   "execution_count": 104,
   "id": "9f62ac64-792e-4502-8df4-81360fad5603",
   "metadata": {},
   "outputs": [
    {
     "data": {
      "text/plain": [
       ">J02459.1:32498-32515\n",
       "ACAGGATTCATTGTCCT"
      ]
     },
     "execution_count": 104,
     "metadata": {},
     "output_type": "execute_result"
    }
   ],
   "source": [
    "from pyfaidx import Fasta\n",
    "ref_path = '/pod/2/li-lab/Ziwei/Nanopore/data/reference/Lambda_phage.fa'\n",
    "##Original Start attributes are 1-based, End attributes are 0-based\n",
    "##when one_based_attributes=False, it becomes 0-based\n",
    "ref_0based = Fasta(ref_path,\"fasta\", one_based_attributes=False)\n",
    "lambda_seq = ref_0based[0][32506-8:32506+8+1]\n",
    "lambda_seq"
   ]
  },
  {
   "cell_type": "code",
   "execution_count": 129,
   "id": "18b6470e-5c7e-4e7b-bf3c-26bd21ca3442",
   "metadata": {},
   "outputs": [
    {
     "data": {
      "text/plain": [
       ">J02459.1:32510-32511\n",
       "G"
      ]
     },
     "execution_count": 129,
     "metadata": {},
     "output_type": "execute_result"
    }
   ],
   "source": [
    "lambda_seq = ref_0based[0][32510:32510+1]\n",
    "lambda_seq"
   ]
  },
  {
   "cell_type": "code",
   "execution_count": 10,
   "id": "db52d628-d915-4169-b2ad-4e0eb9401cc3",
   "metadata": {},
   "outputs": [
    {
     "data": {
      "text/html": [
       "<div>\n",
       "<style scoped>\n",
       "    .dataframe tbody tr th:only-of-type {\n",
       "        vertical-align: middle;\n",
       "    }\n",
       "\n",
       "    .dataframe tbody tr th {\n",
       "        vertical-align: top;\n",
       "    }\n",
       "\n",
       "    .dataframe thead th {\n",
       "        text-align: right;\n",
       "    }\n",
       "</style>\n",
       "<table border=\"1\" class=\"dataframe\">\n",
       "  <thead>\n",
       "    <tr style=\"text-align: right;\">\n",
       "      <th></th>\n",
       "      <th>chrom</th>\n",
       "      <th>site_pos</th>\n",
       "      <th>align_strand</th>\n",
       "      <th>loc_in_ref</th>\n",
       "      <th>read_id</th>\n",
       "      <th>read_strand</th>\n",
       "      <th>kmer_seq</th>\n",
       "      <th>kmer_signal_mean</th>\n",
       "      <th>kmer_signal_std</th>\n",
       "      <th>kmer_signal_length</th>\n",
       "      <th>kmer_signal_range</th>\n",
       "      <th>label</th>\n",
       "    </tr>\n",
       "  </thead>\n",
       "  <tbody>\n",
       "    <tr>\n",
       "      <th>0</th>\n",
       "      <td>J02459.1</td>\n",
       "      <td>42108</td>\n",
       "      <td>-</td>\n",
       "      <td>6393</td>\n",
       "      <td>17ff58dc-512e-4b3a-abb8-5ab1bdb42f6a</td>\n",
       "      <td>t</td>\n",
       "      <td>CGGTGATACTTCGTCGC</td>\n",
       "      <td>-1.099168,-1.107496,-1.508581,0.643744,-1.4208...</td>\n",
       "      <td>0.0,0.152239,0.111529,0.187366,0.141536,0.1590...</td>\n",
       "      <td>1,6,9,13,28,6,38,18,21,3,7,17,21,14,14,10,20</td>\n",
       "      <td>0.0,0.424678,0.399697,0.736942,0.549584,0.4496...</td>\n",
       "      <td>0</td>\n",
       "    </tr>\n",
       "    <tr>\n",
       "      <th>1</th>\n",
       "      <td>J02459.1</td>\n",
       "      <td>42105</td>\n",
       "      <td>-</td>\n",
       "      <td>6396</td>\n",
       "      <td>17ff58dc-512e-4b3a-abb8-5ab1bdb42f6a</td>\n",
       "      <td>t</td>\n",
       "      <td>TGATACTTCGTCGCTGT</td>\n",
       "      <td>0.643744,-1.4208,-1.009653,1.055123,-0.112415,...</td>\n",
       "      <td>0.187366,0.141536,0.159047,0.5128,0.257095,0.1...</td>\n",
       "      <td>13,28,6,38,18,21,3,7,17,21,14,14,10,20,15,11,16</td>\n",
       "      <td>0.736942,0.549584,0.44966,2.473129,1.13664,0.5...</td>\n",
       "      <td>0</td>\n",
       "    </tr>\n",
       "    <tr>\n",
       "      <th>2</th>\n",
       "      <td>J02459.1</td>\n",
       "      <td>42104</td>\n",
       "      <td>-</td>\n",
       "      <td>6397</td>\n",
       "      <td>17ff58dc-512e-4b3a-abb8-5ab1bdb42f6a</td>\n",
       "      <td>t</td>\n",
       "      <td>GATACTTCGTCGCTGTC</td>\n",
       "      <td>-1.4208,-1.009653,1.055123,-0.112415,-0.446686...</td>\n",
       "      <td>0.141536,0.159047,0.5128,0.257095,0.15307,0.25...</td>\n",
       "      <td>28,6,38,18,21,3,7,17,21,14,14,10,20,15,11,16,8</td>\n",
       "      <td>0.549584,0.44966,2.473129,1.13664,0.549585,0.5...</td>\n",
       "      <td>0</td>\n",
       "    </tr>\n",
       "  </tbody>\n",
       "</table>\n",
       "</div>"
      ],
      "text/plain": [
       "      chrom  site_pos align_strand  loc_in_ref  \\\n",
       "0  J02459.1     42108            -        6393   \n",
       "1  J02459.1     42105            -        6396   \n",
       "2  J02459.1     42104            -        6397   \n",
       "\n",
       "                                read_id read_strand           kmer_seq  \\\n",
       "0  17ff58dc-512e-4b3a-abb8-5ab1bdb42f6a           t  CGGTGATACTTCGTCGC   \n",
       "1  17ff58dc-512e-4b3a-abb8-5ab1bdb42f6a           t  TGATACTTCGTCGCTGT   \n",
       "2  17ff58dc-512e-4b3a-abb8-5ab1bdb42f6a           t  GATACTTCGTCGCTGTC   \n",
       "\n",
       "                                    kmer_signal_mean  \\\n",
       "0  -1.099168,-1.107496,-1.508581,0.643744,-1.4208...   \n",
       "1  0.643744,-1.4208,-1.009653,1.055123,-0.112415,...   \n",
       "2  -1.4208,-1.009653,1.055123,-0.112415,-0.446686...   \n",
       "\n",
       "                                     kmer_signal_std  \\\n",
       "0  0.0,0.152239,0.111529,0.187366,0.141536,0.1590...   \n",
       "1  0.187366,0.141536,0.159047,0.5128,0.257095,0.1...   \n",
       "2  0.141536,0.159047,0.5128,0.257095,0.15307,0.25...   \n",
       "\n",
       "                                kmer_signal_length  \\\n",
       "0     1,6,9,13,28,6,38,18,21,3,7,17,21,14,14,10,20   \n",
       "1  13,28,6,38,18,21,3,7,17,21,14,14,10,20,15,11,16   \n",
       "2   28,6,38,18,21,3,7,17,21,14,14,10,20,15,11,16,8   \n",
       "\n",
       "                                   kmer_signal_range  label  \n",
       "0  0.0,0.424678,0.399697,0.736942,0.549584,0.4496...      0  \n",
       "1  0.736942,0.549584,0.44966,2.473129,1.13664,0.5...      0  \n",
       "2  0.549584,0.44966,2.473129,1.13664,0.549585,0.5...      0  "
      ]
     },
     "execution_count": 10,
     "metadata": {},
     "output_type": "execute_result"
    }
   ],
   "source": [
    "df_reverse = df[df['align_strand']=='-']\n",
    "df_reverse.head(3)"
   ]
  },
  {
   "cell_type": "code",
   "execution_count": 16,
   "id": "9226a14b-8072-42a2-9a3d-3873c18f8137",
   "metadata": {},
   "outputs": [
    {
     "data": {
      "text/plain": [
       ">J02459.1:42113-42096 (complement)\n",
       "GATACTTCGTCGCTGTC"
      ]
     },
     "execution_count": 16,
     "metadata": {},
     "output_type": "execute_result"
    }
   ],
   "source": [
    "######Reverse strand\n",
    "from pyfaidx import Fasta\n",
    "ref_path = '/pod/2/li-lab/Ziwei/Nanopore/data/reference/Lambda_phage.fa'\n",
    "##Original Start attributes are 1-based, End attributes are 0-based\n",
    "##when one_based_attributes=False, it becomes 0-based\n",
    "ref_0based = Fasta(ref_path,\"fasta\", one_based_attributes=False)\n",
    "\n",
    "lambda_seq = ref_0based[0][42104-8:42104+8+1].reverse.complement   #Pay attention to the sequence here because of the reverse!!!!\n",
    "lambda_seq"
   ]
  },
  {
   "cell_type": "code",
   "execution_count": 17,
   "id": "b40ba76d-e1c2-4d74-949f-3c15d6e51bb5",
   "metadata": {},
   "outputs": [
    {
     "data": {
      "text/plain": [
       ">J02459.1:42117-42100 (complement)\n",
       "CGGTGATACTTCGTCGC"
      ]
     },
     "execution_count": 17,
     "metadata": {},
     "output_type": "execute_result"
    }
   ],
   "source": [
    "lambda_seq = ref_0based[0][42108-8:42108+8+1].reverse.complement   #Pay attention to the sequence here because of the reverse!!!!\n",
    "lambda_seq"
   ]
  },
  {
   "cell_type": "markdown",
   "id": "d9beb2ee-eba9-42c7-8b8b-a5d32afeb547",
   "metadata": {},
   "source": [
    "### Extract CG pattern"
   ]
  },
  {
   "cell_type": "code",
   "execution_count": 32,
   "id": "49ef0da1-8863-4754-b683-e934b1685f4d",
   "metadata": {},
   "outputs": [
    {
     "data": {
      "text/plain": [
       "8"
      ]
     },
     "execution_count": 32,
     "metadata": {},
     "output_type": "execute_result"
    }
   ],
   "source": [
    "kmer = 17\n",
    "num_bases = (kmer - 1) // 2\n",
    "num_bases"
   ]
  },
  {
   "cell_type": "code",
   "execution_count": 34,
   "id": "8ccfb4b2-8c5f-4330-87f1-e75cad2d8fa5",
   "metadata": {},
   "outputs": [
    {
     "data": {
      "text/plain": [
       "'CG'"
      ]
     },
     "execution_count": 34,
     "metadata": {},
     "output_type": "execute_result"
    }
   ],
   "source": [
    "seq_row = pd.DataFrame()\n",
    "seq_row\n",
    "for seq in df['kmer_seq']:\n",
    "    if seq[num_bases:num_bases+2] == 'CG':\n",
    "        "
   ]
  },
  {
   "cell_type": "code",
   "execution_count": 53,
   "id": "543e0db3-ad34-4a4e-b140-df85d75e1838",
   "metadata": {},
   "outputs": [
    {
     "data": {
      "text/plain": [
       "1    1200\n",
       "0    1000\n",
       "2     300\n",
       "Name: label, dtype: int64"
      ]
     },
     "execution_count": 53,
     "metadata": {},
     "output_type": "execute_result"
    }
   ],
   "source": [
    "df[df.columns[-1]].value_counts()"
   ]
  },
  {
   "cell_type": "code",
   "execution_count": 55,
   "id": "7c17e24b-3950-42c4-89a9-31bd9d95f26e",
   "metadata": {},
   "outputs": [],
   "source": [
    "df_feature = df[df.columns.drop(df.columns[-1])]\n",
    "df_class = np.squeeze(df[df.columns[-1]].values) ##Convert the label into 1d-array"
   ]
  },
  {
   "cell_type": "code",
   "execution_count": 57,
   "id": "b14a5151-f98d-4f65-a8b7-a9c32ead8c5b",
   "metadata": {},
   "outputs": [
    {
     "data": {
      "text/plain": [
       "((2500, 11), (2500,))"
      ]
     },
     "execution_count": 57,
     "metadata": {},
     "output_type": "execute_result"
    }
   ],
   "source": [
    "df_feature.shape, df_class.shape"
   ]
  },
  {
   "cell_type": "code",
   "execution_count": 58,
   "id": "a0d520c6-2d80-4e3e-aacf-672feffc9f6e",
   "metadata": {},
   "outputs": [],
   "source": [
    "#Split the dataset into training, validation and test :\n",
    "X = df_feature\n",
    "y = df_class\n",
    "\n",
    "#Split the data into training and testing\n",
    "X_train, X_test, y_train, y_test = train_test_split(X,\n",
    "                                                    y,\n",
    "                                                    test_size=0.2,\n",
    "                                                    stratify=y,\n",
    "                                                    random_state=42)"
   ]
  },
  {
   "cell_type": "code",
   "execution_count": 59,
   "id": "b0d7aee9-9596-4ecd-8121-55cb58b1f427",
   "metadata": {},
   "outputs": [
    {
     "data": {
      "text/plain": [
       "((2000, 11), (500, 11))"
      ]
     },
     "execution_count": 59,
     "metadata": {},
     "output_type": "execute_result"
    }
   ],
   "source": [
    "X_train.shape, X_test.shape"
   ]
  },
  {
   "cell_type": "code",
   "execution_count": 67,
   "id": "be239170-9746-493a-bab5-8cf7d7a40dc3",
   "metadata": {},
   "outputs": [
    {
     "data": {
      "text/plain": [
       "1"
      ]
     },
     "execution_count": 67,
     "metadata": {},
     "output_type": "execute_result"
    }
   ],
   "source": [
    "motif = set('CG')\n",
    "\n",
    "motif_length = len(list(motif)[0])\n",
    "motif_length"
   ]
  },
  {
   "cell_type": "markdown",
   "id": "017cc234-77f4-4392-af05-152e5a658e76",
   "metadata": {},
   "source": [
    "### Extract CG site only"
   ]
  },
  {
   "cell_type": "code",
   "execution_count": 69,
   "id": "5aefe72e-c283-4078-8583-b7e5aba9cbb2",
   "metadata": {},
   "outputs": [
    {
     "data": {
      "text/html": [
       "<div>\n",
       "<style scoped>\n",
       "    .dataframe tbody tr th:only-of-type {\n",
       "        vertical-align: middle;\n",
       "    }\n",
       "\n",
       "    .dataframe tbody tr th {\n",
       "        vertical-align: top;\n",
       "    }\n",
       "\n",
       "    .dataframe thead th {\n",
       "        text-align: right;\n",
       "    }\n",
       "</style>\n",
       "<table border=\"1\" class=\"dataframe\">\n",
       "  <thead>\n",
       "    <tr style=\"text-align: right;\">\n",
       "      <th></th>\n",
       "      <th>align_strand</th>\n",
       "      <th>kmer_seq</th>\n",
       "    </tr>\n",
       "  </thead>\n",
       "  <tbody>\n",
       "    <tr>\n",
       "      <th>981</th>\n",
       "      <td>+</td>\n",
       "      <td>ACAGGATTCATTGTCCT</td>\n",
       "    </tr>\n",
       "    <tr>\n",
       "      <th>982</th>\n",
       "      <td>+</td>\n",
       "      <td>GATTCATTGTCCTGCTC</td>\n",
       "    </tr>\n",
       "    <tr>\n",
       "      <th>983</th>\n",
       "      <td>+</td>\n",
       "      <td>TTCATTGTCCTGCTCAA</td>\n",
       "    </tr>\n",
       "    <tr>\n",
       "      <th>984</th>\n",
       "      <td>+</td>\n",
       "      <td>TCATTGTCCTGCTCAAA</td>\n",
       "    </tr>\n",
       "    <tr>\n",
       "      <th>985</th>\n",
       "      <td>+</td>\n",
       "      <td>ATTGTCCTGCTCAAAGT</td>\n",
       "    </tr>\n",
       "    <tr>\n",
       "      <th>986</th>\n",
       "      <td>+</td>\n",
       "      <td>TTGTCCTGCTCAAAGTC</td>\n",
       "    </tr>\n",
       "    <tr>\n",
       "      <th>987</th>\n",
       "      <td>+</td>\n",
       "      <td>GTCCTGCTCAAAGTCCA</td>\n",
       "    </tr>\n",
       "    <tr>\n",
       "      <th>988</th>\n",
       "      <td>+</td>\n",
       "      <td>TGCTCAAAGTCCATGCC</td>\n",
       "    </tr>\n",
       "    <tr>\n",
       "      <th>989</th>\n",
       "      <td>+</td>\n",
       "      <td>CTCAAAGTCCATGCCAT</td>\n",
       "    </tr>\n",
       "    <tr>\n",
       "      <th>990</th>\n",
       "      <td>+</td>\n",
       "      <td>TCAAAGTCCATGCCATC</td>\n",
       "    </tr>\n",
       "    <tr>\n",
       "      <th>991</th>\n",
       "      <td>+</td>\n",
       "      <td>AAGTCCATGCCATCAAA</td>\n",
       "    </tr>\n",
       "    <tr>\n",
       "      <th>992</th>\n",
       "      <td>+</td>\n",
       "      <td>AGTCCATGCCATCAAAC</td>\n",
       "    </tr>\n",
       "    <tr>\n",
       "      <th>993</th>\n",
       "      <td>+</td>\n",
       "      <td>GTCCATGCCATCAAACT</td>\n",
       "    </tr>\n",
       "    <tr>\n",
       "      <th>994</th>\n",
       "      <td>+</td>\n",
       "      <td>CATGCCATCAAACTGCT</td>\n",
       "    </tr>\n",
       "    <tr>\n",
       "      <th>995</th>\n",
       "      <td>+</td>\n",
       "      <td>CCATCAAACTGCTGGTT</td>\n",
       "    </tr>\n",
       "    <tr>\n",
       "      <th>996</th>\n",
       "      <td>+</td>\n",
       "      <td>ATCAAACTGCTGGTTTT</td>\n",
       "    </tr>\n",
       "    <tr>\n",
       "      <th>997</th>\n",
       "      <td>+</td>\n",
       "      <td>TCAAACTGCTGGTTTTC</td>\n",
       "    </tr>\n",
       "    <tr>\n",
       "      <th>998</th>\n",
       "      <td>+</td>\n",
       "      <td>AAACTGCTGGTTTTCAT</td>\n",
       "    </tr>\n",
       "    <tr>\n",
       "      <th>999</th>\n",
       "      <td>+</td>\n",
       "      <td>AACTGCTGGTTTTCATT</td>\n",
       "    </tr>\n",
       "  </tbody>\n",
       "</table>\n",
       "</div>"
      ],
      "text/plain": [
       "    align_strand           kmer_seq\n",
       "981            +  ACAGGATTCATTGTCCT\n",
       "982            +  GATTCATTGTCCTGCTC\n",
       "983            +  TTCATTGTCCTGCTCAA\n",
       "984            +  TCATTGTCCTGCTCAAA\n",
       "985            +  ATTGTCCTGCTCAAAGT\n",
       "986            +  TTGTCCTGCTCAAAGTC\n",
       "987            +  GTCCTGCTCAAAGTCCA\n",
       "988            +  TGCTCAAAGTCCATGCC\n",
       "989            +  CTCAAAGTCCATGCCAT\n",
       "990            +  TCAAAGTCCATGCCATC\n",
       "991            +  AAGTCCATGCCATCAAA\n",
       "992            +  AGTCCATGCCATCAAAC\n",
       "993            +  GTCCATGCCATCAAACT\n",
       "994            +  CATGCCATCAAACTGCT\n",
       "995            +  CCATCAAACTGCTGGTT\n",
       "996            +  ATCAAACTGCTGGTTTT\n",
       "997            +  TCAAACTGCTGGTTTTC\n",
       "998            +  AAACTGCTGGTTTTCAT\n",
       "999            +  AACTGCTGGTTTTCATT"
      ]
     },
     "execution_count": 69,
     "metadata": {},
     "output_type": "execute_result"
    }
   ],
   "source": []
  },
  {
   "cell_type": "code",
   "execution_count": 9,
   "id": "42864d84-0619-41c4-9732-b1533f2d2850",
   "metadata": {},
   "outputs": [
    {
     "name": "stdout",
     "output_type": "stream",
     "text": [
      "TensorFlow version: 2.6.1\n"
     ]
    }
   ],
   "source": [
    "import tensorflow as tf\n",
    "from tensorflow.keras.layers import *\n",
    "from tensorflow.keras.models import Model, Sequential\n",
    "print(\"TensorFlow version:\", tf.__version__)"
   ]
  },
  {
   "cell_type": "code",
   "execution_count": 7,
   "id": "5b4aa39e-4cc4-432a-962a-2fae4cd1ab12",
   "metadata": {},
   "outputs": [
    {
     "name": "stdout",
     "output_type": "stream",
     "text": [
      "Downloading data from https://storage.googleapis.com/tensorflow/tf-keras-datasets/mnist.npz\n",
      "11493376/11490434 [==============================] - 0s 0us/step\n",
      "11501568/11490434 [==============================] - 0s 0us/step\n"
     ]
    }
   ],
   "source": [
    "mnist = tf.keras.datasets.mnist\n",
    "\n",
    "(x_train, y_train), (x_test, y_test) = mnist.load_data()\n",
    "x_train, x_test = x_train / 255.0, x_test / 255.0"
   ]
  },
  {
   "cell_type": "code",
   "execution_count": 12,
   "id": "f75ab5b3-5a7a-42bd-ba2d-da95d5ac98bd",
   "metadata": {},
   "outputs": [
    {
     "name": "stdout",
     "output_type": "stream",
     "text": [
      "(60000, 28, 28)\n"
     ]
    }
   ],
   "source": [
    "print(x_train.shape)"
   ]
  },
  {
   "cell_type": "code",
   "execution_count": null,
   "id": "7bda9271-6362-4032-bfee-97d83332a4ed",
   "metadata": {},
   "outputs": [],
   "source": []
  }
 ],
 "metadata": {
  "kernelspec": {
   "display_name": "Python 3",
   "language": "python",
   "name": "python3"
  },
  "language_info": {
   "codemirror_mode": {
    "name": "ipython",
    "version": 3
   },
   "file_extension": ".py",
   "mimetype": "text/x-python",
   "name": "python",
   "nbconvert_exporter": "python",
   "pygments_lexer": "ipython3",
   "version": "3.6.13"
  }
 },
 "nbformat": 4,
 "nbformat_minor": 5
}
