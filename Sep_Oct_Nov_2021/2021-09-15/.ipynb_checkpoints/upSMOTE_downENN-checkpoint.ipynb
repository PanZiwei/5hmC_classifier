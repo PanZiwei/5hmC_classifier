{
 "cells": [
  {
   "cell_type": "code",
   "execution_count": 1,
   "metadata": {},
   "outputs": [
    {
     "name": "stdin",
     "output_type": "stream",
     "text": [
      "Once deleted, variables cannot be recovered. Proceed (y/[n])?  y\n"
     ]
    }
   ],
   "source": [
    "%reset"
   ]
  },
  {
   "cell_type": "code",
   "execution_count": 2,
   "metadata": {},
   "outputs": [],
   "source": [
    "import pandas as pd\n",
    "import numpy as np\n",
    "import sys, os"
   ]
  },
  {
   "cell_type": "code",
   "execution_count": 3,
   "metadata": {},
   "outputs": [],
   "source": [
    "# Plot confusion matrix\n",
    "#https://gist.github.com/hitvoice/36cf44689065ca9b927431546381a3f7\n",
    "import numpy as np\n",
    "import pandas as pd\n",
    "import matplotlib.pyplot as plt\n",
    "import seaborn as sns\n",
    "from sklearn.metrics import confusion_matrix\n",
    "\n",
    "def cm_analysis(y_true, y_pred, filename, labels, ymap=None, figsize=(10,10)):\n",
    "    \"\"\"\n",
    "    Generate matrix plot of confusion matrix with pretty annotations.\n",
    "    The plot image is saved to disk.\n",
    "    args: \n",
    "      y_true:    true label of the data, with shape (nsamples,)\n",
    "      y_pred:    prediction of the data, with shape (nsamples,)\n",
    "      filename:  filename of figure file to save\n",
    "      labels:    string array, name the order of class labels in the confusion matrix.\n",
    "                 use `clf.classes_` if using scikit-learn models.\n",
    "                 with shape (nclass,).\n",
    "      ymap:      dict: any -> string, length == nclass.\n",
    "                 if not None, map the labels & ys to more understandable strings.\n",
    "                 Caution: original y_true, y_pred and labels must align.\n",
    "      figsize:   the size of the figure plotted.\n",
    "    \"\"\"\n",
    "    if ymap is not None:\n",
    "        y_pred = [ymap[yi] for yi in y_pred]\n",
    "        y_true = [ymap[yi] for yi in y_true]\n",
    "        labels = [ymap[yi] for yi in labels]\n",
    "    cm = confusion_matrix(y_true, y_pred, labels=labels)\n",
    "    cm_sum = np.sum(cm, axis=1, keepdims=True)\n",
    "    cm_perc = cm / cm_sum.astype(float) * 100\n",
    "    annot = np.empty_like(cm).astype(str)\n",
    "    nrows, ncols = cm.shape\n",
    "    for i in range(nrows):\n",
    "        for j in range(ncols):\n",
    "            c = cm[i, j]\n",
    "            p = cm_perc[i, j]\n",
    "            if i == j:\n",
    "                s = cm_sum[i]\n",
    "                annot[i, j] = '%.1f%%\\n%d/%d' % (p, c, s)\n",
    "            elif c == 0:\n",
    "                annot[i, j] = ''\n",
    "            else:\n",
    "                annot[i, j] = '%.1f%%\\n%d' % (p, c)\n",
    "    cm = pd.DataFrame(cm, index=labels, columns=labels)\n",
    "    cm.index.name = 'True label'\n",
    "    cm.columns.name = 'Predicted label'\n",
    "    fig, ax = plt.subplots(figsize=figsize)\n",
    "    sns.heatmap(cm, annot=annot, fmt='', ax=ax, cmap=\"Greens\")\n",
    "    plt.savefig(filename)"
   ]
  },
  {
   "cell_type": "code",
   "execution_count": 4,
   "metadata": {},
   "outputs": [
    {
     "data": {
      "text/html": [
       "<div>\n",
       "<style scoped>\n",
       "    .dataframe tbody tr th:only-of-type {\n",
       "        vertical-align: middle;\n",
       "    }\n",
       "\n",
       "    .dataframe tbody tr th {\n",
       "        vertical-align: top;\n",
       "    }\n",
       "\n",
       "    .dataframe thead th {\n",
       "        text-align: right;\n",
       "    }\n",
       "</style>\n",
       "<table border=\"1\" class=\"dataframe\">\n",
       "  <thead>\n",
       "    <tr style=\"text-align: right;\">\n",
       "      <th></th>\n",
       "      <th>chr</th>\n",
       "      <th>start</th>\n",
       "      <th>read_id</th>\n",
       "      <th>strand</th>\n",
       "      <th>5hmC_prob</th>\n",
       "      <th>5mC_prob</th>\n",
       "      <th>5C_prob</th>\n",
       "      <th>label</th>\n",
       "    </tr>\n",
       "  </thead>\n",
       "  <tbody>\n",
       "    <tr>\n",
       "      <th>0</th>\n",
       "      <td>KJ477685.1</td>\n",
       "      <td>204</td>\n",
       "      <td>3e547b1a-0a3e-4475-9b70-0cbd7c8c82aa</td>\n",
       "      <td>-</td>\n",
       "      <td>0.435397</td>\n",
       "      <td>0.085058</td>\n",
       "      <td>0.479545</td>\n",
       "      <td>2</td>\n",
       "    </tr>\n",
       "    <tr>\n",
       "      <th>1</th>\n",
       "      <td>KJ477685.1</td>\n",
       "      <td>261</td>\n",
       "      <td>3e547b1a-0a3e-4475-9b70-0cbd7c8c82aa</td>\n",
       "      <td>-</td>\n",
       "      <td>0.342189</td>\n",
       "      <td>0.500821</td>\n",
       "      <td>0.156990</td>\n",
       "      <td>2</td>\n",
       "    </tr>\n",
       "    <tr>\n",
       "      <th>2</th>\n",
       "      <td>KJ477685.1</td>\n",
       "      <td>261</td>\n",
       "      <td>fe8be0cc-f4c4-49f1-80db-c840a6c7dfe9</td>\n",
       "      <td>-</td>\n",
       "      <td>0.577034</td>\n",
       "      <td>0.057676</td>\n",
       "      <td>0.365290</td>\n",
       "      <td>2</td>\n",
       "    </tr>\n",
       "    <tr>\n",
       "      <th>3</th>\n",
       "      <td>KJ477685.1</td>\n",
       "      <td>266</td>\n",
       "      <td>3e547b1a-0a3e-4475-9b70-0cbd7c8c82aa</td>\n",
       "      <td>-</td>\n",
       "      <td>0.065316</td>\n",
       "      <td>0.861569</td>\n",
       "      <td>0.073115</td>\n",
       "      <td>2</td>\n",
       "    </tr>\n",
       "    <tr>\n",
       "      <th>4</th>\n",
       "      <td>KJ477685.1</td>\n",
       "      <td>266</td>\n",
       "      <td>fe8be0cc-f4c4-49f1-80db-c840a6c7dfe9</td>\n",
       "      <td>-</td>\n",
       "      <td>0.794235</td>\n",
       "      <td>0.028885</td>\n",
       "      <td>0.176880</td>\n",
       "      <td>2</td>\n",
       "    </tr>\n",
       "    <tr>\n",
       "      <th>...</th>\n",
       "      <td>...</td>\n",
       "      <td>...</td>\n",
       "      <td>...</td>\n",
       "      <td>...</td>\n",
       "      <td>...</td>\n",
       "      <td>...</td>\n",
       "      <td>...</td>\n",
       "      <td>...</td>\n",
       "    </tr>\n",
       "    <tr>\n",
       "      <th>592</th>\n",
       "      <td>J02459.1</td>\n",
       "      <td>60</td>\n",
       "      <td>24f224d8-1dda-4fbb-90a1-d299ca9b3273</td>\n",
       "      <td>-</td>\n",
       "      <td>0.025089</td>\n",
       "      <td>0.006866</td>\n",
       "      <td>0.968045</td>\n",
       "      <td>0</td>\n",
       "    </tr>\n",
       "    <tr>\n",
       "      <th>593</th>\n",
       "      <td>J02459.1</td>\n",
       "      <td>60</td>\n",
       "      <td>250b5169-f75c-492f-91ee-6a6ce8409ed9</td>\n",
       "      <td>-</td>\n",
       "      <td>0.051862</td>\n",
       "      <td>0.004506</td>\n",
       "      <td>0.943631</td>\n",
       "      <td>0</td>\n",
       "    </tr>\n",
       "    <tr>\n",
       "      <th>594</th>\n",
       "      <td>J02459.1</td>\n",
       "      <td>60</td>\n",
       "      <td>2539c0b5-58ba-4133-9571-176c5334c386</td>\n",
       "      <td>-</td>\n",
       "      <td>0.032449</td>\n",
       "      <td>0.009848</td>\n",
       "      <td>0.957703</td>\n",
       "      <td>0</td>\n",
       "    </tr>\n",
       "    <tr>\n",
       "      <th>595</th>\n",
       "      <td>J02459.1</td>\n",
       "      <td>60</td>\n",
       "      <td>25634907-a2ae-4bf9-967d-4d18b7c384b3</td>\n",
       "      <td>-</td>\n",
       "      <td>0.080185</td>\n",
       "      <td>0.002185</td>\n",
       "      <td>0.917630</td>\n",
       "      <td>0</td>\n",
       "    </tr>\n",
       "    <tr>\n",
       "      <th>596</th>\n",
       "      <td>J02459.1</td>\n",
       "      <td>60</td>\n",
       "      <td>2592506a-b223-4963-839f-53e5382359c8</td>\n",
       "      <td>-</td>\n",
       "      <td>0.034428</td>\n",
       "      <td>0.003327</td>\n",
       "      <td>0.962244</td>\n",
       "      <td>0</td>\n",
       "    </tr>\n",
       "  </tbody>\n",
       "</table>\n",
       "<p>597 rows × 8 columns</p>\n",
       "</div>"
      ],
      "text/plain": [
       "            chr  start                               read_id strand  \\\n",
       "0    KJ477685.1    204  3e547b1a-0a3e-4475-9b70-0cbd7c8c82aa      -   \n",
       "1    KJ477685.1    261  3e547b1a-0a3e-4475-9b70-0cbd7c8c82aa      -   \n",
       "2    KJ477685.1    261  fe8be0cc-f4c4-49f1-80db-c840a6c7dfe9      -   \n",
       "3    KJ477685.1    266  3e547b1a-0a3e-4475-9b70-0cbd7c8c82aa      -   \n",
       "4    KJ477685.1    266  fe8be0cc-f4c4-49f1-80db-c840a6c7dfe9      -   \n",
       "..          ...    ...                                   ...    ...   \n",
       "592    J02459.1     60  24f224d8-1dda-4fbb-90a1-d299ca9b3273      -   \n",
       "593    J02459.1     60  250b5169-f75c-492f-91ee-6a6ce8409ed9      -   \n",
       "594    J02459.1     60  2539c0b5-58ba-4133-9571-176c5334c386      -   \n",
       "595    J02459.1     60  25634907-a2ae-4bf9-967d-4d18b7c384b3      -   \n",
       "596    J02459.1     60  2592506a-b223-4963-839f-53e5382359c8      -   \n",
       "\n",
       "     5hmC_prob  5mC_prob   5C_prob  label  \n",
       "0     0.435397  0.085058  0.479545      2  \n",
       "1     0.342189  0.500821  0.156990      2  \n",
       "2     0.577034  0.057676  0.365290      2  \n",
       "3     0.065316  0.861569  0.073115      2  \n",
       "4     0.794235  0.028885  0.176880      2  \n",
       "..         ...       ...       ...    ...  \n",
       "592   0.025089  0.006866  0.968045      0  \n",
       "593   0.051862  0.004506  0.943631      0  \n",
       "594   0.032449  0.009848  0.957703      0  \n",
       "595   0.080185  0.002185  0.917630      0  \n",
       "596   0.034428  0.003327  0.962244      0  \n",
       "\n",
       "[597 rows x 8 columns]"
      ]
     },
     "execution_count": 4,
     "metadata": {},
     "output_type": "execute_result"
    }
   ],
   "source": [
    "#Pre-process the dataset\n",
    "input_path='/fastscratch/c-panz/2021-09-14'\n",
    "output_path='/pod/2/li-lab/Ziwei/Nanopore/daily/2021-09-15'\n",
    "df=pd.read_csv(os.path.join(input_path, 'total.test.bed'), sep='\\t')\n",
    "df"
   ]
  },
  {
   "cell_type": "code",
   "execution_count": 5,
   "metadata": {},
   "outputs": [],
   "source": [
    "#Splitting the data into independent and dependent variables\n",
    "df_feature = df.loc[:,['5hmC_prob','5mC_prob','5C_prob']].values\n",
    "df_class = df.loc[:,['label']].values\n",
    "df_class = np.squeeze(df_class) #Convert the label into 1d-array"
   ]
  },
  {
   "cell_type": "code",
   "execution_count": 6,
   "metadata": {},
   "outputs": [],
   "source": [
    "from sklearn.model_selection import train_test_split, RepeatedStratifiedKFold, GridSearchCV, cross_val_score\n",
    "from sklearn.metrics import f1_score\n",
    "from sklearn.metrics import classification_report\n",
    "from sklearn.ensemble import RandomForestClassifier\n",
    "\n",
    "#Randomly spilt dataset to traing/testing dataset with the original ratio\n",
    "X_train, X_test, y_train, y_test = train_test_split(df_feature, \n",
    "                                                    df_class, \n",
    "                                                    test_size=0.2, \n",
    "                                                    stratify=df_class)"
   ]
  },
  {
   "cell_type": "markdown",
   "metadata": {},
   "source": [
    "# SMOTE oversamping\n",
    "\n",
    "SMOTE (Synthetic Minority Oversampling Technique) using Standard Random Forest\n",
    "\n",
    "When using data sampling like SMOTE, it must only be applied to the training dataset, not the entire dataset. "
   ]
  },
  {
   "cell_type": "code",
   "execution_count": 39,
   "metadata": {},
   "outputs": [
    {
     "name": "stdout",
     "output_type": "stream",
     "text": [
      "0.7.0\n"
     ]
    }
   ],
   "source": [
    "import imblearn\n",
    "print(imblearn.__version__)"
   ]
  },
  {
   "cell_type": "code",
   "execution_count": 7,
   "metadata": {},
   "outputs": [
    {
     "name": "stdout",
     "output_type": "stream",
     "text": [
      "Before SMOTE: Counter({1: 239, 0: 159, 2: 79})\n"
     ]
    }
   ],
   "source": [
    "from imblearn.over_sampling import SMOTE\n",
    "from collections import Counter\n",
    "\n",
    "sm = SMOTE(random_state=42)\n",
    "counter = Counter(y_train)\n",
    "print(\"Before SMOTE: {}\".format(counter))"
   ]
  },
  {
   "cell_type": "code",
   "execution_count": 8,
   "metadata": {},
   "outputs": [
    {
     "name": "stdout",
     "output_type": "stream",
     "text": [
      "After SMOTE: Counter({1: 239, 2: 239, 0: 239})\n"
     ]
    }
   ],
   "source": [
    "X_train_smote, y_train_smote = sm.fit_resample(X_train, y_train)\n",
    "counter = Counter(y_train_smote)\n",
    "print(\"After SMOTE: {}\".format(counter))"
   ]
  },
  {
   "cell_type": "markdown",
   "metadata": {},
   "source": [
    "# Test with default parameter"
   ]
  },
  {
   "cell_type": "code",
   "execution_count": 15,
   "metadata": {},
   "outputs": [],
   "source": [
    "#define model\n",
    "example_params = {\n",
    "        'n_estimators': 20,\n",
    "        'max_depth': 5,\n",
    "        'random_state': 42\n",
    "    }\n",
    "rf_model = RandomForestClassifier(**example_params)\n",
    "#Create Stratified K-fold cross validation\n",
    "cv = RepeatedStratifiedKFold(n_splits=10, n_repeats=3, random_state=1)\n",
    "\n",
    "#Fitting the model\n",
    "rf_model.fit(X_train_smote, y_train_smote)\n",
    "y_pred = rf_model.predict(X_test)"
   ]
  },
  {
   "cell_type": "code",
   "execution_count": 17,
   "metadata": {},
   "outputs": [
    {
     "name": "stderr",
     "output_type": "stream",
     "text": [
      "[Parallel(n_jobs=-1)]: Using backend SequentialBackend with 1 concurrent workers.\n",
      "[Parallel(n_jobs=-1)]: Done   1 out of   1 | elapsed:    0.1s remaining:    0.0s\n"
     ]
    },
    {
     "name": "stdout",
     "output_type": "stream",
     "text": [
      "[CV] END .................................................... total time=   0.1s\n",
      "[CV] END .................................................... total time=   0.0s\n",
      "[CV] END .................................................... total time=   0.0s\n",
      "[CV] END .................................................... total time=   0.0s\n",
      "[CV] END .................................................... total time=   0.0s\n",
      "[CV] END .................................................... total time=   0.0s\n",
      "[CV] END .................................................... total time=   0.0s\n",
      "[CV] END .................................................... total time=   0.0s\n",
      "[CV] END .................................................... total time=   0.0s\n",
      "[CV] END .................................................... total time=   0.0s\n",
      "[CV] END .................................................... total time=   0.0s\n",
      "[CV] END .................................................... total time=   0.0s\n",
      "[CV] END .................................................... total time=   0.0s\n",
      "[CV] END .................................................... total time=   0.0s\n",
      "[CV] END .................................................... total time=   0.0s\n",
      "[CV] END .................................................... total time=   0.0s\n",
      "[CV] END .................................................... total time=   0.0s\n",
      "[CV] END .................................................... total time=   0.0s\n",
      "[CV] END .................................................... total time=   0.0s\n",
      "[CV] END .................................................... total time=   0.0s\n",
      "[CV] END .................................................... total time=   0.0s\n",
      "[CV] END .................................................... total time=   0.0s\n",
      "[CV] END .................................................... total time=   0.0s\n",
      "[CV] END .................................................... total time=   0.0s\n",
      "[CV] END .................................................... total time=   0.0s\n",
      "[CV] END .................................................... total time=   0.0s\n",
      "[CV] END .................................................... total time=   0.0s\n",
      "[CV] END .................................................... total time=   0.0s\n",
      "[CV] END .................................................... total time=   0.0s\n",
      "[CV] END .................................................... total time=   0.0s\n",
      "Mean f1_macro:0.942\n"
     ]
    },
    {
     "name": "stderr",
     "output_type": "stream",
     "text": [
      "[Parallel(n_jobs=-1)]: Done  30 out of  30 | elapsed:    1.3s finished\n"
     ]
    }
   ],
   "source": [
    "#Evalute pipeline\n",
    "f1_macro = cross_val_score(rf_model, X_train_smote, y_train_smote, cv=cv, scoring='f1_macro', n_jobs=-1,verbose=3)\n",
    "print('Mean f1_macro:{:.3f}'.format(np.mean(f1_macro)))"
   ]
  },
  {
   "cell_type": "code",
   "execution_count": 11,
   "metadata": {},
   "outputs": [
    {
     "data": {
      "text/html": [
       "<div>\n",
       "<style scoped>\n",
       "    .dataframe tbody tr th:only-of-type {\n",
       "        vertical-align: middle;\n",
       "    }\n",
       "\n",
       "    .dataframe tbody tr th {\n",
       "        vertical-align: top;\n",
       "    }\n",
       "\n",
       "    .dataframe thead th {\n",
       "        text-align: right;\n",
       "    }\n",
       "</style>\n",
       "<table border=\"1\" class=\"dataframe\">\n",
       "  <thead>\n",
       "    <tr style=\"text-align: right;\">\n",
       "      <th></th>\n",
       "      <th>0</th>\n",
       "    </tr>\n",
       "  </thead>\n",
       "  <tbody>\n",
       "    <tr>\n",
       "      <th>0</th>\n",
       "      <td>0.944314</td>\n",
       "    </tr>\n",
       "    <tr>\n",
       "      <th>1</th>\n",
       "      <td>0.931116</td>\n",
       "    </tr>\n",
       "    <tr>\n",
       "      <th>2</th>\n",
       "      <td>0.931551</td>\n",
       "    </tr>\n",
       "  </tbody>\n",
       "</table>\n",
       "</div>"
      ],
      "text/plain": [
       "          0\n",
       "0  0.944314\n",
       "1  0.931116\n",
       "2  0.931551"
      ]
     },
     "execution_count": 11,
     "metadata": {},
     "output_type": "execute_result"
    }
   ],
   "source": [
    "f1_score = pd.DataFrame(f1_macro)\n",
    "f1_score.head(3)"
   ]
  },
  {
   "cell_type": "markdown",
   "metadata": {},
   "source": [
    "# Plotting with default parameter"
   ]
  },
  {
   "cell_type": "code",
   "execution_count": 12,
   "metadata": {},
   "outputs": [
    {
     "data": {
      "image/png": "[encoded data removed]",
      "text/plain": [
       "<Figure size 720x720 with 2 Axes>"
      ]
     },
     "metadata": {
      "needs_background": "light"
     },
     "output_type": "display_data"
    }
   ],
   "source": [
    "cm_analysis(y_test, y_pred, os.path.join(output_path, 'test.png'),\n",
    "            labels = None, ymap=None, figsize=(10,10))"
   ]
  },
  {
   "cell_type": "code",
   "execution_count": 73,
   "metadata": {},
   "outputs": [
    {
     "data": {
      "text/html": [
       "<div>\n",
       "<style scoped>\n",
       "    .dataframe tbody tr th:only-of-type {\n",
       "        vertical-align: middle;\n",
       "    }\n",
       "\n",
       "    .dataframe tbody tr th {\n",
       "        vertical-align: top;\n",
       "    }\n",
       "\n",
       "    .dataframe thead th {\n",
       "        text-align: right;\n",
       "    }\n",
       "</style>\n",
       "<table border=\"1\" class=\"dataframe\">\n",
       "  <thead>\n",
       "    <tr style=\"text-align: right;\">\n",
       "      <th></th>\n",
       "      <th>precision</th>\n",
       "      <th>recall</th>\n",
       "      <th>f1-score</th>\n",
       "      <th>support</th>\n",
       "    </tr>\n",
       "  </thead>\n",
       "  <tbody>\n",
       "    <tr>\n",
       "      <th>5C</th>\n",
       "      <td>1.000000</td>\n",
       "      <td>0.975000</td>\n",
       "      <td>0.987342</td>\n",
       "      <td>40.000000</td>\n",
       "    </tr>\n",
       "    <tr>\n",
       "      <th>5mC</th>\n",
       "      <td>1.000000</td>\n",
       "      <td>0.983333</td>\n",
       "      <td>0.991597</td>\n",
       "      <td>60.000000</td>\n",
       "    </tr>\n",
       "    <tr>\n",
       "      <th>5hmC</th>\n",
       "      <td>0.909091</td>\n",
       "      <td>1.000000</td>\n",
       "      <td>0.952381</td>\n",
       "      <td>20.000000</td>\n",
       "    </tr>\n",
       "    <tr>\n",
       "      <th>accuracy</th>\n",
       "      <td>0.983333</td>\n",
       "      <td>0.983333</td>\n",
       "      <td>0.983333</td>\n",
       "      <td>0.983333</td>\n",
       "    </tr>\n",
       "    <tr>\n",
       "      <th>macro avg</th>\n",
       "      <td>0.969697</td>\n",
       "      <td>0.986111</td>\n",
       "      <td>0.977106</td>\n",
       "      <td>120.000000</td>\n",
       "    </tr>\n",
       "    <tr>\n",
       "      <th>weighted avg</th>\n",
       "      <td>0.984848</td>\n",
       "      <td>0.983333</td>\n",
       "      <td>0.983642</td>\n",
       "      <td>120.000000</td>\n",
       "    </tr>\n",
       "  </tbody>\n",
       "</table>\n",
       "</div>"
      ],
      "text/plain": [
       "              precision    recall  f1-score     support\n",
       "5C             1.000000  0.975000  0.987342   40.000000\n",
       "5mC            1.000000  0.983333  0.991597   60.000000\n",
       "5hmC           0.909091  1.000000  0.952381   20.000000\n",
       "accuracy       0.983333  0.983333  0.983333    0.983333\n",
       "macro avg      0.969697  0.986111  0.977106  120.000000\n",
       "weighted avg   0.984848  0.983333  0.983642  120.000000"
      ]
     },
     "execution_count": 73,
     "metadata": {},
     "output_type": "execute_result"
    }
   ],
   "source": [
    "## Save the classification report\n",
    "from sklearn.metrics import classification_report\n",
    "target_class = ['5C', '5mC', '5hmC']\n",
    "report = classification_report(y_test, y_pred, target_names=target_class, output_dict=True)\n",
    "df = pd.DataFrame(report).transpose()\n",
    "df"
   ]
  },
  {
   "cell_type": "markdown",
   "metadata": {},
   "source": [
    "# Hyperparameter tuning"
   ]
  },
  {
   "cell_type": "code",
   "execution_count": 13,
   "metadata": {},
   "outputs": [
    {
     "name": "stdout",
     "output_type": "stream",
     "text": [
      "# Tuning hyper-parameters for f1_macro\n",
      "\n",
      "Fitting 30 folds for each of 5 candidates, totalling 150 fits\n",
      "[CV 1/30] END n_estimators=10;, score=(train=0.998, test=0.944) total time=   0.0s\n",
      "[CV 2/30] END n_estimators=10;, score=(train=0.995, test=0.958) total time=   0.0s\n",
      "[CV 3/30] END n_estimators=10;, score=(train=0.997, test=0.932) total time=   0.0s\n",
      "[CV 4/30] END n_estimators=10;, score=(train=0.998, test=0.917) total time=   0.0s\n",
      "[CV 5/30] END n_estimators=10;, score=(train=0.997, test=0.986) total time=   0.0s\n",
      "[CV 6/30] END n_estimators=10;, score=(train=0.997, test=0.916) total time=   0.0s\n",
      "[CV 7/30] END n_estimators=10;, score=(train=0.997, test=0.972) total time=   0.0s\n",
      "[CV 8/30] END n_estimators=10;, score=(train=0.997, test=0.944) total time=   0.0s\n",
      "[CV 9/30] END n_estimators=10;, score=(train=0.997, test=0.943) total time=   0.0s\n",
      "[CV 10/30] END n_estimators=10;, score=(train=0.995, test=0.945) total time=   0.0s\n",
      "[CV 11/30] END n_estimators=10;, score=(train=0.994, test=0.929) total time=   0.0s\n",
      "[CV 12/30] END n_estimators=10;, score=(train=0.995, test=0.932) total time=   0.0s\n",
      "[CV 13/30] END n_estimators=10;, score=(train=0.997, test=0.972) total time=   0.0s\n",
      "[CV 14/30] END n_estimators=10;, score=(train=0.998, test=0.945) total time=   0.0s\n",
      "[CV 15/30] END n_estimators=10;, score=(train=0.997, test=0.944) total time=   0.0s\n",
      "[CV 16/30] END n_estimators=10;, score=(train=0.995, test=0.931) total time=   0.0s\n",
      "[CV 17/30] END n_estimators=10;, score=(train=0.994, test=0.959) total time=   0.0s\n",
      "[CV 18/30] END n_estimators=10;, score=(train=0.995, test=0.957) total time=   0.0s\n",
      "[CV 19/30] END n_estimators=10;, score=(train=0.997, test=0.913) total time=   0.0s\n",
      "[CV 20/30] END n_estimators=10;, score=(train=0.997, test=0.972) total time=   0.0s\n",
      "[CV 21/30] END n_estimators=10;, score=(train=0.995, test=0.972) total time=   0.0s\n",
      "[CV 22/30] END n_estimators=10;, score=(train=0.997, test=0.930) total time=   0.0s\n",
      "[CV 23/30] END n_estimators=10;, score=(train=0.997, test=0.944) total time=   0.0s\n",
      "[CV 24/30] END n_estimators=10;, score=(train=0.998, test=0.931) total time=   0.0s\n",
      "[CV 25/30] END n_estimators=10;, score=(train=0.998, test=0.958) total time=   0.0s\n",
      "[CV 26/30] END n_estimators=10;, score=(train=1.000, test=0.887) total time=   0.0s\n",
      "[CV 27/30] END n_estimators=10;, score=(train=0.995, test=0.917) total time=   0.0s\n",
      "[CV 28/30] END n_estimators=10;, score=(train=0.997, test=0.958) total time=   0.0s\n",
      "[CV 29/30] END n_estimators=10;, score=(train=0.997, test=0.943) total time=   0.0s\n",
      "[CV 30/30] END n_estimators=10;, score=(train=0.994, test=0.972) total time=   0.0s\n",
      "[CV 1/30] END n_estimators=50;, score=(train=1.000, test=0.930) total time=   0.1s\n",
      "[CV 2/30] END n_estimators=50;, score=(train=1.000, test=0.945) total time=   0.1s\n",
      "[CV 3/30] END n_estimators=50;, score=(train=1.000, test=0.932) total time=   0.1s\n",
      "[CV 4/30] END n_estimators=50;, score=(train=1.000, test=0.918) total time=   0.1s\n",
      "[CV 5/30] END n_estimators=50;, score=(train=1.000, test=0.986) total time=   0.1s\n",
      "[CV 6/30] END n_estimators=50;, score=(train=1.000, test=0.916) total time=   0.1s\n",
      "[CV 7/30] END n_estimators=50;, score=(train=1.000, test=0.986) total time=   0.1s\n",
      "[CV 8/30] END n_estimators=50;, score=(train=1.000, test=0.958) total time=   0.1s\n",
      "[CV 9/30] END n_estimators=50;, score=(train=0.998, test=0.928) total time=   0.1s\n",
      "[CV 10/30] END n_estimators=50;, score=(train=1.000, test=0.945) total time=   0.1s\n",
      "[CV 11/30] END n_estimators=50;, score=(train=1.000, test=0.944) total time=   0.1s\n",
      "[CV 12/30] END n_estimators=50;, score=(train=1.000, test=0.945) total time=   0.1s\n",
      "[CV 13/30] END n_estimators=50;, score=(train=1.000, test=0.986) total time=   0.1s\n",
      "[CV 14/30] END n_estimators=50;, score=(train=1.000, test=0.932) total time=   0.1s\n",
      "[CV 15/30] END n_estimators=50;, score=(train=1.000, test=0.944) total time=   0.1s\n",
      "[CV 16/30] END n_estimators=50;, score=(train=1.000, test=0.932) total time=   0.1s\n",
      "[CV 17/30] END n_estimators=50;, score=(train=1.000, test=0.959) total time=   0.1s\n",
      "[CV 18/30] END n_estimators=50;, score=(train=1.000, test=0.986) total time=   0.1s\n",
      "[CV 19/30] END n_estimators=50;, score=(train=1.000, test=0.957) total time=   0.1s\n",
      "[CV 20/30] END n_estimators=50;, score=(train=1.000, test=0.958) total time=   0.1s\n",
      "[CV 21/30] END n_estimators=50;, score=(train=1.000, test=0.986) total time=   0.1s\n",
      "[CV 22/30] END n_estimators=50;, score=(train=1.000, test=0.958) total time=   0.1s\n",
      "[CV 23/30] END n_estimators=50;, score=(train=1.000, test=0.944) total time=   0.1s\n",
      "[CV 24/30] END n_estimators=50;, score=(train=1.000, test=0.904) total time=   0.1s\n",
      "[CV 25/30] END n_estimators=50;, score=(train=1.000, test=0.958) total time=   0.1s\n",
      "[CV 26/30] END n_estimators=50;, score=(train=1.000, test=0.888) total time=   0.1s\n",
      "[CV 27/30] END n_estimators=50;, score=(train=1.000, test=0.918) total time=   0.1s\n",
      "[CV 28/30] END n_estimators=50;, score=(train=1.000, test=0.958) total time=   0.1s\n",
      "[CV 29/30] END n_estimators=50;, score=(train=1.000, test=0.943) total time=   0.1s\n",
      "[CV 30/30] END n_estimators=50;, score=(train=1.000, test=0.986) total time=   0.1s\n",
      "[CV 1/30] END n_estimators=100;, score=(train=1.000, test=0.930) total time=   0.1s\n",
      "[CV 2/30] END n_estimators=100;, score=(train=1.000, test=0.945) total time=   0.1s\n",
      "[CV 3/30] END n_estimators=100;, score=(train=1.000, test=0.932) total time=   0.1s\n",
      "[CV 4/30] END n_estimators=100;, score=(train=1.000, test=0.931) total time=   0.1s\n",
      "[CV 5/30] END n_estimators=100;, score=(train=1.000, test=0.986) total time=   0.1s\n",
      "[CV 6/30] END n_estimators=100;, score=(train=1.000, test=0.916) total time=   0.1s\n",
      "[CV 7/30] END n_estimators=100;, score=(train=1.000, test=0.986) total time=   0.1s\n",
      "[CV 8/30] END n_estimators=100;, score=(train=1.000, test=0.958) total time=   0.1s\n",
      "[CV 9/30] END n_estimators=100;, score=(train=1.000, test=0.957) total time=   0.1s\n",
      "[CV 10/30] END n_estimators=100;, score=(train=1.000, test=0.945) total time=   0.1s\n",
      "[CV 11/30] END n_estimators=100;, score=(train=1.000, test=0.944) total time=   0.1s\n",
      "[CV 12/30] END n_estimators=100;, score=(train=1.000, test=0.931) total time=   0.1s\n",
      "[CV 13/30] END n_estimators=100;, score=(train=1.000, test=0.986) total time=   0.2s\n",
      "[CV 14/30] END n_estimators=100;, score=(train=1.000, test=0.945) total time=   0.1s\n",
      "[CV 15/30] END n_estimators=100;, score=(train=1.000, test=0.944) total time=   0.1s\n",
      "[CV 16/30] END n_estimators=100;, score=(train=1.000, test=0.932) total time=   0.1s\n",
      "[CV 17/30] END n_estimators=100;, score=(train=1.000, test=0.945) total time=   0.1s\n",
      "[CV 18/30] END n_estimators=100;, score=(train=1.000, test=0.986) total time=   0.1s\n",
      "[CV 19/30] END n_estimators=100;, score=(train=1.000, test=0.957) total time=   0.1s\n",
      "[CV 20/30] END n_estimators=100;, score=(train=1.000, test=0.972) total time=   0.1s\n",
      "[CV 21/30] END n_estimators=100;, score=(train=1.000, test=0.986) total time=   0.1s\n",
      "[CV 22/30] END n_estimators=100;, score=(train=1.000, test=0.958) total time=   0.1s\n",
      "[CV 23/30] END n_estimators=100;, score=(train=1.000, test=0.958) total time=   0.1s\n",
      "[CV 24/30] END n_estimators=100;, score=(train=1.000, test=0.904) total time=   0.1s\n",
      "[CV 25/30] END n_estimators=100;, score=(train=1.000, test=0.958) total time=   0.1s\n",
      "[CV 26/30] END n_estimators=100;, score=(train=1.000, test=0.888) total time=   0.1s\n",
      "[CV 27/30] END n_estimators=100;, score=(train=1.000, test=0.918) total time=   0.1s\n",
      "[CV 28/30] END n_estimators=100;, score=(train=1.000, test=0.958) total time=   0.1s\n",
      "[CV 29/30] END n_estimators=100;, score=(train=1.000, test=0.943) total time=   0.1s\n",
      "[CV 30/30] END n_estimators=100;, score=(train=1.000, test=1.000) total time=   0.1s\n",
      "[CV 1/30] END n_estimators=200;, score=(train=1.000, test=0.930) total time=   0.2s\n",
      "[CV 2/30] END n_estimators=200;, score=(train=1.000, test=0.931) total time=   0.2s\n",
      "[CV 3/30] END n_estimators=200;, score=(train=1.000, test=0.945) total time=   0.2s\n",
      "[CV 4/30] END n_estimators=200;, score=(train=1.000, test=0.931) total time=   0.2s\n",
      "[CV 5/30] END n_estimators=200;, score=(train=1.000, test=0.986) total time=   0.2s\n",
      "[CV 6/30] END n_estimators=200;, score=(train=1.000, test=0.916) total time=   0.2s\n",
      "[CV 7/30] END n_estimators=200;, score=(train=1.000, test=0.986) total time=   0.2s\n",
      "[CV 8/30] END n_estimators=200;, score=(train=1.000, test=0.972) total time=   0.2s\n",
      "[CV 9/30] END n_estimators=200;, score=(train=1.000, test=0.957) total time=   0.2s\n",
      "[CV 10/30] END n_estimators=200;, score=(train=1.000, test=0.945) total time=   0.2s\n",
      "[CV 11/30] END n_estimators=200;, score=(train=1.000, test=0.944) total time=   0.2s\n",
      "[CV 12/30] END n_estimators=200;, score=(train=1.000, test=0.931) total time=   0.2s\n",
      "[CV 13/30] END n_estimators=200;, score=(train=1.000, test=0.986) total time=   0.2s\n",
      "[CV 14/30] END n_estimators=200;, score=(train=1.000, test=0.945) total time=   0.2s\n",
      "[CV 15/30] END n_estimators=200;, score=(train=1.000, test=0.944) total time=   0.2s\n",
      "[CV 16/30] END n_estimators=200;, score=(train=1.000, test=0.919) total time=   0.2s\n",
      "[CV 17/30] END n_estimators=200;, score=(train=1.000, test=0.959) total time=   0.2s\n",
      "[CV 18/30] END n_estimators=200;, score=(train=1.000, test=0.986) total time=   0.2s\n",
      "[CV 19/30] END n_estimators=200;, score=(train=1.000, test=0.957) total time=   0.2s\n",
      "[CV 20/30] END n_estimators=200;, score=(train=1.000, test=0.972) total time=   0.2s\n",
      "[CV 21/30] END n_estimators=200;, score=(train=1.000, test=0.986) total time=   0.2s\n",
      "[CV 22/30] END n_estimators=200;, score=(train=1.000, test=0.944) total time=   0.2s\n",
      "[CV 23/30] END n_estimators=200;, score=(train=1.000, test=0.958) total time=   0.2s\n",
      "[CV 24/30] END n_estimators=200;, score=(train=1.000, test=0.904) total time=   0.2s\n",
      "[CV 25/30] END n_estimators=200;, score=(train=1.000, test=0.958) total time=   0.2s\n",
      "[CV 26/30] END n_estimators=200;, score=(train=1.000, test=0.888) total time=   0.3s\n",
      "[CV 27/30] END n_estimators=200;, score=(train=1.000, test=0.918) total time=   0.2s\n",
      "[CV 28/30] END n_estimators=200;, score=(train=1.000, test=0.958) total time=   0.2s\n",
      "[CV 29/30] END n_estimators=200;, score=(train=1.000, test=0.943) total time=   0.2s\n",
      "[CV 30/30] END n_estimators=200;, score=(train=1.000, test=1.000) total time=   0.2s\n",
      "[CV 1/30] END n_estimators=300;, score=(train=1.000, test=0.930) total time=   0.4s\n",
      "[CV 2/30] END n_estimators=300;, score=(train=1.000, test=0.945) total time=   0.4s\n",
      "[CV 3/30] END n_estimators=300;, score=(train=1.000, test=0.932) total time=   0.4s\n",
      "[CV 4/30] END n_estimators=300;, score=(train=1.000, test=0.931) total time=   0.4s\n",
      "[CV 5/30] END n_estimators=300;, score=(train=1.000, test=0.986) total time=   0.4s\n",
      "[CV 6/30] END n_estimators=300;, score=(train=1.000, test=0.916) total time=   0.4s\n",
      "[CV 7/30] END n_estimators=300;, score=(train=1.000, test=0.986) total time=   0.4s\n",
      "[CV 8/30] END n_estimators=300;, score=(train=1.000, test=0.972) total time=   0.4s\n",
      "[CV 9/30] END n_estimators=300;, score=(train=1.000, test=0.957) total time=   0.4s\n",
      "[CV 10/30] END n_estimators=300;, score=(train=1.000, test=0.945) total time=   0.4s\n",
      "[CV 11/30] END n_estimators=300;, score=(train=1.000, test=0.944) total time=   0.4s\n",
      "[CV 12/30] END n_estimators=300;, score=(train=1.000, test=0.931) total time=   0.4s\n",
      "[CV 13/30] END n_estimators=300;, score=(train=1.000, test=0.986) total time=   0.4s\n",
      "[CV 14/30] END n_estimators=300;, score=(train=1.000, test=0.945) total time=   0.4s\n",
      "[CV 15/30] END n_estimators=300;, score=(train=1.000, test=0.944) total time=   0.4s\n",
      "[CV 16/30] END n_estimators=300;, score=(train=1.000, test=0.919) total time=   0.4s\n",
      "[CV 17/30] END n_estimators=300;, score=(train=1.000, test=0.945) total time=   0.4s\n",
      "[CV 18/30] END n_estimators=300;, score=(train=1.000, test=0.986) total time=   0.4s\n",
      "[CV 19/30] END n_estimators=300;, score=(train=1.000, test=0.942) total time=   0.4s\n",
      "[CV 20/30] END n_estimators=300;, score=(train=1.000, test=0.972) total time=   0.4s\n",
      "[CV 21/30] END n_estimators=300;, score=(train=1.000, test=0.986) total time=   0.4s\n",
      "[CV 22/30] END n_estimators=300;, score=(train=1.000, test=0.944) total time=   0.4s\n",
      "[CV 23/30] END n_estimators=300;, score=(train=1.000, test=0.958) total time=   0.4s\n",
      "[CV 24/30] END n_estimators=300;, score=(train=1.000, test=0.904) total time=   0.4s\n",
      "[CV 25/30] END n_estimators=300;, score=(train=1.000, test=0.958) total time=   0.4s\n",
      "[CV 26/30] END n_estimators=300;, score=(train=1.000, test=0.888) total time=   0.4s\n",
      "[CV 27/30] END n_estimators=300;, score=(train=1.000, test=0.918) total time=   0.4s\n",
      "[CV 28/30] END n_estimators=300;, score=(train=1.000, test=0.958) total time=   0.4s\n",
      "[CV 29/30] END n_estimators=300;, score=(train=1.000, test=0.943) total time=   0.4s\n",
      "[CV 30/30] END n_estimators=300;, score=(train=1.000, test=1.000) total time=   0.4s\n",
      "Best parameters set found on training set:\n",
      "\n",
      "{'n_estimators': 200}\n",
      "Bestf1_score on validation set in CV:\n",
      "\n",
      "0.9500406864581906\n",
      "0.944 (+/-0.044) for {'n_estimators': 10}\n",
      "0.948 (+/-0.051) for {'n_estimators': 50}\n",
      "0.950 (+/-0.052) for {'n_estimators': 100}\n",
      "0.950 (+/-0.053) for {'n_estimators': 200}\n",
      "0.949 (+/-0.053) for {'n_estimators': 300}\n",
      "\n",
      "Detailed classification report:\n",
      "\n",
      "The model is trained on the full development set after smote.\n",
      "The scores are computed on the full evaluation set.\n",
      "\n"
     ]
    }
   ],
   "source": [
    "from sklearn.model_selection import GridSearchCV\n",
    "#https://scikit-learn.org/stable/modules/generated/sklearn.ensemble.RandomForestClassifier.html\n",
    "# 5 * 2 * 4 * 3 * 3 = 360\n",
    "\n",
    "\n",
    "# Define model\n",
    "rf_model = RandomForestClassifier(random_state=42)\n",
    "\n",
    "#Create Stratified K-fold cross validation\n",
    "cv = RepeatedStratifiedKFold(n_splits=10, n_repeats=3, random_state=1)\n",
    "\n",
    "param_grid = {\n",
    "    'n_estimators'     : [10, 50, 100, 200, 300],\n",
    "#    'max_features'     : ['sqrt', None],\n",
    "#    'max_depth'        : [5, 10, 25, 50],\n",
    "#    'min_samples_split': [5, 8, 10], #The minimum sample number to split an internal node\n",
    "#    'min_samples_leaf' : [3, 4, 5]\n",
    "#    'bootstrap'        : [True, False]\n",
    "}\n",
    "\n",
    "score='f1_macro'\n",
    "print(\"# Tuning hyper-parameters for {}\".format(score))\n",
    "print()\n",
    "\n",
    "##Grid search\n",
    "grid_rf = GridSearchCV(estimator = rf_model, param_grid = param_grid, scoring='f1_macro', cv=cv, \n",
    "                       verbose=3, return_train_score=True, n_jobs=-1)\n",
    "\n",
    "grid_rf.fit(X_train_smote, y_train_smote)\n",
    "\n",
    "print(\"Best parameters set found on training set:\\n\")\n",
    "print(grid_rf.best_params_)\n",
    "\n",
    "print(\"Bestf1_score on validation set in CV:\\n\")\n",
    "print(grid_rf.best_score_)\n",
    "      \n",
    "means = grid_rf.cv_results_['mean_test_score']\n",
    "stds = grid_rf.cv_results_['std_test_score']\n",
    "for mean, std, params in zip(means, stds, grid_rf.cv_results_['params']):\n",
    "    print(\"%0.3f (+/-%0.03f) for %r\" % (mean, std * 2, params))\n",
    "print()\n",
    "\n",
    "print(\"Detailed classification report:\\n\")\n",
    "print(\"The model is trained on the full development set after smote.\")\n",
    "print(\"The scores are computed on the full evaluation set.\")\n",
    "print()\n",
    "y_true, y_pred = y_test, grid_rf.predict(X_test)"
   ]
  },
  {
   "cell_type": "markdown",
   "metadata": {},
   "source": [
    "# Ploting the confusion matrix with best parameter"
   ]
  },
  {
   "cell_type": "code",
   "execution_count": 70,
   "metadata": {},
   "outputs": [
    {
     "data": {
      "image/png": "[encoded data removed]",
      "text/plain": [
       "<Figure size 720x720 with 2 Axes>"
      ]
     },
     "metadata": {
      "needs_background": "light"
     },
     "output_type": "display_data"
    }
   ],
   "source": [
    "cm_analysis(y_true, y_pred, os.path.join(output_path, 'test.png'),\n",
    "            labels = None, ymap=None, figsize=(10,10))"
   ]
  },
  {
   "cell_type": "markdown",
   "metadata": {},
   "source": [
    "## Classification report for the best parameter"
   ]
  },
  {
   "cell_type": "code",
   "execution_count": 36,
   "metadata": {},
   "outputs": [
    {
     "data": {
      "text/html": [
       "<div>\n",
       "<style scoped>\n",
       "    .dataframe tbody tr th:only-of-type {\n",
       "        vertical-align: middle;\n",
       "    }\n",
       "\n",
       "    .dataframe tbody tr th {\n",
       "        vertical-align: top;\n",
       "    }\n",
       "\n",
       "    .dataframe thead th {\n",
       "        text-align: right;\n",
       "    }\n",
       "</style>\n",
       "<table border=\"1\" class=\"dataframe\">\n",
       "  <thead>\n",
       "    <tr style=\"text-align: right;\">\n",
       "      <th></th>\n",
       "      <th>precision</th>\n",
       "      <th>recall</th>\n",
       "      <th>f1-score</th>\n",
       "      <th>support</th>\n",
       "    </tr>\n",
       "  </thead>\n",
       "  <tbody>\n",
       "    <tr>\n",
       "      <th>5C</th>\n",
       "      <td>1.000000</td>\n",
       "      <td>0.900000</td>\n",
       "      <td>0.947368</td>\n",
       "      <td>40.000000</td>\n",
       "    </tr>\n",
       "    <tr>\n",
       "      <th>5mC</th>\n",
       "      <td>0.949153</td>\n",
       "      <td>0.933333</td>\n",
       "      <td>0.941176</td>\n",
       "      <td>60.000000</td>\n",
       "    </tr>\n",
       "    <tr>\n",
       "      <th>5hmC</th>\n",
       "      <td>0.680000</td>\n",
       "      <td>0.850000</td>\n",
       "      <td>0.755556</td>\n",
       "      <td>20.000000</td>\n",
       "    </tr>\n",
       "    <tr>\n",
       "      <th>accuracy</th>\n",
       "      <td>0.908333</td>\n",
       "      <td>0.908333</td>\n",
       "      <td>0.908333</td>\n",
       "      <td>0.908333</td>\n",
       "    </tr>\n",
       "    <tr>\n",
       "      <th>macro avg</th>\n",
       "      <td>0.876384</td>\n",
       "      <td>0.894444</td>\n",
       "      <td>0.881367</td>\n",
       "      <td>120.000000</td>\n",
       "    </tr>\n",
       "    <tr>\n",
       "      <th>weighted avg</th>\n",
       "      <td>0.921243</td>\n",
       "      <td>0.908333</td>\n",
       "      <td>0.912304</td>\n",
       "      <td>120.000000</td>\n",
       "    </tr>\n",
       "  </tbody>\n",
       "</table>\n",
       "</div>"
      ],
      "text/plain": [
       "              precision    recall  f1-score     support\n",
       "5C             1.000000  0.900000  0.947368   40.000000\n",
       "5mC            0.949153  0.933333  0.941176   60.000000\n",
       "5hmC           0.680000  0.850000  0.755556   20.000000\n",
       "accuracy       0.908333  0.908333  0.908333    0.908333\n",
       "macro avg      0.876384  0.894444  0.881367  120.000000\n",
       "weighted avg   0.921243  0.908333  0.912304  120.000000"
      ]
     },
     "execution_count": 36,
     "metadata": {},
     "output_type": "execute_result"
    }
   ],
   "source": [
    "label = ['5C', '5mC', '5hmC']\n",
    "report = classification_report(y_true, y_pred, target_names = label, digits = 4, output_dict=True)\n",
    "df_report = pd.DataFrame(report).transpose()\n",
    "df_report"
   ]
  },
  {
   "cell_type": "markdown",
   "metadata": {},
   "source": [
    "# Undersamping with Edited Nearest Neighbors Rule methods"
   ]
  },
  {
   "cell_type": "code",
   "execution_count": 107,
   "metadata": {},
   "outputs": [
    {
     "name": "stdout",
     "output_type": "stream",
     "text": [
      "Before undersample: Counter({1: 239, 0: 159, 2: 79})\n",
      "After undersample: Counter({1: 223, 0: 120, 2: 79})\n"
     ]
    }
   ],
   "source": [
    "from collections import Counter\n",
    "#from imblearn.under_sampling import TomekLinks\n",
    "from imblearn.under_sampling import EditedNearestNeighbours\n",
    "\n",
    "counter = Counter(y_train)\n",
    "print(\"Before undersample: {}\".format(counter))\n",
    "\n",
    "# define the undersampling method\n",
    "undersample_ENN = EditedNearestNeighbours(n_neighbors=10)\n",
    "\n",
    "# transform the dataset\n",
    "X_train_new, y_train_new = undersample_ENN.fit_resample(X_train, y_train)\n",
    "counter = Counter(y_train_new)\n",
    "print(\"After undersample: {}\".format(counter))"
   ]
  },
  {
   "cell_type": "code",
   "execution_count": 108,
   "metadata": {},
   "outputs": [],
   "source": [
    "#define model\n",
    "example_params = {\n",
    "        'n_estimators': 20,\n",
    "        'max_depth': 5,\n",
    "        'random_state': 42\n",
    "    }\n",
    "rf_model = RandomForestClassifier(**example_params)\n",
    "#Create Stratified K-fold cross validation\n",
    "cv = RepeatedStratifiedKFold(n_splits=10, n_repeats=3, random_state=1)\n",
    "\n",
    "#Fitting the model\n",
    "rf_model.fit(X_train_new, y_train_new)\n",
    "y_pred = rf_model.predict(X_test)"
   ]
  },
  {
   "cell_type": "code",
   "execution_count": 109,
   "metadata": {},
   "outputs": [
    {
     "name": "stdout",
     "output_type": "stream",
     "text": [
      "Mean f1_macro:0.969\n"
     ]
    }
   ],
   "source": [
    "#Evalute pipeline\n",
    "f1_macro = cross_val_score(rf_model, X_train_new, y_train_new, cv=cv, scoring='f1_macro', n_jobs=-1)\n",
    "print('Mean f1_macro:{:.3f}'.format(np.mean(f1_macro)))"
   ]
  },
  {
   "cell_type": "markdown",
   "metadata": {},
   "source": [
    "# Hybridization: SMOTE + Tomek Links / SMOTE + ENN\n",
    "https://www.analyticsvidhya.com/blog/2020/10/overcoming-class-imbalance-using-smote-techniques/"
   ]
  },
  {
   "cell_type": "code",
   "execution_count": 77,
   "metadata": {},
   "outputs": [
    {
     "data": {
      "text/plain": [
       "71"
      ]
     },
     "execution_count": 77,
     "metadata": {},
     "output_type": "execute_result"
    }
   ],
   "source": [
    "import multiprocessing\n",
    "n_jobs = multiprocessing.cpu_count()-1\n",
    "n_jobs"
   ]
  },
  {
   "cell_type": "code",
   "execution_count": 86,
   "metadata": {},
   "outputs": [
    {
     "name": "stdout",
     "output_type": "stream",
     "text": [
      "Current Time = 23:41:45, 09/15/21\n"
     ]
    }
   ],
   "source": [
    "from datetime import datetime\n",
    "\n",
    "now = datetime.now()\n",
    "\n",
    "current_time = now.strftime(\"%H:%M:%S, %D\")\n",
    "print(\"Current Time =\", current_time)\n",
    "\n"
   ]
  },
  {
   "cell_type": "code",
   "execution_count": null,
   "metadata": {},
   "outputs": [],
   "source": []
  }
 ],
 "metadata": {
  "kernelspec": {
   "display_name": "Python 3",
   "language": "python",
   "name": "python3"
  },
  "language_info": {
   "codemirror_mode": {
    "name": "ipython",
    "version": 3
   },
   "file_extension": ".py",
   "mimetype": "text/x-python",
   "name": "python",
   "nbconvert_exporter": "python",
   "pygments_lexer": "ipython3",
   "version": "3.6.13"
  }
 },
 "nbformat": 4,
 "nbformat_minor": 4
}
