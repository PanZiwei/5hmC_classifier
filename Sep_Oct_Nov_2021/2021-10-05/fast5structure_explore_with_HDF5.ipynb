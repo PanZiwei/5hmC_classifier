{
 "cells": [
  {
   "cell_type": "code",
   "execution_count": 1,
   "metadata": {},
   "outputs": [],
   "source": [
    "import h5py, os, sys\n",
    "from io import StringIO\n",
    "from Bio import SeqIO\n",
    "import numpy as np"
   ]
  },
  {
   "cell_type": "code",
   "execution_count": 2,
   "metadata": {},
   "outputs": [
    {
     "ename": "OSError",
     "evalue": "Unable to open file (unable to open file: name = 'test/0003d072-ec5c-436e-9ac7-9b1f2b695e00.fast5', errno = 2, error message = 'No such file or directory', flags = 0, o_flags = 0)",
     "output_type": "error",
     "traceback": [
      "\u001b[0;31m---------------------------------------------------------------------------\u001b[0m",
      "\u001b[0;31mOSError\u001b[0m                                   Traceback (most recent call last)",
      "\u001b[0;32m<ipython-input-2-d379ba2865b7>\u001b[0m in \u001b[0;36m<module>\u001b[0;34m\u001b[0m\n\u001b[1;32m      1\u001b[0m \u001b[0;31m#Use h5py pacakge to read fast5 file\u001b[0m\u001b[0;34m\u001b[0m\u001b[0;34m\u001b[0m\u001b[0;34m\u001b[0m\u001b[0m\n\u001b[1;32m      2\u001b[0m \u001b[0mfast5path\u001b[0m \u001b[0;34m=\u001b[0m \u001b[0;34m'test/0003d072-ec5c-436e-9ac7-9b1f2b695e00.fast5'\u001b[0m\u001b[0;34m\u001b[0m\u001b[0;34m\u001b[0m\u001b[0m\n\u001b[0;32m----> 3\u001b[0;31m \u001b[0mf\u001b[0m \u001b[0;34m=\u001b[0m \u001b[0mh5py\u001b[0m\u001b[0;34m.\u001b[0m\u001b[0mFile\u001b[0m\u001b[0;34m(\u001b[0m\u001b[0mfast5path\u001b[0m\u001b[0;34m,\u001b[0m \u001b[0;34m'r'\u001b[0m\u001b[0;34m)\u001b[0m\u001b[0;34m\u001b[0m\u001b[0;34m\u001b[0m\u001b[0m\n\u001b[0m\u001b[1;32m      4\u001b[0m \u001b[0mf\u001b[0m\u001b[0;34m\u001b[0m\u001b[0;34m\u001b[0m\u001b[0m\n",
      "\u001b[0;32m/projects/li-lab/Ziwei/Anaconda3/envs/nanotest/lib/python3.6/site-packages/h5py/_hl/files.py\u001b[0m in \u001b[0;36m__init__\u001b[0;34m(self, name, mode, driver, libver, userblock_size, swmr, rdcc_nslots, rdcc_nbytes, rdcc_w0, track_order, fs_strategy, fs_persist, fs_threshold, **kwds)\u001b[0m\n\u001b[1;32m    425\u001b[0m                                fapl, fcpl=make_fcpl(track_order=track_order, fs_strategy=fs_strategy,\n\u001b[1;32m    426\u001b[0m                                fs_persist=fs_persist, fs_threshold=fs_threshold),\n\u001b[0;32m--> 427\u001b[0;31m                                swmr=swmr)\n\u001b[0m\u001b[1;32m    428\u001b[0m \u001b[0;34m\u001b[0m\u001b[0m\n\u001b[1;32m    429\u001b[0m             \u001b[0;32mif\u001b[0m \u001b[0misinstance\u001b[0m\u001b[0;34m(\u001b[0m\u001b[0mlibver\u001b[0m\u001b[0;34m,\u001b[0m \u001b[0mtuple\u001b[0m\u001b[0;34m)\u001b[0m\u001b[0;34m:\u001b[0m\u001b[0;34m\u001b[0m\u001b[0;34m\u001b[0m\u001b[0m\n",
      "\u001b[0;32m/projects/li-lab/Ziwei/Anaconda3/envs/nanotest/lib/python3.6/site-packages/h5py/_hl/files.py\u001b[0m in \u001b[0;36mmake_fid\u001b[0;34m(name, mode, userblock_size, fapl, fcpl, swmr)\u001b[0m\n\u001b[1;32m    188\u001b[0m         \u001b[0;32mif\u001b[0m \u001b[0mswmr\u001b[0m \u001b[0;32mand\u001b[0m \u001b[0mswmr_support\u001b[0m\u001b[0;34m:\u001b[0m\u001b[0;34m\u001b[0m\u001b[0;34m\u001b[0m\u001b[0m\n\u001b[1;32m    189\u001b[0m             \u001b[0mflags\u001b[0m \u001b[0;34m|=\u001b[0m \u001b[0mh5f\u001b[0m\u001b[0;34m.\u001b[0m\u001b[0mACC_SWMR_READ\u001b[0m\u001b[0;34m\u001b[0m\u001b[0;34m\u001b[0m\u001b[0m\n\u001b[0;32m--> 190\u001b[0;31m         \u001b[0mfid\u001b[0m \u001b[0;34m=\u001b[0m \u001b[0mh5f\u001b[0m\u001b[0;34m.\u001b[0m\u001b[0mopen\u001b[0m\u001b[0;34m(\u001b[0m\u001b[0mname\u001b[0m\u001b[0;34m,\u001b[0m \u001b[0mflags\u001b[0m\u001b[0;34m,\u001b[0m \u001b[0mfapl\u001b[0m\u001b[0;34m=\u001b[0m\u001b[0mfapl\u001b[0m\u001b[0;34m)\u001b[0m\u001b[0;34m\u001b[0m\u001b[0;34m\u001b[0m\u001b[0m\n\u001b[0m\u001b[1;32m    191\u001b[0m     \u001b[0;32melif\u001b[0m \u001b[0mmode\u001b[0m \u001b[0;34m==\u001b[0m \u001b[0;34m'r+'\u001b[0m\u001b[0;34m:\u001b[0m\u001b[0;34m\u001b[0m\u001b[0;34m\u001b[0m\u001b[0m\n\u001b[1;32m    192\u001b[0m         \u001b[0mfid\u001b[0m \u001b[0;34m=\u001b[0m \u001b[0mh5f\u001b[0m\u001b[0;34m.\u001b[0m\u001b[0mopen\u001b[0m\u001b[0;34m(\u001b[0m\u001b[0mname\u001b[0m\u001b[0;34m,\u001b[0m \u001b[0mh5f\u001b[0m\u001b[0;34m.\u001b[0m\u001b[0mACC_RDWR\u001b[0m\u001b[0;34m,\u001b[0m \u001b[0mfapl\u001b[0m\u001b[0;34m=\u001b[0m\u001b[0mfapl\u001b[0m\u001b[0;34m)\u001b[0m\u001b[0;34m\u001b[0m\u001b[0;34m\u001b[0m\u001b[0m\n",
      "\u001b[0;32mh5py/_objects.pyx\u001b[0m in \u001b[0;36mh5py._objects.with_phil.wrapper\u001b[0;34m()\u001b[0m\n",
      "\u001b[0;32mh5py/_objects.pyx\u001b[0m in \u001b[0;36mh5py._objects.with_phil.wrapper\u001b[0;34m()\u001b[0m\n",
      "\u001b[0;32mh5py/h5f.pyx\u001b[0m in \u001b[0;36mh5py.h5f.open\u001b[0;34m()\u001b[0m\n",
      "\u001b[0;31mOSError\u001b[0m: Unable to open file (unable to open file: name = 'test/0003d072-ec5c-436e-9ac7-9b1f2b695e00.fast5', errno = 2, error message = 'No such file or directory', flags = 0, o_flags = 0)"
     ]
    }
   ],
   "source": [
    "#Use h5py pacakge to read fast5 file\n",
    "\n",
    "fast5path = 'test/0003d072-ec5c-436e-9ac7-9b1f2b695e00.fast5'\n",
    "f = h5py.File(fast5path, 'r')\n",
    "f"
   ]
  },
  {
   "cell_type": "code",
   "execution_count": 3,
   "metadata": {},
   "outputs": [
    {
     "data": {
      "text/plain": [
       "['Analyses', 'Raw', 'UniqueGlobalKey']"
      ]
     },
     "execution_count": 3,
     "metadata": {},
     "output_type": "execute_result"
    }
   ],
   "source": [
    "##Show the group name in the hdf5\n",
    "list(f.keys())"
   ]
  },
  {
   "cell_type": "code",
   "execution_count": 4,
   "metadata": {
    "collapsed": true,
    "jupyter": {
     "outputs_hidden": true
    }
   },
   "outputs": [
    {
     "data": {
      "text/plain": [
       "['Analyses',\n",
       " 'Analyses/Basecall_1D_000',\n",
       " 'Analyses/Basecall_1D_000/BaseCalled_template',\n",
       " 'Analyses/Basecall_1D_000/BaseCalled_template/Fastq',\n",
       " 'Analyses/Basecall_1D_001',\n",
       " 'Analyses/Basecall_1D_001/BaseCalled_template',\n",
       " 'Analyses/Basecall_1D_001/BaseCalled_template/Fastq',\n",
       " 'Analyses/Basecall_1D_001/BaseCalled_template/Move',\n",
       " 'Analyses/Basecall_1D_001/BaseCalled_template/Trace',\n",
       " 'Analyses/Basecall_1D_001/Summary',\n",
       " 'Analyses/Basecall_1D_001/Summary/basecall_1d_template',\n",
       " 'Analyses/RawGenomeCorrected_000',\n",
       " 'Analyses/RawGenomeCorrected_000/BaseCalled_template',\n",
       " 'Analyses/RawGenomeCorrected_000/BaseCalled_template/Alignment',\n",
       " 'Analyses/RawGenomeCorrected_000/BaseCalled_template/Events',\n",
       " 'Analyses/RawGenomeCorrected_001',\n",
       " 'Analyses/RawGenomeCorrected_001/BaseCalled_template',\n",
       " 'Analyses/RawGenomeCorrected_001/BaseCalled_template/Alignment',\n",
       " 'Analyses/RawGenomeCorrected_001/BaseCalled_template/Events',\n",
       " 'Analyses/Segmentation_000',\n",
       " 'Analyses/Segmentation_000/Summary',\n",
       " 'Analyses/Segmentation_000/Summary/segmentation',\n",
       " 'Analyses/Segmentation_001',\n",
       " 'Analyses/Segmentation_001/Summary',\n",
       " 'Analyses/Segmentation_001/Summary/segmentation',\n",
       " 'Raw',\n",
       " 'Raw/Reads',\n",
       " 'Raw/Reads/Read_344142',\n",
       " 'Raw/Reads/Read_344142/Signal',\n",
       " 'UniqueGlobalKey',\n",
       " 'UniqueGlobalKey/channel_id',\n",
       " 'UniqueGlobalKey/context_tags',\n",
       " 'UniqueGlobalKey/tracking_id']"
      ]
     },
     "execution_count": 4,
     "metadata": {},
     "output_type": "execute_result"
    }
   ],
   "source": [
    "# Get the names of all groups and subgroups in the file\n",
    "list_name = []\n",
    "f.visit(list_name.append)\n",
    "list_name"
   ]
  },
  {
   "cell_type": "code",
   "execution_count": 5,
   "metadata": {},
   "outputs": [
    {
     "name": "stdout",
     "output_type": "stream",
     "text": [
      "<HDF5 group \"/Analyses/RawGenomeCorrected_001\" (1 members)>\n",
      "<HDF5 group \"/Analyses/RawGenomeCorrected_001\" (1 members)>\n"
     ]
    }
   ],
   "source": [
    "#Different ways to extract values in different layers\n",
    "print(f['Analyses/RawGenomeCorrected_001'])\n",
    "print(f['Analyses']['RawGenomeCorrected_001'])"
   ]
  },
  {
   "cell_type": "code",
   "execution_count": 6,
   "metadata": {},
   "outputs": [
    {
     "data": {
      "text/plain": [
       "<HDF5 group \"/Analyses/RawGenomeCorrected_001\" (1 members)>"
      ]
     },
     "execution_count": 6,
     "metadata": {},
     "output_type": "execute_result"
    }
   ],
   "source": [
    "##Define the specific group in fast5 by using .join \n",
    "corr_group='RawGenomeCorrected_001'\n",
    "basecall_subgroup='BaseCalled_template'\n",
    "corrgroup_path = f['/'.join(('/Analyses', corr_group))]\n",
    "corrgroup_path"
   ]
  },
  {
   "cell_type": "code",
   "execution_count": 7,
   "metadata": {},
   "outputs": [
    {
     "data": {
      "text/plain": [
       "True"
      ]
     },
     "execution_count": 7,
     "metadata": {},
     "output_type": "execute_result"
    }
   ],
   "source": [
    "#Check whether the fast5 read is template or complementary read\n",
    "test = '/'.join(('/Analyses',corr_group,basecall_subgroup))\n",
    "test.endswith('template')"
   ]
  },
  {
   "cell_type": "code",
   "execution_count": 8,
   "metadata": {},
   "outputs": [
    {
     "data": {
      "text/plain": [
       "'KJ477685.1'"
      ]
     },
     "execution_count": 8,
     "metadata": {},
     "output_type": "execute_result"
    }
   ],
   "source": [
    "##Extract chromosome information\n",
    "strand_path = '/'.join(('/Analyses', corr_group, basecall_subgroup))\n",
    "align_data = f['/'.join((strand_path, 'Alignment'))]\n",
    "chrom = align_data.attrs['mapped_chrom']\n",
    "chrom"
   ]
  },
  {
   "cell_type": "code",
   "execution_count": 11,
   "metadata": {},
   "outputs": [
    {
     "data": {
      "text/plain": [
       "True"
      ]
     },
     "execution_count": 11,
     "metadata": {},
     "output_type": "execute_result"
    }
   ],
   "source": [
    "## Check python version, ensure python >= 3.0\n",
    "sys.version_info.major >=3"
   ]
  },
  {
   "cell_type": "markdown",
   "metadata": {},
   "source": [
    "### Sequence after Guppy basecall"
   ]
  },
  {
   "cell_type": "code",
   "execution_count": 12,
   "metadata": {},
   "outputs": [
    {
     "data": {
      "text/plain": [
       "SeqRecord(seq=Seq('AGTGTACTTCGTTCAGTTGCTTCAATTTAGGTGTTTAACCGTTTTCGCATTTAT...TTC', SingleLetterAlphabet()), id='0003d072-ec5c-436e-9ac7-9b1f2b695e00', name='0003d072-ec5c-436e-9ac7-9b1f2b695e00', description='0003d072-ec5c-436e-9ac7-9b1f2b695e00 runid=d91ad31c79c775c842fbd9190b78583d166c15a0 sampleid=19-li-001 read=344142 ch=276 start_time=2019-02-28T14:18:35Z', dbxrefs=[])"
      ]
     },
     "execution_count": 12,
     "metadata": {},
     "output_type": "execute_result"
    }
   ],
   "source": [
    "##Extract the sequence information\n",
    "##https://github.com/rsemeraro/PyPore/blob/master/lib/fastqparser.py\n",
    "base_path = 'Analyses/Basecall_1D_001/BaseCalled_template/Fastq'\n",
    "fastq = SeqIO.read(StringIO(f[base_path][()].decode('UTF-8')), \"fastq\")\n",
    "fastq"
   ]
  },
  {
   "cell_type": "code",
   "execution_count": 13,
   "metadata": {},
   "outputs": [
    {
     "data": {
      "text/plain": [
       "'0003d072-ec5c-436e-9ac7-9b1f2b695e00'"
      ]
     },
     "execution_count": 13,
     "metadata": {},
     "output_type": "execute_result"
    }
   ],
   "source": [
    "fastq.id"
   ]
  },
  {
   "cell_type": "code",
   "execution_count": 14,
   "metadata": {},
   "outputs": [
    {
     "data": {
      "text/plain": [
       "str"
      ]
     },
     "execution_count": 14,
     "metadata": {},
     "output_type": "execute_result"
    }
   ],
   "source": [
    "type(fastq.id)"
   ]
  },
  {
   "cell_type": "code",
   "execution_count": 15,
   "metadata": {},
   "outputs": [
    {
     "data": {
      "text/plain": [
       "Seq('AGTGTACTTCGTTCAGTTGCTTCAATTTAGGTGTTTAACCGTTTTCGCATTTAT...TTC', SingleLetterAlphabet())"
      ]
     },
     "execution_count": 15,
     "metadata": {},
     "output_type": "execute_result"
    }
   ],
   "source": [
    "fastq.seq"
   ]
  },
  {
   "cell_type": "markdown",
   "metadata": {},
   "source": [
    "### Event after Tombo re-squiggle"
   ]
  },
  {
   "cell_type": "code",
   "execution_count": 25,
   "metadata": {},
   "outputs": [
    {
     "data": {
      "text/plain": [
       "True"
      ]
     },
     "execution_count": 25,
     "metadata": {},
     "output_type": "execute_result"
    }
   ],
   "source": [
    "#Check the value in the event after baescall\n",
    "event = []\n",
    "event_path = f['/'.join([strand_path, 'Events'])]\n",
    "'/'.join([strand_path, 'Events']) in f"
   ]
  },
  {
   "cell_type": "code",
   "execution_count": 26,
   "metadata": {},
   "outputs": [
    {
     "data": {
      "text/plain": [
       "h5py._hl.dataset.Dataset"
      ]
     },
     "execution_count": 26,
     "metadata": {},
     "output_type": "execute_result"
    }
   ],
   "source": [
    "type(event_path)"
   ]
  },
  {
   "cell_type": "code",
   "execution_count": 27,
   "metadata": {},
   "outputs": [
    {
     "data": {
      "text/plain": [
       "[(-1.13370124, nan, 0, 3, b'A'),\n",
       " (-0.91222203, nan, 3, 26, b'A'),\n",
       " (2.19862358, nan, 29, 22, b'T'),\n",
       " (0.08417984, nan, 51, 9, b'A'),\n",
       " (-1.36380601, nan, 60, 51, b'A'),\n",
       " (-0.88788829, nan, 111, 29, b'A'),\n",
       " (2.17762879, nan, 140, 46, b'T'),\n",
       " (0.0334348, nan, 186, 9, b'A'),\n",
       " (-1.37378748, nan, 195, 11, b'A'),\n",
       " (-0.96083065, nan, 206, 34, b'A')]"
      ]
     },
     "execution_count": 27,
     "metadata": {},
     "output_type": "execute_result"
    }
   ],
   "source": [
    "list(event_path)[0:10]"
   ]
  },
  {
   "cell_type": "code",
   "execution_count": 28,
   "metadata": {},
   "outputs": [
    {
     "data": {
      "text/plain": [
       "(0.96449606, nan, 484271, 3, b'C')"
      ]
     },
     "execution_count": 28,
     "metadata": {},
     "output_type": "execute_result"
    }
   ],
   "source": [
    "list(event_path)[-1]"
   ]
  },
  {
   "cell_type": "code",
   "execution_count": 29,
   "metadata": {},
   "outputs": [
    {
     "name": "stdout",
     "output_type": "stream",
     "text": [
      "<class 'h5py._hl.dataset.Dataset'>\n",
      "(29750,)\n",
      "[('norm_mean', '<f8'), ('norm_stdev', '<f8'), ('start', '<u4'), ('length', '<u4'), ('base', 'S1')]\n"
     ]
    }
   ],
   "source": [
    "print(type(event_path))\n",
    "print(event_path.shape)\n",
    "print(event_path.dtype)"
   ]
  },
  {
   "cell_type": "code",
   "execution_count": 31,
   "metadata": {},
   "outputs": [
    {
     "data": {
      "text/plain": [
       "('norm_mean', 'norm_stdev', 'start', 'length', 'base')"
      ]
     },
     "execution_count": 31,
     "metadata": {},
     "output_type": "execute_result"
    }
   ],
   "source": [
    "#Check the header for the event\n",
    "event_path.dtype.names"
   ]
  },
  {
   "cell_type": "code",
   "execution_count": 32,
   "metadata": {},
   "outputs": [
    {
     "data": {
      "text/plain": [
       "'AATAAATAAA'"
      ]
     },
     "execution_count": 32,
     "metadata": {},
     "output_type": "execute_result"
    }
   ],
   "source": [
    "#Get the base information for each event\n",
    "event=list(event_path)\n",
    "for i in range(len(event)):\n",
    "    seq += event[i]['base'].decode('UTF-8')\n",
    "    seq = ''.join(seq)\n",
    "seq[0:10]"
   ]
  },
  {
   "cell_type": "code",
   "execution_count": 33,
   "metadata": {},
   "outputs": [
    {
     "data": {
      "text/plain": [
       "array([ 3, 26, 22, ...,  3,  5,  3], dtype=uint32)"
      ]
     },
     "execution_count": 33,
     "metadata": {},
     "output_type": "execute_result"
    }
   ],
   "source": [
    "length = event_path['length']\n",
    "length"
   ]
  },
  {
   "cell_type": "code",
   "execution_count": 37,
   "metadata": {},
   "outputs": [
    {
     "data": {
      "text/plain": [
       "(485990, 3, 'C')"
      ]
     },
     "execution_count": 37,
     "metadata": {},
     "output_type": "execute_result"
    }
   ],
   "source": [
    "#Get read_start_rel_to_raw\n",
    "read_start_rel_to_raw = event_path.attrs['read_start_rel_to_raw']\n",
    "starts = list(map(lambda x: x+read_start_rel_to_raw, event_path['start']))\n",
    "lengths = event_path['length'].astype(np.int)\n",
    "base = [x.decode(\"UTF-8\") for x in event_path['base']]\n",
    "assert len(starts) == len(lengths)\n",
    "assert len(lengths) == len(base)\n",
    "events = list(zip(starts, lengths, base))\n",
    "events[-1]"
   ]
  },
  {
   "cell_type": "code",
   "execution_count": 38,
   "metadata": {},
   "outputs": [
    {
     "name": "stdout",
     "output_type": "stream",
     "text": [
      "<HDF5 group \"/Raw/Reads/Read_344142\" (1 members)>\n"
     ]
    }
   ],
   "source": [
    "reads_group = 'Raw/Reads'\n",
    "read = list(f[reads_group].values())[0]\n",
    "print(read)"
   ]
  },
  {
   "cell_type": "code",
   "execution_count": 39,
   "metadata": {},
   "outputs": [
    {
     "data": {
      "text/plain": [
       "array([ True,  True,  True, ...,  True,  True,  True])"
      ]
     },
     "execution_count": 39,
     "metadata": {},
     "output_type": "execute_result"
    }
   ],
   "source": [
    "np.array(read['Signal'])==read['Signal'][()]"
   ]
  },
  {
   "cell_type": "code",
   "execution_count": 40,
   "metadata": {},
   "outputs": [
    {
     "data": {
      "text/plain": [
       "array([505, 517, 516, ..., 595, 590, 601], dtype=int16)"
      ]
     },
     "execution_count": 40,
     "metadata": {},
     "output_type": "execute_result"
    }
   ],
   "source": [
    "raw_signal = np.array(read['Signal'])\n",
    "raw_signal"
   ]
  },
  {
   "cell_type": "code",
   "execution_count": 53,
   "metadata": {},
   "outputs": [
    {
     "ename": "KeyboardInterrupt",
     "evalue": "",
     "output_type": "error",
     "traceback": [
      "\u001b[0;31m---------------------------------------------------------------------------\u001b[0m",
      "\u001b[0;31mKeyboardInterrupt\u001b[0m                         Traceback (most recent call last)",
      "\u001b[0;32m<ipython-input-53-4243883172a3>\u001b[0m in \u001b[0;36m<module>\u001b[0;34m\u001b[0m\n\u001b[1;32m     10\u001b[0m     \u001b[0;32mfor\u001b[0m \u001b[0mi\u001b[0m \u001b[0;32min\u001b[0m \u001b[0mrange\u001b[0m\u001b[0;34m(\u001b[0m\u001b[0mlen\u001b[0m\u001b[0;34m(\u001b[0m\u001b[0mevent\u001b[0m\u001b[0;34m)\u001b[0m\u001b[0;34m)\u001b[0m\u001b[0;34m:\u001b[0m\u001b[0;34m\u001b[0m\u001b[0;34m\u001b[0m\u001b[0m\n\u001b[1;32m     11\u001b[0m         \u001b[0mseq\u001b[0m \u001b[0;34m+=\u001b[0m \u001b[0mevent\u001b[0m\u001b[0;34m[\u001b[0m\u001b[0mi\u001b[0m\u001b[0;34m]\u001b[0m\u001b[0;34m[\u001b[0m\u001b[0;34m'base'\u001b[0m\u001b[0;34m]\u001b[0m\u001b[0;34m.\u001b[0m\u001b[0mdecode\u001b[0m\u001b[0;34m(\u001b[0m\u001b[0;34m'UTF-8'\u001b[0m\u001b[0;34m)\u001b[0m\u001b[0;34m\u001b[0m\u001b[0;34m\u001b[0m\u001b[0m\n\u001b[0;32m---> 12\u001b[0;31m         \u001b[0mseq\u001b[0m \u001b[0;34m=\u001b[0m \u001b[0;34m''\u001b[0m\u001b[0;34m.\u001b[0m\u001b[0mjoin\u001b[0m\u001b[0;34m(\u001b[0m\u001b[0mseq\u001b[0m\u001b[0;34m)\u001b[0m\u001b[0;34m\u001b[0m\u001b[0;34m\u001b[0m\u001b[0m\n\u001b[0m\u001b[1;32m     13\u001b[0m         \u001b[0mCGs\u001b[0m \u001b[0;34m=\u001b[0m \u001b[0;34m[\u001b[0m\u001b[0mm\u001b[0m\u001b[0;34m.\u001b[0m\u001b[0mstart\u001b[0m\u001b[0;34m(\u001b[0m\u001b[0;34m)\u001b[0m \u001b[0;32mfor\u001b[0m \u001b[0mm\u001b[0m \u001b[0;32min\u001b[0m \u001b[0mre\u001b[0m\u001b[0;34m.\u001b[0m\u001b[0mfinditer\u001b[0m\u001b[0;34m(\u001b[0m\u001b[0;34m'CG'\u001b[0m\u001b[0;34m,\u001b[0m \u001b[0mseq\u001b[0m\u001b[0;34m)\u001b[0m\u001b[0;34m]\u001b[0m\u001b[0;34m\u001b[0m\u001b[0;34m\u001b[0m\u001b[0m\n\u001b[1;32m     14\u001b[0m \u001b[0;34m\u001b[0m\u001b[0m\n",
      "\u001b[0;31mKeyboardInterrupt\u001b[0m: "
     ]
    }
   ],
   "source": [
    "import seaborn as sns\n",
    "import re\n",
    "fast5path = 'test/0003d072-ec5c-436e-9ac7-9b1f2b695e00.fast5'\n",
    "fast5_data = h5py.File(fast5path, mode='r') \n",
    "\n",
    "event_path = '/'.join(['/Analyses', corr_group, basecall_subgroup, 'Events'])\n",
    "event = []\n",
    "if event_path in fast5_data:\n",
    "    event=list(f[event_path])\n",
    "    for i in range(len(event)):\n",
    "        seq += event[i]['base'].decode('UTF-8')\n",
    "        seq = ''.join(seq)\n",
    "        CGs = [m.start() for m in re.finditer('CG', seq)] \n",
    "        \n",
    "    print(\"We have\", len(event), \"events / bp in the reference genome\")\n",
    "    print(len(CGs), \"CpGs detected in the sequence.\")\n",
    "\n",
    "strand_path = '/'.join(('/Analyses', corr_group, basecall_subgroup))\n",
    "if '/'.join([strand_path, 'Alignment']) in fast5_data:\n",
    "    align_data = fast5_data['/'.join([strand_path, 'Alignment'])]\n",
    "    chrom = align_data.attrs['mapped_chrom']\n",
    "    strand = align_data.attrs['mapped_strand']\n",
    "    start = align_data.attrs['mapped_start']\n",
    "    end = align_data.attrs['mapped_end'] \n",
    "    num_deletions = align_data.attrs['num_deletions']                \n",
    "    num_insertions = align_data.attrs['num_insertions']\n",
    "    num_matches = align_data.attrs['num_matches']\n",
    "    num_mismatches = align_data.attrs['num_mismatches']\n",
    "    BaseCalled_template_status = fast5_data[strand_path].attrs['status']\n",
    "    if strand_path.endswith('template'):\n",
    "        direction = 't'\n",
    "    else:\n",
    "        direction = 'c'\n",
    "        \n",
    "    print(\"Alignment:\")        \n",
    "    print(\"chromosome:\", chrom)\n",
    "    print(\"start:\", start)\n",
    "    print(\"end:\", end)\n",
    "    print(\"strand:\", strand)\n",
    "    print(\"num_deletions:\", num_deletions)\n",
    "    print(\"num_insertions:\", num_insertions)\n",
    "    print(\"num_matches:\", num_matches)\n",
    "    print(\"num_mismatches:\", num_mismatches)\n",
    "    print(\"sequence_direction:\", direction)\n",
    "    print(\"Basecall template:\", BaseCalled_template_status)    "
   ]
  },
  {
   "cell_type": "code",
   "execution_count": null,
   "metadata": {},
   "outputs": [],
   "source": [
    "          \n",
    "data = []\n",
    "for i in CGs:\n",
    "    data.append(events[i][0])    \n",
    "p3=sns.kdeplot(data, shade=True, color=\"b\")    "
   ]
  },
  {
   "cell_type": "code",
   "execution_count": 142,
   "metadata": {},
   "outputs": [
    {
     "data": {
      "text/plain": [
       "<HDF5 dataset \"Signal\": shape (486005,), type \"<i2\">"
      ]
     },
     "execution_count": 142,
     "metadata": {},
     "output_type": "execute_result"
    }
   ],
   "source": [
    "readID = list(fast5_data['Raw']['Reads'])[0]\n",
    "rawSignal = fast5_data['/'.join([read_group, readID, 'Signal'])]\n",
    "rawSignal = "
   ]
  },
  {
   "cell_type": "code",
   "execution_count": 161,
   "metadata": {},
   "outputs": [
    {
     "name": "stdout",
     "output_type": "stream",
     "text": [
      "203.82383728027344 <HDF5 dataset \"Signal\": shape (486005,), type \"<i2\">\n"
     ]
    }
   ],
   "source": [
    "read_group = 'Raw/Reads'\n",
    "if read_group in fast5_data:\n",
    "    #Extract signal information\n",
    "    raw_read = next(iter(fast5_data[read_group].values()))\n",
    "    median_before = raw_read.attrs.get('median_before')\n",
    "    signal = raw_read['Signal']\n",
    "    print(median_before, signal)"
   ]
  },
  {
   "cell_type": "code",
   "execution_count": 157,
   "metadata": {},
   "outputs": [
    {
     "data": {
      "text/plain": [
       "1719"
      ]
     },
     "execution_count": 157,
     "metadata": {},
     "output_type": "execute_result"
    }
   ],
   "source": [
    "read_start_rel_to_raw = fast5_data['/'.join([strand_path, 'Events'])].attrs['read_start_rel_to_raw']\n",
    "read_start_rel_to_raw"
   ]
  },
  {
   "cell_type": "code",
   "execution_count": null,
   "metadata": {},
   "outputs": [],
   "source": []
  }
 ],
 "metadata": {
  "kernelspec": {
   "display_name": "Python 3",
   "language": "python",
   "name": "python3"
  },
  "language_info": {
   "codemirror_mode": {
    "name": "ipython",
    "version": 3
   },
   "file_extension": ".py",
   "mimetype": "text/x-python",
   "name": "python",
   "nbconvert_exporter": "python",
   "pygments_lexer": "ipython3",
   "version": "3.6.13"
  }
 },
 "nbformat": 4,
 "nbformat_minor": 4
}
