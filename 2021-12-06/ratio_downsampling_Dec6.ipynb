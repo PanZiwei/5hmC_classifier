{
 "cells": [
  {
   "cell_type": "markdown",
   "id": "904b0d24-a978-4a55-855f-7a93ff9baa62",
   "metadata": {},
   "source": [
    "# 2021/12/06"
   ]
  },
  {
   "cell_type": "code",
   "execution_count": 2,
   "id": "f6822e4d-1e64-4e7f-85bb-d462b0e58079",
   "metadata": {},
   "outputs": [],
   "source": [
    "import pandas as pd\n",
    "import numpy as np\n",
    "import sys, os"
   ]
  },
  {
   "cell_type": "code",
   "execution_count": 3,
   "id": "4c11b133-aa82-415f-aab6-102d35190c37",
   "metadata": {},
   "outputs": [
    {
     "name": "stdout",
     "output_type": "stream",
     "text": [
      "Data is loading!\n"
     ]
    },
    {
     "data": {
      "text/html": [
       "<div>\n",
       "<style scoped>\n",
       "    .dataframe tbody tr th:only-of-type {\n",
       "        vertical-align: middle;\n",
       "    }\n",
       "\n",
       "    .dataframe tbody tr th {\n",
       "        vertical-align: top;\n",
       "    }\n",
       "\n",
       "    .dataframe thead th {\n",
       "        text-align: right;\n",
       "    }\n",
       "</style>\n",
       "<table border=\"1\" class=\"dataframe\">\n",
       "  <thead>\n",
       "    <tr style=\"text-align: right;\">\n",
       "      <th></th>\n",
       "      <th>chr</th>\n",
       "      <th>start</th>\n",
       "      <th>read_id</th>\n",
       "      <th>strand</th>\n",
       "      <th>5hmC_prob</th>\n",
       "      <th>5mC_prob</th>\n",
       "      <th>5C_prob</th>\n",
       "      <th>label</th>\n",
       "    </tr>\n",
       "  </thead>\n",
       "  <tbody>\n",
       "    <tr>\n",
       "      <th>0</th>\n",
       "      <td>KJ477685.1</td>\n",
       "      <td>204</td>\n",
       "      <td>3e547b1a-0a3e-4475-9b70-0cbd7c8c82aa</td>\n",
       "      <td>-</td>\n",
       "      <td>0.435397</td>\n",
       "      <td>0.085058</td>\n",
       "      <td>0.479545</td>\n",
       "      <td>2</td>\n",
       "    </tr>\n",
       "    <tr>\n",
       "      <th>1</th>\n",
       "      <td>KJ477685.1</td>\n",
       "      <td>261</td>\n",
       "      <td>3e547b1a-0a3e-4475-9b70-0cbd7c8c82aa</td>\n",
       "      <td>-</td>\n",
       "      <td>0.342189</td>\n",
       "      <td>0.500821</td>\n",
       "      <td>0.156990</td>\n",
       "      <td>2</td>\n",
       "    </tr>\n",
       "    <tr>\n",
       "      <th>2</th>\n",
       "      <td>KJ477685.1</td>\n",
       "      <td>261</td>\n",
       "      <td>fe8be0cc-f4c4-49f1-80db-c840a6c7dfe9</td>\n",
       "      <td>-</td>\n",
       "      <td>0.577034</td>\n",
       "      <td>0.057676</td>\n",
       "      <td>0.365290</td>\n",
       "      <td>2</td>\n",
       "    </tr>\n",
       "    <tr>\n",
       "      <th>3</th>\n",
       "      <td>KJ477685.1</td>\n",
       "      <td>266</td>\n",
       "      <td>3e547b1a-0a3e-4475-9b70-0cbd7c8c82aa</td>\n",
       "      <td>-</td>\n",
       "      <td>0.065316</td>\n",
       "      <td>0.861569</td>\n",
       "      <td>0.073115</td>\n",
       "      <td>2</td>\n",
       "    </tr>\n",
       "    <tr>\n",
       "      <th>4</th>\n",
       "      <td>KJ477685.1</td>\n",
       "      <td>266</td>\n",
       "      <td>fe8be0cc-f4c4-49f1-80db-c840a6c7dfe9</td>\n",
       "      <td>-</td>\n",
       "      <td>0.794235</td>\n",
       "      <td>0.028885</td>\n",
       "      <td>0.176880</td>\n",
       "      <td>2</td>\n",
       "    </tr>\n",
       "    <tr>\n",
       "      <th>...</th>\n",
       "      <td>...</td>\n",
       "      <td>...</td>\n",
       "      <td>...</td>\n",
       "      <td>...</td>\n",
       "      <td>...</td>\n",
       "      <td>...</td>\n",
       "      <td>...</td>\n",
       "      <td>...</td>\n",
       "    </tr>\n",
       "    <tr>\n",
       "      <th>2492</th>\n",
       "      <td>J02459.1</td>\n",
       "      <td>60</td>\n",
       "      <td>bb826a6c-c88b-45ac-9984-8b9d6bfb2f11</td>\n",
       "      <td>-</td>\n",
       "      <td>0.054875</td>\n",
       "      <td>0.013023</td>\n",
       "      <td>0.932103</td>\n",
       "      <td>0</td>\n",
       "    </tr>\n",
       "    <tr>\n",
       "      <th>2493</th>\n",
       "      <td>J02459.1</td>\n",
       "      <td>60</td>\n",
       "      <td>bb91267a-6661-4248-a084-554f231398c1</td>\n",
       "      <td>-</td>\n",
       "      <td>0.030720</td>\n",
       "      <td>0.004392</td>\n",
       "      <td>0.964888</td>\n",
       "      <td>0</td>\n",
       "    </tr>\n",
       "    <tr>\n",
       "      <th>2494</th>\n",
       "      <td>J02459.1</td>\n",
       "      <td>60</td>\n",
       "      <td>bb9cee29-89d0-4a68-a4b4-8fe5c000289f</td>\n",
       "      <td>-</td>\n",
       "      <td>0.032703</td>\n",
       "      <td>0.006934</td>\n",
       "      <td>0.960363</td>\n",
       "      <td>0</td>\n",
       "    </tr>\n",
       "    <tr>\n",
       "      <th>2495</th>\n",
       "      <td>J02459.1</td>\n",
       "      <td>60</td>\n",
       "      <td>bbee6b4a-acac-4db9-bbb8-2f379918b146</td>\n",
       "      <td>-</td>\n",
       "      <td>0.035734</td>\n",
       "      <td>0.003182</td>\n",
       "      <td>0.961085</td>\n",
       "      <td>0</td>\n",
       "    </tr>\n",
       "    <tr>\n",
       "      <th>2496</th>\n",
       "      <td>J02459.1</td>\n",
       "      <td>60</td>\n",
       "      <td>bc26e861-9931-48fb-b4cb-2adc9ccbd2c0</td>\n",
       "      <td>-</td>\n",
       "      <td>0.040249</td>\n",
       "      <td>0.004014</td>\n",
       "      <td>0.955738</td>\n",
       "      <td>0</td>\n",
       "    </tr>\n",
       "  </tbody>\n",
       "</table>\n",
       "<p>2497 rows × 8 columns</p>\n",
       "</div>"
      ],
      "text/plain": [
       "             chr  start                               read_id strand  \\\n",
       "0     KJ477685.1    204  3e547b1a-0a3e-4475-9b70-0cbd7c8c82aa      -   \n",
       "1     KJ477685.1    261  3e547b1a-0a3e-4475-9b70-0cbd7c8c82aa      -   \n",
       "2     KJ477685.1    261  fe8be0cc-f4c4-49f1-80db-c840a6c7dfe9      -   \n",
       "3     KJ477685.1    266  3e547b1a-0a3e-4475-9b70-0cbd7c8c82aa      -   \n",
       "4     KJ477685.1    266  fe8be0cc-f4c4-49f1-80db-c840a6c7dfe9      -   \n",
       "...          ...    ...                                   ...    ...   \n",
       "2492    J02459.1     60  bb826a6c-c88b-45ac-9984-8b9d6bfb2f11      -   \n",
       "2493    J02459.1     60  bb91267a-6661-4248-a084-554f231398c1      -   \n",
       "2494    J02459.1     60  bb9cee29-89d0-4a68-a4b4-8fe5c000289f      -   \n",
       "2495    J02459.1     60  bbee6b4a-acac-4db9-bbb8-2f379918b146      -   \n",
       "2496    J02459.1     60  bc26e861-9931-48fb-b4cb-2adc9ccbd2c0      -   \n",
       "\n",
       "      5hmC_prob  5mC_prob   5C_prob  label  \n",
       "0      0.435397  0.085058  0.479545      2  \n",
       "1      0.342189  0.500821  0.156990      2  \n",
       "2      0.577034  0.057676  0.365290      2  \n",
       "3      0.065316  0.861569  0.073115      2  \n",
       "4      0.794235  0.028885  0.176880      2  \n",
       "...         ...       ...       ...    ...  \n",
       "2492   0.054875  0.013023  0.932103      0  \n",
       "2493   0.030720  0.004392  0.964888      0  \n",
       "2494   0.032703  0.006934  0.960363      0  \n",
       "2495   0.035734  0.003182  0.961085      0  \n",
       "2496   0.040249  0.004014  0.955738      0  \n",
       "\n",
       "[2497 rows x 8 columns]"
      ]
     },
     "execution_count": 3,
     "metadata": {},
     "output_type": "execute_result"
    }
   ],
   "source": [
    "input_path='/pod/2/li-lab/Ziwei/Nanopore/daily/test/'\n",
    "#df=pd.read_csv(os.path.join(input_path, 'total.Megalodon.per_read.prob.bed.gz'),compression='gzip', sep='\\t')\n",
    "df=pd.read_csv(os.path.join(input_path, 'total.test.bed'), sep='\\t')\n",
    "print(\"Data is loading!\")\n",
    "\n",
    "df"
   ]
  },
  {
   "cell_type": "code",
   "execution_count": 4,
   "id": "d265014e-5e2a-4145-ad4f-20ccb6112c8c",
   "metadata": {},
   "outputs": [
    {
     "data": {
      "text/plain": [
       "1    999\n",
       "0    999\n",
       "2    499\n",
       "Name: label, dtype: int64"
      ]
     },
     "execution_count": 4,
     "metadata": {},
     "output_type": "execute_result"
    }
   ],
   "source": [
    "df['label'].value_counts()"
   ]
  },
  {
   "cell_type": "code",
   "execution_count": 5,
   "id": "78c01b1c-17c2-4c6a-8014-9bbbc50508e8",
   "metadata": {},
   "outputs": [],
   "source": [
    "#Splitting the data into independent and dependent variables\n",
    "df_feature = df.loc[:,['5hmC_prob','5mC_prob']]\n",
    "df_class = df.loc[:,['label']].values\n",
    "df_class = np.squeeze(df_class) #Convert the label into 1d-array"
   ]
  },
  {
   "cell_type": "markdown",
   "id": "7902823b-a04c-472a-8aac-bda9311df6a2",
   "metadata": {},
   "source": [
    "# Train and split"
   ]
  },
  {
   "cell_type": "code",
   "execution_count": 6,
   "id": "26e270e7-9e30-4a31-bc4a-0c62976dd15a",
   "metadata": {},
   "outputs": [],
   "source": [
    "from sklearn.model_selection import train_test_split, RandomizedSearchCV, StratifiedKFold, GridSearchCV, RepeatedStratifiedKFold\n",
    "from imblearn.over_sampling import SMOTE\n",
    "from imblearn.under_sampling import EditedNearestNeighbours, RandomUnderSampler\n",
    "from imblearn.pipeline import Pipeline as imbpipeline\n",
    "from imblearn.pipeline import make_pipeline\n",
    "from sklearn.ensemble import RandomForestClassifier\n",
    "from sklearn.metrics import confusion_matrix, classification_report, f1_score\n",
    "\n",
    "from collections import Counter"
   ]
  },
  {
   "cell_type": "code",
   "execution_count": 7,
   "id": "58278d2d-8a27-44f7-b981-324c57d1269c",
   "metadata": {},
   "outputs": [
    {
     "name": "stdout",
     "output_type": "stream",
     "text": [
      "Before the pipeline:\n",
      " y_train:Counter({0: 639, 1: 639, 2: 319}),\n",
      " y_val:Counter({0: 160, 1: 160, 2: 80}),\n",
      " y_test: Counter({0: 200, 1: 200, 2: 100})\n",
      "Spliting is done!\n"
     ]
    }
   ],
   "source": [
    "X = df_feature\n",
    "y = df_class\n",
    "\n",
    "#Split the data into training, validation, testing\n",
    "#    Randomly split dataset, based on these ratios:\n",
    "#        'train': train_frac\n",
    "#        'valid': (1-train_frac) / 2\n",
    "#        'test':  (1-train_frac) / 2\n",
    "#    Eg: passing train_frac=0.8 gives a 80% / 10% / 10% split\n",
    "\n",
    "X_tmp, X_test, y_tmp, y_test = train_test_split(X,\n",
    "                                                y,\n",
    "                                                train_size=0.8,\n",
    "                                                stratify=y,\n",
    "                                                random_state=42)\n",
    "\n",
    "#Split the data into training and testing\n",
    "X_train, X_val, y_train, y_val = train_test_split(X_tmp,\n",
    "                                                  y_tmp,\n",
    "                                                  train_size=0.8,\n",
    "                                                  stratify=y_tmp,\n",
    "                                                  random_state=42)\n",
    "print(\"Before the pipeline:\\n y_train:{},\\n y_val:{},\\n y_test: {}\".format(Counter(y_train), Counter(y_val), Counter(y_test)))\n",
    "print(\"Spliting is done!\")"
   ]
  },
  {
   "cell_type": "markdown",
   "id": "2407b21c-0f8b-42fb-aa1a-3d54aadb9305",
   "metadata": {},
   "source": [
    "## Downsampling with RandomUnderSampler"
   ]
  },
  {
   "cell_type": "markdown",
   "id": "43d1a42d-2d4f-407c-910a-0c3927e89d85",
   "metadata": {},
   "source": [
    "### testing dataset"
   ]
  },
  {
   "cell_type": "code",
   "execution_count": 33,
   "id": "45141833-f53e-4499-bf1f-28ffa8f419bc",
   "metadata": {},
   "outputs": [
    {
     "name": "stdout",
     "output_type": "stream",
     "text": [
      "Before downsampling: y_test: Counter({0: 200, 1: 200, 2: 100}),\n",
      "After downsampling:y_test_res: Counter({0: 100, 1: 100, 2: 100})\n"
     ]
    }
   ],
   "source": [
    "n = np.bincount(y_test)[-1]\n",
    "key=[0,1,2]\n",
    "value = [(1*n, 1*n, n)] ###Set up the ratio\n",
    "for i in value:\n",
    "    sampling_strategy = dict(zip(key, i)).copy()\n",
    "\n",
    "sampler = RandomUnderSampler(random_state = 42, sampling_strategy=sampling_strategy)\n",
    "\n",
    "X_test_res, y_test_res = sampler.fit_resample(X_test, y_test)\n",
    "\n",
    "print(\"Before downsampling: y_test: {},\\nAfter downsampling:y_test_res: {}\".format(Counter(y_test), Counter(y_test_res)))"
   ]
  },
  {
   "cell_type": "markdown",
   "id": "0950972b-61a1-41ff-898b-28c3b021a64f",
   "metadata": {},
   "source": [
    "## Use the list to create PredefinedSplit"
   ]
  },
  {
   "cell_type": "code",
   "execution_count": 9,
   "id": "cbba4d29-587d-4ba2-b6ef-034bd4126309",
   "metadata": {},
   "outputs": [
    {
     "data": {
      "text/plain": [
       "((1597, 2), (1597,), (400, 2), (400,))"
      ]
     },
     "execution_count": 9,
     "metadata": {},
     "output_type": "execute_result"
    }
   ],
   "source": [
    "X_train.shape, y_train.shape, X_val.shape, y_val.shape"
   ]
  },
  {
   "cell_type": "markdown",
   "id": "7e82a56b-89b9-4d78-a806-2777c0502ef5",
   "metadata": {},
   "source": [
    "### Downsampling Validation dataset"
   ]
  },
  {
   "cell_type": "code",
   "execution_count": 10,
   "id": "3009aa6e-219a-45b9-85f5-ae3e9e8dc4db",
   "metadata": {},
   "outputs": [
    {
     "name": "stdout",
     "output_type": "stream",
     "text": [
      "Before downsampling: y_val: Counter({0: 160, 1: 160, 2: 80}),\n",
      "After downsampling:y_val_res: Counter({0: 80, 1: 80, 2: 80})\n"
     ]
    }
   ],
   "source": [
    "n = np.bincount(y_val)[-1]\n",
    "key=[0,1,2]\n",
    "value = [(1*n, 1*n, n)] ###Set up the ratio\n",
    "for i in value:\n",
    "    sampling_strategy = dict(zip(key, i)).copy()\n",
    "\n",
    "sampler = RandomUnderSampler(random_state = 42, sampling_strategy=sampling_strategy)\n",
    "\n",
    "X_val_res, y_val_res = sampler.fit_resample(X_val, y_val)\n",
    "\n",
    "print(\"Before downsampling: y_val: {},\\nAfter downsampling:y_val_res: {}\".format(Counter(y_val), Counter(y_val_res)))"
   ]
  },
  {
   "cell_type": "markdown",
   "id": "998b4f7c-7845-4c15-bb71-fa5c26fc22be",
   "metadata": {},
   "source": [
    "### Exploration"
   ]
  },
  {
   "cell_type": "code",
   "execution_count": 11,
   "id": "2631d30b-80ea-447b-b6f9-6f8f4ec3d31e",
   "metadata": {},
   "outputs": [
    {
     "data": {
      "text/plain": [
       "(RangeIndex(start=0, stop=240, step=1),\n",
       " Int64Index([1624, 1127, 2141, 1755, 1492, 2254,  546,  398, 1257, 1733,\n",
       "             ...\n",
       "              423, 1920, 1851,  236, 1880, 1857,  483,  970,  561, 2107],\n",
       "            dtype='int64', length=400),\n",
       " Int64Index([2351,  712,  910, 1209, 1387,  319, 1625, 2118,   47,  974,\n",
       "             ...\n",
       "             2028, 1441,   81,  342,  325,  526,  287, 1084, 2190,  219],\n",
       "            dtype='int64', length=1597))"
      ]
     },
     "execution_count": 11,
     "metadata": {},
     "output_type": "execute_result"
    }
   ],
   "source": [
    "X_val_res.index, X_val.index, X_train.index"
   ]
  },
  {
   "cell_type": "code",
   "execution_count": 12,
   "id": "f2746df5-9bf1-49aa-9b5e-c80524c2dee1",
   "metadata": {},
   "outputs": [
    {
     "data": {
      "text/plain": [
       "5hmC_prob    0.042216\n",
       "5mC_prob     0.004372\n",
       "Name: 2351, dtype: float64"
      ]
     },
     "execution_count": 12,
     "metadata": {},
     "output_type": "execute_result"
    }
   ],
   "source": [
    "X_train.iloc[0, :]"
   ]
  },
  {
   "cell_type": "code",
   "execution_count": 27,
   "id": "8e296a75-3a5f-471d-82f7-1f831264c192",
   "metadata": {},
   "outputs": [
    {
     "data": {
      "text/html": [
       "<div>\n",
       "<style scoped>\n",
       "    .dataframe tbody tr th:only-of-type {\n",
       "        vertical-align: middle;\n",
       "    }\n",
       "\n",
       "    .dataframe tbody tr th {\n",
       "        vertical-align: top;\n",
       "    }\n",
       "\n",
       "    .dataframe thead th {\n",
       "        text-align: right;\n",
       "    }\n",
       "</style>\n",
       "<table border=\"1\" class=\"dataframe\">\n",
       "  <thead>\n",
       "    <tr style=\"text-align: right;\">\n",
       "      <th></th>\n",
       "      <th>5hmC_prob</th>\n",
       "      <th>5mC_prob</th>\n",
       "    </tr>\n",
       "  </thead>\n",
       "  <tbody>\n",
       "    <tr>\n",
       "      <th>2351</th>\n",
       "      <td>0.042216</td>\n",
       "      <td>0.004372</td>\n",
       "    </tr>\n",
       "    <tr>\n",
       "      <th>712</th>\n",
       "      <td>0.000680</td>\n",
       "      <td>0.996772</td>\n",
       "    </tr>\n",
       "    <tr>\n",
       "      <th>910</th>\n",
       "      <td>0.000633</td>\n",
       "      <td>0.996441</td>\n",
       "    </tr>\n",
       "    <tr>\n",
       "      <th>1209</th>\n",
       "      <td>0.000476</td>\n",
       "      <td>0.998279</td>\n",
       "    </tr>\n",
       "    <tr>\n",
       "      <th>1387</th>\n",
       "      <td>0.001512</td>\n",
       "      <td>0.992194</td>\n",
       "    </tr>\n",
       "    <tr>\n",
       "      <th>...</th>\n",
       "      <td>...</td>\n",
       "      <td>...</td>\n",
       "    </tr>\n",
       "    <tr>\n",
       "      <th>526</th>\n",
       "      <td>0.000332</td>\n",
       "      <td>0.998129</td>\n",
       "    </tr>\n",
       "    <tr>\n",
       "      <th>287</th>\n",
       "      <td>0.003440</td>\n",
       "      <td>0.991833</td>\n",
       "    </tr>\n",
       "    <tr>\n",
       "      <th>1084</th>\n",
       "      <td>0.000225</td>\n",
       "      <td>0.999147</td>\n",
       "    </tr>\n",
       "    <tr>\n",
       "      <th>2190</th>\n",
       "      <td>0.050572</td>\n",
       "      <td>0.008937</td>\n",
       "    </tr>\n",
       "    <tr>\n",
       "      <th>219</th>\n",
       "      <td>0.972785</td>\n",
       "      <td>0.015496</td>\n",
       "    </tr>\n",
       "  </tbody>\n",
       "</table>\n",
       "<p>1597 rows × 2 columns</p>\n",
       "</div>"
      ],
      "text/plain": [
       "      5hmC_prob  5mC_prob\n",
       "2351   0.042216  0.004372\n",
       "712    0.000680  0.996772\n",
       "910    0.000633  0.996441\n",
       "1209   0.000476  0.998279\n",
       "1387   0.001512  0.992194\n",
       "...         ...       ...\n",
       "526    0.000332  0.998129\n",
       "287    0.003440  0.991833\n",
       "1084   0.000225  0.999147\n",
       "2190   0.050572  0.008937\n",
       "219    0.972785  0.015496\n",
       "\n",
       "[1597 rows x 2 columns]"
      ]
     },
     "execution_count": 27,
     "metadata": {},
     "output_type": "execute_result"
    }
   ],
   "source": [
    "X_train"
   ]
  },
  {
   "cell_type": "code",
   "execution_count": 28,
   "id": "ba28f46c-f8ef-448e-9fa5-458f350eb8ed",
   "metadata": {},
   "outputs": [
    {
     "data": {
      "text/plain": [
       "5hmC_prob    0.029553\n",
       "5mC_prob     0.002052\n",
       "Name: 0, dtype: float64"
      ]
     },
     "execution_count": 28,
     "metadata": {},
     "output_type": "execute_result"
    }
   ],
   "source": [
    "X_val_res.iloc[0, :]"
   ]
  },
  {
   "cell_type": "code",
   "execution_count": 29,
   "id": "c66f61a5-046e-4d2f-9498-2655beb4309b",
   "metadata": {},
   "outputs": [
    {
     "data": {
      "text/plain": [
       "-1    1597\n",
       " 0     240\n",
       "dtype: int64"
      ]
     },
     "execution_count": 29,
     "metadata": {},
     "output_type": "execute_result"
    }
   ],
   "source": [
    "#https://stackoverflow.com/a/43766334\n",
    "### Use PredefinedSplit\n",
    "my_test_fold = []\n",
    "\n",
    "# put -1 so they will be in training set\n",
    "for i in range(len(X_train)):\n",
    "    my_test_fold.append(-1)\n",
    "\n",
    "# for all greater indices, assign 0, so they will be put in test set\n",
    "for i in range(len(X_val_res)):\n",
    "    my_test_fold.append(0)\n",
    "\n",
    "pd.DataFrame(my_test_fold).value_counts()"
   ]
  },
  {
   "cell_type": "code",
   "execution_count": null,
   "id": "deb2adfa-8d56-46a2-b57b-f758872efe8b",
   "metadata": {},
   "outputs": [],
   "source": []
  },
  {
   "cell_type": "code",
   "execution_count": 30,
   "id": "b2857a86-d94a-479d-94c1-68929422ec07",
   "metadata": {},
   "outputs": [
    {
     "data": {
      "text/plain": [
       "<1837x2 sparse matrix of type '<class 'numpy.float64'>'\n",
       "\twith 3674 stored elements in COOrdinate format>"
      ]
     },
     "execution_count": 30,
     "metadata": {},
     "output_type": "execute_result"
    }
   ],
   "source": [
    "#https://gist.github.com/anirudhshenoy/e87525499d66e8a46a56bfa27e2d2f2f\n",
    "from scipy import sparse\n",
    "X = sparse.vstack((X_train, X_val_res))\n",
    "X"
   ]
  },
  {
   "cell_type": "code",
   "execution_count": 15,
   "id": "96f75454-e825-4830-b641-42fb92250962",
   "metadata": {},
   "outputs": [
    {
     "data": {
      "text/plain": [
       "-1    1597\n",
       " 0     240\n",
       "dtype: int64"
      ]
     },
     "execution_count": 15,
     "metadata": {},
     "output_type": "execute_result"
    }
   ],
   "source": [
    "test_fold = [-1 for _ in range(X_train.shape[0])] + [0 for _ in range(X_val_res.shape[0])]\n",
    "pd.DataFrame(test_fold).value_counts()"
   ]
  },
  {
   "cell_type": "markdown",
   "id": "fe47fee3-135b-4861-8be9-d3020e8a4581",
   "metadata": {},
   "source": [
    "## Define pipeline"
   ]
  },
  {
   "cell_type": "code",
   "execution_count": 16,
   "id": "1f61a265-2d2b-44d8-a3d0-708eea5a2c17",
   "metadata": {},
   "outputs": [],
   "source": [
    "# Pipeline strategy: SMOTE -> rf\n",
    "###Build the pipeline\n",
    "rf_model = RandomForestClassifier(random_state=42, n_jobs=-1)\n",
    "over = SMOTE(sampling_strategy='not majority', random_state = 42, n_jobs = -1)\n",
    "steps = [('o', over), ('m', rf_model)]\n",
    "pipeline = imbpipeline(steps=steps)\n",
    "\n",
    "params = {\n",
    "    'o__k_neighbors':[5, 10, 20],      \n",
    "    'm__n_estimators': [i for i in range(50, 110, 10)], # number of trees in the random forest\n",
    "    'm__max_features': ['auto'], # number of features in consideration at every split\n",
    "    'm__max_depth': [i for i in range(5,30,5)], # maximum number of levels allowed in each decision tree\n",
    "    'm__min_samples_split': [2,5,10], # minimum sample number to split a node\n",
    "    'm__min_samples_leaf': [1,2], # minimum sample number that can be stored in a leaf node\n",
    "    'm__bootstrap': [True, False]} # method used to sample data points\""
   ]
  },
  {
   "cell_type": "code",
   "execution_count": 38,
   "id": "b4662b47-bb7f-454a-a9be-4f27903101ac",
   "metadata": {},
   "outputs": [],
   "source": [
    "# Use PredefinedSplit in GridSearchCV\n",
    "from sklearn.model_selection import PredefinedSplit\n",
    "\n",
    "#pipe_search = GridSearchCV(estimator = pipeline, \n",
    "#                           param_grid = params, \n",
    "#                           scoring='f1_macro', \n",
    "#                           cv=PredefinedSplit(test_fold = my_test_fold),\n",
    "#                           verbose=3, \n",
    "#                           return_train_score=True, \n",
    "#                           n_jobs=-1)\n",
    "\n",
    "pipe_search = RandomizedSearchCV(estimator = pipeline, \n",
    "                                 param_distributions = params, \n",
    "                                 scoring='f1_macro', \n",
    "                                 cv=PredefinedSplit(test_fold = my_test_fold),\n",
    "#                                 verbose=3, \n",
    "                                 n_iter=20,\n",
    "                                 return_train_score=True, \n",
    "                                 n_jobs=-1)\n",
    "\n",
    "X_merge, y_merge = np.concatenate((X_train, X_val_res), axis=0), np.concatenate((y_train, y_val_res), axis=0)\n",
    "pipe_result = pipe_search.fit(X_merge, y_merge)\n",
    "y_true, y_pred = y_test_res, pipe_search.predict(X_test_res.values)"
   ]
  },
  {
   "cell_type": "code",
   "execution_count": 42,
   "id": "2bca967c-e3b2-4499-819a-56bbb4f7dfa0",
   "metadata": {},
   "outputs": [
    {
     "name": "stdout",
     "output_type": "stream",
     "text": [
      "Best Parameters:  {'o__k_neighbors': 20, 'm__n_estimators': 100, 'm__min_samples_split': 2, 'm__min_samples_leaf': 2, 'm__max_features': 'auto', 'm__max_depth': 5, 'm__bootstrap': False}  \n",
      "\n",
      "Best f1_score in cv: 0.925585706073511 \n",
      "\n",
      "Test score: 0.870509824104329\n"
     ]
    }
   ],
   "source": [
    "cv_score = pipe_result.best_score_\n",
    "test_score = pipe_result.score(X_test.values, y_test)\n",
    "\n",
    "print ('Best Parameters: ', pipe_result.best_params_, ' \\n')\n",
    "print('Best f1_score in cv:', cv_score, '\\n')\n",
    "print('Test score:', test_score)"
   ]
  },
  {
   "cell_type": "code",
   "execution_count": 53,
   "id": "f3677ab8-4799-45e5-a11c-97a4a3114c79",
   "metadata": {},
   "outputs": [
    {
     "data": {
      "text/html": [
       "<div>\n",
       "<style scoped>\n",
       "    .dataframe tbody tr th:only-of-type {\n",
       "        vertical-align: middle;\n",
       "    }\n",
       "\n",
       "    .dataframe tbody tr th {\n",
       "        vertical-align: top;\n",
       "    }\n",
       "\n",
       "    .dataframe thead th {\n",
       "        text-align: right;\n",
       "    }\n",
       "</style>\n",
       "<table border=\"1\" class=\"dataframe\">\n",
       "  <thead>\n",
       "    <tr style=\"text-align: right;\">\n",
       "      <th></th>\n",
       "      <th>0</th>\n",
       "      <th>1</th>\n",
       "      <th>2</th>\n",
       "    </tr>\n",
       "  </thead>\n",
       "  <tbody>\n",
       "    <tr>\n",
       "      <th>0</th>\n",
       "      <td>0.94</td>\n",
       "      <td>0.00</td>\n",
       "      <td>0.06</td>\n",
       "    </tr>\n",
       "    <tr>\n",
       "      <th>1</th>\n",
       "      <td>0.00</td>\n",
       "      <td>0.89</td>\n",
       "      <td>0.11</td>\n",
       "    </tr>\n",
       "    <tr>\n",
       "      <th>2</th>\n",
       "      <td>0.14</td>\n",
       "      <td>0.06</td>\n",
       "      <td>0.80</td>\n",
       "    </tr>\n",
       "  </tbody>\n",
       "</table>\n",
       "</div>"
      ],
      "text/plain": [
       "      0     1     2\n",
       "0  0.94  0.00  0.06\n",
       "1  0.00  0.89  0.11\n",
       "2  0.14  0.06  0.80"
      ]
     },
     "execution_count": 53,
     "metadata": {},
     "output_type": "execute_result"
    }
   ],
   "source": [
    "cm = confusion_matrix(y_true, y_pred)\n",
    "    # Normalise\n",
    "cm_sum = np.sum(cm, axis=1, keepdims=True)\n",
    "cm_perc = cm / cm_sum.astype(float) * 100\n",
    "annot = np.empty_like(cm).astype(str)\n",
    "cmn = cm.astype('float') / cm.sum(axis=1)[:, np.newaxis]\n",
    "cmn = pd.DataFrame(cmn)\n",
    "cmn"
   ]
  },
  {
   "cell_type": "code",
   "execution_count": 59,
   "id": "b1696023-ecff-4766-8cd6-d740bd877102",
   "metadata": {},
   "outputs": [
    {
     "data": {
      "image/png": "[encoded data removed]",
      "text/plain": [
       "<Figure size 720x720 with 2 Axes>"
      ]
     },
     "metadata": {
      "needs_background": "light"
     },
     "output_type": "display_data"
    }
   ],
   "source": [
    "#https://gist.github.com/hitvoice/36cf44689065ca9b927431546381a3f7\n",
    "import matplotlib\n",
    "import matplotlib.pyplot as plt\n",
    "import seaborn as sns\n",
    "def plot_cm(y_true, y_pred, filename, label = ['5C', '5mC', '5hmC'], figsize=(10,10)):\n",
    "    \"\"\"\n",
    "    Generate matrix plot of confusion matrix with annotations.\n",
    "    args: \n",
    "      y_true:    true label of the data, with shape (nsamples,)\n",
    "      y_pred:    prediction of the data, with shape (nsamples,)\n",
    "      filename:  filename of figure file to save\n",
    "      labels:    string array, name the order of class labels in the confusion matrix.\n",
    "                 use `clf.classes_` if using scikit-learn models.\n",
    "                 with shape (nclass,).\n",
    "                 Caution: original y_true, y_pred and labels must align.\n",
    "      figsize:   the size of the figure plotted.\n",
    "    \"\"\"\n",
    "    cm = confusion_matrix(y_true, y_pred)\n",
    "    # Normalise\n",
    "    cm_sum = np.sum(cm, axis=1, keepdims=True)\n",
    "    cm_perc = cm / cm_sum.astype(float) * 100\n",
    "    annot = np.empty_like(cm).astype(str)\n",
    "    nrows, ncols = cm.shape\n",
    "    for i in range(nrows):\n",
    "        for j in range(ncols):\n",
    "            c = cm[i, j]\n",
    "            p = cm_perc[i, j]\n",
    "            s = cm_sum[i]\n",
    "            annot[i, j] = '%.1f%%\\n%d/%d' % (p, c, s)\n",
    "    \n",
    "    cmn = cm.astype('float') / cm.sum(axis=1)[:, np.newaxis]\n",
    "    cmn = pd.DataFrame(cmn, index=label, columns=label)\n",
    "    cmn.index.name = 'True label'\n",
    "    cmn.columns.name = 'Predicted label'\n",
    "    fig, ax = plt.subplots(figsize=figsize)\n",
    "    sns.heatmap(cmn, annot=annot, fmt='', ax=ax, cmap=\"Blues\", vmin=0, vmax=1)\n",
    "#    plt.savefig(filename)\n",
    "\n",
    "plot_cm(y_true, y_pred, os.path.join(input_path, \"rf.GridSearch.confusion_matrix.png\"), figsize=(10,10))"
   ]
  },
  {
   "cell_type": "code",
   "execution_count": null,
   "id": "9fd07571-3f89-4b5b-a606-b2318906b9c1",
   "metadata": {},
   "outputs": [],
   "source": []
  }
 ],
 "metadata": {
  "kernelspec": {
   "display_name": "Python 3 (ipykernel)",
   "language": "python",
   "name": "python3"
  },
  "language_info": {
   "codemirror_mode": {
    "name": "ipython",
    "version": 3
   },
   "file_extension": ".py",
   "mimetype": "text/x-python",
   "name": "python",
   "nbconvert_exporter": "python",
   "pygments_lexer": "ipython3",
   "version": "3.8.12"
  }
 },
 "nbformat": 4,
 "nbformat_minor": 5
}
