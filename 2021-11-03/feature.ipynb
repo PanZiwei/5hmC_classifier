{
 "cells": [
  {
   "cell_type": "markdown",
   "id": "d4fd0b06-94bd-4265-98aa-b47fa16f7b0b",
   "metadata": {},
   "source": [
    "# Feature \n",
    "1)Identify the reference location in the feature file for +/- strand \n",
    "\n",
    "2)Extract \"CG\"-center pattern rows from the original feature file"
   ]
  },
  {
   "cell_type": "code",
   "execution_count": 1,
   "id": "0140ae29-bc7d-464d-85c0-01631a0b1268",
   "metadata": {},
   "outputs": [
    {
     "name": "stdin",
     "output_type": "stream",
     "text": [
      "Once deleted, variables cannot be recovered. Proceed (y/[n])?  y\n"
     ]
    }
   ],
   "source": [
    "%reset"
   ]
  },
  {
   "cell_type": "markdown",
   "id": "0f5daa08-1c74-4a0b-8adb-cbaca1d8d77d",
   "metadata": {},
   "source": [
    "## Load the CG test data"
   ]
  },
  {
   "cell_type": "code",
   "execution_count": 5,
   "id": "43dc56fc-4914-4d75-9cbc-beced453475c",
   "metadata": {},
   "outputs": [
    {
     "name": "stderr",
     "output_type": "stream",
     "text": [
      "2021-11-04 12:50:48.858228: W tensorflow/stream_executor/platform/default/dso_loader.cc:64] Could not load dynamic library 'libcudart.so.11.0'; dlerror: libcudart.so.11.0: cannot open shared object file: No such file or directory; LD_LIBRARY_PATH: /cm/local/apps/gcc/9.2.0/lib:/cm/local/apps/gcc/9.2.0/lib64:/cm/shared/apps/slurm/current/lib64/slurm:/cm/shared/apps/slurm/current/lib64\n",
      "2021-11-04 12:50:48.858271: I tensorflow/stream_executor/cuda/cudart_stub.cc:29] Ignore above cudart dlerror if you do not have a GPU set up on your machine.\n"
     ]
    },
    {
     "name": "stdout",
     "output_type": "stream",
     "text": [
      "TensorFlow version: 2.6.1\n",
      "tensorflow_io: 0.21.0\n"
     ]
    }
   ],
   "source": [
    "import pandas as pd\n",
    "import numpy as np\n",
    "import os\n",
    "from sklearn.model_selection import train_test_split, StratifiedKFold\n",
    "\n",
    "import tensorflow as tf\n",
    "import tensorflow_io as tfio\n",
    "\n",
    "from tensorflow.keras.layers import *\n",
    "from tensorflow.keras.models import Model, Sequential\n",
    "print(\"TensorFlow version:\", tf.__version__)\n",
    "print(\"tensorflow_io:\", tfio.__version__)"
   ]
  },
  {
   "cell_type": "code",
   "execution_count": 6,
   "id": "e805e582-0a8f-4e47-8f7b-f49510dc1ae9",
   "metadata": {},
   "outputs": [],
   "source": [
    "input_path='/pod/2/li-lab/Ziwei/Nanopore/daily/test/'\n",
    "\n",
    "### Name the feature\n",
    "names_feature = ['chrom', 'site_pos', 'align_strand', 'pos_in_strand', 'read_id', 'read_strand',\n",
    "                 'kmer_seq', 'kmer_signal_mean', 'kmer_signal_std', 'kmer_signal_length', 'kmer_signal_range',\n",
    "                 'label']"
   ]
  },
  {
   "cell_type": "code",
   "execution_count": 2,
   "id": "55a8be97-0b03-47bd-8ede-822c4c5c725a",
   "metadata": {},
   "outputs": [
    {
     "data": {
      "text/html": [
       "<div>\n",
       "<style scoped>\n",
       "    .dataframe tbody tr th:only-of-type {\n",
       "        vertical-align: middle;\n",
       "    }\n",
       "\n",
       "    .dataframe tbody tr th {\n",
       "        vertical-align: top;\n",
       "    }\n",
       "\n",
       "    .dataframe thead th {\n",
       "        text-align: right;\n",
       "    }\n",
       "</style>\n",
       "<table border=\"1\" class=\"dataframe\">\n",
       "  <thead>\n",
       "    <tr style=\"text-align: right;\">\n",
       "      <th></th>\n",
       "      <th>chrom</th>\n",
       "      <th>site_pos</th>\n",
       "      <th>align_strand</th>\n",
       "      <th>pos_in_strand</th>\n",
       "      <th>read_id</th>\n",
       "      <th>read_strand</th>\n",
       "      <th>kmer_seq</th>\n",
       "      <th>kmer_signal_mean</th>\n",
       "      <th>kmer_signal_std</th>\n",
       "      <th>kmer_signal_length</th>\n",
       "      <th>kmer_signal_range</th>\n",
       "      <th>label</th>\n",
       "    </tr>\n",
       "  </thead>\n",
       "  <tbody>\n",
       "    <tr>\n",
       "      <th>0</th>\n",
       "      <td>J02459.1</td>\n",
       "      <td>42105</td>\n",
       "      <td>-</td>\n",
       "      <td>6396</td>\n",
       "      <td>17ff58dc-512e-4b3a-abb8-5ab1bdb42f6a</td>\n",
       "      <td>t</td>\n",
       "      <td>TGATACTTCGTCGCTGT</td>\n",
       "      <td>0.643744,-1.4208,-1.009653,1.055123,-0.112415,...</td>\n",
       "      <td>0.187366,0.141536,0.159047,0.5128,0.257095,0.1...</td>\n",
       "      <td>13,28,6,38,18,21,3,7,17,21,14,14,10,20,15,11,16</td>\n",
       "      <td>0.736942,0.549584,0.44966,2.473129,1.13664,0.5...</td>\n",
       "      <td>0</td>\n",
       "    </tr>\n",
       "    <tr>\n",
       "      <th>1</th>\n",
       "      <td>J02459.1</td>\n",
       "      <td>42102</td>\n",
       "      <td>-</td>\n",
       "      <td>6399</td>\n",
       "      <td>17ff58dc-512e-4b3a-abb8-5ab1bdb42f6a</td>\n",
       "      <td>t</td>\n",
       "      <td>TACTTCGTCGCTGTCTC</td>\n",
       "      <td>1.055123,-0.112415,-0.446686,0.724452,0.999244...</td>\n",
       "      <td>0.5128,0.257095,0.15307,0.250642,0.107862,0.19...</td>\n",
       "      <td>38,18,21,3,7,17,21,14,14,10,20,15,11,16,8,14,6</td>\n",
       "      <td>2.473129,1.13664,0.549585,0.574565,0.362226,0....</td>\n",
       "      <td>0</td>\n",
       "    </tr>\n",
       "    <tr>\n",
       "      <th>2</th>\n",
       "      <td>J02459.1</td>\n",
       "      <td>42094</td>\n",
       "      <td>-</td>\n",
       "      <td>6407</td>\n",
       "      <td>17ff58dc-512e-4b3a-abb8-5ab1bdb42f6a</td>\n",
       "      <td>t</td>\n",
       "      <td>CGCTGTCTCGCCACACG</td>\n",
       "      <td>0.192711,-0.661999,0.319133,1.106663,-0.936791...</td>\n",
       "      <td>0.124343,0.115293,0.155229,0.127607,0.292445,0...</td>\n",
       "      <td>14,10,20,15,11,16,8,14,6,5,24,7,32,7,8,3,7</td>\n",
       "      <td>0.412188,0.399697,0.587056,0.437169,1.086678,1...</td>\n",
       "      <td>0</td>\n",
       "    </tr>\n",
       "  </tbody>\n",
       "</table>\n",
       "</div>"
      ],
      "text/plain": [
       "      chrom  site_pos align_strand  pos_in_strand  \\\n",
       "0  J02459.1     42105            -           6396   \n",
       "1  J02459.1     42102            -           6399   \n",
       "2  J02459.1     42094            -           6407   \n",
       "\n",
       "                                read_id read_strand           kmer_seq  \\\n",
       "0  17ff58dc-512e-4b3a-abb8-5ab1bdb42f6a           t  TGATACTTCGTCGCTGT   \n",
       "1  17ff58dc-512e-4b3a-abb8-5ab1bdb42f6a           t  TACTTCGTCGCTGTCTC   \n",
       "2  17ff58dc-512e-4b3a-abb8-5ab1bdb42f6a           t  CGCTGTCTCGCCACACG   \n",
       "\n",
       "                                    kmer_signal_mean  \\\n",
       "0  0.643744,-1.4208,-1.009653,1.055123,-0.112415,...   \n",
       "1  1.055123,-0.112415,-0.446686,0.724452,0.999244...   \n",
       "2  0.192711,-0.661999,0.319133,1.106663,-0.936791...   \n",
       "\n",
       "                                     kmer_signal_std  \\\n",
       "0  0.187366,0.141536,0.159047,0.5128,0.257095,0.1...   \n",
       "1  0.5128,0.257095,0.15307,0.250642,0.107862,0.19...   \n",
       "2  0.124343,0.115293,0.155229,0.127607,0.292445,0...   \n",
       "\n",
       "                                kmer_signal_length  \\\n",
       "0  13,28,6,38,18,21,3,7,17,21,14,14,10,20,15,11,16   \n",
       "1   38,18,21,3,7,17,21,14,14,10,20,15,11,16,8,14,6   \n",
       "2       14,10,20,15,11,16,8,14,6,5,24,7,32,7,8,3,7   \n",
       "\n",
       "                                   kmer_signal_range  label  \n",
       "0  0.736942,0.549584,0.44966,2.473129,1.13664,0.5...      0  \n",
       "1  2.473129,1.13664,0.549585,0.574565,0.362226,0....      0  \n",
       "2  0.412188,0.399697,0.587056,0.437169,1.086678,1...      0  "
      ]
     },
     "execution_count": 2,
     "metadata": {},
     "output_type": "execute_result"
    }
   ],
   "source": [
    "####site_pos: start position in 0-based,\n",
    "##if alignd_strand = +, the pos is the C or G location in the reference, pos = [site_pos, site_pos + 1]\n",
    "##if alignd_strand = -, the pos is the G or C location in the reference (C in the kmer still), pos = [site_pos, site_pos + 1]\n",
    "##Filter is in need to pick up the CG pattern\n",
    "df=pd.read_csv(os.path.join(input_path,'feature.CG.test.csv'),sep='\\t', names = names_feature)\n",
    "df.head(3)"
   ]
  },
  {
   "cell_type": "code",
   "execution_count": 3,
   "id": "543e0db3-ad34-4a4e-b140-df85d75e1838",
   "metadata": {},
   "outputs": [
    {
     "data": {
      "text/plain": [
       "1    1200\n",
       "0    1000\n",
       "2     800\n",
       "Name: label, dtype: int64"
      ]
     },
     "execution_count": 3,
     "metadata": {},
     "output_type": "execute_result"
    }
   ],
   "source": [
    "df['label'].value_counts()"
   ]
  },
  {
   "cell_type": "markdown",
   "id": "07cbadd9-9854-4faa-bc0c-26fdbaf04fe1",
   "metadata": {},
   "source": [
    "### Define load the data"
   ]
  },
  {
   "cell_type": "code",
   "execution_count": 64,
   "id": "9eee1075-3dee-4c3c-ae8b-4eb819dd6b3d",
   "metadata": {},
   "outputs": [],
   "source": [
    "### Define load the data\n",
    "names_feature = ['chrom', 'site_pos', 'align_strand', 'pos_in_strand', 'read_id', 'read_strand',\n",
    "                 'kmer_seq', 'kmer_signal_mean', 'kmer_signal_std', 'kmer_signal_length', 'kmer_signal_range',\n",
    "                 'label']\n",
    "\n",
    "def load_df(input_path):\n",
    "    df = pd.read_csv(os.path.join(input_path),sep='\\t',  names = names_feature)\n",
    "    \n",
    "    ## Drop last column of a dataframe\n",
    "    df_feature = df.iloc[: , :-1]\n",
    "    df_class = df[df.columns[-1]]\n",
    "    df_class = np.squeeze(df_class) #Convert the label into 1d-array\n",
    "        \n",
    "    assert df_feature.shape[0] == df_class.shape[0]\n",
    "    return df_feature, df_class"
   ]
  },
  {
   "cell_type": "code",
   "execution_count": 65,
   "id": "a3a8fde4-71f9-4fbe-aa2f-af9b3648073b",
   "metadata": {},
   "outputs": [
    {
     "data": {
      "text/plain": [
       "((3000, 11), (3000,))"
      ]
     },
     "execution_count": 65,
     "metadata": {},
     "output_type": "execute_result"
    }
   ],
   "source": [
    "input_path='/pod/2/li-lab/Ziwei/Nanopore/daily/test/feature.CG.test.csv'\n",
    "df_feature, df_class = load_df(input_path)\n",
    "df_feature.shape, df_class.shape"
   ]
  },
  {
   "cell_type": "code",
   "execution_count": 66,
   "id": "c3d7fc45-35b4-4e6b-bffb-4c6420a6a75f",
   "metadata": {},
   "outputs": [
    {
     "data": {
      "text/html": [
       "<div>\n",
       "<style scoped>\n",
       "    .dataframe tbody tr th:only-of-type {\n",
       "        vertical-align: middle;\n",
       "    }\n",
       "\n",
       "    .dataframe tbody tr th {\n",
       "        vertical-align: top;\n",
       "    }\n",
       "\n",
       "    .dataframe thead th {\n",
       "        text-align: right;\n",
       "    }\n",
       "</style>\n",
       "<table border=\"1\" class=\"dataframe\">\n",
       "  <thead>\n",
       "    <tr style=\"text-align: right;\">\n",
       "      <th></th>\n",
       "      <th>chrom</th>\n",
       "      <th>site_pos</th>\n",
       "      <th>align_strand</th>\n",
       "      <th>pos_in_strand</th>\n",
       "      <th>read_id</th>\n",
       "      <th>read_strand</th>\n",
       "      <th>kmer_seq</th>\n",
       "      <th>kmer_signal_mean</th>\n",
       "      <th>kmer_signal_std</th>\n",
       "      <th>kmer_signal_length</th>\n",
       "      <th>kmer_signal_range</th>\n",
       "    </tr>\n",
       "  </thead>\n",
       "  <tbody>\n",
       "    <tr>\n",
       "      <th>0</th>\n",
       "      <td>J02459.1</td>\n",
       "      <td>42105</td>\n",
       "      <td>-</td>\n",
       "      <td>6396</td>\n",
       "      <td>17ff58dc-512e-4b3a-abb8-5ab1bdb42f6a</td>\n",
       "      <td>t</td>\n",
       "      <td>TGATACTTCGTCGCTGT</td>\n",
       "      <td>0.643744,-1.4208,-1.009653,1.055123,-0.112415,...</td>\n",
       "      <td>0.187366,0.141536,0.159047,0.5128,0.257095,0.1...</td>\n",
       "      <td>13,28,6,38,18,21,3,7,17,21,14,14,10,20,15,11,16</td>\n",
       "      <td>0.736942,0.549584,0.44966,2.473129,1.13664,0.5...</td>\n",
       "    </tr>\n",
       "    <tr>\n",
       "      <th>1</th>\n",
       "      <td>J02459.1</td>\n",
       "      <td>42102</td>\n",
       "      <td>-</td>\n",
       "      <td>6399</td>\n",
       "      <td>17ff58dc-512e-4b3a-abb8-5ab1bdb42f6a</td>\n",
       "      <td>t</td>\n",
       "      <td>TACTTCGTCGCTGTCTC</td>\n",
       "      <td>1.055123,-0.112415,-0.446686,0.724452,0.999244...</td>\n",
       "      <td>0.5128,0.257095,0.15307,0.250642,0.107862,0.19...</td>\n",
       "      <td>38,18,21,3,7,17,21,14,14,10,20,15,11,16,8,14,6</td>\n",
       "      <td>2.473129,1.13664,0.549585,0.574565,0.362226,0....</td>\n",
       "    </tr>\n",
       "    <tr>\n",
       "      <th>2</th>\n",
       "      <td>J02459.1</td>\n",
       "      <td>42094</td>\n",
       "      <td>-</td>\n",
       "      <td>6407</td>\n",
       "      <td>17ff58dc-512e-4b3a-abb8-5ab1bdb42f6a</td>\n",
       "      <td>t</td>\n",
       "      <td>CGCTGTCTCGCCACACG</td>\n",
       "      <td>0.192711,-0.661999,0.319133,1.106663,-0.936791...</td>\n",
       "      <td>0.124343,0.115293,0.155229,0.127607,0.292445,0...</td>\n",
       "      <td>14,10,20,15,11,16,8,14,6,5,24,7,32,7,8,3,7</td>\n",
       "      <td>0.412188,0.399697,0.587056,0.437169,1.086678,1...</td>\n",
       "    </tr>\n",
       "  </tbody>\n",
       "</table>\n",
       "</div>"
      ],
      "text/plain": [
       "      chrom  site_pos align_strand  pos_in_strand  \\\n",
       "0  J02459.1     42105            -           6396   \n",
       "1  J02459.1     42102            -           6399   \n",
       "2  J02459.1     42094            -           6407   \n",
       "\n",
       "                                read_id read_strand           kmer_seq  \\\n",
       "0  17ff58dc-512e-4b3a-abb8-5ab1bdb42f6a           t  TGATACTTCGTCGCTGT   \n",
       "1  17ff58dc-512e-4b3a-abb8-5ab1bdb42f6a           t  TACTTCGTCGCTGTCTC   \n",
       "2  17ff58dc-512e-4b3a-abb8-5ab1bdb42f6a           t  CGCTGTCTCGCCACACG   \n",
       "\n",
       "                                    kmer_signal_mean  \\\n",
       "0  0.643744,-1.4208,-1.009653,1.055123,-0.112415,...   \n",
       "1  1.055123,-0.112415,-0.446686,0.724452,0.999244...   \n",
       "2  0.192711,-0.661999,0.319133,1.106663,-0.936791...   \n",
       "\n",
       "                                     kmer_signal_std  \\\n",
       "0  0.187366,0.141536,0.159047,0.5128,0.257095,0.1...   \n",
       "1  0.5128,0.257095,0.15307,0.250642,0.107862,0.19...   \n",
       "2  0.124343,0.115293,0.155229,0.127607,0.292445,0...   \n",
       "\n",
       "                                kmer_signal_length  \\\n",
       "0  13,28,6,38,18,21,3,7,17,21,14,14,10,20,15,11,16   \n",
       "1   38,18,21,3,7,17,21,14,14,10,20,15,11,16,8,14,6   \n",
       "2       14,10,20,15,11,16,8,14,6,5,24,7,32,7,8,3,7   \n",
       "\n",
       "                                   kmer_signal_range  \n",
       "0  0.736942,0.549584,0.44966,2.473129,1.13664,0.5...  \n",
       "1  2.473129,1.13664,0.549585,0.574565,0.362226,0....  \n",
       "2  0.412188,0.399697,0.587056,0.437169,1.086678,1...  "
      ]
     },
     "execution_count": 66,
     "metadata": {},
     "output_type": "execute_result"
    }
   ],
   "source": [
    "df_feature.head(3)"
   ]
  },
  {
   "cell_type": "code",
   "execution_count": 63,
   "id": "bb1f7b92-1322-46dc-80e9-25f65762b76d",
   "metadata": {},
   "outputs": [
    {
     "data": {
      "text/plain": [
       "0    0\n",
       "1    0\n",
       "2    0\n",
       "Name: label, dtype: int64"
      ]
     },
     "execution_count": 63,
     "metadata": {},
     "output_type": "execute_result"
    }
   ],
   "source": [
    "df_class.head(3)"
   ]
  },
  {
   "cell_type": "markdown",
   "id": "f5d1805f-8aad-440f-b525-d03aad9332ca",
   "metadata": {},
   "source": [
    "## Train_split into cross-validation and testing dataset\n",
    "\n",
    "2021/11/04\n",
    "\n",
    "Right now I didn't use cross validation (Need Yue's help in the future)\n",
    "\n",
    "Instead, I am using train | valid | test dataset (8:1:1)\n",
    "\n",
    "Reference: https://towardsdatascience.com/how-to-split-data-into-three-sets-train-validation-and-test-and-why-e50d22d3e54c"
   ]
  },
  {
   "cell_type": "code",
   "execution_count": 91,
   "id": "c6e35b90-1cf7-455f-8a9d-4738aec709c5",
   "metadata": {},
   "outputs": [],
   "source": [
    "def train_val_test(df):\n",
    "    # split the data in training and remaining dataset\n",
    "    X_train, X_rem, y_train, y_rem = train_test_split(X,\n",
    "                                                      y, \n",
    "                                                      train_size=0.8,\n",
    "                                                      stratify=y,\n",
    "                                                      random_state=42)\n",
    "\n",
    "    # Now since we want the valid and test size to be equal (10% each of overall data). \n",
    "    # we have to define valid_size=0.5 (that is 50% of remaining data)\n",
    "    X_valid, X_test, y_valid, y_test = train_test_split(X_rem,\n",
    "                                                        y_rem, \n",
    "                                                        test_size=0.5,\n",
    "                                                        stratify=y_rem,\n",
    "                                                        random_state=13)\n",
    "    \n",
    "    ## Reset the index\n",
    "    X_train = X_train.reset_index(drop=True)\n",
    "    X_valid = X_valid.reset_index(drop=True)\n",
    "    X_test = X_test.reset_index(drop=True)\n",
    "    \n",
    "#    print(X_train.shape), print(y_train.shape)\n",
    "#    print(X_valid.shape), print(y_valid.shape)\n",
    "#    print(X_test.shape), print(y_test.shape)\n",
    "    return X_train, X_valid, X_test, y_train, y_valid, y_test"
   ]
  },
  {
   "cell_type": "code",
   "execution_count": 89,
   "id": "0a5c70d6-da2b-4ac0-8957-21aedc1df4d7",
   "metadata": {},
   "outputs": [
    {
     "name": "stdout",
     "output_type": "stream",
     "text": [
      "(2400, 11)\n",
      "(2400,)\n",
      "(300, 11)\n",
      "(300,)\n",
      "(300, 11)\n",
      "(300,)\n"
     ]
    },
    {
     "data": {
      "text/plain": [
       "(None, None)"
      ]
     },
     "execution_count": 89,
     "metadata": {},
     "output_type": "execute_result"
    }
   ],
   "source": [
    "X_train, X_valid, X_test, y_train, y_valid, y_test = train_val_test(df)\n",
    "print(X_train.shape), print(y_train.shape)\n",
    "print(X_valid.shape), print(y_valid.shape)\n",
    "print(X_test.shape), print(y_test.shape)"
   ]
  },
  {
   "cell_type": "code",
   "execution_count": 90,
   "id": "2c5dea7f-6535-4d91-9b21-d61a2126b43e",
   "metadata": {},
   "outputs": [
    {
     "data": {
      "text/html": [
       "<div>\n",
       "<style scoped>\n",
       "    .dataframe tbody tr th:only-of-type {\n",
       "        vertical-align: middle;\n",
       "    }\n",
       "\n",
       "    .dataframe tbody tr th {\n",
       "        vertical-align: top;\n",
       "    }\n",
       "\n",
       "    .dataframe thead th {\n",
       "        text-align: right;\n",
       "    }\n",
       "</style>\n",
       "<table border=\"1\" class=\"dataframe\">\n",
       "  <thead>\n",
       "    <tr style=\"text-align: right;\">\n",
       "      <th></th>\n",
       "      <th>chrom</th>\n",
       "      <th>site_pos</th>\n",
       "      <th>align_strand</th>\n",
       "      <th>pos_in_strand</th>\n",
       "      <th>read_id</th>\n",
       "      <th>read_strand</th>\n",
       "      <th>kmer_seq</th>\n",
       "      <th>kmer_signal_mean</th>\n",
       "      <th>kmer_signal_std</th>\n",
       "      <th>kmer_signal_length</th>\n",
       "      <th>kmer_signal_range</th>\n",
       "    </tr>\n",
       "  </thead>\n",
       "  <tbody>\n",
       "    <tr>\n",
       "      <th>0</th>\n",
       "      <td>J02459.1</td>\n",
       "      <td>33840</td>\n",
       "      <td>+</td>\n",
       "      <td>33840</td>\n",
       "      <td>dea70d60-bb7f-4227-aaf8-f08ebf58ac31</td>\n",
       "      <td>t</td>\n",
       "      <td>GTCATGGTCGATTTCAA</td>\n",
       "      <td>-1.203785,1.389703,0.059888,-0.363606,0.795389...</td>\n",
       "      <td>0.131342,0.259303,0.352943,0.664445,0.272477,0...</td>\n",
       "      <td>22,10,17,14,12,3,22,7,3,4,3,25,3,21,11,6,16</td>\n",
       "      <td>0.661764,0.967192,1.628956,2.532518,1.069002,0...</td>\n",
       "    </tr>\n",
       "    <tr>\n",
       "      <th>1</th>\n",
       "      <td>J02459.1</td>\n",
       "      <td>29679</td>\n",
       "      <td>+</td>\n",
       "      <td>29679</td>\n",
       "      <td>b63c008a-57a8-4e28-93a2-0f870e8fe70e</td>\n",
       "      <td>t</td>\n",
       "      <td>ATGTATGTCGTTTCAGC</td>\n",
       "      <td>-1.116067,0.75724,-0.256056,0.56832,-0.735381,...</td>\n",
       "      <td>0.122976,0.328393,0.446919,0.194609,0.114892,0...</td>\n",
       "      <td>17,8,4,4,8,9,5,5,6,5,7,8,6,15,7,15,6</td>\n",
       "      <td>0.524603,1.099169,1.111659,0.499623,0.387207,1...</td>\n",
       "    </tr>\n",
       "    <tr>\n",
       "      <th>2</th>\n",
       "      <td>KJ477685.1</td>\n",
       "      <td>36602</td>\n",
       "      <td>-</td>\n",
       "      <td>130213</td>\n",
       "      <td>d9ef0594-86f0-43d4-8b7f-69a41735a903</td>\n",
       "      <td>t</td>\n",
       "      <td>AGGAGCTTCGGCCCTTT</td>\n",
       "      <td>0.431151,-0.567246,-1.255237,-1.063179,-0.9412...</td>\n",
       "      <td>0.145854,0.120132,0.1851,0.082702,0.123245,0.0...</td>\n",
       "      <td>7,21,5,6,3,11,3,9,12,19,3,3,5,45,20,3,37</td>\n",
       "      <td>0.422985,0.548737,0.537305,0.217209,0.297233,0...</td>\n",
       "    </tr>\n",
       "  </tbody>\n",
       "</table>\n",
       "</div>"
      ],
      "text/plain": [
       "        chrom  site_pos align_strand  pos_in_strand  \\\n",
       "0    J02459.1     33840            +          33840   \n",
       "1    J02459.1     29679            +          29679   \n",
       "2  KJ477685.1     36602            -         130213   \n",
       "\n",
       "                                read_id read_strand           kmer_seq  \\\n",
       "0  dea70d60-bb7f-4227-aaf8-f08ebf58ac31           t  GTCATGGTCGATTTCAA   \n",
       "1  b63c008a-57a8-4e28-93a2-0f870e8fe70e           t  ATGTATGTCGTTTCAGC   \n",
       "2  d9ef0594-86f0-43d4-8b7f-69a41735a903           t  AGGAGCTTCGGCCCTTT   \n",
       "\n",
       "                                    kmer_signal_mean  \\\n",
       "0  -1.203785,1.389703,0.059888,-0.363606,0.795389...   \n",
       "1  -1.116067,0.75724,-0.256056,0.56832,-0.735381,...   \n",
       "2  0.431151,-0.567246,-1.255237,-1.063179,-0.9412...   \n",
       "\n",
       "                                     kmer_signal_std  \\\n",
       "0  0.131342,0.259303,0.352943,0.664445,0.272477,0...   \n",
       "1  0.122976,0.328393,0.446919,0.194609,0.114892,0...   \n",
       "2  0.145854,0.120132,0.1851,0.082702,0.123245,0.0...   \n",
       "\n",
       "                            kmer_signal_length  \\\n",
       "0  22,10,17,14,12,3,22,7,3,4,3,25,3,21,11,6,16   \n",
       "1         17,8,4,4,8,9,5,5,6,5,7,8,6,15,7,15,6   \n",
       "2     7,21,5,6,3,11,3,9,12,19,3,3,5,45,20,3,37   \n",
       "\n",
       "                                   kmer_signal_range  \n",
       "0  0.661764,0.967192,1.628956,2.532518,1.069002,0...  \n",
       "1  0.524603,1.099169,1.111659,0.499623,0.387207,1...  \n",
       "2  0.422985,0.548737,0.537305,0.217209,0.297233,0...  "
      ]
     },
     "execution_count": 90,
     "metadata": {},
     "output_type": "execute_result"
    }
   ],
   "source": [
    "X_train.head(3)"
   ]
  },
  {
   "cell_type": "code",
   "execution_count": 92,
   "id": "fa60699b-12ba-4529-9022-b3065cacf375",
   "metadata": {},
   "outputs": [
    {
     "data": {
      "text/plain": [
       "numpy.ndarray"
      ]
     },
     "execution_count": 92,
     "metadata": {},
     "output_type": "execute_result"
    }
   ],
   "source": [
    "type(y_train)"
   ]
  },
  {
   "cell_type": "markdown",
   "id": "d1568a0c-deb6-4b74-85bf-59d7f708bcf7",
   "metadata": {},
   "source": [
    "# Process the data"
   ]
  },
  {
   "cell_type": "markdown",
   "id": "1b821e11-8442-4b2c-bc16-87fffa0cdd59",
   "metadata": {},
   "source": [
    "## Repeat the code from DeepMP"
   ]
  },
  {
   "cell_type": "code",
   "execution_count": 93,
   "id": "1fcaad75-593b-4c8f-a9a0-ff218c6f0533",
   "metadata": {},
   "outputs": [],
   "source": [
    "####Repeat the code from DeepMP\n",
    "#https://github.com/pepebonet/DeepMP/blob/3c2dcdc3c1d6f0c3dc6ab087e30de74e3a81c257/deepmp/utils.py\n",
    "base2code_dna = {'A': 0, 'C': 1, 'G': 2, 'T': 3, 'N': 4}\n",
    "\n",
    "def kmer2code(kmer_bytes):\n",
    "    return [base2code_dna[x] for x in kmer_bytes]\n",
    "\n",
    "### Extract features as numpy.ndarray\n",
    "chrom = df['chrom'].values\n",
    "site_pos = df['site_pos'].values\n",
    "align_strand = df['align_strand'].values\n",
    "pos_in_strand = df['pos_in_strand'].values\n",
    "read_id = df['read_id'].values\n",
    "read_strand = df['read_strand'].values\n",
    "label = df['label'].values\n",
    "\n",
    "kmer_seq = df['kmer_seq'].apply(kmer2code)\n",
    "\n",
    "\n",
    "### Extract features as list\n",
    "#https://www.tensorflow.org/api_docs/python/tf/strings/to_number\n",
    "#Converts each string in the input Tensor to the specified numeric type.\n",
    "kmer_mean = [tf.strings.to_number(i.split(',')) for i in df['kmer_signal_mean']]\n",
    "kmer_std = [tf.strings.to_number(i.split(',')) for i in df['kmer_signal_std']]\n",
    "kmer_length = [tf.strings.to_number(i.split(',')) for i in df['kmer_signal_length']]\n",
    "kmer_range = [tf.strings.to_number(i.split(',')) for i in df['kmer_signal_range']]"
   ]
  },
  {
   "cell_type": "code",
   "execution_count": 94,
   "id": "bd77794d-a636-410c-9657-8027ff4400f8",
   "metadata": {},
   "outputs": [],
   "source": [
    "import h5py\n",
    "file_name = '/pod/2/li-lab/Ziwei/Nanopore/daily/2021-11-03/test.h5'\n",
    "\n",
    "#with h5py.File(file_name, 'a') as hf:\n",
    "#    hf.create_dataset(\"kmer\",  data=np.stack(kmer_seq), chunks=True, maxshape=(None,None))\n",
    "#    hf.create_dataset(\"signal_mean\",  data=np.stack(kmer_mean), chunks=True, maxshape=(None,None))\n",
    "#    hf.create_dataset(\"signal_std\",  data=np.stack(kmer_std), chunks=True, maxshape=(None,None))\n",
    "#    hf.create_dataset('label',  data=label, chunks=True, maxshape=(None,))\n",
    "#    hf.create_dataset('chrom',  data=chrom, chunks=True, maxshape=(None,))\n",
    "#    hf.create_dataset('strand',  data=align_strand, chunks=True, maxshape=(None,))\n",
    "\n",
    "with h5py.File(file_name, 'r') as hf:\n",
    "    bases = hf['kmer'][:]\n",
    "    signal_mean = hf['signal_mean'][:]\n",
    "    signal_std = hf['signal_std'][:]"
   ]
  },
  {
   "cell_type": "code",
   "execution_count": 95,
   "id": "eafb780e-6483-4448-80ec-7a099fe1b5b0",
   "metadata": {},
   "outputs": [
    {
     "data": {
      "text/plain": [
       "((3000, 17), (3000, 17))"
      ]
     },
     "execution_count": 95,
     "metadata": {},
     "output_type": "execute_result"
    }
   ],
   "source": [
    "signal_mean.shape, signal_std.shape"
   ]
  },
  {
   "cell_type": "code",
   "execution_count": 96,
   "id": "07885ce5-c66c-4bd7-a92b-68b129f41301",
   "metadata": {},
   "outputs": [
    {
     "data": {
      "text/plain": [
       "numpy.ndarray"
      ]
     },
     "execution_count": 96,
     "metadata": {},
     "output_type": "execute_result"
    }
   ],
   "source": [
    "type(label)"
   ]
  },
  {
   "cell_type": "code",
   "execution_count": 624,
   "id": "e7aefad0-7718-46ae-bbc5-a9fbd7ae4e17",
   "metadata": {},
   "outputs": [
    {
     "data": {
      "text/plain": [
       "tf.float32"
      ]
     },
     "execution_count": 624,
     "metadata": {},
     "output_type": "execute_result"
    }
   ],
   "source": [
    "test = tf.reshape(signal_mean, [-1, kmer, 1])\n",
    "test.dtype"
   ]
  },
  {
   "cell_type": "code",
   "execution_count": 625,
   "id": "fdfc083e-08e8-4bdc-a943-0c5254efa55a",
   "metadata": {},
   "outputs": [
    {
     "data": {
      "text/plain": [
       "(TensorShape([3000, 17, 4]), numpy.ndarray, tf.float32)"
      ]
     },
     "execution_count": 625,
     "metadata": {},
     "output_type": "execute_result"
    }
   ],
   "source": [
    "embedding_size = 4\n",
    "embedded_bases = tf.one_hot(bases, embedding_size)\n",
    "embedded_bases.shape, type(signal_mean), embedded_bases.dtype"
   ]
  },
  {
   "cell_type": "code",
   "execution_count": 187,
   "id": "33633ce5-5b16-4577-99a1-3a6ac4218876",
   "metadata": {},
   "outputs": [
    {
     "data": {
      "text/plain": [
       "array([[ 0.643744, -1.4208  , -1.009653, ...,  1.106663, -0.936791,\n",
       "         1.488718],\n",
       "       [ 1.055123, -0.112415, -0.446686, ..., -0.126467,  1.381098,\n",
       "         0.143641],\n",
       "       [ 0.192711, -0.661999,  0.319133, ...,  0.134273, -0.020817,\n",
       "        -1.466747],\n",
       "       ...,\n",
       "       [-1.200431, -1.228535, -0.590179, ..., -0.887275, -1.051214,\n",
       "        -0.630327],\n",
       "       [ 0.987012, -0.259816, -0.887275, ...,  0.44966 ,  0.772971,\n",
       "         0.810994],\n",
       "       [-0.67449 , -0.875231,  1.48663 , ..., -0.0542  ,  1.335931,\n",
       "        -0.477764]], dtype=float32)"
      ]
     },
     "execution_count": 187,
     "metadata": {},
     "output_type": "execute_result"
    }
   ],
   "source": [
    "signal_mean"
   ]
  },
  {
   "cell_type": "markdown",
   "id": "db8c1756-2908-4561-b6d8-374d16d47ee2",
   "metadata": {},
   "source": [
    "## implentation for my own tensor process\n",
    "\n",
    "Write a function to prepare all the features for tensor"
   ]
  },
  {
   "cell_type": "code",
   "execution_count": 45,
   "id": "a1c85ee7-85be-49f1-b7c7-6164a1fbb7da",
   "metadata": {},
   "outputs": [],
   "source": [
    "###Follow the tensorflow encode way: https://www.tensorflow.org/io/tutorials/genome?hl=hr\n",
    "###Potential issue: I didn't consider other bases here, tf exception is for [1,1,1,1]\n",
    "###The one hot encoding is following the alphabetical order\n",
    "\n",
    "base_num = {'A': 0, 'C':1, 'G':2, 'T': 3}\n",
    "def kmer2num(kmer_seq):\n",
    "    return [base_num[base] for base in kmer_seq]\n",
    "\n",
    "### Prepare for the tensor\n",
    "def array2tensor(input_array):\n",
    "    tensor_2D = tf.convert_to_tensor(input_array, dtype=float) ##Convert 2D-array into tensor\n",
    "    tensor_3D = tf.expand_dims(tensor_2D, -1) #-1 denotes the last dimension\n",
    "#    tensor_3D = tf.reshape(tensor_2D, shape=[tensor_2D.shape[0], tensor_2D.shape[1], 1])\n",
    "    return tensor_3D\n",
    "\n",
    "def process_tensor(df_feature, df_label, kmer=17):\n",
    "    ### Extract features as numpy.ndarray\n",
    "#    chrom = df['chrom'].values\n",
    "#    site_pos = df['site_pos'].values\n",
    "#    align_strand = df['align_strand'].values\n",
    "#    pos_in_strand = df['pos_in_strand'].values\n",
    "#    read_id = df['read_id'].values\n",
    "#    read_strand = df['read_strand'].values\n",
    "    label = df_label.values\n",
    "    \n",
    "    kmer_mean = df['kmer_signal_mean'].str.split(\",\", n = kmer, expand = True).to_numpy(dtype=float)\n",
    "    kmer_std = df['kmer_signal_std'].str.split(\",\", n = kmer, expand = True).to_numpy(dtype=float)\n",
    "    kmer_length = df['kmer_signal_length'].str.split(\",\", n = kmer, expand = True).to_numpy(dtype=float)\n",
    "    kmer_range = df['kmer_signal_range'].str.split(\",\", n = kmer, expand = True).to_numpy(dtype=float)\n",
    "\n",
    "    kmer_seq = np.stack(df['kmer_seq'].apply(kmer2num))\n",
    "    \n",
    "    ## Prepare the concated tensors\n",
    "    ###Prepare tensors for model\n",
    "    kmer_seq_tensor = tf.one_hot(kmer_seq, 4) ###4 bases\n",
    "    \n",
    "    ### Concate the tensor\n",
    "    tensor = tf.concat([kmer_seq_tensor,\n",
    "                        array2tensor(kmer_mean),\n",
    "                        array2tensor(kmer_std),\n",
    "                        array2tensor(kmer_length),\n",
    "                        array2tensor(kmer_range)],\n",
    "                        axis = 2) ##concate the 3rd dimension\n",
    "    \n",
    "    ###Make sure the feature/label has the same dimension\n",
    "    assert tensor.shape[0] == label.shape[0]\n",
    "    \n",
    "    return tensor, label"
   ]
  },
  {
   "cell_type": "code",
   "execution_count": 46,
   "id": "0d311211-4ebc-4b72-943f-217c82db6b67",
   "metadata": {},
   "outputs": [
    {
     "data": {
      "text/plain": [
       "(TensorShape([3000, 17, 8]), (3000,))"
      ]
     },
     "execution_count": 46,
     "metadata": {},
     "output_type": "execute_result"
    }
   ],
   "source": [
    "tensor, label = process_tensor(df, kmer=17)\n",
    "tensor.shape, label.shape"
   ]
  },
  {
   "cell_type": "markdown",
   "id": "b9bb7c3a-5199-4ba3-ba73-81b53c2eea91",
   "metadata": {},
   "source": [
    "## Train_test_Split"
   ]
  },
  {
   "cell_type": "code",
   "execution_count": 647,
   "id": "7c17e24b-3950-42c4-89a9-31bd9d95f26e",
   "metadata": {},
   "outputs": [],
   "source": []
  },
  {
   "cell_type": "code",
   "execution_count": 648,
   "id": "b14a5151-f98d-4f65-a8b7-a9c32ead8c5b",
   "metadata": {},
   "outputs": [
    {
     "data": {
      "text/plain": [
       "((3000, 11), (3000,))"
      ]
     },
     "execution_count": 648,
     "metadata": {},
     "output_type": "execute_result"
    }
   ],
   "source": []
  },
  {
   "cell_type": "code",
   "execution_count": 662,
   "id": "a0d520c6-2d80-4e3e-aacf-672feffc9f6e",
   "metadata": {},
   "outputs": [
    {
     "data": {
      "text/plain": [
       "((2400, 11), (600, 11))"
      ]
     },
     "execution_count": 662,
     "metadata": {},
     "output_type": "execute_result"
    }
   ],
   "source": []
  },
  {
   "cell_type": "code",
   "execution_count": 651,
   "id": "42864d84-0619-41c4-9732-b1533f2d2850",
   "metadata": {},
   "outputs": [
    {
     "name": "stdout",
     "output_type": "stream",
     "text": [
      "TensorFlow version: 2.6.1\n",
      "tensorflow_io: 0.21.0\n"
     ]
    }
   ],
   "source": []
  },
  {
   "cell_type": "code",
   "execution_count": null,
   "id": "4f998649-d095-441c-85ca-727a875fc49e",
   "metadata": {},
   "outputs": [],
   "source": []
  }
 ],
 "metadata": {
  "kernelspec": {
   "display_name": "Python 3 (ipykernel)",
   "language": "python",
   "name": "python3"
  },
  "language_info": {
   "codemirror_mode": {
    "name": "ipython",
    "version": 3
   },
   "file_extension": ".py",
   "mimetype": "text/x-python",
   "name": "python",
   "nbconvert_exporter": "python",
   "pygments_lexer": "ipython3",
   "version": "3.8.12"
  }
 },
 "nbformat": 4,
 "nbformat_minor": 5
}
