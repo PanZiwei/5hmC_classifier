{
 "cells": [
  {
   "cell_type": "markdown",
   "metadata": {},
   "source": [
    "# 2021/12/06\n",
    "The original notebook is from https://github.com/ArtRand/CytosineMethylationAnalysis/blob/master/notebooks/Zymo_Analysis.ipynb"
   ]
  },
  {
   "cell_type": "code",
   "execution_count": 3,
   "metadata": {},
   "outputs": [],
   "source": [
    "import os\n",
    "import numpy as np\n",
    "import pandas as pd"
   ]
  },
  {
   "cell_type": "code",
   "execution_count": 4,
   "metadata": {},
   "outputs": [],
   "source": [
    "input_path='/fastscratch/c-panz/2021-12-07/CytosineMethylationAnalysis/data/zymo/multiset/'\n",
    "\n",
    "# load the data\n",
    "names=['site', 'strand', 'pC', 'pmC', 'phmC', 'read']\n",
    "c_mulset = pd.read_table(os.path.join(input_path,\"C-barcoded_calls.tsv\"), names = names)\n",
    "mc_mulset = pd.read_table(os.path.join(input_path,\"mC-barcoded_calls.tsv\"), names = names)\n",
    "hmc_mulset = pd.read_table(os.path.join(input_path,\"hmC-barcoded_calls.tsv\"), names = names)"
   ]
  },
  {
   "cell_type": "code",
   "execution_count": 25,
   "metadata": {},
   "outputs": [
    {
     "data": {
      "text/plain": [
       "((218642, 6), (115635, 6), (212680, 6))"
      ]
     },
     "execution_count": 25,
     "metadata": {},
     "output_type": "execute_result"
    }
   ],
   "source": [
    "c_mulset.shape, mc_mulset.shape, hmc_mulset.shape"
   ]
  },
  {
   "cell_type": "code",
   "execution_count": 26,
   "metadata": {
    "tags": []
   },
   "outputs": [
    {
     "data": {
      "text/html": [
       "<div>\n",
       "<style scoped>\n",
       "    .dataframe tbody tr th:only-of-type {\n",
       "        vertical-align: middle;\n",
       "    }\n",
       "\n",
       "    .dataframe tbody tr th {\n",
       "        vertical-align: top;\n",
       "    }\n",
       "\n",
       "    .dataframe thead th {\n",
       "        text-align: right;\n",
       "    }\n",
       "</style>\n",
       "<table border=\"1\" class=\"dataframe\">\n",
       "  <thead>\n",
       "    <tr style=\"text-align: right;\">\n",
       "      <th></th>\n",
       "      <th>site</th>\n",
       "      <th>strand</th>\n",
       "      <th>pC</th>\n",
       "      <th>pmC</th>\n",
       "      <th>phmC</th>\n",
       "      <th>read</th>\n",
       "    </tr>\n",
       "  </thead>\n",
       "  <tbody>\n",
       "    <tr>\n",
       "      <th>0</th>\n",
       "      <td>22</td>\n",
       "      <td>t</td>\n",
       "      <td>0.000000</td>\n",
       "      <td>0.000000</td>\n",
       "      <td>1.000000</td>\n",
       "      <td>makeson_PC_MA_286_R7.3_Zymo_Barcode_01_13_16_0...</td>\n",
       "    </tr>\n",
       "    <tr>\n",
       "      <th>1</th>\n",
       "      <td>24</td>\n",
       "      <td>t</td>\n",
       "      <td>0.000000</td>\n",
       "      <td>0.000000</td>\n",
       "      <td>1.000000</td>\n",
       "      <td>makeson_PC_MA_286_R7.3_Zymo_Barcode_01_13_16_0...</td>\n",
       "    </tr>\n",
       "    <tr>\n",
       "      <th>2</th>\n",
       "      <td>28</td>\n",
       "      <td>t</td>\n",
       "      <td>0.000000</td>\n",
       "      <td>0.000000</td>\n",
       "      <td>1.000000</td>\n",
       "      <td>makeson_PC_MA_286_R7.3_Zymo_Barcode_01_13_16_0...</td>\n",
       "    </tr>\n",
       "    <tr>\n",
       "      <th>3</th>\n",
       "      <td>33</td>\n",
       "      <td>t</td>\n",
       "      <td>0.255617</td>\n",
       "      <td>0.134413</td>\n",
       "      <td>0.609971</td>\n",
       "      <td>makeson_PC_MA_286_R7.3_Zymo_Barcode_01_13_16_0...</td>\n",
       "    </tr>\n",
       "    <tr>\n",
       "      <th>4</th>\n",
       "      <td>38</td>\n",
       "      <td>t</td>\n",
       "      <td>0.288845</td>\n",
       "      <td>0.000000</td>\n",
       "      <td>0.711155</td>\n",
       "      <td>makeson_PC_MA_286_R7.3_Zymo_Barcode_01_13_16_0...</td>\n",
       "    </tr>\n",
       "    <tr>\n",
       "      <th>...</th>\n",
       "      <td>...</td>\n",
       "      <td>...</td>\n",
       "      <td>...</td>\n",
       "      <td>...</td>\n",
       "      <td>...</td>\n",
       "      <td>...</td>\n",
       "    </tr>\n",
       "    <tr>\n",
       "      <th>212675</th>\n",
       "      <td>852</td>\n",
       "      <td>c</td>\n",
       "      <td>0.000000</td>\n",
       "      <td>0.000000</td>\n",
       "      <td>1.000000</td>\n",
       "      <td>makeson_PC_MA_286_R7.3_Zymo_Barcode_01_13_16_0...</td>\n",
       "    </tr>\n",
       "    <tr>\n",
       "      <th>212676</th>\n",
       "      <td>854</td>\n",
       "      <td>c</td>\n",
       "      <td>0.004936</td>\n",
       "      <td>0.000000</td>\n",
       "      <td>0.995064</td>\n",
       "      <td>makeson_PC_MA_286_R7.3_Zymo_Barcode_01_13_16_0...</td>\n",
       "    </tr>\n",
       "    <tr>\n",
       "      <th>212677</th>\n",
       "      <td>856</td>\n",
       "      <td>c</td>\n",
       "      <td>0.291284</td>\n",
       "      <td>0.000000</td>\n",
       "      <td>0.708716</td>\n",
       "      <td>makeson_PC_MA_286_R7.3_Zymo_Barcode_01_13_16_0...</td>\n",
       "    </tr>\n",
       "    <tr>\n",
       "      <th>212678</th>\n",
       "      <td>857</td>\n",
       "      <td>c</td>\n",
       "      <td>0.280432</td>\n",
       "      <td>0.000000</td>\n",
       "      <td>0.719568</td>\n",
       "      <td>makeson_PC_MA_286_R7.3_Zymo_Barcode_01_13_16_0...</td>\n",
       "    </tr>\n",
       "    <tr>\n",
       "      <th>212679</th>\n",
       "      <td>869</td>\n",
       "      <td>c</td>\n",
       "      <td>0.029095</td>\n",
       "      <td>0.000000</td>\n",
       "      <td>0.970905</td>\n",
       "      <td>makeson_PC_MA_286_R7.3_Zymo_Barcode_01_13_16_0...</td>\n",
       "    </tr>\n",
       "  </tbody>\n",
       "</table>\n",
       "<p>212680 rows × 6 columns</p>\n",
       "</div>"
      ],
      "text/plain": [
       "        site strand        pC       pmC      phmC  \\\n",
       "0         22      t  0.000000  0.000000  1.000000   \n",
       "1         24      t  0.000000  0.000000  1.000000   \n",
       "2         28      t  0.000000  0.000000  1.000000   \n",
       "3         33      t  0.255617  0.134413  0.609971   \n",
       "4         38      t  0.288845  0.000000  0.711155   \n",
       "...      ...    ...       ...       ...       ...   \n",
       "212675   852      c  0.000000  0.000000  1.000000   \n",
       "212676   854      c  0.004936  0.000000  0.995064   \n",
       "212677   856      c  0.291284  0.000000  0.708716   \n",
       "212678   857      c  0.280432  0.000000  0.719568   \n",
       "212679   869      c  0.029095  0.000000  0.970905   \n",
       "\n",
       "                                                     read  \n",
       "0       makeson_PC_MA_286_R7.3_Zymo_Barcode_01_13_16_0...  \n",
       "1       makeson_PC_MA_286_R7.3_Zymo_Barcode_01_13_16_0...  \n",
       "2       makeson_PC_MA_286_R7.3_Zymo_Barcode_01_13_16_0...  \n",
       "3       makeson_PC_MA_286_R7.3_Zymo_Barcode_01_13_16_0...  \n",
       "4       makeson_PC_MA_286_R7.3_Zymo_Barcode_01_13_16_0...  \n",
       "...                                                   ...  \n",
       "212675  makeson_PC_MA_286_R7.3_Zymo_Barcode_01_13_16_0...  \n",
       "212676  makeson_PC_MA_286_R7.3_Zymo_Barcode_01_13_16_0...  \n",
       "212677  makeson_PC_MA_286_R7.3_Zymo_Barcode_01_13_16_0...  \n",
       "212678  makeson_PC_MA_286_R7.3_Zymo_Barcode_01_13_16_0...  \n",
       "212679  makeson_PC_MA_286_R7.3_Zymo_Barcode_01_13_16_0...  \n",
       "\n",
       "[212680 rows x 6 columns]"
      ]
     },
     "execution_count": 26,
     "metadata": {},
     "output_type": "execute_result"
    }
   ],
   "source": [
    "hmc_mulset"
   ]
  },
  {
   "cell_type": "code",
   "execution_count": 106,
   "metadata": {},
   "outputs": [
    {
     "data": {
      "text/plain": [
       "site\n",
       "856    483\n",
       "857    482\n",
       "860    481\n",
       "861    480\n",
       "862    480\n",
       "863    479\n",
       "869    479\n",
       "879    450\n",
       "886    429\n",
       "890    397\n",
       "dtype: int64"
      ]
     },
     "execution_count": 106,
     "metadata": {},
     "output_type": "execute_result"
    }
   ],
   "source": [
    "test = hmc_mulset.pivot_table(index=['site'], aggfunc='size')\n",
    "test.tail(10)"
   ]
  },
  {
   "cell_type": "code",
   "execution_count": 32,
   "metadata": {},
   "outputs": [
    {
     "data": {
      "text/plain": [
       "(103242, 6)"
      ]
     },
     "execution_count": 32,
     "metadata": {},
     "output_type": "execute_result"
    }
   ],
   "source": [
    "hmc_mulset_t = hmc_mulset.loc[hmc_mulset['strand'] == 't']\n",
    "hmc_mulset_t.shape"
   ]
  },
  {
   "cell_type": "code",
   "execution_count": 36,
   "metadata": {
    "collapsed": false,
    "jupyter": {
     "outputs_hidden": false
    }
   },
   "outputs": [],
   "source": [
    "from __future__ import division\n",
    "import sys\n",
    "from sklearn.metrics import confusion_matrix\n",
    "import numpy as np\n",
    "import pandas as pd\n",
    "import matplotlib.pyplot as plt\n",
    "import seaborn as sns\n",
    "sns.set(style=\"whitegrid\", palette=\"muted\")\n",
    "\n",
    "%matplotlib inline\n",
    "plt.rcParams['figure.figsize'] = 20, 20\n",
    "\n",
    "\n",
    "# Get the predicted label (use the maximum method)\n",
    "def get_calls(data, strand):\n",
    "    #.ix is deprecated\n",
    "#    select_by_strand = data.ix[data['strand'] == strand]   \n",
    "    select_by_strand = data.loc[data['strand'] == strand]\n",
    "    calls = []\n",
    "    for row in select_by_strand.itertuples():\n",
    "        call = np.argmax(row[3:6]) #Returns the indices of the maximum values along an axis\n",
    "        # row[3:6]: pC, pmC, phmC, index is 0,1,2, if the np.argmax(row[3:6]) == value in phmC column, it will return 2\n",
    "        calls.append(call)\n",
    "    return calls"
   ]
  },
  {
   "cell_type": "code",
   "execution_count": null,
   "metadata": {},
   "outputs": [],
   "source": [
    "c_calls = get_calls(g0, strand) ### Predicted labels\n",
    "c_labels = [0] * len(c_calls) ### True labels\n",
    "mc_calls = get_calls(g1, strand)\n",
    "mc_labels = [1] * len(mc_calls)\n",
    "hmc_calls = get_calls(g2, strand)\n",
    "hmc_labels = [2] * len(hmc_calls)\n",
    "calls = c_calls + mc_calls + hmc_calls \n",
    "labels = c_labels + mc_labels + hmc_labels\n",
    "cm = confusion_matrix(labels, calls)"
   ]
  },
  {
   "cell_type": "code",
   "execution_count": 66,
   "metadata": {},
   "outputs": [],
   "source": [
    "# Show confusion matrix\n",
    "def make_confusion_matrix(g0, g1, g2, strand):\n",
    "    c_calls = get_calls(g0, strand) ### Predicted labels\n",
    "    c_labels = [0] * len(c_calls) ### True labels\n",
    "    mc_calls = get_calls(g1, strand)\n",
    "    mc_labels = [1] * len(mc_calls)\n",
    "    hmc_calls = get_calls(g2, strand)\n",
    "    hmc_labels = [2] * len(hmc_calls)\n",
    "    calls = c_calls + mc_calls + hmc_calls \n",
    "    labels = c_labels + mc_labels + hmc_labels\n",
    "    cm = confusion_matrix(labels, calls)\n",
    "    print(cm) #print confusion matrix\n",
    "    cm_normalized = cm.astype('float') / cm.sum(axis=0)[:, np.newaxis] #add row value(true label)\n",
    "    print(cm_normalized)\n",
    "    return cm_normalized"
   ]
  },
  {
   "cell_type": "code",
   "execution_count": 67,
   "metadata": {},
   "outputs": [
    {
     "name": "stdout",
     "output_type": "stream",
     "text": [
      "[[79927 13161 15398]\n",
      " [ 9796 41848  5824]\n",
      " [16886  8109 78247]]\n",
      "[[0.74972094 0.12345112 0.14443433]\n",
      " [0.15520137 0.66301214 0.09227162]\n",
      " [0.16976143 0.08152289 0.7866471 ]]\n"
     ]
    }
   ],
   "source": [
    "cm_t = make_confusion_matrix(c_mulset, mc_mulset, hmc_mulset, 't')"
   ]
  },
  {
   "cell_type": "code",
   "execution_count": 68,
   "metadata": {},
   "outputs": [
    {
     "name": "stdout",
     "output_type": "stream",
     "text": [
      "[[71247 15729 23180]\n",
      " [11213 38452  8502]\n",
      " [20445 11103 77890]]\n",
      "[[0.69235703 0.15284972 0.2252563 ]\n",
      " [0.17175725 0.58899577 0.13023099]\n",
      " [0.18658964 0.10133063 0.71085679]]\n"
     ]
    }
   ],
   "source": [
    "cm_c = make_confusion_matrix(c_mulset, mc_mulset, hmc_mulset, 'c')"
   ]
  },
  {
   "cell_type": "code",
   "execution_count": 89,
   "metadata": {},
   "outputs": [
    {
     "data": {
      "image/png": "[encoded data removed]",
      "text/plain": [
       "<Figure size 720x720 with 2 Axes>"
      ]
     },
     "metadata": {
      "needs_background": "light"
     },
     "output_type": "display_data"
    }
   ],
   "source": [
    "def plot_cm(g0, g1, g2, strand, figsize=(10,10)):\n",
    "    \"\"\"\n",
    "    Generate matrix plot of confusion matrix with annotations.\n",
    "    args: \n",
    "      y_true:    true label of the data, with shape (nsamples,)\n",
    "      y_pred:    prediction of the data, with shape (nsamples,)\n",
    "      filename:  filename of figure file to save\n",
    "      labels:    string array, name the order of class labels in the confusion matrix.\n",
    "                 use `clf.classes_` if using scikit-learn models.\n",
    "                 with shape (nclass,).\n",
    "                 Caution: original y_true, y_pred and labels must align.\n",
    "      figsize:   the size of the figure plotted.\n",
    "    \"\"\"\n",
    "    c_calls = get_calls(g0, strand) ### Predicted labels\n",
    "    c_labels = [0] * len(c_calls) ### True labels\n",
    "    mc_calls = get_calls(g1, strand)\n",
    "    mc_labels = [1] * len(mc_calls)\n",
    "    hmc_calls = get_calls(g2, strand)\n",
    "    hmc_labels = [2] * len(hmc_calls)\n",
    "    y_pred = c_calls + mc_calls + hmc_calls \n",
    "    y_true = c_labels + mc_labels + hmc_labels\n",
    "    cm = confusion_matrix(y_true, y_pred)\n",
    "    # Normalise: Calcuate precision\n",
    "#    cm_normalized = cm.astype('float') / cm.sum(axis=1)[:, np.newaxis] #add column value in 1st row(true label)\n",
    "    cm_sum = cm.sum(axis=1)[:, np.newaxis]\n",
    "    cm_perc = cm / cm_sum.astype(float)\n",
    "    annot = np.empty_like(cm).astype(str)\n",
    "    nrows, ncols = cm.shape\n",
    "    for i in range(nrows):\n",
    "        for j in range(ncols):\n",
    "            c = cm[i, j]\n",
    "            p = cm_perc[i, j]\n",
    "            s = cm_sum[i]\n",
    "            annot[i, j] = '%.4f\\n%d/%d' % (p, c, s)\n",
    "    \n",
    "    cmn = cm.astype('float') / cm.sum(axis=1)[:, np.newaxis]\n",
    "    cmn = pd.DataFrame(cmn)\n",
    "    cmn.index.name = 'True label'\n",
    "    cmn.columns.name = 'Predicted label'\n",
    "    \n",
    "    fig, ax = plt.subplots(figsize=figsize)\n",
    "    sns.heatmap(cmn, annot=annot, fmt='', ax=ax, cmap=\"Blues\", vmin=0, vmax=1) ##Set up bar range\n",
    "#    plt.savefig(filename)\n",
    "    plt.show()\n",
    "    \n",
    "plot_cm(c_mulset, mc_mulset, hmc_mulset, 't')"
   ]
  },
  {
   "cell_type": "markdown",
   "metadata": {},
   "source": [
    "## Figure 2C"
   ]
  },
  {
   "cell_type": "code",
   "execution_count": 95,
   "metadata": {},
   "outputs": [],
   "source": [
    "from sklearn.metrics import confusion_matrix, classification_report\n",
    "\n",
    "g0, g1, g2 = c_mulset, mc_mulset, hmc_mulset\n",
    "strand = 't'\n",
    "\n",
    "c_calls = get_calls(g0, strand) ### Predicted labels\n",
    "c_labels = [0] * len(c_calls) ### True labels\n",
    "mc_calls = get_calls(g1, strand)\n",
    "mc_labels = [1] * len(mc_calls)\n",
    "hmc_calls = get_calls(g2, strand)\n",
    "hmc_labels = [2] * len(hmc_calls)\n",
    "calls = c_calls + mc_calls + hmc_calls \n",
    "labels = c_labels + mc_labels + hmc_labels"
   ]
  },
  {
   "cell_type": "code",
   "execution_count": 96,
   "metadata": {},
   "outputs": [
    {
     "name": "stdout",
     "output_type": "stream",
     "text": [
      "              precision    recall  f1-score   support\n",
      "\n",
      "           0      0.750     0.737     0.743    108486\n",
      "           1      0.663     0.728     0.694     57468\n",
      "           2      0.787     0.758     0.772    103242\n",
      "\n",
      "    accuracy                          0.743    269196\n",
      "   macro avg      0.733     0.741     0.736    269196\n",
      "weighted avg      0.745     0.743     0.744    269196\n",
      "\n"
     ]
    }
   ],
   "source": [
    "print(classification_report(labels, calls, digits=3))"
   ]
  },
  {
   "cell_type": "code",
   "execution_count": 97,
   "metadata": {},
   "outputs": [
    {
     "name": "stdout",
     "output_type": "stream",
     "text": [
      "              precision    recall  f1-score   support\n",
      "\n",
      "           0      0.737     0.750     0.743    106609\n",
      "           1      0.728     0.663     0.694     63118\n",
      "           2      0.758     0.787     0.772     99469\n",
      "\n",
      "    accuracy                          0.743    269196\n",
      "   macro avg      0.741     0.733     0.736    269196\n",
      "weighted avg      0.743     0.743     0.742    269196\n",
      "\n"
     ]
    }
   ],
   "source": [
    "print(classification_report(calls, labels, digits=3))"
   ]
  },
  {
   "cell_type": "code",
   "execution_count": 91,
   "metadata": {},
   "outputs": [
    {
     "data": {
      "text/plain": [
       "0.7430348147817947"
      ]
     },
     "execution_count": 91,
     "metadata": {},
     "output_type": "execute_result"
    }
   ],
   "source": [
    "_confusion_matrix = confusion_matrix(labels, calls)\n",
    "acc = np.sum(_confusion_matrix.diagonal()) / np.sum(_confusion_matrix)\n",
    "acc"
   ]
  },
  {
   "cell_type": "code",
   "execution_count": 78,
   "metadata": {},
   "outputs": [
    {
     "name": "stdout",
     "output_type": "stream",
     "text": [
      "[[79927  9796 16886]\n",
      " [13161 41848  8109]\n",
      " [15398  5824 78247]]\n",
      "[[0.74972094 0.09188718 0.15839188]\n",
      " [0.20851421 0.66301214 0.12847365]\n",
      " [0.154802   0.05855091 0.7866471 ]]\n"
     ]
    },
    {
     "data": {
      "image/png": "[encoded data removed]",
      "text/plain": [
       "<Figure size 720x720 with 2 Axes>"
      ]
     },
     "metadata": {
      "needs_background": "light"
     },
     "output_type": "display_data"
    }
   ],
   "source": [
    "# Show confusion matrix\n",
    "def make_confusion_matrix(g0, g1, g2, strand):\n",
    "    c_calls = get_calls(g0, strand) ### Predicted labels\n",
    "    c_labels = [0] * len(c_calls) ### True labels\n",
    "    mc_calls = get_calls(g1, strand)\n",
    "    mc_labels = [1] * len(mc_calls)\n",
    "    hmc_calls = get_calls(g2, strand)\n",
    "    hmc_labels = [2] * len(hmc_calls)\n",
    "    calls = c_calls + mc_calls + hmc_calls \n",
    "    labels = c_labels + mc_labels + hmc_labels\n",
    "    cm = confusion_matrix(calls, labels)\n",
    "    print(cm) #print confusion matrix\n",
    "    ## Calcuate precision\n",
    "    cm_normalized = cm.astype('float') / cm.sum(axis=1)[:, np.newaxis] #add column value in 1st row(true label)\n",
    "    print(cm_normalized)\n",
    "    return cm_normalized\n",
    "\n",
    "def plot_confusion_matrix(g0, g1, g2, strand, title='Confusion matrix', out_file=None):\n",
    "    cm = make_confusion_matrix(g0, g1, g2, strand)\n",
    "    plt.figure(figsize=(10,10))\n",
    "    plt.imshow(cm, interpolation='nearest', cmap=plt.cm.Blues)\n",
    "    plt.title(title, fontsize=35)\n",
    "    width, height = cm.shape #the wideth, height is equal to the label number\n",
    "    for x in range(width):\n",
    "        for y in range(height):\n",
    "            plt.annotate(str(round(cm[x][y], 2)), xy=(y, x), \n",
    "                        horizontalalignment='center',\n",
    "                        verticalalignment='center', fontsize=35, color=('w' if x == y else 'k'))\n",
    "    tick_marks = np.arange(3)\n",
    "    plt.xticks(tick_marks, [\"C\", \"mC\", \"hmC\"], rotation=45, fontsize=35)\n",
    "    plt.yticks(tick_marks, [\"C\", \"mC\", \"hmC\"], fontsize=35)\n",
    "    plt.ylabel('True label', fontsize=35)\n",
    "    plt.xlabel('Predicted label', fontsize=35)\n",
    "    plt.clim(0, 1)  ### Set up color bar\n",
    "    cbar = plt.colorbar()\n",
    "    cbar.ax.tick_params(labelsize=30) \n",
    "    \n",
    "    if out_file is not None:\n",
    "        plt.savefig(out_file)\n",
    "        \n",
    "plot_confusion_matrix(c_mulset, mc_mulset, hmc_mulset, 't', \"Template\", None)"
   ]
  },
  {
   "cell_type": "code",
   "execution_count": null,
   "metadata": {},
   "outputs": [],
   "source": [
    "cm = confusion_matrix(y_true, y_pred)"
   ]
  },
  {
   "cell_type": "markdown",
   "metadata": {},
   "source": [
    "Determining most accurate context"
   ]
  },
  {
   "cell_type": "markdown",
   "metadata": {},
   "source": [
    "#### Figure 2C "
   ]
  },
  {
   "cell_type": "code",
   "execution_count": null,
   "metadata": {},
   "outputs": [],
   "source": []
  }
 ],
 "metadata": {
  "kernelspec": {
   "display_name": "Python 3 (ipykernel)",
   "language": "python",
   "name": "python3"
  },
  "language_info": {
   "codemirror_mode": {
    "name": "ipython",
    "version": 3
   },
   "file_extension": ".py",
   "mimetype": "text/x-python",
   "name": "python",
   "nbconvert_exporter": "python",
   "pygments_lexer": "ipython3",
   "version": "3.8.12"
  }
 },
 "nbformat": 4,
 "nbformat_minor": 4
}
