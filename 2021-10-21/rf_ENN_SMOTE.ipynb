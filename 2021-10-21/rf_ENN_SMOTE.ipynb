{
 "cells": [
  {
   "cell_type": "markdown",
   "metadata": {},
   "source": [
    "# 2021/10/21\n",
    "The jupypter notebook is used to test the pipleine for the ENN + SMOTE + random forest pipeline intergration from sklearn for single parameter\n"
   ]
  },
  {
   "cell_type": "code",
   "execution_count": 1,
   "metadata": {},
   "outputs": [
    {
     "name": "stdin",
     "output_type": "stream",
     "text": [
      "Once deleted, variables cannot be recovered. Proceed (y/[n])?  y\n"
     ]
    }
   ],
   "source": [
    "%reset"
   ]
  },
  {
   "cell_type": "code",
   "execution_count": 2,
   "metadata": {},
   "outputs": [],
   "source": [
    "import pandas as pd\n",
    "import numpy as np\n",
    "import sys, os"
   ]
  },
  {
   "cell_type": "markdown",
   "metadata": {},
   "source": [
    "# Load the data"
   ]
  },
  {
   "cell_type": "code",
   "execution_count": 4,
   "metadata": {},
   "outputs": [
    {
     "name": "stdout",
     "output_type": "stream",
     "text": [
      "Data is loading!\n"
     ]
    },
    {
     "data": {
      "text/html": [
       "<div>\n",
       "<style scoped>\n",
       "    .dataframe tbody tr th:only-of-type {\n",
       "        vertical-align: middle;\n",
       "    }\n",
       "\n",
       "    .dataframe tbody tr th {\n",
       "        vertical-align: top;\n",
       "    }\n",
       "\n",
       "    .dataframe thead th {\n",
       "        text-align: right;\n",
       "    }\n",
       "</style>\n",
       "<table border=\"1\" class=\"dataframe\">\n",
       "  <thead>\n",
       "    <tr style=\"text-align: right;\">\n",
       "      <th></th>\n",
       "      <th>chr</th>\n",
       "      <th>start</th>\n",
       "      <th>read_id</th>\n",
       "      <th>strand</th>\n",
       "      <th>5hmC_prob</th>\n",
       "      <th>5mC_prob</th>\n",
       "      <th>5C_prob</th>\n",
       "      <th>label</th>\n",
       "    </tr>\n",
       "  </thead>\n",
       "  <tbody>\n",
       "    <tr>\n",
       "      <th>0</th>\n",
       "      <td>KJ477685.1</td>\n",
       "      <td>204</td>\n",
       "      <td>3e547b1a-0a3e-4475-9b70-0cbd7c8c82aa</td>\n",
       "      <td>-</td>\n",
       "      <td>0.435397</td>\n",
       "      <td>0.085058</td>\n",
       "      <td>0.479545</td>\n",
       "      <td>2</td>\n",
       "    </tr>\n",
       "    <tr>\n",
       "      <th>1</th>\n",
       "      <td>KJ477685.1</td>\n",
       "      <td>261</td>\n",
       "      <td>3e547b1a-0a3e-4475-9b70-0cbd7c8c82aa</td>\n",
       "      <td>-</td>\n",
       "      <td>0.342189</td>\n",
       "      <td>0.500821</td>\n",
       "      <td>0.156990</td>\n",
       "      <td>2</td>\n",
       "    </tr>\n",
       "    <tr>\n",
       "      <th>2</th>\n",
       "      <td>KJ477685.1</td>\n",
       "      <td>261</td>\n",
       "      <td>fe8be0cc-f4c4-49f1-80db-c840a6c7dfe9</td>\n",
       "      <td>-</td>\n",
       "      <td>0.577034</td>\n",
       "      <td>0.057676</td>\n",
       "      <td>0.365290</td>\n",
       "      <td>2</td>\n",
       "    </tr>\n",
       "    <tr>\n",
       "      <th>3</th>\n",
       "      <td>KJ477685.1</td>\n",
       "      <td>266</td>\n",
       "      <td>3e547b1a-0a3e-4475-9b70-0cbd7c8c82aa</td>\n",
       "      <td>-</td>\n",
       "      <td>0.065316</td>\n",
       "      <td>0.861569</td>\n",
       "      <td>0.073115</td>\n",
       "      <td>2</td>\n",
       "    </tr>\n",
       "    <tr>\n",
       "      <th>4</th>\n",
       "      <td>KJ477685.1</td>\n",
       "      <td>266</td>\n",
       "      <td>fe8be0cc-f4c4-49f1-80db-c840a6c7dfe9</td>\n",
       "      <td>-</td>\n",
       "      <td>0.794235</td>\n",
       "      <td>0.028885</td>\n",
       "      <td>0.176880</td>\n",
       "      <td>2</td>\n",
       "    </tr>\n",
       "    <tr>\n",
       "      <th>...</th>\n",
       "      <td>...</td>\n",
       "      <td>...</td>\n",
       "      <td>...</td>\n",
       "      <td>...</td>\n",
       "      <td>...</td>\n",
       "      <td>...</td>\n",
       "      <td>...</td>\n",
       "      <td>...</td>\n",
       "    </tr>\n",
       "    <tr>\n",
       "      <th>2492</th>\n",
       "      <td>J02459.1</td>\n",
       "      <td>60</td>\n",
       "      <td>bb826a6c-c88b-45ac-9984-8b9d6bfb2f11</td>\n",
       "      <td>-</td>\n",
       "      <td>0.054875</td>\n",
       "      <td>0.013023</td>\n",
       "      <td>0.932103</td>\n",
       "      <td>0</td>\n",
       "    </tr>\n",
       "    <tr>\n",
       "      <th>2493</th>\n",
       "      <td>J02459.1</td>\n",
       "      <td>60</td>\n",
       "      <td>bb91267a-6661-4248-a084-554f231398c1</td>\n",
       "      <td>-</td>\n",
       "      <td>0.030720</td>\n",
       "      <td>0.004392</td>\n",
       "      <td>0.964888</td>\n",
       "      <td>0</td>\n",
       "    </tr>\n",
       "    <tr>\n",
       "      <th>2494</th>\n",
       "      <td>J02459.1</td>\n",
       "      <td>60</td>\n",
       "      <td>bb9cee29-89d0-4a68-a4b4-8fe5c000289f</td>\n",
       "      <td>-</td>\n",
       "      <td>0.032703</td>\n",
       "      <td>0.006934</td>\n",
       "      <td>0.960363</td>\n",
       "      <td>0</td>\n",
       "    </tr>\n",
       "    <tr>\n",
       "      <th>2495</th>\n",
       "      <td>J02459.1</td>\n",
       "      <td>60</td>\n",
       "      <td>bbee6b4a-acac-4db9-bbb8-2f379918b146</td>\n",
       "      <td>-</td>\n",
       "      <td>0.035734</td>\n",
       "      <td>0.003182</td>\n",
       "      <td>0.961085</td>\n",
       "      <td>0</td>\n",
       "    </tr>\n",
       "    <tr>\n",
       "      <th>2496</th>\n",
       "      <td>J02459.1</td>\n",
       "      <td>60</td>\n",
       "      <td>bc26e861-9931-48fb-b4cb-2adc9ccbd2c0</td>\n",
       "      <td>-</td>\n",
       "      <td>0.040249</td>\n",
       "      <td>0.004014</td>\n",
       "      <td>0.955738</td>\n",
       "      <td>0</td>\n",
       "    </tr>\n",
       "  </tbody>\n",
       "</table>\n",
       "<p>2497 rows × 8 columns</p>\n",
       "</div>"
      ],
      "text/plain": [
       "             chr  start                               read_id strand  \\\n",
       "0     KJ477685.1    204  3e547b1a-0a3e-4475-9b70-0cbd7c8c82aa      -   \n",
       "1     KJ477685.1    261  3e547b1a-0a3e-4475-9b70-0cbd7c8c82aa      -   \n",
       "2     KJ477685.1    261  fe8be0cc-f4c4-49f1-80db-c840a6c7dfe9      -   \n",
       "3     KJ477685.1    266  3e547b1a-0a3e-4475-9b70-0cbd7c8c82aa      -   \n",
       "4     KJ477685.1    266  fe8be0cc-f4c4-49f1-80db-c840a6c7dfe9      -   \n",
       "...          ...    ...                                   ...    ...   \n",
       "2492    J02459.1     60  bb826a6c-c88b-45ac-9984-8b9d6bfb2f11      -   \n",
       "2493    J02459.1     60  bb91267a-6661-4248-a084-554f231398c1      -   \n",
       "2494    J02459.1     60  bb9cee29-89d0-4a68-a4b4-8fe5c000289f      -   \n",
       "2495    J02459.1     60  bbee6b4a-acac-4db9-bbb8-2f379918b146      -   \n",
       "2496    J02459.1     60  bc26e861-9931-48fb-b4cb-2adc9ccbd2c0      -   \n",
       "\n",
       "      5hmC_prob  5mC_prob   5C_prob  label  \n",
       "0      0.435397  0.085058  0.479545      2  \n",
       "1      0.342189  0.500821  0.156990      2  \n",
       "2      0.577034  0.057676  0.365290      2  \n",
       "3      0.065316  0.861569  0.073115      2  \n",
       "4      0.794235  0.028885  0.176880      2  \n",
       "...         ...       ...       ...    ...  \n",
       "2492   0.054875  0.013023  0.932103      0  \n",
       "2493   0.030720  0.004392  0.964888      0  \n",
       "2494   0.032703  0.006934  0.960363      0  \n",
       "2495   0.035734  0.003182  0.961085      0  \n",
       "2496   0.040249  0.004014  0.955738      0  \n",
       "\n",
       "[2497 rows x 8 columns]"
      ]
     },
     "execution_count": 4,
     "metadata": {},
     "output_type": "execute_result"
    }
   ],
   "source": [
    "input_path='/pod/2/li-lab/Ziwei/Nanopore/daily/test/'\n",
    "#df=pd.read_csv(os.path.join(input_path, 'total.Megalodon.per_read.prob.bed.gz'),compression='gzip', sep='\\t')\n",
    "df=pd.read_csv(os.path.join(input_path, 'total.test.bed'), sep='\\t')\n",
    "print(\"Data is loading!\")\n",
    "\n",
    "#Splitting the data into independent and dependent variables\n",
    "df_feature = df.loc[:,['5hmC_prob','5mC_prob','5C_prob']].values\n",
    "df_class = df.loc[:,['label']].values\n",
    "df_class = np.squeeze(df_class) #Convert the label into 1d-array\n",
    "\n",
    "df"
   ]
  },
  {
   "cell_type": "code",
   "execution_count": 5,
   "metadata": {},
   "outputs": [
    {
     "data": {
      "text/plain": [
       "1    999\n",
       "0    999\n",
       "2    499\n",
       "Name: label, dtype: int64"
      ]
     },
     "execution_count": 5,
     "metadata": {},
     "output_type": "execute_result"
    }
   ],
   "source": [
    "df['label'].value_counts()"
   ]
  },
  {
   "cell_type": "code",
   "execution_count": 9,
   "metadata": {},
   "outputs": [],
   "source": [
    "from sklearn.model_selection import train_test_split, GridSearchCV, StratifiedKFold, GridSearchCV\n",
    "#from imblearn.over_sampling import SMOTE\n",
    "from imblearn.pipeline import Pipeline as imbpipeline\n",
    "from sklearn.pipeline import Pipeline\n",
    "from sklearn.ensemble import RandomForestClassifier"
   ]
  },
  {
   "cell_type": "code",
   "execution_count": 12,
   "metadata": {},
   "outputs": [],
   "source": [
    "#Load the feature\n",
    "input_path='/pod/2/li-lab/Ziwei/Nanopore/daily/test'\n",
    "#df=pd.read_csv(os.path.join(input_path, 'total.Megalodon.per_read.prob.bed.gz'),compression='gzip', sep='\\t')\n",
    "df=pd.read_csv(os.path.join(input_path, 'total.test.bed'), sep='\\t')\n",
    "\n",
    "#Splitting the data into independent and dependent variables\n",
    "df_feature = df.loc[:,['5hmC_prob','5mC_prob','5C_prob']].values\n",
    "df_class = df.loc[:,['label']].values\n",
    "df_class = np.squeeze(df_class) #Convert the label into 1d-array\n",
    "\n",
    "X = df_feature\n",
    "y = df_class\n",
    "\n",
    "#Split the data into training and testing\n",
    "X_train, X_test, y_train, y_test = train_test_split(X,\n",
    "                                                    y,\n",
    "                                                    test_size=0.2,\n",
    "                                                    stratify=y,\n",
    "                                                    random_state=42)"
   ]
  },
  {
   "cell_type": "code",
   "execution_count": 13,
   "metadata": {},
   "outputs": [
    {
     "name": "stdout",
     "output_type": "stream",
     "text": [
      "Before the pipeline:\n",
      " y_train:Counter({0: 799, 1: 799, 2: 399}),\n",
      " y_test: Counter({0: 200, 1: 200, 2: 100})\n"
     ]
    }
   ],
   "source": [
    "from collections import Counter\n",
    "print(\"Before the pipeline:\\n y_train:{},\\n y_test: {}\".format(Counter(y_train), Counter(y_test)))"
   ]
  },
  {
   "cell_type": "markdown",
   "metadata": {},
   "source": [
    "## Resampling strategy"
   ]
  },
  {
   "cell_type": "code",
   "execution_count": 17,
   "metadata": {},
   "outputs": [],
   "source": [
    "## Define resampling strategy\n",
    "from collections import Counter\n",
    "from imblearn.over_sampling import SMOTE\n",
    "from imblearn.pipeline import make_pipeline\n",
    "from imblearn.under_sampling import EditedNearestNeighbours, RandomUnderSampler"
   ]
  },
  {
   "cell_type": "markdown",
   "metadata": {},
   "source": [
    "### RandomUnderSampler"
   ]
  },
  {
   "cell_type": "code",
   "execution_count": 21,
   "metadata": {},
   "outputs": [
    {
     "name": "stdout",
     "output_type": "stream",
     "text": [
      "Counter({0: 500, 1: 500, 2: 300})\n"
     ]
    }
   ],
   "source": [
    "sampler = RandomUnderSampler(random_state = 42, sampling_strategy={0: 500, 1:500, 2:300})\n",
    "\n",
    "X_res, y_res = sampler.fit_resample(X_train, y_train)\n",
    "\n",
    "print(Counter(y_res))"
   ]
  },
  {
   "cell_type": "markdown",
   "metadata": {},
   "source": [
    "### ENN"
   ]
  },
  {
   "cell_type": "code",
   "execution_count": 28,
   "metadata": {},
   "outputs": [
    {
     "name": "stdout",
     "output_type": "stream",
     "text": [
      "20\n",
      "Counter({1: 660, 0: 525, 2: 399})\n",
      "50\n",
      "Counter({1: 565, 2: 399, 0: 385})\n",
      "100\n",
      "Counter({1: 450, 2: 399, 0: 236})\n",
      "1000\n",
      "Counter({2: 399})\n",
      "2000\n"
     ]
    },
    {
     "ename": "ValueError",
     "evalue": "Expected n_neighbors <= n_samples,  but n_samples = 1997, n_neighbors = 2001",
     "output_type": "error",
     "traceback": [
      "\u001b[0;31m---------------------------------------------------------------------------\u001b[0m",
      "\u001b[0;31mValueError\u001b[0m                                Traceback (most recent call last)",
      "\u001b[0;32m<ipython-input-28-992ac15b116a>\u001b[0m in \u001b[0;36m<module>\u001b[0;34m\u001b[0m\n\u001b[1;32m      6\u001b[0m     \u001b[0mprint\u001b[0m\u001b[0;34m(\u001b[0m\u001b[0mn\u001b[0m\u001b[0;34m)\u001b[0m\u001b[0;34m\u001b[0m\u001b[0;34m\u001b[0m\u001b[0m\n\u001b[1;32m      7\u001b[0m     \u001b[0mENN\u001b[0m \u001b[0;34m=\u001b[0m \u001b[0mEditedNearestNeighbours\u001b[0m\u001b[0;34m(\u001b[0m\u001b[0mn_neighbors\u001b[0m \u001b[0;34m=\u001b[0m \u001b[0mn\u001b[0m\u001b[0;34m,\u001b[0m \u001b[0mn_jobs\u001b[0m \u001b[0;34m=\u001b[0m \u001b[0;34m-\u001b[0m\u001b[0;36m1\u001b[0m\u001b[0;34m)\u001b[0m\u001b[0;34m\u001b[0m\u001b[0;34m\u001b[0m\u001b[0m\n\u001b[0;32m----> 8\u001b[0;31m     \u001b[0mX_resampled\u001b[0m\u001b[0;34m,\u001b[0m \u001b[0my_resampled\u001b[0m \u001b[0;34m=\u001b[0m \u001b[0mENN\u001b[0m\u001b[0;34m.\u001b[0m\u001b[0mfit_resample\u001b[0m\u001b[0;34m(\u001b[0m\u001b[0mX_train\u001b[0m\u001b[0;34m,\u001b[0m \u001b[0my_train\u001b[0m\u001b[0;34m)\u001b[0m\u001b[0;34m\u001b[0m\u001b[0;34m\u001b[0m\u001b[0m\n\u001b[0m\u001b[1;32m      9\u001b[0m     \u001b[0mprint\u001b[0m\u001b[0;34m(\u001b[0m\u001b[0mCounter\u001b[0m\u001b[0;34m(\u001b[0m\u001b[0my_resampled\u001b[0m\u001b[0;34m)\u001b[0m\u001b[0;34m)\u001b[0m\u001b[0;34m\u001b[0m\u001b[0;34m\u001b[0m\u001b[0m\n",
      "\u001b[0;32m/pod/2/li-lab/Ziwei/Anaconda3/envs/nanomodel/lib/python3.6/site-packages/imblearn/base.py\u001b[0m in \u001b[0;36mfit_resample\u001b[0;34m(self, X, y)\u001b[0m\n\u001b[1;32m     81\u001b[0m         )\n\u001b[1;32m     82\u001b[0m \u001b[0;34m\u001b[0m\u001b[0m\n\u001b[0;32m---> 83\u001b[0;31m         \u001b[0moutput\u001b[0m \u001b[0;34m=\u001b[0m \u001b[0mself\u001b[0m\u001b[0;34m.\u001b[0m\u001b[0m_fit_resample\u001b[0m\u001b[0;34m(\u001b[0m\u001b[0mX\u001b[0m\u001b[0;34m,\u001b[0m \u001b[0my\u001b[0m\u001b[0;34m)\u001b[0m\u001b[0;34m\u001b[0m\u001b[0;34m\u001b[0m\u001b[0m\n\u001b[0m\u001b[1;32m     84\u001b[0m \u001b[0;34m\u001b[0m\u001b[0m\n\u001b[1;32m     85\u001b[0m         y_ = (\n",
      "\u001b[0;32m/pod/2/li-lab/Ziwei/Anaconda3/envs/nanomodel/lib/python3.6/site-packages/imblearn/under_sampling/_prototype_selection/_edited_nearest_neighbours.py\u001b[0m in \u001b[0;36m_fit_resample\u001b[0;34m(self, X, y)\u001b[0m\n\u001b[1;32m    140\u001b[0m                 \u001b[0mX_class\u001b[0m \u001b[0;34m=\u001b[0m \u001b[0m_safe_indexing\u001b[0m\u001b[0;34m(\u001b[0m\u001b[0mX\u001b[0m\u001b[0;34m,\u001b[0m \u001b[0mtarget_class_indices\u001b[0m\u001b[0;34m)\u001b[0m\u001b[0;34m\u001b[0m\u001b[0;34m\u001b[0m\u001b[0m\n\u001b[1;32m    141\u001b[0m                 \u001b[0my_class\u001b[0m \u001b[0;34m=\u001b[0m \u001b[0m_safe_indexing\u001b[0m\u001b[0;34m(\u001b[0m\u001b[0my\u001b[0m\u001b[0;34m,\u001b[0m \u001b[0mtarget_class_indices\u001b[0m\u001b[0;34m)\u001b[0m\u001b[0;34m\u001b[0m\u001b[0;34m\u001b[0m\u001b[0m\n\u001b[0;32m--> 142\u001b[0;31m                 \u001b[0mnnhood_idx\u001b[0m \u001b[0;34m=\u001b[0m \u001b[0mself\u001b[0m\u001b[0;34m.\u001b[0m\u001b[0mnn_\u001b[0m\u001b[0;34m.\u001b[0m\u001b[0mkneighbors\u001b[0m\u001b[0;34m(\u001b[0m\u001b[0mX_class\u001b[0m\u001b[0;34m,\u001b[0m \u001b[0mreturn_distance\u001b[0m\u001b[0;34m=\u001b[0m\u001b[0;32mFalse\u001b[0m\u001b[0;34m)\u001b[0m\u001b[0;34m[\u001b[0m\u001b[0;34m:\u001b[0m\u001b[0;34m,\u001b[0m \u001b[0;36m1\u001b[0m\u001b[0;34m:\u001b[0m\u001b[0;34m]\u001b[0m\u001b[0;34m\u001b[0m\u001b[0;34m\u001b[0m\u001b[0m\n\u001b[0m\u001b[1;32m    143\u001b[0m                 \u001b[0mnnhood_label\u001b[0m \u001b[0;34m=\u001b[0m \u001b[0my\u001b[0m\u001b[0;34m[\u001b[0m\u001b[0mnnhood_idx\u001b[0m\u001b[0;34m]\u001b[0m\u001b[0;34m\u001b[0m\u001b[0;34m\u001b[0m\u001b[0m\n\u001b[1;32m    144\u001b[0m                 \u001b[0;32mif\u001b[0m \u001b[0mself\u001b[0m\u001b[0;34m.\u001b[0m\u001b[0mkind_sel\u001b[0m \u001b[0;34m==\u001b[0m \u001b[0;34m\"mode\"\u001b[0m\u001b[0;34m:\u001b[0m\u001b[0;34m\u001b[0m\u001b[0;34m\u001b[0m\u001b[0m\n",
      "\u001b[0;32m/pod/2/li-lab/Ziwei/Anaconda3/envs/nanomodel/lib/python3.6/site-packages/sklearn/neighbors/_base.py\u001b[0m in \u001b[0;36mkneighbors\u001b[0;34m(self, X, n_neighbors, return_distance)\u001b[0m\n\u001b[1;32m    681\u001b[0m                 \u001b[0;34m\"Expected n_neighbors <= n_samples, \"\u001b[0m\u001b[0;34m\u001b[0m\u001b[0;34m\u001b[0m\u001b[0m\n\u001b[1;32m    682\u001b[0m                 \u001b[0;34m\" but n_samples = %d, n_neighbors = %d\"\u001b[0m \u001b[0;34m%\u001b[0m\u001b[0;34m\u001b[0m\u001b[0;34m\u001b[0m\u001b[0m\n\u001b[0;32m--> 683\u001b[0;31m                 \u001b[0;34m(\u001b[0m\u001b[0mn_samples_fit\u001b[0m\u001b[0;34m,\u001b[0m \u001b[0mn_neighbors\u001b[0m\u001b[0;34m)\u001b[0m\u001b[0;34m\u001b[0m\u001b[0;34m\u001b[0m\u001b[0m\n\u001b[0m\u001b[1;32m    684\u001b[0m             )\n\u001b[1;32m    685\u001b[0m \u001b[0;34m\u001b[0m\u001b[0m\n",
      "\u001b[0;31mValueError\u001b[0m: Expected n_neighbors <= n_samples,  but n_samples = 1997, n_neighbors = 2001"
     ]
    }
   ],
   "source": [
    "from imblearn.under_sampling import EditedNearestNeighbours\n",
    "trans = EditedNearestNeighbours()\n",
    "\n",
    "n_neighbors = [20, 50, 100, 1000, 2000, 5000]\n",
    "for n in n_neighbors:\n",
    "    print(n)\n",
    "    ENN = EditedNearestNeighbours(n_neighbors = n, n_jobs = -1)\n",
    "    X_resampled, y_resampled = ENN.fit_resample(X_train, y_train)\n",
    "    print(Counter(y_resampled))"
   ]
  },
  {
   "cell_type": "code",
   "execution_count": null,
   "metadata": {},
   "outputs": [],
   "source": [
    "'EditedNearestNeighbours' object has no attribute 'fit_sample'"
   ]
  },
  {
   "cell_type": "code",
   "execution_count": 19,
   "metadata": {},
   "outputs": [
    {
     "name": "stdout",
     "output_type": "stream",
     "text": [
      "Counter({0: 500, 1: 500, 2: 500})\n"
     ]
    }
   ],
   "source": [
    "# Make the resampling strategy: RandomUnderSampler -> SMOTE\n",
    "sampler = make_pipeline(\n",
    "    RandomUnderSampler(random_state = 42, sampling_strategy={0: 500, 1:500, 2:270}),\n",
    "    SMOTE(sampling_strategy='not majority',\n",
    "          k_neighbors=100,\n",
    "          random_state = 42,\n",
    "          n_jobs = -1))\n",
    "\n",
    "X_res, y_res = sampler.fit_resample(X_train, y_train)\n",
    "\n",
    "print(Counter(y_res))"
   ]
  },
  {
   "cell_type": "code",
   "execution_count": 20,
   "metadata": {},
   "outputs": [
    {
     "name": "stdout",
     "output_type": "stream",
     "text": [
      "Counter({0: 450, 1: 450, 2: 450})\n"
     ]
    }
   ],
   "source": [
    "# Make the resampling strategy: ENN -> SMOTE\n",
    "ENN_SMOTE_sampler = make_pipeline(\n",
    "    EditedNearestNeighbours(n_neighbors = 100,\n",
    "                            n_jobs = -1),\n",
    "    SMOTE(sampling_strategy='not majority',\n",
    "          k_neighbors=100,\n",
    "          random_state = 42,\n",
    "          n_jobs = -1))\n",
    "\n",
    "X_res_train, y_res_train = ENN_SMOTE_sampler.fit_resample(X_train, y_train)\n",
    "\n",
    "print(Counter(y_res_train))"
   ]
  },
  {
   "cell_type": "markdown",
   "metadata": {},
   "source": [
    "## Test with single parameter"
   ]
  },
  {
   "cell_type": "markdown",
   "metadata": {},
   "source": [
    "I used the best parameter from 2021/10/13 for a test\n",
    "\n",
    "{'rfr__bootstrap': False, 'rfr__max_depth': 25, 'rfr__max_features': 'auto', 'rfr__min_samples_leaf': 2, 'rfr__min_samples_split': 2, 'rfr__n_estimators': 120}  "
   ]
  },
  {
   "cell_type": "code",
   "execution_count": 24,
   "metadata": {},
   "outputs": [],
   "source": [
    "from imblearn.pipeline import Pipeline as imbpipeline\n",
    "##define random forest model\n",
    "rf_model = RandomForestClassifier(\n",
    "    n_estimators=10,\n",
    "    max_depth=25,\n",
    "    max_features = 'auto',\n",
    "    min_samples_split=2,\n",
    "    min_samples_leaf=2,\n",
    "    random_state=42,\n",
    "    n_jobs=-1)\n",
    "\n",
    "under = RandomUnderSampler(random_state = 42, sampling_strategy={0: 500, 1:500, 2:200})\n",
    "\n",
    "over = SMOTE(sampling_strategy='not majority',\n",
    "             k_neighbors=100,\n",
    "             random_state = 42,\n",
    "             n_jobs = -1)\n",
    "\n",
    "steps = [('u', under), ('o', over), ('m', rf_model)]\n",
    "\n",
    "pipeline = imbpipeline(steps=steps)"
   ]
  },
  {
   "cell_type": "code",
   "execution_count": 25,
   "metadata": {},
   "outputs": [],
   "source": [
    "rf_result = pipeline.fit(X_train, y_train)\n",
    "y_true, y_pred = y_test, pipeline.predict(X_test)"
   ]
  },
  {
   "cell_type": "code",
   "execution_count": 28,
   "metadata": {},
   "outputs": [
    {
     "name": "stdout",
     "output_type": "stream",
     "text": [
      "F1 Score: 0.902\n"
     ]
    }
   ],
   "source": [
    "from sklearn.model_selection import cross_val_score\n",
    "from numpy import mean\n",
    "scores = cross_val_score(pipeline, X_train, y_train, scoring='f1_macro', cv=stratified_kfold, n_jobs=-1)\n",
    "score = mean(scores)\n",
    "print('F1 Score: %.3f' % score)"
   ]
  },
  {
   "cell_type": "markdown",
   "metadata": {},
   "source": [
    "## Random+SMOTE: Test with multiple parameter"
   ]
  },
  {
   "cell_type": "code",
   "execution_count": 27,
   "metadata": {},
   "outputs": [],
   "source": [
    "from sklearn.model_selection import train_test_split, GridSearchCV, StratifiedKFold, RandomizedSearchCV\n",
    "\n",
    "from imblearn.pipeline import Pipeline as imbpipeline\n",
    "from imblearn.over_sampling import SMOTE\n",
    "from imblearn.under_sampling import RandomUnderSampler\n",
    "\n",
    "# Define cross-validation fold\n",
    "stratified_kfold = StratifiedKFold(n_splits = 3, random_state = 42, shuffle = True)\n",
    "\n",
    "##define random forest model\n",
    "#https://stackoverflow.com/a/51493479\n",
    "###Build the pipeline\n",
    "rf_model = RandomForestClassifier(random_state=42, n_jobs=-1)\n",
    "under = RandomUnderSampler(random_state = 42)\n",
    "\n",
    "over = SMOTE(sampling_strategy='not majority', random_state = 42, n_jobs = -1)\n",
    "\n",
    "steps = [('u', under), ('o', over), ('m', rf_model)]\n",
    "\n",
    "pipeline = imbpipeline(steps=steps)"
   ]
  },
  {
   "cell_type": "code",
   "execution_count": 28,
   "metadata": {},
   "outputs": [
    {
     "data": {
      "text/plain": [
       "dict_keys(['memory', 'steps', 'verbose', 'u', 'o', 'm', 'u__random_state', 'u__replacement', 'u__sampling_strategy', 'o__k_neighbors', 'o__n_jobs', 'o__random_state', 'o__sampling_strategy', 'm__bootstrap', 'm__ccp_alpha', 'm__class_weight', 'm__criterion', 'm__max_depth', 'm__max_features', 'm__max_leaf_nodes', 'm__max_samples', 'm__min_impurity_decrease', 'm__min_impurity_split', 'm__min_samples_leaf', 'm__min_samples_split', 'm__min_weight_fraction_leaf', 'm__n_estimators', 'm__n_jobs', 'm__oob_score', 'm__random_state', 'm__verbose', 'm__warm_start'])"
      ]
     },
     "execution_count": 28,
     "metadata": {},
     "output_type": "execute_result"
    }
   ],
   "source": [
    "## Get the parameter dict keys\n",
    "pipeline.get_params().keys()"
   ]
  },
  {
   "cell_type": "code",
   "execution_count": 29,
   "metadata": {},
   "outputs": [],
   "source": [
    "#https://stackoverflow.com/questions/51480776/how-to-implement-ratio-based-smote-oversampling-while-cv-ing-dataset\n",
    "params = {'u__sampling_strategy' : [{0: 500, 1:500, 2:100}, {0: 500, 1:200, 2:100}],\n",
    "          'o__k_neighbors':[20, 30, 40],\n",
    "          'm__max_depth' : list(range(2,5)),\n",
    "          'm__max_features' : ['auto','sqrt'],\n",
    "          'm__bootstrap' : [True, False]\n",
    "         }\n",
    "\n",
    "\n",
    "grid = RandomizedSearchCV(estimator = pipeline, \n",
    "                          param_distributions = params, \n",
    "                          scoring='f1_macro', \n",
    "                          cv=stratified_kfold, \n",
    "                          verbose=1,   \n",
    "                          n_iter=10,\n",
    "                          return_train_score=True, \n",
    "                          n_jobs=-1)"
   ]
  },
  {
   "cell_type": "code",
   "execution_count": 30,
   "metadata": {},
   "outputs": [
    {
     "name": "stdout",
     "output_type": "stream",
     "text": [
      "Fitting 3 folds for each of 10 candidates, totalling 30 fits\n"
     ]
    }
   ],
   "source": [
    "result = grid.fit(X_train, y_train)\n",
    "y_true, y_pred = y_test, grid.predict(X_test)"
   ]
  },
  {
   "cell_type": "markdown",
   "metadata": {},
   "source": [
    "## ENN+SMOTE: Test with multiple parameter"
   ]
  },
  {
   "cell_type": "code",
   "execution_count": 101,
   "metadata": {},
   "outputs": [
    {
     "data": {
      "text/plain": [
       "dict_keys(['memory', 'steps', 'verbose', 'u', 'o', 'm', 'u__kind_sel', 'u__n_jobs', 'u__n_neighbors', 'u__sampling_strategy', 'o__k_neighbors', 'o__n_jobs', 'o__random_state', 'o__sampling_strategy', 'm__bootstrap', 'm__ccp_alpha', 'm__class_weight', 'm__criterion', 'm__max_depth', 'm__max_features', 'm__max_leaf_nodes', 'm__max_samples', 'm__min_impurity_decrease', 'm__min_impurity_split', 'm__min_samples_leaf', 'm__min_samples_split', 'm__min_weight_fraction_leaf', 'm__n_estimators', 'm__n_jobs', 'm__oob_score', 'm__random_state', 'm__verbose', 'm__warm_start'])"
      ]
     },
     "execution_count": 101,
     "metadata": {},
     "output_type": "execute_result"
    }
   ],
   "source": [
    "from sklearn.model_selection import train_test_split, GridSearchCV, StratifiedKFold, RandomizedSearchCV\n",
    "\n",
    "from imblearn.pipeline import Pipeline as imbpipeline\n",
    "from imblearn.over_sampling import SMOTE\n",
    "from imblearn.under_sampling import EditedNearestNeighbours\n",
    "\n",
    "# Define cross-validation fold\n",
    "stratified_kfold = StratifiedKFold(n_splits = 3, random_state = 42, shuffle = True)\n",
    "\n",
    "##define random forest model\n",
    "#https://stackoverflow.com/a/51493479\n",
    "###Build the pipeline\n",
    "rf_model = RandomForestClassifier(random_state=42, n_jobs=-1)\n",
    "under = EditedNearestNeighbours(n_jobs = -1)\n",
    "over = SMOTE(sampling_strategy='not majority', random_state = 42, n_jobs = -1)\n",
    "steps = [('u', under), ('o', over), ('m', rf_model)]\n",
    "\n",
    "pipeline = imbpipeline(steps=steps)\n",
    "pipeline.get_params().keys()"
   ]
  },
  {
   "cell_type": "code",
   "execution_count": 104,
   "metadata": {},
   "outputs": [],
   "source": [
    "#https://stackoverflow.com/questions/51480776/how-to-implement-ratio-based-smote-oversampling-while-cv-ing-dataset\n",
    "params = {'u__n_neighbors' : [20,50,100],\n",
    "          'o__k_neighbors':[20, 30, 40],\n",
    "          'm__max_depth' : list(range(2,5)),\n",
    "          'm__max_features' : ['auto','sqrt'],\n",
    "          'm__bootstrap' : [True, False]\n",
    "         }\n",
    "\n",
    "grid = RandomizedSearchCV(estimator = pipeline, \n",
    "                          param_distributions = params, \n",
    "                          scoring='f1_macro', \n",
    "                          cv=stratified_kfold, \n",
    "                          verbose=3,   \n",
    "                          n_iter=10,\n",
    "                          return_train_score=True, \n",
    "                          n_jobs=-1)"
   ]
  },
  {
   "cell_type": "code",
   "execution_count": 105,
   "metadata": {},
   "outputs": [
    {
     "name": "stdout",
     "output_type": "stream",
     "text": [
      "Fitting 3 folds for each of 10 candidates, totalling 30 fits\n",
      "[CV 1/3] END m__bootstrap=True, m__max_depth=4, m__max_features=auto, o__k_neighbors=40, u__n_neighbors=50;, score=(train=0.789, test=0.774) total time=   2.1s\n",
      "[CV 2/3] END m__bootstrap=True, m__max_depth=4, m__max_features=auto, o__k_neighbors=40, u__n_neighbors=50;, score=(train=0.739, test=0.744) total time=   1.0s\n",
      "[CV 3/3] END m__bootstrap=True, m__max_depth=4, m__max_features=auto, o__k_neighbors=40, u__n_neighbors=50;, score=(train=0.769, test=0.771) total time=   1.0s\n",
      "[CV 1/3] END m__bootstrap=True, m__max_depth=2, m__max_features=sqrt, o__k_neighbors=40, u__n_neighbors=100;, score=(train=0.715, test=0.674) total time=   3.9s\n",
      "[CV 2/3] END m__bootstrap=True, m__max_depth=2, m__max_features=sqrt, o__k_neighbors=40, u__n_neighbors=100;, score=(train=0.714, test=0.719) total time=   2.0s\n",
      "[CV 3/3] END m__bootstrap=True, m__max_depth=2, m__max_features=sqrt, o__k_neighbors=40, u__n_neighbors=100;, score=(train=0.676, test=0.715) total time=   1.7s\n",
      "[CV 1/3] END m__bootstrap=False, m__max_depth=3, m__max_features=auto, o__k_neighbors=40, u__n_neighbors=100;, score=(train=0.676, test=0.625) total time=   1.1s\n",
      "[CV 2/3] END m__bootstrap=False, m__max_depth=3, m__max_features=auto, o__k_neighbors=40, u__n_neighbors=100;, score=(train=0.670, test=0.687) total time=   1.0s\n",
      "[CV 3/3] END m__bootstrap=False, m__max_depth=3, m__max_features=auto, o__k_neighbors=40, u__n_neighbors=100;, score=(train=0.656, test=0.671) total time=   6.0s\n",
      "[CV 1/3] END m__bootstrap=True, m__max_depth=2, m__max_features=auto, o__k_neighbors=40, u__n_neighbors=20;, score=(train=0.861, test=0.852) total time=   4.0s\n",
      "[CV 2/3] END m__bootstrap=True, m__max_depth=2, m__max_features=auto, o__k_neighbors=40, u__n_neighbors=20;, score=(train=0.871, test=0.853) total time=   1.0s\n",
      "[CV 3/3] END m__bootstrap=True, m__max_depth=2, m__max_features=auto, o__k_neighbors=40, u__n_neighbors=20;, score=(train=0.875, test=0.889) total time=   3.1s\n",
      "[CV 1/3] END m__bootstrap=True, m__max_depth=2, m__max_features=sqrt, o__k_neighbors=20, u__n_neighbors=50;, score=(train=0.808, test=0.784) total time=   4.0s\n",
      "[CV 2/3] END m__bootstrap=True, m__max_depth=2, m__max_features=sqrt, o__k_neighbors=20, u__n_neighbors=50;, score=(train=0.743, test=0.739) total time=   2.2s\n",
      "[CV 3/3] END m__bootstrap=True, m__max_depth=2, m__max_features=sqrt, o__k_neighbors=20, u__n_neighbors=50;, score=(train=0.775, test=0.801) total time=   0.2s\n",
      "[CV 1/3] END m__bootstrap=False, m__max_depth=4, m__max_features=sqrt, o__k_neighbors=40, u__n_neighbors=20;, score=(train=0.864, test=0.832) total time=   0.3s\n",
      "[CV 2/3] END m__bootstrap=False, m__max_depth=4, m__max_features=sqrt, o__k_neighbors=40, u__n_neighbors=20;, score=(train=0.836, test=0.844) total time=   0.2s\n",
      "[CV 3/3] END m__bootstrap=False, m__max_depth=4, m__max_features=sqrt, o__k_neighbors=40, u__n_neighbors=20;, score=(train=0.859, test=0.856) total time=  14.6s\n",
      "[CV 1/3] END m__bootstrap=True, m__max_depth=3, m__max_features=sqrt, o__k_neighbors=30, u__n_neighbors=100;, score=(train=0.710, test=0.667) total time=   4.3s\n",
      "[CV 2/3] END m__bootstrap=True, m__max_depth=3, m__max_features=sqrt, o__k_neighbors=30, u__n_neighbors=100;, score=(train=0.676, test=0.692) total time=   4.9s\n",
      "[CV 3/3] END m__bootstrap=True, m__max_depth=3, m__max_features=sqrt, o__k_neighbors=30, u__n_neighbors=100;, score=(train=0.661, test=0.674) total time=   1.3s\n",
      "[CV 1/3] END m__bootstrap=False, m__max_depth=2, m__max_features=auto, o__k_neighbors=20, u__n_neighbors=20;, score=(train=0.837, test=0.832) total time=   2.4s\n",
      "[CV 2/3] END m__bootstrap=False, m__max_depth=2, m__max_features=auto, o__k_neighbors=20, u__n_neighbors=20;, score=(train=0.804, test=0.804) total time=   1.0s\n",
      "[CV 3/3] END m__bootstrap=False, m__max_depth=2, m__max_features=auto, o__k_neighbors=20, u__n_neighbors=20;, score=(train=0.875, test=0.889) total time=   6.9s\n",
      "[CV 1/3] END m__bootstrap=True, m__max_depth=3, m__max_features=auto, o__k_neighbors=20, u__n_neighbors=100;, score=(train=0.710, test=0.667) total time=   3.0s\n",
      "[CV 2/3] END m__bootstrap=True, m__max_depth=3, m__max_features=auto, o__k_neighbors=20, u__n_neighbors=100;, score=(train=0.676, test=0.695) total time=   5.9s\n",
      "[CV 3/3] END m__bootstrap=True, m__max_depth=3, m__max_features=auto, o__k_neighbors=20, u__n_neighbors=100;, score=(train=0.667, test=0.677) total time=   2.0s\n",
      "[CV 1/3] END m__bootstrap=True, m__max_depth=4, m__max_features=sqrt, o__k_neighbors=40, u__n_neighbors=20;, score=(train=0.871, test=0.848) total time=   2.0s\n",
      "[CV 2/3] END m__bootstrap=True, m__max_depth=4, m__max_features=sqrt, o__k_neighbors=40, u__n_neighbors=20;, score=(train=0.841, test=0.844) total time=   6.0s\n",
      "[CV 3/3] END m__bootstrap=True, m__max_depth=4, m__max_features=sqrt, o__k_neighbors=40, u__n_neighbors=20;, score=(train=0.857, test=0.859) total time=   6.6s\n"
     ]
    }
   ],
   "source": [
    "result = grid.fit(X_train, y_train)\n",
    "y_true, y_pred = y_test, grid.predict(X_test)"
   ]
  },
  {
   "cell_type": "code",
   "execution_count": null,
   "metadata": {},
   "outputs": [],
   "source": []
  }
 ],
 "metadata": {
  "kernelspec": {
   "display_name": "Python 3 (ipykernel)",
   "language": "python",
   "name": "python3"
  },
  "language_info": {
   "codemirror_mode": {
    "name": "ipython",
    "version": 3
   },
   "file_extension": ".py",
   "mimetype": "text/x-python",
   "name": "python",
   "nbconvert_exporter": "python",
   "pygments_lexer": "ipython3",
   "version": "3.8.12"
  }
 },
 "nbformat": 4,
 "nbformat_minor": 4
}
